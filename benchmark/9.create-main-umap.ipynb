{
 "cells": [
  {
   "cell_type": "code",
   "execution_count": 20,
   "metadata": {},
   "outputs": [],
   "source": [
    "import pandas as pd\n",
    "import plotly.express as px\n",
    "import utils\n",
    "from umap import UMAP\n",
    "import numpy as np\n",
    "import seaborn as sns\n",
    "import matplotlib.pyplot as plt\n",
    "\n",
    "color_discrete_map_seaborn = {\n",
    "    \"Targets\": {\n",
    "        \"other targets\": \"#0072b2\",\n",
    "        \"CDC25A\": \"#d55e00\",\n",
    "        \"LPAR1\": \"#009e73\",\n",
    "        \"PLK1\": \"#cc79a7\",\n",
    "        \"AURKB\": \"#f0e442\",\n",
    "    }\n",
    "}\n",
    "\n",
    "plt.rcParams['figure.dpi'] = 300\n",
    "plt.rcParams['savefig.dpi'] = 300\n",
    "\n",
    "%matplotlib inline"
   ]
  },
  {
   "attachments": {},
   "cell_type": "markdown",
   "metadata": {},
   "source": [
    "UMAP of A549 plates from the primary CPJUMP1 experiment"
   ]
  },
  {
   "cell_type": "code",
   "execution_count": 2,
   "metadata": {},
   "outputs": [],
   "source": [
    "batch = \"2020_11_04_CPJUMP1\"\n",
    "cell = \"A549\"\n",
    "\n",
    "experiment_df = (\n",
    "    pd.read_csv(\"output/experiment-metadata.tsv\", sep=\"\\t\")\n",
    "    .query('Batch==@batch')\n",
    "    .query('Cell_type==@cell')\n",
    ")"
   ]
  },
  {
   "cell_type": "code",
   "execution_count": 3,
   "metadata": {},
   "outputs": [],
   "source": [
    "cosine_sim = (\n",
    "    pd.read_csv('output/compound_genetic_perturbation_cosine_similarity.csv', usecols=['Metadata_broad_sample', 'Metadata_matching_target','Genetic_Perturbation', 'cosine_sim'])\n",
    "    .assign(Metadata_gene= lambda x: x.Metadata_matching_target)\n",
    "    .query('Genetic_Perturbation==\"CRISPR\"')\n",
    ")\n",
    "\n",
    "metadata = (\n",
    "    pd.read_csv('../metadata/external_metadata/JUMP-Target-1_compound_metadata.tsv', sep='\\t', usecols=['broad_sample', 'pert_iname'])\n",
    "    .rename(columns={'broad_sample': 'Metadata_broad_sample'})\n",
    ")\n",
    "\n",
    "cosine_sim = (\n",
    "    cosine_sim.merge(metadata, on='Metadata_broad_sample')\n",
    "    .nlargest(8, 'cosine_sim')\n",
    "    .drop_duplicates(subset=['Metadata_broad_sample', 'Metadata_matching_target'])\n",
    ")\n"
   ]
  },
  {
   "attachments": {},
   "cell_type": "markdown",
   "metadata": {},
   "source": [
    "Read all the plates"
   ]
  },
  {
   "cell_type": "code",
   "execution_count": 4,
   "metadata": {},
   "outputs": [],
   "source": [
    "all_plates_df = pd.DataFrame()\n",
    "\n",
    "for modality in experiment_df.Perturbation.unique():\n",
    "    modality_df = experiment_df.query(\"Perturbation==@modality\")\n",
    "    for time_point in modality_df.Time.unique():\n",
    "        time_df = modality_df.query(\"Time==@time_point\")\n",
    "        for plate in time_df.Assay_Plate_Barcode.unique():\n",
    "            data_df = (\n",
    "                utils.load_data(batch, plate, \"normalized_feature_select_negcon_batch.csv.gz\")\n",
    "                .assign(Metadata_batch=batch)\n",
    "                .assign(Metadata_modality=modality)\n",
    "                .assign(Metadata_cell=cell)\n",
    "                .assign(Metadata_time=utils.time_point(modality, time_point))\n",
    "            )\n",
    "            if modality == \"compound\":\n",
    "                data_df.rename(columns={'Metadata_target': 'Metadata_gene'}, inplace=True)\n",
    "                data_df = data_df.merge(cosine_sim[['Metadata_broad_sample','Metadata_matching_target','cosine_sim']], on=['Metadata_broad_sample'], how='left')\n",
    "            elif modality == \"crispr\":\n",
    "                data_df = data_df.merge(cosine_sim[['Metadata_gene','Metadata_matching_target', 'cosine_sim']], on=['Metadata_gene'], how='left')\n",
    "            elif modality == \"orf\":\n",
    "                data_df[\"Metadata_matching_target\"] = np.nan\n",
    "                data_df['cosine_sim'] = 0.05\n",
    "            all_plates_df = utils.concat_profiles(all_plates_df, data_df)\n",
    "\n",
    "all_plates_df.Metadata_matching_target.fillna('other targets', inplace=True)\n",
    "all_plates_df.cosine_sim.fillna(0.05, inplace=True)\n",
    "\n",
    "all_plates_df = utils.remove_empty_wells(all_plates_df)"
   ]
  },
  {
   "cell_type": "code",
   "execution_count": 5,
   "metadata": {},
   "outputs": [],
   "source": [
    "X = utils.get_featuredata(all_plates_df)\n",
    "\n",
    "umap_2d = UMAP(n_components=2, random_state=9000)\n",
    "projection_2d = umap_2d.fit_transform(X)\n",
    "\n",
    "batch_list = list(all_plates_df.Metadata_batch)\n",
    "plate_list = list(all_plates_df.Metadata_Plate)\n",
    "modality_list = list(all_plates_df.Metadata_modality)\n",
    "pert_list = np.where(all_plates_df.Metadata_pert_type == \"control\", all_plates_df.Metadata_control_type, \"trt\")\n",
    "gene_list = list(all_plates_df.Metadata_gene)\n",
    "time_list = list(all_plates_df.Metadata_time)\n",
    "target_list = list(all_plates_df.Metadata_matching_target)\n",
    "cosine_sim_list = list(all_plates_df.cosine_sim)\n",
    "\n",
    "X_embedded_df = pd.DataFrame(\n",
    "    {\n",
    "        \"Batch\": batch_list,\n",
    "        \"Plate\": plate_list,\n",
    "        \"Modality\": modality_list,\n",
    "        \"Pert\": pert_list,\n",
    "        \"Gene\": gene_list,\n",
    "        \"Time\": time_list,\n",
    "        \"Target\": target_list,\n",
    "        \"Size\": cosine_sim_list,\n",
    "        \"umap 1\": projection_2d[:, :1].flatten(),\n",
    "        \"umap 2\": projection_2d[:, 1:2].flatten(),\n",
    "    }\n",
    ")\n",
    "\n",
    "X_embedded_df = X_embedded_df.sample(frac=1)"
   ]
  },
  {
   "cell_type": "code",
   "execution_count": 9,
   "metadata": {},
   "outputs": [],
   "source": [
    "# to move the colored points to the top\n",
    "\n",
    "df1 = X_embedded_df.query('Size==0.05')\n",
    "df2 = X_embedded_df.query('Size!=0.05')\n",
    "\n",
    "X_embedded_df = pd.concat([df1, df2], join='inner')"
   ]
  },
  {
   "cell_type": "code",
   "execution_count": 21,
   "metadata": {},
   "outputs": [
    {
     "data": {
      "image/png": "[encoded data removed]",
      "text/plain": [
       "<Figure size 432x288 with 1 Axes>"
      ]
     },
     "metadata": {
      "needs_background": "light"
     },
     "output_type": "display_data"
    }
   ],
   "source": [
    "g = sns.scatterplot(\n",
    "    data=X_embedded_df,\n",
    "    x=\"umap 1\",\n",
    "    y=\"umap 2\",\n",
    "    hue=X_embedded_df[\"Target\"],\n",
    "    style=X_embedded_df[\"Modality\"],\n",
    "    size=X_embedded_df[\"Size\"],\n",
    "    sizes=[3,15,15,15,15,15],\n",
    "    alpha=0.8,\n",
    "    hue_order=['other targets', 'CDC25A', 'LPAR1', 'PLK1', 'AURKB'],\n",
    "    palette=color_discrete_map_seaborn[\"Targets\"]\n",
    ")\n",
    "\n",
    "h,k = g.get_legend_handles_labels()\n",
    "del k[6:13] # remove size label\n",
    "del h[6:13] # remove size label\n",
    "plt.legend(h,k,bbox_to_anchor=(1.05, 1), loc=2, borderaxespad=0., fontsize=10)\n",
    "g.axes.set_xlabel(g.axes.get_xlabel(), fontsize=15)\n",
    "g.axes.set_ylabel(g.axes.get_ylabel(), fontsize=15)\n",
    "sns.despine()\n",
    "plt.tight_layout()\n",
    "plt.savefig(f'figures/9.A549_UMAP.png')\n"
   ]
  }
 ],
 "metadata": {
  "kernelspec": {
   "display_name": "analysis",
   "language": "python",
   "name": "python3"
  },
  "language_info": {
   "codemirror_mode": {
    "name": "ipython",
    "version": 3
   },
   "file_extension": ".py",
   "mimetype": "text/x-python",
   "name": "python",
   "nbconvert_exporter": "python",
   "pygments_lexer": "ipython3",
   "version": "3.8.5"
  },
  "orig_nbformat": 4,
  "vscode": {
   "interpreter": {
    "hash": "986381fcaa5fa2a4fbfcc238e5cd47c7186c89fa9a103f6aff6b597c4b48d920"
   }
  }
 },
 "nbformat": 4,
 "nbformat_minor": 2
}
