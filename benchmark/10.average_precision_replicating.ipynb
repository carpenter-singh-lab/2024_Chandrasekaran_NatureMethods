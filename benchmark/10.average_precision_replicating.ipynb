{
 "cells": [
  {
   "cell_type": "code",
   "execution_count": 1,
   "metadata": {
    "pycharm": {
     "name": "#%%\n"
    }
   },
   "outputs": [],
   "source": [
    "import pandas as pd\n",
    "import utils\n",
    "import numpy as np\n",
    "import plotly.express as px\n",
    "\n",
    "np.random.seed(9000)\n"
   ]
  },
  {
   "cell_type": "markdown",
   "metadata": {
    "pycharm": {
     "name": "#%% md\n"
    }
   },
   "source": [
    "In this notebook we calculate `mean average precision (mAP)` to compare the different experimental conditions. The following are the steps taken\n",
    "1. Normalized, feature selected ORF, CRISPR and Compound profiles are read and the replicate plates are merged into a single dataframe, for each time point and cell line.\n",
    "2. Negative control and empty wells are removed from the dataframe.\n",
    "3. Average precision (AP) is computed for each replicate of each perturbation and the mean average precision (mAP) is computed for each condition.\n",
    "4. The same is repeated for after shuffling the dataframe which is an estimate of the null distribution.\n",
    "5. Table of mAP values is printed and bar plot of mAP values is plotted."
   ]
  },
  {
   "cell_type": "code",
   "execution_count": 2,
   "metadata": {
    "pycharm": {
     "name": "#%%\n"
    }
   },
   "outputs": [],
   "source": [
    "mean_average_precision_df = pd.DataFrame()\n",
    "group_by_feature = 'Metadata_broad_sample'\n",
    "batch = \"2020_11_04_CPJUMP1\"\n",
    "\n",
    "experiment_df = (\n",
    "    pd.read_csv('output/experiment-metadata.tsv', sep='\\t')\n",
    "    .query('Batch==@batch')\n",
    "    .query('Density==\"100\"')\n",
    "    .query('Antibiotics==\"absent\"')\n",
    ")\n",
    "\n",
    "experiment_df.drop(experiment_df[(experiment_df.Perturbation == \"compound\") & (experiment_df.Cell_line == \"Cas9\")].index, inplace=True)"
   ]
  },
  {
   "cell_type": "code",
   "execution_count": 3,
   "metadata": {
    "pycharm": {
     "name": "#%%\n"
    }
   },
   "outputs": [],
   "source": [
    "for modality in experiment_df.Perturbation.unique():\n",
    "    modality_df = experiment_df.query(\"Perturbation==@modality\")\n",
    "    for cell in modality_df.Cell_type.unique():\n",
    "        cell_df = modality_df.query('Cell_type==@cell')\n",
    "        for time_point in cell_df.Time.unique():\n",
    "            time_df = cell_df.query(\"Time==@time_point\")\n",
    "            all_plates_df = pd.DataFrame()\n",
    "            for plate in time_df.Assay_Plate_Barcode.unique():\n",
    "                data_df = utils.load_data(batch, plate, \"normalized_feature_select_negcon_batch.csv.gz\")\n",
    "                all_plates_df = utils.concat_profiles(all_plates_df, data_df)\n",
    "\n",
    "            all_plates_df = utils.remove_negcon_empty_wells(all_plates_df)\n",
    "\n",
    "            score = utils.MeanAveragePrecision(all_plates_df, all_plates_df, group_by_feature)\n",
    "\n",
    "            mean_average_precision_df = mean_average_precision_df.append({'Description':f'{modality}_{cell}_{time_point}',\n",
    "                                                                          'Modality':f'{modality}',\n",
    "                                                                          'Cell':f'{cell}',\n",
    "                                                                          'time':f'{time_point}',\n",
    "                                                                          'mAP':f'{score.map:.3f}',\n",
    "                                                                          'feature_set_replicates':'CP_True'}, ignore_index=True)\n",
    "\n",
    "            all_plates_shuffled_df = utils.shuffle_profiles(all_plates_df)\n",
    "            score_shuffled = utils.MeanAveragePrecision(all_plates_shuffled_df, all_plates_shuffled_df, group_by_feature)\n",
    "\n",
    "            mean_average_precision_df = mean_average_precision_df.append({'Description':f'{modality}_{cell}_{time_point}',\n",
    "                                                                          'Modality':f'{modality}',\n",
    "                                                                          'Cell':f'{cell}',\n",
    "                                                                          'time':f'{time_point}',\n",
    "                                                                          'mAP':f'{score_shuffled.map:.3f}',\n",
    "                                                                          'feature_set_replicates':'CP_Shuffled'}, ignore_index=True)\n"
   ]
  },
  {
   "cell_type": "code",
   "execution_count": 4,
   "metadata": {
    "pycharm": {
     "name": "#%%\n"
    }
   },
   "outputs": [
    {
     "name": "stdout",
     "output_type": "stream",
     "text": [
      "| Description      | feature_set_replicates   |   mAP |\n",
      "|:-----------------|:-------------------------|------:|\n",
      "| compound_A549_24 | CP_True                  | 0.552 |\n",
      "| compound_A549_48 | CP_True                  | 0.699 |\n",
      "| compound_U2OS_24 | CP_True                  | 0.574 |\n",
      "| compound_U2OS_48 | CP_True                  | 0.517 |\n",
      "| crispr_U2OS_144  | CP_True                  | 0.308 |\n",
      "| crispr_U2OS_96   | CP_True                  | 0.363 |\n",
      "| crispr_A549_144  | CP_True                  | 0.304 |\n",
      "| crispr_A549_96   | CP_True                  | 0.312 |\n",
      "| orf_A549_96      | CP_True                  | 0.303 |\n",
      "| orf_A549_48      | CP_True                  | 0.307 |\n",
      "| orf_U2OS_48      | CP_True                  | 0.387 |\n",
      "| orf_U2OS_96      | CP_True                  | 0.337 |\n"
     ]
    }
   ],
   "source": [
    "print(mean_average_precision_df[['Description','feature_set_replicates', 'mAP']].query('feature_set_replicates==\"CP_True\"').to_markdown(index=False))"
   ]
  },
  {
   "cell_type": "code",
   "execution_count": 5,
   "outputs": [
    {
     "name": "stdout",
     "output_type": "stream",
     "text": [
      "| Description      | feature_set_replicates   |   mAP |\n",
      "|:-----------------|:-------------------------|------:|\n",
      "| compound_A549_24 | CP_Shuffled              | 0.253 |\n",
      "| compound_A549_48 | CP_Shuffled              | 0.253 |\n",
      "| compound_U2OS_24 | CP_Shuffled              | 0.271 |\n",
      "| compound_U2OS_48 | CP_Shuffled              | 0.253 |\n",
      "| crispr_U2OS_144  | CP_Shuffled              | 0.253 |\n",
      "| crispr_U2OS_96   | CP_Shuffled              | 0.255 |\n",
      "| crispr_A549_144  | CP_Shuffled              | 0.253 |\n",
      "| crispr_A549_96   | CP_Shuffled              | 0.253 |\n",
      "| orf_A549_96      | CP_Shuffled              | 0.265 |\n",
      "| orf_A549_48      | CP_Shuffled              | 0.265 |\n",
      "| orf_U2OS_48      | CP_Shuffled              | 0.267 |\n",
      "| orf_U2OS_96      | CP_Shuffled              | 0.265 |\n"
     ]
    }
   ],
   "source": [
    "print(mean_average_precision_df[['Description','feature_set_replicates', 'mAP']].query('feature_set_replicates==\"CP_Shuffled\"').to_markdown(index=False))"
   ],
   "metadata": {
    "collapsed": false,
    "pycharm": {
     "name": "#%%\n"
    }
   }
  },
  {
   "cell_type": "code",
   "execution_count": 6,
   "metadata": {
    "pycharm": {
     "name": "#%%\n"
    }
   },
   "outputs": [],
   "source": [
    "mean_average_precision_df['mAP'] = mean_average_precision_df['mAP'].astype(float)\n",
    "\n",
    "mean_average_precision_df.loc[(mean_average_precision_df.Modality=='compound') & (mean_average_precision_df.time=='24'), 'time'] = 'short'\n",
    "mean_average_precision_df.loc[(mean_average_precision_df.Modality=='compound') & (mean_average_precision_df.time=='48'), 'time'] = 'long'\n",
    "mean_average_precision_df.loc[(mean_average_precision_df.Modality=='crispr') & (mean_average_precision_df.time=='96'), 'time'] = 'short'\n",
    "mean_average_precision_df.loc[(mean_average_precision_df.Modality=='crispr') & (mean_average_precision_df.time=='144'), 'time'] = 'long'\n",
    "mean_average_precision_df.loc[(mean_average_precision_df.Modality=='orf') & (mean_average_precision_df.time=='48'), 'time'] = 'short'\n",
    "mean_average_precision_df.loc[(mean_average_precision_df.Modality=='orf') & (mean_average_precision_df.time=='96'), 'time'] = 'long'\n",
    "\n",
    "plot_mAP_df = (\n",
    "    mean_average_precision_df.rename(columns={'Modality':'Perturbation'})\n",
    ")"
   ]
  },
  {
   "cell_type": "code",
   "execution_count": 7,
   "metadata": {
    "pycharm": {
     "name": "#%%\n"
    }
   },
   "outputs": [
    {
     "data": {
      "image/png": "[encoded data removed]"
     },
     "metadata": {},
     "output_type": "display_data"
    }
   ],
   "source": [
    "fig = px.bar(data_frame=plot_mAP_df,\n",
    "             x='Perturbation',\n",
    "             y='mAP',\n",
    "             color='feature_set_replicates',\n",
    "             barmode='overlay',\n",
    "             facet_row='time',\n",
    "             facet_col='Cell')\n",
    "fig.update_layout(title='mAP vs. Perturbation',\n",
    "                  yaxis=dict(title='mAP'),\n",
    "                  yaxis3=dict(title='mAP'))\n",
    "fig.show(\"png\")\n",
    "fig.write_image(f'figures/10.mAP_CellProfiler.png', width=640, height=480, scale=2)"
   ]
  },
  {
   "cell_type": "code",
   "execution_count": 8,
   "metadata": {
    "pycharm": {
     "name": "#%%\n"
    }
   },
   "outputs": [
    {
     "name": "stdout",
     "output_type": "stream",
     "text": [
      "| Description      | Perturbation   | time   | Cell   | feature_set_replicates   |   mAP |\n",
      "|:-----------------|:---------------|:-------|:-------|:-------------------------|------:|\n",
      "| compound_A549_24 | compound       | short  | A549   | CP_True                  | 0.552 |\n",
      "| compound_A549_24 | compound       | short  | A549   | CP_Shuffled              | 0.253 |\n",
      "| compound_A549_48 | compound       | long   | A549   | CP_True                  | 0.699 |\n",
      "| compound_A549_48 | compound       | long   | A549   | CP_Shuffled              | 0.253 |\n",
      "| compound_U2OS_24 | compound       | short  | U2OS   | CP_True                  | 0.574 |\n",
      "| compound_U2OS_24 | compound       | short  | U2OS   | CP_Shuffled              | 0.271 |\n",
      "| compound_U2OS_48 | compound       | long   | U2OS   | CP_True                  | 0.517 |\n",
      "| compound_U2OS_48 | compound       | long   | U2OS   | CP_Shuffled              | 0.253 |\n",
      "| crispr_U2OS_144  | crispr         | long   | U2OS   | CP_True                  | 0.308 |\n",
      "| crispr_U2OS_144  | crispr         | long   | U2OS   | CP_Shuffled              | 0.253 |\n",
      "| crispr_U2OS_96   | crispr         | short  | U2OS   | CP_True                  | 0.363 |\n",
      "| crispr_U2OS_96   | crispr         | short  | U2OS   | CP_Shuffled              | 0.255 |\n",
      "| crispr_A549_144  | crispr         | long   | A549   | CP_True                  | 0.304 |\n",
      "| crispr_A549_144  | crispr         | long   | A549   | CP_Shuffled              | 0.253 |\n",
      "| crispr_A549_96   | crispr         | short  | A549   | CP_True                  | 0.312 |\n",
      "| crispr_A549_96   | crispr         | short  | A549   | CP_Shuffled              | 0.253 |\n",
      "| orf_A549_96      | orf            | long   | A549   | CP_True                  | 0.303 |\n",
      "| orf_A549_96      | orf            | long   | A549   | CP_Shuffled              | 0.265 |\n",
      "| orf_A549_48      | orf            | short  | A549   | CP_True                  | 0.307 |\n",
      "| orf_A549_48      | orf            | short  | A549   | CP_Shuffled              | 0.265 |\n",
      "| orf_U2OS_48      | orf            | short  | U2OS   | CP_True                  | 0.387 |\n",
      "| orf_U2OS_48      | orf            | short  | U2OS   | CP_Shuffled              | 0.267 |\n",
      "| orf_U2OS_96      | orf            | long   | U2OS   | CP_True                  | 0.337 |\n",
      "| orf_U2OS_96      | orf            | long   | U2OS   | CP_Shuffled              | 0.265 |\n"
     ]
    }
   ],
   "source": [
    "print(plot_mAP_df[['Description','Perturbation','time', 'Cell', 'feature_set_replicates', 'mAP']].to_markdown(index=False))"
   ]
  },
  {
   "cell_type": "code",
   "execution_count": 9,
   "outputs": [],
   "source": [
    "plot_mAP_df.to_csv('output/cellprofiler_mAP.csv', index=False)"
   ],
   "metadata": {
    "collapsed": false,
    "pycharm": {
     "name": "#%%\n"
    }
   }
  }
 ],
 "metadata": {
  "kernelspec": {
   "display_name": "Python 3",
   "language": "python",
   "name": "python3"
  },
  "language_info": {
   "codemirror_mode": {
    "name": "ipython",
    "version": 3
   },
   "file_extension": ".py",
   "mimetype": "text/x-python",
   "name": "python",
   "nbconvert_exporter": "python",
   "pygments_lexer": "ipython3",
   "version": "3.8.5"
  }
 },
 "nbformat": 4,
 "nbformat_minor": 1
}