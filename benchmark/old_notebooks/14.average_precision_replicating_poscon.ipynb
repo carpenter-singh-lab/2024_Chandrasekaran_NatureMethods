{
 "cells": [
  {
   "cell_type": "code",
   "execution_count": 1,
   "metadata": {
    "pycharm": {
     "name": "#%%\n"
    }
   },
   "outputs": [],
   "source": [
    "import pandas as pd\n",
    "import utils\n",
    "import numpy as np\n",
    "import plotly.express as px\n",
    "\n",
    "np.random.seed(9000)\n"
   ]
  },
  {
   "cell_type": "markdown",
   "source": [
    "In this notebook we calculate `mean average precision` and `mean Precision@r` values to compare the different experimental conditions. The following are the steps taken\n",
    "1. Normalized, feature selected ORF, CRISPR and Compound profiles are read and the replicate plates are merged into a single dataframe, for each time point and cell line.\n",
    "2. Negative control and empty wells are removed from the dataframe.\n",
    "3. All non-poscon compounds are removed.\n",
    "4. Average precision (AP) is computed for each replicate of each perturbation and the mean average precision (mAP) is computed for each condition. Similarly, the mean precision@r (mP@r) are computed.\n",
    "5. The same is repeated after shuffling the dataframe which is an estimate of the null distribution.\n",
    "6. Table of precision values is printed and bar plots of precision values are plotted."
   ],
   "metadata": {
    "collapsed": false,
    "pycharm": {
     "name": "#%% md\n"
    }
   }
  },
  {
   "cell_type": "code",
   "execution_count": null,
   "outputs": [],
   "source": [
    "precision_df = pd.DataFrame()\n",
    "group_by_feature = 'Metadata_broad_sample'\n",
    "batch = \"2020_11_04_CPJUMP1\"\n",
    "all_percent_perturbation_df = pd.DataFrame()\n",
    "\n",
    "experiment_df = (\n",
    "    pd.read_csv('output/experiment-metadata.tsv', sep='\\t')\n",
    "    .query('Batch==@batch')\n",
    "    .query('Density==\"100\"')\n",
    "    .query('Antibiotics==\"absent\"')\n",
    ")\n",
    "\n",
    "experiment_df.drop(experiment_df[(experiment_df.Perturbation == \"compound\") & (experiment_df.Cell_line == \"Cas9\")].index, inplace=True)\n",
    "\n",
    "ap_all_samples_df = pd.DataFrame()"
   ],
   "metadata": {
    "collapsed": false,
    "pycharm": {
     "name": "#%%\n"
    }
   }
  },
  {
   "cell_type": "code",
   "execution_count": null,
   "outputs": [],
   "source": [
    "for modality in experiment_df.Perturbation.unique():\n",
    "    modality_df = experiment_df.query(\"Perturbation==@modality\")\n",
    "    for cell in modality_df.Cell_type.unique():\n",
    "        cell_df = modality_df.query('Cell_type==@cell')\n",
    "        for time_point in cell_df.Time.unique():\n",
    "            time_df = cell_df.query(\"Time==@time_point\")\n",
    "            all_plates_df = pd.DataFrame()\n",
    "            for plate in time_df.Assay_Plate_Barcode.unique():\n",
    "                data_df = utils.load_data(batch, plate, \"normalized_feature_select_negcon_batch.csv.gz\")\n",
    "                all_plates_df = utils.concat_profiles(all_plates_df, data_df)\n",
    "\n",
    "            all_plates_df = utils.remove_negcon_empty_wells(all_plates_df)\n",
    "            all_plates_df = all_plates_df.query('Metadata_pert_type==\"control\"').reset_index(drop=True)\n",
    "\n",
    "            score = utils.PrecisionScores(all_plates_df, all_plates_df, group_by_feature, within=True)\n",
    "\n",
    "            precision_df = precision_df.append({'Description':f'{modality}_{cell}_{time_point}',\n",
    "                                                'Modality':f'{modality}',\n",
    "                                                'Cell':f'{cell}',\n",
    "                                                'time':f'{time_point}',\n",
    "                                                'mAP':f'{score.map:.3f}',\n",
    "                                                'mPr':f'{score.mpr:.3f}',\n",
    "                                                'feature_set_replicates':'CP_Real'}, ignore_index=True)\n",
    "\n",
    "            samples_ap = score.ap_sample\n",
    "            samples_ap['modality'] = f'{modality}'\n",
    "            samples_ap['cell'] = f'{cell}'\n",
    "            samples_ap['time'] = f'{time_point}'\n",
    "            ap_all_samples_df = utils.concat_profiles(ap_all_samples_df, samples_ap)\n",
    "\n",
    "            all_plates_shuffled_df = utils.shuffle_profiles(all_plates_df)\n",
    "            score_shuffled = utils.PrecisionScores(all_plates_shuffled_df, all_plates_shuffled_df, group_by_feature, within=True)\n",
    "\n",
    "            precision_df = precision_df.append({'Description':f'{modality}_{cell}_{time_point}',\n",
    "                                                'Modality':f'{modality}',\n",
    "                                                'Cell':f'{cell}',\n",
    "                                                'time':f'{time_point}',\n",
    "                                                'mAP':f'{score_shuffled.map:.3f}',\n",
    "                                                'mPr':f'{score_shuffled.mpr:.3f}',\n",
    "                                                'feature_set_replicates':'CP_Permuted'}, ignore_index=True)\n",
    "\n",
    "            percent_perturbation_df = utils.precision_at_r_threshold(score.pr_group, score_shuffled.pr_group)\n",
    "            percent_perturbation_df['Modality'] = f'{modality}'\n",
    "            percent_perturbation_df['Cell'] = f'{cell}'\n",
    "            percent_perturbation_df['time'] = f'{time_point}'\n",
    "\n",
    "            all_percent_perturbation_df = utils.concat_profiles(all_percent_perturbation_df, percent_perturbation_df)\n"
   ],
   "metadata": {
    "collapsed": false,
    "pycharm": {
     "name": "#%%\n"
    }
   }
  },
  {
   "cell_type": "code",
   "execution_count": null,
   "outputs": [],
   "source": [
    "print(precision_df[['Description','feature_set_replicates', 'mAP', 'mPr']].query('feature_set_replicates==\"CP_Real\"').to_markdown(index=False))"
   ],
   "metadata": {
    "collapsed": false,
    "pycharm": {
     "name": "#%%\n"
    }
   }
  },
  {
   "cell_type": "code",
   "execution_count": null,
   "outputs": [],
   "source": [
    "print(precision_df[['Description','feature_set_replicates', 'mAP', 'mPr']].query('feature_set_replicates==\"CP_Permuted\"').to_markdown(index=False))"
   ],
   "metadata": {
    "collapsed": false,
    "pycharm": {
     "name": "#%%\n"
    }
   }
  },
  {
   "cell_type": "code",
   "execution_count": null,
   "outputs": [],
   "source": [
    "precision_df['mAP'] = precision_df['mAP'].astype(float)\n",
    "precision_df['mPr'] = precision_df['mPr'].astype(float)\n",
    "\n",
    "precision_df.loc[(precision_df.Modality=='compound') & (precision_df.time=='24'), 'time'] = 'short'\n",
    "precision_df.loc[(precision_df.Modality=='compound') & (precision_df.time=='48'), 'time'] = 'long'\n",
    "precision_df.loc[(precision_df.Modality=='crispr') & (precision_df.time=='96'), 'time'] = 'short'\n",
    "precision_df.loc[(precision_df.Modality=='crispr') & (precision_df.time=='144'), 'time'] = 'long'\n",
    "precision_df.loc[(precision_df.Modality=='orf') & (precision_df.time=='48'), 'time'] = 'short'\n",
    "precision_df.loc[(precision_df.Modality=='orf') & (precision_df.time=='96'), 'time'] = 'long'\n",
    "\n",
    "plot_df = (\n",
    "    precision_df.rename(columns={'Modality':'Perturbation'})\n",
    ")"
   ],
   "metadata": {
    "collapsed": false,
    "pycharm": {
     "name": "#%%\n"
    }
   }
  },
  {
   "cell_type": "code",
   "execution_count": null,
   "outputs": [],
   "source": [
    "fig = px.bar(data_frame=plot_df,\n",
    "             x='Perturbation',\n",
    "             y='mAP',\n",
    "             color='feature_set_replicates',\n",
    "             barmode='overlay',\n",
    "             facet_row='Cell',\n",
    "             facet_col='time')\n",
    "fig.update_layout(title='mAP vs. Perturbation',\n",
    "                  yaxis=dict(title='mAP'),\n",
    "                  yaxis3=dict(title='mAP'))\n",
    "fig.show(\"png\")\n",
    "fig.write_image(f'figures/14.mAP_CellProfiler_poscons.png', width=640, height=480, scale=2)"
   ],
   "metadata": {
    "collapsed": false,
    "pycharm": {
     "name": "#%%\n"
    }
   }
  },
  {
   "cell_type": "code",
   "execution_count": null,
   "outputs": [],
   "source": [
    "fig = px.bar(data_frame=plot_df,\n",
    "             x='Perturbation',\n",
    "             y='mPr',\n",
    "             color='feature_set_replicates',\n",
    "             barmode='overlay',\n",
    "             facet_row='Cell',\n",
    "             facet_col='time')\n",
    "fig.update_layout(title='mP@r vs. Perturbation',\n",
    "                  yaxis=dict(title='mP@r'),\n",
    "                  yaxis3=dict(title='mP@r'))\n",
    "fig.show(\"png\")\n",
    "fig.write_image(f'figures/14.mPr_CellProfiler_poscons.png', width=640, height=480, scale=2)"
   ],
   "metadata": {
    "collapsed": false,
    "pycharm": {
     "name": "#%%\n"
    }
   }
  },
  {
   "cell_type": "code",
   "execution_count": null,
   "outputs": [],
   "source": [
    "all_percent_perturbation_df.loc[(all_percent_perturbation_df.Modality=='compound') & (all_percent_perturbation_df.time=='24'), 'time'] = 'short'\n",
    "all_percent_perturbation_df.loc[(all_percent_perturbation_df.Modality=='compound') & (all_percent_perturbation_df.time=='48'), 'time'] = 'long'\n",
    "all_percent_perturbation_df.loc[(all_percent_perturbation_df.Modality=='crispr') & (all_percent_perturbation_df.time=='96'), 'time'] = 'short'\n",
    "all_percent_perturbation_df.loc[(all_percent_perturbation_df.Modality=='crispr') & (all_percent_perturbation_df.time=='144'), 'time'] = 'long'\n",
    "all_percent_perturbation_df.loc[(all_percent_perturbation_df.Modality=='orf') & (all_percent_perturbation_df.time=='48'), 'time'] = 'short'\n",
    "all_percent_perturbation_df.loc[(all_percent_perturbation_df.Modality=='orf') & (all_percent_perturbation_df.time=='96'), 'time'] = 'long'\n",
    "\n",
    "fig = px.line(all_percent_perturbation_df,\n",
    "              x='threshold',\n",
    "              y='percent_perturbations',\n",
    "              color='Modality',\n",
    "              facet_row='Cell',\n",
    "              facet_col='time')\n",
    "fig.update_layout(title='Percent perturbations vs. precision@r threshold',\n",
    "                  xaxis1=dict(title='p@r threshold'),\n",
    "                  xaxis2=dict(title='p@r threshold'),\n",
    "                  yaxis1=dict(title='Percent perturbations'),\n",
    "                  yaxis3=dict(title='Percent perturbations'))\n",
    "fig.show(\"png\")\n",
    "fig.write_image(f'figures/14.percent_perturbation_curves.png', width=640, height=480, scale=2)"
   ],
   "metadata": {
    "collapsed": false,
    "pycharm": {
     "name": "#%%\n"
    }
   }
  }
 ],
 "metadata": {
  "kernelspec": {
   "display_name": "Python 3",
   "language": "python",
   "name": "python3"
  },
  "language_info": {
   "codemirror_mode": {
    "name": "ipython",
    "version": 3
   },
   "file_extension": ".py",
   "mimetype": "text/x-python",
   "name": "python",
   "nbconvert_exporter": "python",
   "pygments_lexer": "ipython3",
   "version": "3.8.5"
  }
 },
 "nbformat": 4,
 "nbformat_minor": 1
}