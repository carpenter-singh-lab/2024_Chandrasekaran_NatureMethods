{
 "cells": [
  {
   "cell_type": "code",
   "execution_count": 26,
   "metadata": {},
   "outputs": [],
   "source": [
    "import pandas as pd"
   ]
  },
  {
   "cell_type": "markdown",
   "metadata": {},
   "source": [
    "Read and print the mAP files"
   ]
  },
  {
   "cell_type": "code",
   "execution_count": 27,
   "metadata": {},
   "outputs": [],
   "source": [
    "replicability_df = (\n",
    "    pd.read_csv('output/cellprofiler_replicability_map.csv')\n",
    "    .assign(Description= lambda x: x[\"Modality\"] + \"_\" + x[\"time\"] + \"_\" + x[\"Cell\"])\n",
    "    .assign(Type=\"Replicate retrieval\")\n",
    ")\n",
    "replicability_df = (\n",
    "    replicability_df.groupby([\"Type\", \"Description\"])\n",
    "    .mean_average_precision.count()\n",
    "    .reset_index()\n",
    "    .rename(columns={\"mean_average_precision\": \"n_data_points\"})\n",
    ")"
   ]
  },
  {
   "cell_type": "code",
   "execution_count": 28,
   "metadata": {},
   "outputs": [],
   "source": [
    "matching_df = (\n",
    "    pd.read_csv('output/cellprofiler_matching_map.csv')\n",
    "    .assign(Description= lambda x: x[\"Modality\"] + \"_\" + x[\"time\"] + \"_\" + x[\"Cell\"])\n",
    "    .assign(Type=\"Sister perturbation retrieval\")\n",
    ")\n",
    "matching_df = (\n",
    "    matching_df.groupby([\"Type\", \"Description\"])\n",
    "    .mean_average_precision.count()\n",
    "    .reset_index()\n",
    "    .rename(columns={\"mean_average_precision\": \"n_data_points\"})\n",
    ")"
   ]
  },
  {
   "cell_type": "code",
   "execution_count": 29,
   "metadata": {},
   "outputs": [],
   "source": [
    "gene_compound_matching_df = (\n",
    "    pd.read_csv('output/cellprofiler_gene_compound_matching_map.csv')\n",
    "    .assign(Description= lambda x: x[\"Modality1\"] + \"_\" + x[\"Modality2\"] + \"_\" + x[\"Cell\"])\n",
    "    .assign(Type=\"Gene compound retrieval\")\n",
    ")\n",
    "gene_compound_matching_df = (\n",
    "    gene_compound_matching_df.groupby([\"Type\", \"Description\"])\n",
    "    .mean_average_precision.count()\n",
    "    .reset_index()\n",
    "    .rename(columns={\"mean_average_precision\": \"n_data_points\"})\n",
    ")"
   ]
  },
  {
   "cell_type": "markdown",
   "metadata": {},
   "source": [
    "Combine dataframes"
   ]
  },
  {
   "cell_type": "code",
   "execution_count": 30,
   "metadata": {},
   "outputs": [
    {
     "name": "stdout",
     "output_type": "stream",
     "text": [
      "| Type                          | Description                      |   n_data_points |\n",
      "|:------------------------------|:---------------------------------|----------------:|\n",
      "| Replicate retrieval           | compound_long_A549               |             306 |\n",
      "| Replicate retrieval           | compound_long_U2OS               |             306 |\n",
      "| Replicate retrieval           | compound_short_A549              |             306 |\n",
      "| Replicate retrieval           | compound_short_U2OS              |             306 |\n",
      "| Replicate retrieval           | crispr_long_A549                 |             305 |\n",
      "| Replicate retrieval           | crispr_long_U2OS                 |             305 |\n",
      "| Replicate retrieval           | crispr_short_A549                |             305 |\n",
      "| Replicate retrieval           | crispr_short_U2OS                |             305 |\n",
      "| Replicate retrieval           | orf_long_A549                    |             160 |\n",
      "| Replicate retrieval           | orf_long_U2OS                    |             160 |\n",
      "| Replicate retrieval           | orf_short_A549                   |             160 |\n",
      "| Replicate retrieval           | orf_short_U2OS                   |             160 |\n",
      "| Sister perturbation retrieval | compound_long_A549               |             402 |\n",
      "| Sister perturbation retrieval | compound_long_U2OS               |             285 |\n",
      "| Sister perturbation retrieval | compound_short_A549              |             317 |\n",
      "| Sister perturbation retrieval | compound_short_U2OS              |             300 |\n",
      "| Sister perturbation retrieval | crispr_long_A549                 |              73 |\n",
      "| Sister perturbation retrieval | crispr_long_U2OS                 |              41 |\n",
      "| Sister perturbation retrieval | crispr_short_A549                |              73 |\n",
      "| Sister perturbation retrieval | crispr_short_U2OS                |              73 |\n",
      "| Gene compound retrieval       | compound_long_crispr_long_A549   |             134 |\n",
      "| Gene compound retrieval       | compound_long_crispr_long_U2OS   |              92 |\n",
      "| Gene compound retrieval       | compound_long_crispr_short_A549  |             135 |\n",
      "| Gene compound retrieval       | compound_long_crispr_short_U2OS  |             115 |\n",
      "| Gene compound retrieval       | compound_long_orf_long_A549      |               7 |\n",
      "| Gene compound retrieval       | compound_long_orf_long_U2OS      |              29 |\n",
      "| Gene compound retrieval       | compound_long_orf_short_A549     |               9 |\n",
      "| Gene compound retrieval       | compound_long_orf_short_U2OS     |              53 |\n",
      "| Gene compound retrieval       | compound_short_crispr_long_A549  |             128 |\n",
      "| Gene compound retrieval       | compound_short_crispr_long_U2OS  |             101 |\n",
      "| Gene compound retrieval       | compound_short_crispr_short_A549 |             130 |\n",
      "| Gene compound retrieval       | compound_short_crispr_short_U2OS |             125 |\n",
      "| Gene compound retrieval       | compound_short_orf_long_A549     |               7 |\n",
      "| Gene compound retrieval       | compound_short_orf_long_U2OS     |              30 |\n",
      "| Gene compound retrieval       | compound_short_orf_short_A549    |               9 |\n",
      "| Gene compound retrieval       | compound_short_orf_short_U2OS    |              58 |\n"
     ]
    }
   ],
   "source": [
    "print(\n",
    "    pd.concat(\n",
    "        [\n",
    "            replicability_df,\n",
    "            matching_df,\n",
    "            gene_compound_matching_df\n",
    "        ]\n",
    "    ).to_markdown(\n",
    "        index=False\n",
    "    )\n",
    ")"
   ]
  }
 ],
 "metadata": {
  "kernelspec": {
   "display_name": "analysis",
   "language": "python",
   "name": "python3"
  },
  "language_info": {
   "codemirror_mode": {
    "name": "ipython",
    "version": 3
   },
   "file_extension": ".py",
   "mimetype": "text/x-python",
   "name": "python",
   "nbconvert_exporter": "python",
   "pygments_lexer": "ipython3",
   "version": "3.10.6"
  },
  "orig_nbformat": 4
 },
 "nbformat": 4,
 "nbformat_minor": 2
}
