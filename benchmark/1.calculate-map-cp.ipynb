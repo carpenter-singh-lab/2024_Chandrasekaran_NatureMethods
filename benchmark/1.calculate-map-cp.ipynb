{
 "cells": [
  {
   "cell_type": "code",
   "execution_count": 1,
   "metadata": {
    "collapsed": true,
    "pycharm": {
     "name": "#%%\n"
    }
   },
   "outputs": [],
   "source": [
    "import warnings\n",
    "import pandas as pd\n",
    "import utils\n",
    "import plotly.express as px\n",
    "import numpy as np\n",
    "\n",
    "warnings.simplefilter(action=\"ignore\", category=FutureWarning)\n",
    "warnings.filterwarnings(\"ignore\", category=RuntimeWarning)"
   ]
  },
  {
   "cell_type": "markdown",
   "metadata": {
    "collapsed": false,
    "pycharm": {
     "name": "#%% md\n"
    }
   },
   "source": [
    "### Calculating mean Average Precision (mAP) for CellProfiler features\n",
    "In this notebook, we calculate the mAP for perturbation detection and perturbation matching tasks for the CellProfiler features."
   ]
  },
  {
   "cell_type": "markdown",
   "metadata": {},
   "source": [
    "All compound, ORF and CRISPR plates from the `2020_11_04_CPJUMP1` batch are read, except for those with cell seeding density other than 1000 (100%) and compound plates with antibiotics (Puromycin/Blasticidin) added. Additional annotations for the compounds are also read."
   ]
  },
  {
   "cell_type": "code",
   "execution_count": 2,
   "metadata": {
    "collapsed": false,
    "pycharm": {
     "name": "#%%\n"
    }
   },
   "outputs": [],
   "source": [
    "replicability_map_df = pd.DataFrame()\n",
    "replicability_fr_df = pd.DataFrame()\n",
    "matching_map_df = pd.DataFrame()\n",
    "matching_fr_df = pd.DataFrame()\n",
    "gene_compound_matching_map_df = pd.DataFrame()\n",
    "gene_compound_matching_fr_df = pd.DataFrame()\n",
    "\n",
    "replicate_feature = \"Metadata_broad_sample\"\n",
    "batch = \"2020_11_04_CPJUMP1\"\n",
    "batch_size = 100000\n",
    "null_size = 100000\n",
    "\n",
    "experiment_df = (\n",
    "    pd.read_csv(\"output/experiment-metadata.tsv\", sep=\"\\t\")\n",
    "    .query(\"Batch==@batch\")\n",
    "    .query(\"Density==100\")\n",
    "    .query('Antibiotics==\"absent\"')\n",
    ")\n",
    "\n",
    "experiment_df.drop(\n",
    "    experiment_df[\n",
    "        (experiment_df.Perturbation == \"compound\") & (experiment_df.Cell_line == \"Cas9\")\n",
    "    ].index,\n",
    "    inplace=True,\n",
    ")\n",
    "\n",
    "target1_metadata = pd.read_csv(\n",
    "    \"input/JUMP-Target-1_compound_metadata_additional_annotations.tsv\",\n",
    "    sep=\"\\t\",\n",
    "    usecols=[\"broad_sample\", \"target_list\"],\n",
    ").rename(\n",
    "    columns={\n",
    "        \"broad_sample\": \"Metadata_broad_sample\",\n",
    "        \"target_list\": \"Metadata_target_list\",\n",
    "    }\n",
    ")"
   ]
  },
  {
   "attachments": {},
   "cell_type": "markdown",
   "metadata": {},
   "source": [
    "Normalized, feature selected compound profiles for replicate plates at the same time point, using the same cell type are merged into a single data frame. Empty wells are removed before calculating mAP for perturbation detection (retrieve replicates of the query compound). mAP for the random baseline (10000 random list of size number of replicates + number of negcon) is subtracted.\n",
    "\n",
    "For the perturbation matching task, compounds that not are replicable (qvalue > 0.05) are removed. Negative control wells are also removed and the additional target annotations are added before mAP for perturbation matching is calculated. Again, the mAP for the random baseline is subtracted.\n",
    "\n",
    "Similarly, mAP for perturbation detection is computed for both CRISPR and ORF plates while mAP for perturbation matching is computed only for the CRISPR guides as there are no sister ORF perturbations.\n",
    "\n",
    "Then, mAP for the chemical perturbation-genetic perturbation matching task is computed using the median consensus profiles and the baseline mAP is subtracted.\n",
    "\n",
    "Along with mAP, fraction retrieved is also calculated. This is the fraction of queries that have qvalue < 0.05.\n",
    "\n",
    "The mAP and fraction retrieved values as saved to `output` directory and the results are plotted."
   ]
  },
  {
   "cell_type": "code",
   "execution_count": 3,
   "metadata": {
    "collapsed": false,
    "pycharm": {
     "name": "#%%\n"
    }
   },
   "outputs": [
    {
     "name": "stdout",
     "output_type": "stream",
     "text": [
      "Computing compound_A549_short replicability\n"
     ]
    },
    {
     "data": {
      "application/vnd.jupyter.widget-view+json": {
       "model_id": "26f49012dad94241b8cdf55e62492872",
       "version_major": 2,
       "version_minor": 0
      },
      "text/plain": [
       "  0%|          | 0/1 [00:00<?, ?it/s]"
      ]
     },
     "metadata": {},
     "output_type": "display_data"
    },
    {
     "data": {
      "application/vnd.jupyter.widget-view+json": {
       "model_id": "7cfe2fa8b0e846aeb8d7e296ac0b558c",
       "version_major": 2,
       "version_minor": 0
      },
      "text/plain": [
       "  0%|          | 0/1 [00:00<?, ?it/s]"
      ]
     },
     "metadata": {},
     "output_type": "display_data"
    },
    {
     "name": "stdout",
     "output_type": "stream",
     "text": [
      "Computing compound_A549_short matching\n"
     ]
    },
    {
     "data": {
      "application/vnd.jupyter.widget-view+json": {
       "model_id": "932eade61e734cb7987a38b8727e270f",
       "version_major": 2,
       "version_minor": 0
      },
      "text/plain": [
       "  0%|          | 0/1 [00:00<?, ?it/s]"
      ]
     },
     "metadata": {},
     "output_type": "display_data"
    },
    {
     "data": {
      "application/vnd.jupyter.widget-view+json": {
       "model_id": "bf699b78cfcd4dd396084f171e92652f",
       "version_major": 2,
       "version_minor": 0
      },
      "text/plain": [
       "  0%|          | 0/1 [00:00<?, ?it/s]"
      ]
     },
     "metadata": {},
     "output_type": "display_data"
    },
    {
     "name": "stdout",
     "output_type": "stream",
     "text": [
      "Computing crispr_A549_long replicability\n"
     ]
    },
    {
     "data": {
      "application/vnd.jupyter.widget-view+json": {
       "model_id": "0b8251dad17844d78c7063b10f1bda8b",
       "version_major": 2,
       "version_minor": 0
      },
      "text/plain": [
       "  0%|          | 0/1 [00:00<?, ?it/s]"
      ]
     },
     "metadata": {},
     "output_type": "display_data"
    },
    {
     "data": {
      "application/vnd.jupyter.widget-view+json": {
       "model_id": "c05e6faf818c4b64bf25e4dfd44635c5",
       "version_major": 2,
       "version_minor": 0
      },
      "text/plain": [
       "  0%|          | 0/1 [00:00<?, ?it/s]"
      ]
     },
     "metadata": {},
     "output_type": "display_data"
    },
    {
     "name": "stdout",
     "output_type": "stream",
     "text": [
      "Computing crispr_A549_long matching\n"
     ]
    },
    {
     "data": {
      "application/vnd.jupyter.widget-view+json": {
       "model_id": "d9a16220df604ef0b13252f4810d994b",
       "version_major": 2,
       "version_minor": 0
      },
      "text/plain": [
       "  0%|          | 0/1 [00:00<?, ?it/s]"
      ]
     },
     "metadata": {},
     "output_type": "display_data"
    },
    {
     "data": {
      "application/vnd.jupyter.widget-view+json": {
       "model_id": "fd3e692c1e944ee6b1d2b95d49ec87a2",
       "version_major": 2,
       "version_minor": 0
      },
      "text/plain": [
       "  0%|          | 0/1 [00:00<?, ?it/s]"
      ]
     },
     "metadata": {},
     "output_type": "display_data"
    },
    {
     "name": "stdout",
     "output_type": "stream",
     "text": [
      "Computing compound_A549_short-crispr_A549_long matching\n"
     ]
    },
    {
     "data": {
      "application/vnd.jupyter.widget-view+json": {
       "model_id": "d158a639f6dd4a07acc52b3007885e1a",
       "version_major": 2,
       "version_minor": 0
      },
      "text/plain": [
       "  0%|          | 0/1 [00:00<?, ?it/s]"
      ]
     },
     "metadata": {},
     "output_type": "display_data"
    },
    {
     "data": {
      "application/vnd.jupyter.widget-view+json": {
       "model_id": "2f6a11f5a7b94d9ba27f8b66d2d1e48c",
       "version_major": 2,
       "version_minor": 0
      },
      "text/plain": [
       "  0%|          | 0/1 [00:00<?, ?it/s]"
      ]
     },
     "metadata": {},
     "output_type": "display_data"
    },
    {
     "name": "stdout",
     "output_type": "stream",
     "text": [
      "Computing crispr_A549_short replicability\n"
     ]
    },
    {
     "data": {
      "application/vnd.jupyter.widget-view+json": {
       "model_id": "b96f64d2a49c4d7aa0477b368054950b",
       "version_major": 2,
       "version_minor": 0
      },
      "text/plain": [
       "  0%|          | 0/1 [00:00<?, ?it/s]"
      ]
     },
     "metadata": {},
     "output_type": "display_data"
    },
    {
     "data": {
      "application/vnd.jupyter.widget-view+json": {
       "model_id": "2587269c929447d3bac313ba162cd94c",
       "version_major": 2,
       "version_minor": 0
      },
      "text/plain": [
       "  0%|          | 0/1 [00:00<?, ?it/s]"
      ]
     },
     "metadata": {},
     "output_type": "display_data"
    },
    {
     "name": "stdout",
     "output_type": "stream",
     "text": [
      "Computing crispr_A549_short matching\n"
     ]
    },
    {
     "data": {
      "application/vnd.jupyter.widget-view+json": {
       "model_id": "8def1cc384c24b4081866e7733bc90d7",
       "version_major": 2,
       "version_minor": 0
      },
      "text/plain": [
       "  0%|          | 0/1 [00:00<?, ?it/s]"
      ]
     },
     "metadata": {},
     "output_type": "display_data"
    },
    {
     "data": {
      "application/vnd.jupyter.widget-view+json": {
       "model_id": "00fafb89c7b3448c84c15492da9b3a77",
       "version_major": 2,
       "version_minor": 0
      },
      "text/plain": [
       "  0%|          | 0/1 [00:00<?, ?it/s]"
      ]
     },
     "metadata": {},
     "output_type": "display_data"
    },
    {
     "name": "stdout",
     "output_type": "stream",
     "text": [
      "Computing compound_A549_short-crispr_A549_short matching\n"
     ]
    },
    {
     "data": {
      "application/vnd.jupyter.widget-view+json": {
       "model_id": "89339c45c84e47f598b8e94cba8a8b81",
       "version_major": 2,
       "version_minor": 0
      },
      "text/plain": [
       "  0%|          | 0/1 [00:00<?, ?it/s]"
      ]
     },
     "metadata": {},
     "output_type": "display_data"
    },
    {
     "data": {
      "application/vnd.jupyter.widget-view+json": {
       "model_id": "6dbd6644e00547c88f174faca9f0bf79",
       "version_major": 2,
       "version_minor": 0
      },
      "text/plain": [
       "  0%|          | 0/1 [00:00<?, ?it/s]"
      ]
     },
     "metadata": {},
     "output_type": "display_data"
    },
    {
     "name": "stdout",
     "output_type": "stream",
     "text": [
      "Computing orf_A549_long replicability\n"
     ]
    },
    {
     "data": {
      "application/vnd.jupyter.widget-view+json": {
       "model_id": "313ef2edbdda4238bf69947ff77db01b",
       "version_major": 2,
       "version_minor": 0
      },
      "text/plain": [
       "  0%|          | 0/1 [00:00<?, ?it/s]"
      ]
     },
     "metadata": {},
     "output_type": "display_data"
    },
    {
     "data": {
      "application/vnd.jupyter.widget-view+json": {
       "model_id": "b17989e91af142e9a4af2bd407bdbd55",
       "version_major": 2,
       "version_minor": 0
      },
      "text/plain": [
       "  0%|          | 0/1 [00:00<?, ?it/s]"
      ]
     },
     "metadata": {},
     "output_type": "display_data"
    },
    {
     "name": "stdout",
     "output_type": "stream",
     "text": [
      "Computing compound_A549_short-orf_A549_long matching\n"
     ]
    },
    {
     "data": {
      "application/vnd.jupyter.widget-view+json": {
       "model_id": "c65bae4b1c1044bbbc91b53a1dc751b9",
       "version_major": 2,
       "version_minor": 0
      },
      "text/plain": [
       "  0%|          | 0/1 [00:00<?, ?it/s]"
      ]
     },
     "metadata": {},
     "output_type": "display_data"
    },
    {
     "data": {
      "application/vnd.jupyter.widget-view+json": {
       "model_id": "06acdab3242d441daf5a8b7f02100cf5",
       "version_major": 2,
       "version_minor": 0
      },
      "text/plain": [
       "  0%|          | 0/1 [00:00<?, ?it/s]"
      ]
     },
     "metadata": {},
     "output_type": "display_data"
    },
    {
     "name": "stdout",
     "output_type": "stream",
     "text": [
      "Computing orf_A549_short replicability\n"
     ]
    },
    {
     "data": {
      "application/vnd.jupyter.widget-view+json": {
       "model_id": "a3168e1b086d42ff87b2cf5c59a03952",
       "version_major": 2,
       "version_minor": 0
      },
      "text/plain": [
       "  0%|          | 0/1 [00:00<?, ?it/s]"
      ]
     },
     "metadata": {},
     "output_type": "display_data"
    },
    {
     "data": {
      "application/vnd.jupyter.widget-view+json": {
       "model_id": "12827158908e44f987a16605cd36ffba",
       "version_major": 2,
       "version_minor": 0
      },
      "text/plain": [
       "  0%|          | 0/1 [00:00<?, ?it/s]"
      ]
     },
     "metadata": {},
     "output_type": "display_data"
    },
    {
     "name": "stdout",
     "output_type": "stream",
     "text": [
      "Computing compound_A549_short-orf_A549_short matching\n"
     ]
    },
    {
     "data": {
      "application/vnd.jupyter.widget-view+json": {
       "model_id": "6fc8419bbfdd4f4e800845efd430e097",
       "version_major": 2,
       "version_minor": 0
      },
      "text/plain": [
       "  0%|          | 0/1 [00:00<?, ?it/s]"
      ]
     },
     "metadata": {},
     "output_type": "display_data"
    },
    {
     "data": {
      "application/vnd.jupyter.widget-view+json": {
       "model_id": "7499f33e98874ad4bbb7cc0b80d7dfd4",
       "version_major": 2,
       "version_minor": 0
      },
      "text/plain": [
       "  0%|          | 0/1 [00:00<?, ?it/s]"
      ]
     },
     "metadata": {},
     "output_type": "display_data"
    },
    {
     "name": "stdout",
     "output_type": "stream",
     "text": [
      "Computing compound_A549_long replicability\n"
     ]
    },
    {
     "data": {
      "application/vnd.jupyter.widget-view+json": {
       "model_id": "84023daa8eb948beb05b97f5da6442b0",
       "version_major": 2,
       "version_minor": 0
      },
      "text/plain": [
       "  0%|          | 0/1 [00:00<?, ?it/s]"
      ]
     },
     "metadata": {},
     "output_type": "display_data"
    },
    {
     "data": {
      "application/vnd.jupyter.widget-view+json": {
       "model_id": "d6464dd0331c445e8debbe4d00409abc",
       "version_major": 2,
       "version_minor": 0
      },
      "text/plain": [
       "  0%|          | 0/1 [00:00<?, ?it/s]"
      ]
     },
     "metadata": {},
     "output_type": "display_data"
    },
    {
     "name": "stdout",
     "output_type": "stream",
     "text": [
      "Computing compound_A549_long matching\n"
     ]
    },
    {
     "data": {
      "application/vnd.jupyter.widget-view+json": {
       "model_id": "8d2610bc721d4fd89c9877be05188991",
       "version_major": 2,
       "version_minor": 0
      },
      "text/plain": [
       "  0%|          | 0/1 [00:00<?, ?it/s]"
      ]
     },
     "metadata": {},
     "output_type": "display_data"
    },
    {
     "data": {
      "application/vnd.jupyter.widget-view+json": {
       "model_id": "fa53551508224fbab88e65ef27684a22",
       "version_major": 2,
       "version_minor": 0
      },
      "text/plain": [
       "  0%|          | 0/1 [00:00<?, ?it/s]"
      ]
     },
     "metadata": {},
     "output_type": "display_data"
    },
    {
     "name": "stdout",
     "output_type": "stream",
     "text": [
      "Computing compound_A549_long-crispr_A549_long matching\n"
     ]
    },
    {
     "data": {
      "application/vnd.jupyter.widget-view+json": {
       "model_id": "36359c8079c2482d92f1198bf51ba6e4",
       "version_major": 2,
       "version_minor": 0
      },
      "text/plain": [
       "  0%|          | 0/1 [00:00<?, ?it/s]"
      ]
     },
     "metadata": {},
     "output_type": "display_data"
    },
    {
     "data": {
      "application/vnd.jupyter.widget-view+json": {
       "model_id": "bb74da24abb24687897644e8a4bec8ef",
       "version_major": 2,
       "version_minor": 0
      },
      "text/plain": [
       "  0%|          | 0/1 [00:00<?, ?it/s]"
      ]
     },
     "metadata": {},
     "output_type": "display_data"
    },
    {
     "name": "stdout",
     "output_type": "stream",
     "text": [
      "Computing compound_A549_long-crispr_A549_short matching\n"
     ]
    },
    {
     "data": {
      "application/vnd.jupyter.widget-view+json": {
       "model_id": "2629a173e20440a38139799030c8ccab",
       "version_major": 2,
       "version_minor": 0
      },
      "text/plain": [
       "  0%|          | 0/1 [00:00<?, ?it/s]"
      ]
     },
     "metadata": {},
     "output_type": "display_data"
    },
    {
     "data": {
      "application/vnd.jupyter.widget-view+json": {
       "model_id": "f88c5e9e100b434886f206cde65feb62",
       "version_major": 2,
       "version_minor": 0
      },
      "text/plain": [
       "  0%|          | 0/1 [00:00<?, ?it/s]"
      ]
     },
     "metadata": {},
     "output_type": "display_data"
    },
    {
     "name": "stdout",
     "output_type": "stream",
     "text": [
      "Computing compound_A549_long-orf_A549_long matching\n"
     ]
    },
    {
     "data": {
      "application/vnd.jupyter.widget-view+json": {
       "model_id": "be1de25100b745cfb5fb6a1cbc1bd632",
       "version_major": 2,
       "version_minor": 0
      },
      "text/plain": [
       "  0%|          | 0/1 [00:00<?, ?it/s]"
      ]
     },
     "metadata": {},
     "output_type": "display_data"
    },
    {
     "data": {
      "application/vnd.jupyter.widget-view+json": {
       "model_id": "bd313f8b7084435aa2eb2bb484998396",
       "version_major": 2,
       "version_minor": 0
      },
      "text/plain": [
       "  0%|          | 0/1 [00:00<?, ?it/s]"
      ]
     },
     "metadata": {},
     "output_type": "display_data"
    },
    {
     "name": "stdout",
     "output_type": "stream",
     "text": [
      "Computing compound_A549_long-orf_A549_short matching\n"
     ]
    },
    {
     "data": {
      "application/vnd.jupyter.widget-view+json": {
       "model_id": "23701335fade4b65bc61447a09576fbe",
       "version_major": 2,
       "version_minor": 0
      },
      "text/plain": [
       "  0%|          | 0/1 [00:00<?, ?it/s]"
      ]
     },
     "metadata": {},
     "output_type": "display_data"
    },
    {
     "data": {
      "application/vnd.jupyter.widget-view+json": {
       "model_id": "bd58ad3cfaf34e2f94b158bfdc734ec7",
       "version_major": 2,
       "version_minor": 0
      },
      "text/plain": [
       "  0%|          | 0/1 [00:00<?, ?it/s]"
      ]
     },
     "metadata": {},
     "output_type": "display_data"
    },
    {
     "name": "stdout",
     "output_type": "stream",
     "text": [
      "Computing compound_U2OS_short replicability\n"
     ]
    },
    {
     "data": {
      "application/vnd.jupyter.widget-view+json": {
       "model_id": "a78a3756606c4761939134440b0667d0",
       "version_major": 2,
       "version_minor": 0
      },
      "text/plain": [
       "  0%|          | 0/1 [00:00<?, ?it/s]"
      ]
     },
     "metadata": {},
     "output_type": "display_data"
    },
    {
     "data": {
      "application/vnd.jupyter.widget-view+json": {
       "model_id": "3d3a9d85b9b04a0db267a25be615117c",
       "version_major": 2,
       "version_minor": 0
      },
      "text/plain": [
       "  0%|          | 0/1 [00:00<?, ?it/s]"
      ]
     },
     "metadata": {},
     "output_type": "display_data"
    },
    {
     "name": "stdout",
     "output_type": "stream",
     "text": [
      "Computing compound_U2OS_short matching\n"
     ]
    },
    {
     "data": {
      "application/vnd.jupyter.widget-view+json": {
       "model_id": "56202f8751c84c2ebaf893635cd5fee9",
       "version_major": 2,
       "version_minor": 0
      },
      "text/plain": [
       "  0%|          | 0/1 [00:00<?, ?it/s]"
      ]
     },
     "metadata": {},
     "output_type": "display_data"
    },
    {
     "data": {
      "application/vnd.jupyter.widget-view+json": {
       "model_id": "303cc606a89e4a90a4077710e0fa0d68",
       "version_major": 2,
       "version_minor": 0
      },
      "text/plain": [
       "  0%|          | 0/1 [00:00<?, ?it/s]"
      ]
     },
     "metadata": {},
     "output_type": "display_data"
    },
    {
     "name": "stdout",
     "output_type": "stream",
     "text": [
      "Computing crispr_U2OS_long replicability\n"
     ]
    },
    {
     "data": {
      "application/vnd.jupyter.widget-view+json": {
       "model_id": "3ec1df1fd8d144439fbdb1ba8591bce8",
       "version_major": 2,
       "version_minor": 0
      },
      "text/plain": [
       "  0%|          | 0/1 [00:00<?, ?it/s]"
      ]
     },
     "metadata": {},
     "output_type": "display_data"
    },
    {
     "data": {
      "application/vnd.jupyter.widget-view+json": {
       "model_id": "e7e4e608dcc247e2a298032a87ffbc7b",
       "version_major": 2,
       "version_minor": 0
      },
      "text/plain": [
       "  0%|          | 0/1 [00:00<?, ?it/s]"
      ]
     },
     "metadata": {},
     "output_type": "display_data"
    },
    {
     "name": "stdout",
     "output_type": "stream",
     "text": [
      "Computing crispr_U2OS_long matching\n"
     ]
    },
    {
     "data": {
      "application/vnd.jupyter.widget-view+json": {
       "model_id": "195124b03e6b4fb69b8c0ae0e99130fa",
       "version_major": 2,
       "version_minor": 0
      },
      "text/plain": [
       "  0%|          | 0/1 [00:00<?, ?it/s]"
      ]
     },
     "metadata": {},
     "output_type": "display_data"
    },
    {
     "data": {
      "application/vnd.jupyter.widget-view+json": {
       "model_id": "db8b67c0450b42eb8c1a20accd78ed0a",
       "version_major": 2,
       "version_minor": 0
      },
      "text/plain": [
       "  0%|          | 0/1 [00:00<?, ?it/s]"
      ]
     },
     "metadata": {},
     "output_type": "display_data"
    },
    {
     "name": "stdout",
     "output_type": "stream",
     "text": [
      "Computing compound_U2OS_short-crispr_U2OS_long matching\n"
     ]
    },
    {
     "data": {
      "application/vnd.jupyter.widget-view+json": {
       "model_id": "a4c1e6236c844ce982db865f836d230c",
       "version_major": 2,
       "version_minor": 0
      },
      "text/plain": [
       "  0%|          | 0/1 [00:00<?, ?it/s]"
      ]
     },
     "metadata": {},
     "output_type": "display_data"
    },
    {
     "data": {
      "application/vnd.jupyter.widget-view+json": {
       "model_id": "b41d124d82d4445c9f5ddb3ca7ca58fb",
       "version_major": 2,
       "version_minor": 0
      },
      "text/plain": [
       "  0%|          | 0/1 [00:00<?, ?it/s]"
      ]
     },
     "metadata": {},
     "output_type": "display_data"
    },
    {
     "name": "stdout",
     "output_type": "stream",
     "text": [
      "Computing crispr_U2OS_short replicability\n"
     ]
    },
    {
     "data": {
      "application/vnd.jupyter.widget-view+json": {
       "model_id": "4ee8e6486ef748008746c5abca8bc22e",
       "version_major": 2,
       "version_minor": 0
      },
      "text/plain": [
       "  0%|          | 0/1 [00:00<?, ?it/s]"
      ]
     },
     "metadata": {},
     "output_type": "display_data"
    },
    {
     "data": {
      "application/vnd.jupyter.widget-view+json": {
       "model_id": "c442b0f0b1da448ba376836ccfcf98e3",
       "version_major": 2,
       "version_minor": 0
      },
      "text/plain": [
       "  0%|          | 0/1 [00:00<?, ?it/s]"
      ]
     },
     "metadata": {},
     "output_type": "display_data"
    },
    {
     "name": "stdout",
     "output_type": "stream",
     "text": [
      "Computing crispr_U2OS_short matching\n"
     ]
    },
    {
     "data": {
      "application/vnd.jupyter.widget-view+json": {
       "model_id": "31841a212c7a4082a944c8aec891a8cd",
       "version_major": 2,
       "version_minor": 0
      },
      "text/plain": [
       "  0%|          | 0/1 [00:00<?, ?it/s]"
      ]
     },
     "metadata": {},
     "output_type": "display_data"
    },
    {
     "data": {
      "application/vnd.jupyter.widget-view+json": {
       "model_id": "af5263cb0c964ec4a693947aa4a80797",
       "version_major": 2,
       "version_minor": 0
      },
      "text/plain": [
       "  0%|          | 0/1 [00:00<?, ?it/s]"
      ]
     },
     "metadata": {},
     "output_type": "display_data"
    },
    {
     "name": "stdout",
     "output_type": "stream",
     "text": [
      "Computing compound_U2OS_short-crispr_U2OS_short matching\n"
     ]
    },
    {
     "data": {
      "application/vnd.jupyter.widget-view+json": {
       "model_id": "22c3f1ea0a1e4c249093ed6201e287d1",
       "version_major": 2,
       "version_minor": 0
      },
      "text/plain": [
       "  0%|          | 0/1 [00:00<?, ?it/s]"
      ]
     },
     "metadata": {},
     "output_type": "display_data"
    },
    {
     "data": {
      "application/vnd.jupyter.widget-view+json": {
       "model_id": "eba875981f7a4947aa399d0db7ee2dc9",
       "version_major": 2,
       "version_minor": 0
      },
      "text/plain": [
       "  0%|          | 0/1 [00:00<?, ?it/s]"
      ]
     },
     "metadata": {},
     "output_type": "display_data"
    },
    {
     "name": "stdout",
     "output_type": "stream",
     "text": [
      "Computing orf_U2OS_short replicability\n"
     ]
    },
    {
     "data": {
      "application/vnd.jupyter.widget-view+json": {
       "model_id": "e8e464051774461ab44b22aebbe926f9",
       "version_major": 2,
       "version_minor": 0
      },
      "text/plain": [
       "  0%|          | 0/1 [00:00<?, ?it/s]"
      ]
     },
     "metadata": {},
     "output_type": "display_data"
    },
    {
     "data": {
      "application/vnd.jupyter.widget-view+json": {
       "model_id": "2b360fbebef34fcd964efd58986b987e",
       "version_major": 2,
       "version_minor": 0
      },
      "text/plain": [
       "  0%|          | 0/1 [00:00<?, ?it/s]"
      ]
     },
     "metadata": {},
     "output_type": "display_data"
    },
    {
     "name": "stdout",
     "output_type": "stream",
     "text": [
      "Computing compound_U2OS_short-orf_U2OS_short matching\n"
     ]
    },
    {
     "data": {
      "application/vnd.jupyter.widget-view+json": {
       "model_id": "3cf7c6e5538c443da4705909cc370efa",
       "version_major": 2,
       "version_minor": 0
      },
      "text/plain": [
       "  0%|          | 0/1 [00:00<?, ?it/s]"
      ]
     },
     "metadata": {},
     "output_type": "display_data"
    },
    {
     "data": {
      "application/vnd.jupyter.widget-view+json": {
       "model_id": "b4efa1c613bf48ad97ccb58df8c45421",
       "version_major": 2,
       "version_minor": 0
      },
      "text/plain": [
       "  0%|          | 0/1 [00:00<?, ?it/s]"
      ]
     },
     "metadata": {},
     "output_type": "display_data"
    },
    {
     "name": "stdout",
     "output_type": "stream",
     "text": [
      "Computing orf_U2OS_long replicability\n"
     ]
    },
    {
     "data": {
      "application/vnd.jupyter.widget-view+json": {
       "model_id": "c8e794fca5db439cbed486c96c6306a5",
       "version_major": 2,
       "version_minor": 0
      },
      "text/plain": [
       "  0%|          | 0/1 [00:00<?, ?it/s]"
      ]
     },
     "metadata": {},
     "output_type": "display_data"
    },
    {
     "data": {
      "application/vnd.jupyter.widget-view+json": {
       "model_id": "aac78825782a47d69fbd7d9b07599322",
       "version_major": 2,
       "version_minor": 0
      },
      "text/plain": [
       "  0%|          | 0/1 [00:00<?, ?it/s]"
      ]
     },
     "metadata": {},
     "output_type": "display_data"
    },
    {
     "name": "stdout",
     "output_type": "stream",
     "text": [
      "Computing compound_U2OS_short-orf_U2OS_long matching\n"
     ]
    },
    {
     "data": {
      "application/vnd.jupyter.widget-view+json": {
       "model_id": "e445fa39532a4ebbbf4145017ae01bbe",
       "version_major": 2,
       "version_minor": 0
      },
      "text/plain": [
       "  0%|          | 0/1 [00:00<?, ?it/s]"
      ]
     },
     "metadata": {},
     "output_type": "display_data"
    },
    {
     "data": {
      "application/vnd.jupyter.widget-view+json": {
       "model_id": "42bd95d4400a4e6683bdd2a4a82ce2f1",
       "version_major": 2,
       "version_minor": 0
      },
      "text/plain": [
       "  0%|          | 0/1 [00:00<?, ?it/s]"
      ]
     },
     "metadata": {},
     "output_type": "display_data"
    },
    {
     "name": "stdout",
     "output_type": "stream",
     "text": [
      "Computing compound_U2OS_long replicability\n"
     ]
    },
    {
     "data": {
      "application/vnd.jupyter.widget-view+json": {
       "model_id": "0d889222200f4c0f827d5995dc82afd8",
       "version_major": 2,
       "version_minor": 0
      },
      "text/plain": [
       "  0%|          | 0/1 [00:00<?, ?it/s]"
      ]
     },
     "metadata": {},
     "output_type": "display_data"
    },
    {
     "data": {
      "application/vnd.jupyter.widget-view+json": {
       "model_id": "e9a2d7dbdcb14b6588866461f3267c18",
       "version_major": 2,
       "version_minor": 0
      },
      "text/plain": [
       "  0%|          | 0/1 [00:00<?, ?it/s]"
      ]
     },
     "metadata": {},
     "output_type": "display_data"
    },
    {
     "name": "stdout",
     "output_type": "stream",
     "text": [
      "Computing compound_U2OS_long matching\n"
     ]
    },
    {
     "data": {
      "application/vnd.jupyter.widget-view+json": {
       "model_id": "85c1d82987da4650b7b07bd80f742a35",
       "version_major": 2,
       "version_minor": 0
      },
      "text/plain": [
       "  0%|          | 0/1 [00:00<?, ?it/s]"
      ]
     },
     "metadata": {},
     "output_type": "display_data"
    },
    {
     "data": {
      "application/vnd.jupyter.widget-view+json": {
       "model_id": "b188784e6fc148bd88a56d41a7b76650",
       "version_major": 2,
       "version_minor": 0
      },
      "text/plain": [
       "  0%|          | 0/1 [00:00<?, ?it/s]"
      ]
     },
     "metadata": {},
     "output_type": "display_data"
    },
    {
     "name": "stdout",
     "output_type": "stream",
     "text": [
      "Computing compound_U2OS_long-crispr_U2OS_long matching\n"
     ]
    },
    {
     "data": {
      "application/vnd.jupyter.widget-view+json": {
       "model_id": "f1e0fe591c764d67a75b6565363740f6",
       "version_major": 2,
       "version_minor": 0
      },
      "text/plain": [
       "  0%|          | 0/1 [00:00<?, ?it/s]"
      ]
     },
     "metadata": {},
     "output_type": "display_data"
    },
    {
     "data": {
      "application/vnd.jupyter.widget-view+json": {
       "model_id": "e12655d01c234114a9e2ed97dfb2d741",
       "version_major": 2,
       "version_minor": 0
      },
      "text/plain": [
       "  0%|          | 0/1 [00:00<?, ?it/s]"
      ]
     },
     "metadata": {},
     "output_type": "display_data"
    },
    {
     "name": "stdout",
     "output_type": "stream",
     "text": [
      "Computing compound_U2OS_long-crispr_U2OS_short matching\n"
     ]
    },
    {
     "data": {
      "application/vnd.jupyter.widget-view+json": {
       "model_id": "df21183c592a41acb7182fc1520eddef",
       "version_major": 2,
       "version_minor": 0
      },
      "text/plain": [
       "  0%|          | 0/1 [00:00<?, ?it/s]"
      ]
     },
     "metadata": {},
     "output_type": "display_data"
    },
    {
     "data": {
      "application/vnd.jupyter.widget-view+json": {
       "model_id": "6362a79406ca4242a11afaa7b59bba47",
       "version_major": 2,
       "version_minor": 0
      },
      "text/plain": [
       "  0%|          | 0/1 [00:00<?, ?it/s]"
      ]
     },
     "metadata": {},
     "output_type": "display_data"
    },
    {
     "name": "stdout",
     "output_type": "stream",
     "text": [
      "Computing compound_U2OS_long-orf_U2OS_short matching\n"
     ]
    },
    {
     "data": {
      "application/vnd.jupyter.widget-view+json": {
       "model_id": "3b8462c785bd43e28c2c0f8c8a68db87",
       "version_major": 2,
       "version_minor": 0
      },
      "text/plain": [
       "  0%|          | 0/1 [00:00<?, ?it/s]"
      ]
     },
     "metadata": {},
     "output_type": "display_data"
    },
    {
     "data": {
      "application/vnd.jupyter.widget-view+json": {
       "model_id": "0cf78e08d9134442aecb94fcc1b6ae0a",
       "version_major": 2,
       "version_minor": 0
      },
      "text/plain": [
       "  0%|          | 0/1 [00:00<?, ?it/s]"
      ]
     },
     "metadata": {},
     "output_type": "display_data"
    },
    {
     "name": "stdout",
     "output_type": "stream",
     "text": [
      "Computing compound_U2OS_long-orf_U2OS_long matching\n"
     ]
    },
    {
     "data": {
      "application/vnd.jupyter.widget-view+json": {
       "model_id": "4717ee7c2ac4408d854cc01e5d71b8c8",
       "version_major": 2,
       "version_minor": 0
      },
      "text/plain": [
       "  0%|          | 0/1 [00:00<?, ?it/s]"
      ]
     },
     "metadata": {},
     "output_type": "display_data"
    },
    {
     "data": {
      "application/vnd.jupyter.widget-view+json": {
       "model_id": "bc7a9b07090548b7ad3e4f82ce4f4f74",
       "version_major": 2,
       "version_minor": 0
      },
      "text/plain": [
       "  0%|          | 0/1 [00:00<?, ?it/s]"
      ]
     },
     "metadata": {},
     "output_type": "display_data"
    }
   ],
   "source": [
    "# random_baseline_ap = pd.DataFrame(columns=[\"ap\", \"n_matches\", \"n_reference\"])\n",
    "\n",
    "for cell in experiment_df.Cell_type.unique():\n",
    "    cell_df = experiment_df.query(\"Cell_type==@cell\")\n",
    "    modality_1_perturbation = \"compound\"\n",
    "    modality_1_experiments_df = cell_df.query(\"Perturbation==@modality_1_perturbation\")\n",
    "    for modality_1_timepoint in modality_1_experiments_df.Time.unique():\n",
    "        modality_1_timepoint_df = modality_1_experiments_df.query(\n",
    "            \"Time==@modality_1_timepoint\"\n",
    "        )\n",
    "        modality_1_df = pd.DataFrame()\n",
    "        for plate in modality_1_timepoint_df.Assay_Plate_Barcode.unique():\n",
    "            # Read all the plates\n",
    "            data_df = utils.load_data(\n",
    "                batch, plate, \"normalized_feature_select_negcon_batch.csv.gz\"\n",
    "            ).assign(Metadata_modality=modality_1_perturbation)\n",
    "            modality_1_df = utils.concat_profiles(modality_1_df, data_df)\n",
    "\n",
    "        # Set Metadata_broad_sample value to \"DMSO\" for DMSO wells\n",
    "        modality_1_df[replicate_feature].fillna(\"DMSO\", inplace=True)\n",
    "\n",
    "        # Remove empty wells\n",
    "        modality_1_df = utils.remove_empty_wells(modality_1_df)\n",
    "\n",
    "        # Description\n",
    "        description = f\"{modality_1_perturbation}_{cell}_{utils.time_point(modality_1_perturbation, modality_1_timepoint)}\"\n",
    "\n",
    "        # Calculate replicability mAP\n",
    "        print(f\"Computing {description} replicability\")\n",
    "\n",
    "        modality_1_df[\"Metadata_negcon\"] = np.where(\n",
    "            modality_1_df[\"Metadata_control_type\"] == \"negcon\", 1, 0\n",
    "        )  # Create dummy column\n",
    "\n",
    "        pos_sameby = [\"Metadata_broad_sample\"]\n",
    "        pos_diffby = []\n",
    "        neg_sameby = [\"Metadata_Plate\"]\n",
    "        neg_diffby = [\"Metadata_negcon\"]\n",
    "\n",
    "        metadata_df = utils.get_metadata(modality_1_df)\n",
    "        feature_df = utils.get_featuredata(modality_1_df)\n",
    "        feature_values = feature_df.values\n",
    "\n",
    "        result = utils.run_pipeline(\n",
    "            metadata_df,\n",
    "            feature_values,\n",
    "            pos_sameby,\n",
    "            pos_diffby,\n",
    "            neg_sameby,\n",
    "            neg_diffby,\n",
    "            anti_match=False,\n",
    "            batch_size=batch_size,\n",
    "            null_size=null_size,\n",
    "        )\n",
    "\n",
    "        result = result.query(\"Metadata_negcon==0\").reset_index(drop=True)\n",
    "\n",
    "        replicability_map_df, replicability_fr_df = utils.create_replicability_df(\n",
    "            replicability_map_df,\n",
    "            replicability_fr_df,\n",
    "            result,\n",
    "            pos_sameby,\n",
    "            0.05,\n",
    "            modality_1_perturbation,\n",
    "            cell,\n",
    "            modality_1_timepoint,\n",
    "        )\n",
    "\n",
    "        # Remove DMSO wells\n",
    "        modality_1_df = utils.remove_negcon_and_empty_wells(modality_1_df)\n",
    "\n",
    "        # Create consensus profiles\n",
    "        modality_1_consensus_df = utils.consensus(modality_1_df, replicate_feature)\n",
    "\n",
    "        # Filter out non-replicable compounds\n",
    "        replicable_compounds = list(\n",
    "            replicability_map_df[\n",
    "                (replicability_map_df.Description == description)\n",
    "                & (replicability_map_df.above_q_threshold == True)\n",
    "            ][replicate_feature]\n",
    "        )\n",
    "        modality_1_consensus_df = modality_1_consensus_df.query(\n",
    "            \"Metadata_broad_sample==@replicable_compounds\"\n",
    "        ).reset_index(drop=True)\n",
    "\n",
    "        # Adding additional gene annotation metadata\n",
    "        modality_1_consensus_df = (\n",
    "            modality_1_consensus_df.merge(\n",
    "                target1_metadata, on=\"Metadata_broad_sample\", how=\"left\"\n",
    "            )\n",
    "            .assign(\n",
    "                Metadata_matching_target=lambda x: x.Metadata_target_list.str.split(\"|\")\n",
    "            )\n",
    "            .drop([\"Metadata_target_list\"], axis=1)\n",
    "        )\n",
    "\n",
    "        # Calculate compound-compound matching\n",
    "        print(f\"Computing {description} matching\")\n",
    "\n",
    "        pos_sameby = [\"Metadata_matching_target\"]\n",
    "        pos_diffby = []\n",
    "        neg_sameby = []\n",
    "        neg_diffby = [\"Metadata_matching_target\"]\n",
    "\n",
    "        metadata_df = utils.get_metadata(modality_1_consensus_df)\n",
    "        feature_df = utils.get_featuredata(modality_1_consensus_df)\n",
    "        feature_values = feature_df.values\n",
    "\n",
    "        result = utils.run_pipeline(\n",
    "            metadata_df,\n",
    "            feature_values,\n",
    "            pos_sameby,\n",
    "            pos_diffby,\n",
    "            neg_sameby,\n",
    "            neg_diffby,\n",
    "            anti_match=True,\n",
    "            batch_size=batch_size,\n",
    "            null_size=null_size,\n",
    "            multilabel_col=\"Metadata_matching_target\",\n",
    "        )\n",
    "\n",
    "        matching_map_df, matching_fr_df = utils.create_matching_df(\n",
    "            matching_map_df,\n",
    "            matching_fr_df,\n",
    "            result,\n",
    "            pos_sameby,\n",
    "            0.05,\n",
    "            modality_1_perturbation,\n",
    "            cell,\n",
    "            modality_1_timepoint,\n",
    "        )\n",
    "\n",
    "        all_modality_2_experiments_df = cell_df.query(\n",
    "            \"Perturbation!=@modality_1_perturbation\"\n",
    "        )\n",
    "        for (\n",
    "            modality_2_perturbation\n",
    "        ) in all_modality_2_experiments_df.Perturbation.unique():\n",
    "            modality_2_experiments_df = all_modality_2_experiments_df.query(\n",
    "                \"Perturbation==@modality_2_perturbation\"\n",
    "            )\n",
    "            for modality_2_timepoint in modality_2_experiments_df.Time.unique():\n",
    "                modality_2_timepoint_df = modality_2_experiments_df.query(\n",
    "                    \"Time==@modality_2_timepoint\"\n",
    "                )\n",
    "\n",
    "                modality_2_df = pd.DataFrame()\n",
    "                for plate in modality_2_timepoint_df.Assay_Plate_Barcode.unique():\n",
    "                    data_df = (\n",
    "                        utils.load_data(\n",
    "                            batch,\n",
    "                            plate,\n",
    "                            \"normalized_feature_select_negcon_batch.csv.gz\",\n",
    "                        )\n",
    "                        .assign(Metadata_modality=modality_2_perturbation)\n",
    "                        .assign(Metadata_matching_target=lambda x: x.Metadata_gene)\n",
    "                    )\n",
    "                    modality_2_df = utils.concat_profiles(modality_2_df, data_df)\n",
    "\n",
    "                # Remove empty wells\n",
    "                modality_2_df = utils.remove_empty_wells(modality_2_df)\n",
    "\n",
    "                # Description\n",
    "                description = f\"{modality_2_perturbation}_{cell}_{utils.time_point(modality_2_perturbation, modality_2_timepoint)}\"\n",
    "\n",
    "                # Calculate replicability mAP\n",
    "\n",
    "                if not replicability_map_df.Description.str.contains(description).any():\n",
    "                    print(f\"Computing {description} replicability\")\n",
    "\n",
    "                    modality_2_df[\"Metadata_negcon\"] = np.where(\n",
    "                        modality_2_df[\"Metadata_control_type\"] == \"negcon\", 1, 0\n",
    "                    )  # Create dummy column\n",
    "\n",
    "                    pos_sameby = [\"Metadata_broad_sample\"]\n",
    "                    pos_diffby = []\n",
    "                    neg_sameby = [\"Metadata_Plate\"]\n",
    "                    neg_diffby = [\"Metadata_negcon\"]\n",
    "\n",
    "                    metadata_df = utils.get_metadata(modality_2_df)\n",
    "                    feature_df = utils.get_featuredata(modality_2_df)\n",
    "                    feature_values = feature_df.values\n",
    "\n",
    "                    result = utils.run_pipeline(\n",
    "                        metadata_df,\n",
    "                        feature_values,\n",
    "                        pos_sameby,\n",
    "                        pos_diffby,\n",
    "                        neg_sameby,\n",
    "                        neg_diffby,\n",
    "                        anti_match=False,\n",
    "                        batch_size=batch_size,\n",
    "                        null_size=null_size,\n",
    "                    )\n",
    "\n",
    "                    result = result.query(\"Metadata_negcon==0\").reset_index(drop=True)\n",
    "\n",
    "                    (\n",
    "                        replicability_map_df,\n",
    "                        replicability_fr_df,\n",
    "                    ) = utils.create_replicability_df(\n",
    "                        replicability_map_df,\n",
    "                        replicability_fr_df,\n",
    "                        result,\n",
    "                        pos_sameby,\n",
    "                        0.05,\n",
    "                        modality_2_perturbation,\n",
    "                        cell,\n",
    "                        modality_2_timepoint,\n",
    "                    )\n",
    "\n",
    "                # Remove negcon wells\n",
    "                modality_2_df = utils.remove_negcon_and_empty_wells(modality_2_df)\n",
    "\n",
    "                # Create consensus profiles\n",
    "                modality_2_consensus_df = utils.consensus(\n",
    "                    modality_2_df, \"Metadata_broad_sample\"\n",
    "                )\n",
    "\n",
    "                # Filter out non-replicable genes\n",
    "                replicable_genes = list(\n",
    "                    replicability_map_df[\n",
    "                        (\n",
    "                            replicability_map_df.Description\n",
    "                            == f\"{modality_2_perturbation}_{cell}_{utils.time_point(modality_2_perturbation, modality_2_timepoint)}\"\n",
    "                        )\n",
    "                        & (replicability_map_df.above_q_threshold == True)\n",
    "                    ][replicate_feature]\n",
    "                )\n",
    "                modality_2_consensus_df = modality_2_consensus_df.query(\n",
    "                    \"Metadata_broad_sample==@replicable_genes\"\n",
    "                ).reset_index(drop=True)\n",
    "\n",
    "                # Calculate cripsr-crispr matching\n",
    "                if modality_2_perturbation == \"crispr\":\n",
    "                    if not matching_map_df.Description.str.contains(description).any():\n",
    "                        print(f\"Computing {description} matching\")\n",
    "\n",
    "                        pos_sameby = [\"Metadata_gene\"]\n",
    "                        pos_diffby = []\n",
    "                        neg_sameby = []\n",
    "                        neg_diffby = [\"Metadata_gene\"]\n",
    "\n",
    "                        metadata_df = utils.get_metadata(modality_2_consensus_df)\n",
    "                        feature_df = utils.get_featuredata(modality_2_consensus_df)\n",
    "                        feature_values = feature_df.values\n",
    "\n",
    "                        result = utils.run_pipeline(\n",
    "                            metadata_df,\n",
    "                            feature_values,\n",
    "                            pos_sameby,\n",
    "                            pos_diffby,\n",
    "                            neg_sameby,\n",
    "                            neg_diffby,\n",
    "                            anti_match=False,\n",
    "                            batch_size=batch_size,\n",
    "                            null_size=null_size,\n",
    "                        )\n",
    "\n",
    "                        matching_map_df, matching_fr_df = utils.create_matching_df(\n",
    "                            matching_map_df,\n",
    "                            matching_fr_df,\n",
    "                            result,\n",
    "                            pos_sameby,\n",
    "                            0.05,\n",
    "                            modality_2_perturbation,\n",
    "                            cell,\n",
    "                            modality_2_timepoint,\n",
    "                        )\n",
    "\n",
    "                # Filter out genes that are not perturbed by ORFs or CRISPRs\n",
    "                perturbed_genes = list(\n",
    "                    set(modality_2_consensus_df.Metadata_matching_target)\n",
    "                )\n",
    "\n",
    "                modality_1_filtered_genes_df = (\n",
    "                    modality_1_consensus_df[\n",
    "                        [\"Metadata_broad_sample\", \"Metadata_matching_target\"]\n",
    "                    ]\n",
    "                    .copy()\n",
    "                    .explode(\"Metadata_matching_target\")\n",
    "                    .query(\"Metadata_matching_target==@perturbed_genes\")\n",
    "                    .reset_index(drop=True)\n",
    "                    .groupby([\"Metadata_broad_sample\"])\n",
    "                    .Metadata_matching_target.apply(list)\n",
    "                    .reset_index()\n",
    "                )\n",
    "\n",
    "                modality_1_consensus_filtered_df = modality_1_consensus_df.drop(\n",
    "                    columns=[\"Metadata_matching_target\"]\n",
    "                ).merge(\n",
    "                    modality_1_filtered_genes_df,\n",
    "                    on=\"Metadata_broad_sample\",\n",
    "                    how=\"inner\",\n",
    "                )\n",
    "\n",
    "                # Calculate gene-compound matching mAP\n",
    "                description = f\"{modality_1_perturbation}_{cell}_{utils.time_point(modality_1_perturbation, modality_1_timepoint)}-{modality_2_perturbation}_{cell}_{utils.time_point(modality_2_perturbation, modality_2_timepoint)}\"\n",
    "                print(f\"Computing {description} matching\")\n",
    "\n",
    "                modality_1_modality_2_df = utils.concat_profiles(\n",
    "                    modality_1_consensus_filtered_df, modality_2_consensus_df\n",
    "                )\n",
    "\n",
    "                pos_sameby = [\"Metadata_matching_target\"]\n",
    "                pos_diffby = [\"Metadata_modality\"]\n",
    "                neg_sameby = []\n",
    "                neg_diffby = [\"Metadata_matching_target\", \"Metadata_modality\"]\n",
    "                # neg_diffby = [\"Metadata_matching_target\"]\n",
    "\n",
    "                metadata_df = utils.get_metadata(modality_1_modality_2_df)\n",
    "                feature_df = utils.get_featuredata(modality_1_modality_2_df)\n",
    "                feature_values = feature_df.values\n",
    "\n",
    "                result = utils.run_pipeline(\n",
    "                    metadata_df,\n",
    "                    feature_values,\n",
    "                    pos_sameby,\n",
    "                    pos_diffby,\n",
    "                    neg_sameby,\n",
    "                    neg_diffby,\n",
    "                    anti_match=True,\n",
    "                    batch_size=batch_size,\n",
    "                    null_size=null_size,\n",
    "                    multilabel_col=\"Metadata_matching_target\",\n",
    "                )\n",
    "\n",
    "                (\n",
    "                    gene_compound_matching_map_df,\n",
    "                    gene_compound_matching_fr_df,\n",
    "                ) = utils.create_gene_compound_matching_df(\n",
    "                    gene_compound_matching_map_df,\n",
    "                    gene_compound_matching_fr_df,\n",
    "                    result,\n",
    "                    pos_sameby,\n",
    "                    0.05,\n",
    "                    modality_1_perturbation,\n",
    "                    modality_2_perturbation,\n",
    "                    cell,\n",
    "                    modality_1_timepoint,\n",
    "                    modality_2_timepoint,\n",
    "                )"
   ]
  },
  {
   "attachments": {},
   "cell_type": "markdown",
   "metadata": {},
   "source": [
    "Tables of mAP values and the fraction retrieved (fr) are printed and bar plots are plotted."
   ]
  },
  {
   "attachments": {},
   "cell_type": "markdown",
   "metadata": {
    "collapsed": false,
    "pycharm": {
     "name": "#%% md\n"
    }
   },
   "source": [
    "Replicability fraction retrieved."
   ]
  },
  {
   "cell_type": "code",
   "execution_count": 4,
   "metadata": {
    "collapsed": false,
    "pycharm": {
     "name": "#%%\n"
    }
   },
   "outputs": [
    {
     "name": "stdout",
     "output_type": "stream",
     "text": [
      "| Description         |   timepoint |    fr |\n",
      "|:--------------------|------------:|------:|\n",
      "| compound_A549_short |          24 | 0.765 |\n",
      "| crispr_A549_long    |         144 | 0.679 |\n",
      "| crispr_A549_short   |          96 | 0.682 |\n",
      "| orf_A549_long       |          96 | 0.044 |\n",
      "| orf_A549_short      |          48 | 0.056 |\n",
      "| compound_A549_long  |          48 | 0.954 |\n",
      "| compound_U2OS_short |          24 | 0.775 |\n",
      "| crispr_U2OS_long    |         144 | 0.475 |\n",
      "| crispr_U2OS_short   |          96 | 0.669 |\n",
      "| orf_U2OS_short      |          48 | 0.369 |\n",
      "| orf_U2OS_long       |          96 | 0.2   |\n",
      "| compound_U2OS_long  |          48 | 0.663 |\n"
     ]
    }
   ],
   "source": [
    "print(replicability_fr_df[[\"Description\", \"timepoint\", \"fr\"]].to_markdown(index=False))"
   ]
  },
  {
   "attachments": {},
   "cell_type": "markdown",
   "metadata": {
    "collapsed": false,
    "pycharm": {
     "name": "#%% md\n"
    }
   },
   "source": [
    "Within perturbation matching fractive retrieved."
   ]
  },
  {
   "cell_type": "code",
   "execution_count": 5,
   "metadata": {
    "collapsed": false,
    "pycharm": {
     "name": "#%%\n"
    }
   },
   "outputs": [
    {
     "name": "stdout",
     "output_type": "stream",
     "text": [
      "| Description         |   timepoint |    fr |\n",
      "|:--------------------|------------:|------:|\n",
      "| compound_A549_short |          24 | 0.208 |\n",
      "| crispr_A549_long    |         144 | 0.537 |\n",
      "| crispr_A549_short   |          96 | 0.526 |\n",
      "| compound_A549_long  |          48 | 0.169 |\n",
      "| compound_U2OS_short |          24 | 0.05  |\n",
      "| crispr_U2OS_long    |         144 | 0.683 |\n",
      "| crispr_U2OS_short   |          96 | 0.511 |\n",
      "| compound_U2OS_long  |          48 | 0.246 |\n"
     ]
    }
   ],
   "source": [
    "print(matching_fr_df[[\"Description\", \"timepoint\", \"fr\"]].to_markdown(index=False))"
   ]
  },
  {
   "attachments": {},
   "cell_type": "markdown",
   "metadata": {
    "collapsed": false,
    "pycharm": {
     "name": "#%% md\n"
    }
   },
   "source": [
    "Gene-compound matching fraction retrieved."
   ]
  },
  {
   "cell_type": "code",
   "execution_count": 6,
   "metadata": {
    "collapsed": false,
    "pycharm": {
     "name": "#%%\n"
    }
   },
   "outputs": [
    {
     "name": "stdout",
     "output_type": "stream",
     "text": [
      "| Description                           | Cell   |    fr |\n",
      "|:--------------------------------------|:-------|------:|\n",
      "| compound_A549_short-crispr_A549_long  | A549   | 0.008 |\n",
      "| compound_A549_short-crispr_A549_short | A549   | 0.008 |\n",
      "| compound_A549_short-orf_A549_long     | A549   | 0     |\n",
      "| compound_A549_short-orf_A549_short    | A549   | 0     |\n",
      "| compound_A549_long-crispr_A549_long   | A549   | 0.007 |\n",
      "| compound_A549_long-crispr_A549_short  | A549   | 0.007 |\n",
      "| compound_A549_long-orf_A549_long      | A549   | 0     |\n",
      "| compound_A549_long-orf_A549_short     | A549   | 0     |\n",
      "| compound_U2OS_short-crispr_U2OS_long  | U2OS   | 0     |\n",
      "| compound_U2OS_short-crispr_U2OS_short | U2OS   | 0.016 |\n",
      "| compound_U2OS_short-orf_U2OS_short    | U2OS   | 0     |\n",
      "| compound_U2OS_short-orf_U2OS_long     | U2OS   | 0     |\n",
      "| compound_U2OS_long-crispr_U2OS_long   | U2OS   | 0.033 |\n",
      "| compound_U2OS_long-crispr_U2OS_short  | U2OS   | 0.009 |\n",
      "| compound_U2OS_long-orf_U2OS_short     | U2OS   | 0.075 |\n",
      "| compound_U2OS_long-orf_U2OS_long      | U2OS   | 0     |\n"
     ]
    }
   ],
   "source": [
    "print(\n",
    "    gene_compound_matching_fr_df[[\"Description\", \"Cell\", \"fr\"]].to_markdown(index=False)\n",
    ")"
   ]
  },
  {
   "cell_type": "code",
   "execution_count": 7,
   "metadata": {
    "collapsed": false,
    "pycharm": {
     "name": "#%%\n"
    }
   },
   "outputs": [
    {
     "data": {
      "image/png": "[encoded data removed]"
     },
     "metadata": {},
     "output_type": "display_data"
    }
   ],
   "source": [
    "fig = px.bar(\n",
    "    data_frame=replicability_fr_df,\n",
    "    x=\"Modality\",\n",
    "    y=\"fr\",\n",
    "    facet_row=\"Cell\",\n",
    "    facet_col=\"time\",\n",
    ")\n",
    "fig.update_layout(\n",
    "    xaxis1=dict(title=\"Perturbation\"),\n",
    "    xaxis2=dict(title=\"Perturbation\"),\n",
    "    yaxis1=dict(title=\"Fraction Retrieved\"),\n",
    "    yaxis3=dict(title=\"Fraction Retrieved\"),\n",
    ")\n",
    "fig.show(\"png\")\n",
    "fig.write_image(\n",
    "    f\"figures/1.CellProfiler_replicability_fr.png\", width=640, height=480, scale=2\n",
    ")"
   ]
  },
  {
   "cell_type": "code",
   "execution_count": 8,
   "metadata": {
    "collapsed": false,
    "pycharm": {
     "name": "#%%\n"
    }
   },
   "outputs": [
    {
     "data": {
      "image/png": "[encoded data removed]"
     },
     "metadata": {},
     "output_type": "display_data"
    }
   ],
   "source": [
    "fig = px.bar(\n",
    "    data_frame=matching_fr_df,\n",
    "    x=\"Modality\",\n",
    "    y=\"fr\",\n",
    "    facet_row=\"Cell\",\n",
    "    facet_col=\"time\",\n",
    ")\n",
    "fig.update_layout(\n",
    "    xaxis1=dict(title=\"Perturbation\"),\n",
    "    xaxis2=dict(title=\"Perturbation\"),\n",
    "    yaxis1=dict(title=\"Fraction Retrieved\"),\n",
    "    yaxis3=dict(title=\"Fraction Retrieved\"),\n",
    ")\n",
    "fig.show(\"png\")\n",
    "fig.write_image(\n",
    "    f\"figures/1.CellProfiler_matching_fr.png\", width=640, height=480, scale=2\n",
    ")"
   ]
  },
  {
   "cell_type": "code",
   "execution_count": 9,
   "metadata": {
    "collapsed": false,
    "pycharm": {
     "name": "#%%\n"
    }
   },
   "outputs": [
    {
     "data": {
      "image/png": "[encoded data removed]"
     },
     "metadata": {},
     "output_type": "display_data"
    }
   ],
   "source": [
    "fig = px.bar(\n",
    "    gene_compound_matching_fr_df,\n",
    "    x=\"Modality2\",\n",
    "    y=\"fr\",\n",
    "    facet_col=\"Modality1\",\n",
    "    facet_row=\"Cell\",\n",
    ")\n",
    "fig.update_layout(\n",
    "    xaxis1=dict(title=\"Genetic perturbation\"),\n",
    "    xaxis2=dict(title=\"Genetic perturbation\"),\n",
    "    yaxis1=dict(title=\"Fraction Retrieved\"),\n",
    "    yaxis3=dict(title=\"Fraction Retrieved\"),\n",
    ")\n",
    "fig.show(\"png\")\n",
    "fig.write_image(\n",
    "    f\"figures/1.CellProfiler_gene_compound_matching_fr.png\",\n",
    "    width=640,\n",
    "    height=480,\n",
    "    scale=2,\n",
    ")"
   ]
  },
  {
   "cell_type": "code",
   "execution_count": 10,
   "metadata": {
    "collapsed": false,
    "pycharm": {
     "name": "#%%\n"
    }
   },
   "outputs": [
    {
     "data": {
      "image/png": "[encoded data removed]"
     },
     "metadata": {},
     "output_type": "display_data"
    }
   ],
   "source": [
    "fig = px.box(\n",
    "    data_frame=replicability_map_df,\n",
    "    x=\"Modality\",\n",
    "    y=\"mean_average_precision\",\n",
    "    facet_row=\"Cell\",\n",
    "    facet_col=\"time\",\n",
    ")\n",
    "fig.update_layout(\n",
    "    xaxis1=dict(title=\"Perturbation\"),\n",
    "    xaxis2=dict(title=\"Perturbation\"),\n",
    "    yaxis1=dict(title=\"mAP\"),\n",
    "    yaxis3=dict(title=\"mAP\"),\n",
    ")\n",
    "fig.show(\"png\")\n",
    "fig.write_image(\n",
    "    f\"figures/1.CellProfiler_replicability_map.png\", width=640, height=480, scale=2\n",
    ")"
   ]
  },
  {
   "cell_type": "code",
   "execution_count": 11,
   "metadata": {
    "collapsed": false,
    "pycharm": {
     "name": "#%%\n"
    }
   },
   "outputs": [
    {
     "data": {
      "image/png": "[encoded data removed]"
     },
     "metadata": {},
     "output_type": "display_data"
    }
   ],
   "source": [
    "fig = px.box(\n",
    "    data_frame=matching_map_df,\n",
    "    x=\"Modality\",\n",
    "    y=\"mean_average_precision\",\n",
    "    facet_row=\"Cell\",\n",
    "    facet_col=\"time\",\n",
    ")\n",
    "fig.update_layout(\n",
    "    xaxis1=dict(title=\"Perturbation\"),\n",
    "    xaxis2=dict(title=\"Perturbation\"),\n",
    "    yaxis1=dict(title=\"mAP\"),\n",
    "    yaxis3=dict(title=\"mAP\"),\n",
    ")\n",
    "fig.show(\"png\")\n",
    "fig.write_image(\n",
    "    f\"figures/1.CellProfiler_matching_map.png\", width=640, height=480, scale=2\n",
    ")"
   ]
  },
  {
   "cell_type": "code",
   "execution_count": 12,
   "metadata": {
    "collapsed": false,
    "pycharm": {
     "name": "#%%\n"
    }
   },
   "outputs": [
    {
     "data": {
      "image/png": "[encoded data removed]"
     },
     "metadata": {},
     "output_type": "display_data"
    }
   ],
   "source": [
    "fig = px.box(\n",
    "    data_frame=gene_compound_matching_map_df,\n",
    "    x=\"Modality2\",\n",
    "    y=\"mean_average_precision\",\n",
    "    facet_col=\"Modality1\",\n",
    "    facet_row=\"Cell\",\n",
    ")\n",
    "fig.update_layout(\n",
    "    xaxis1=dict(title=\"Perturbation\"),\n",
    "    xaxis2=dict(title=\"Perturbation\"),\n",
    "    yaxis1=dict(title=\"mAP\"),\n",
    "    yaxis3=dict(title=\"mAP\"),\n",
    ")\n",
    "fig.show(\"png\")\n",
    "fig.write_image(\n",
    "    f\"figures/1.CellProfiler_gene_compound_matching_map.png\",\n",
    "    width=640,\n",
    "    height=480,\n",
    "    scale=2,\n",
    ")"
   ]
  },
  {
   "attachments": {},
   "cell_type": "markdown",
   "metadata": {},
   "source": [
    "Tables of mAP and fr values are written to file."
   ]
  },
  {
   "cell_type": "code",
   "execution_count": 13,
   "metadata": {
    "collapsed": false,
    "pycharm": {
     "name": "#%%\n"
    }
   },
   "outputs": [],
   "source": [
    "replicability_fr_df[[\"Modality\", \"Cell\", \"time\", \"fr\"]].to_csv(\n",
    "    \"output/cellprofiler_replicability_fr.csv\", index=False\n",
    ")\n",
    "replicability_map_df[\n",
    "    [\"Modality\", \"Cell\", \"time\", \"Metadata_broad_sample\", \"mean_average_precision\"]\n",
    "].to_csv(\"output/cellprofiler_replicability_map.csv\", index=False)\n",
    "matching_fr_df[[\"Modality\", \"Cell\", \"time\", \"fr\"]].to_csv(\n",
    "    \"output/cellprofiler_matching_fr.csv\", index=False\n",
    ")\n",
    "matching_map_df[[\"Modality\", \"Cell\", \"time\", \"mean_average_precision\"]].to_csv(\n",
    "    \"output/cellprofiler_matching_map.csv\", index=False\n",
    ")\n",
    "gene_compound_matching_fr_df[[\"Modality1\", \"Modality2\", \"Cell\", \"fr\"]].to_csv(\n",
    "    \"output/cellprofiler_gene_compound_matching_fr.csv\", index=False\n",
    ")\n",
    "gene_compound_matching_map_df[[\"Modality1\", \"Modality2\", \"Cell\", \"mean_average_precision\"]].to_csv(\n",
    "    \"output/cellprofiler_gene_compound_matching_map.csv\", index=False\n",
    ")"
   ]
  }
 ],
 "metadata": {
  "kernelspec": {
   "display_name": "analysis",
   "language": "python",
   "name": "python3"
  },
  "language_info": {
   "codemirror_mode": {
    "name": "ipython",
    "version": 3
   },
   "file_extension": ".py",
   "mimetype": "text/x-python",
   "name": "python",
   "nbconvert_exporter": "python",
   "pygments_lexer": "ipython3",
   "version": "3.10.6"
  },
  "vscode": {
   "interpreter": {
    "hash": "986381fcaa5fa2a4fbfcc238e5cd47c7186c89fa9a103f6aff6b597c4b48d920"
   }
  }
 },
 "nbformat": 4,
 "nbformat_minor": 0
}
