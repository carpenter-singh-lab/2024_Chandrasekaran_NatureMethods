{
 "cells": [
  {
   "cell_type": "code",
   "execution_count": 1,
   "metadata": {
    "collapsed": true,
    "pycharm": {
     "name": "#%%\n"
    }
   },
   "outputs": [],
   "source": [
    "import warnings\n",
    "import pandas as pd\n",
    "import utils\n",
    "import plotly.express as px\n",
    "import numpy as np\n",
    "\n",
    "warnings.simplefilter(action=\"ignore\", category=FutureWarning)\n",
    "warnings.filterwarnings(\"ignore\", category=RuntimeWarning)"
   ]
  },
  {
   "cell_type": "markdown",
   "metadata": {
    "collapsed": false,
    "pycharm": {
     "name": "#%% md\n"
    }
   },
   "source": [
    "### Calculating mean Average Precision (mAP) for CellProfiler features\n",
    "In this notebook, we calculate the mAP for perturbation detection and perturbation matching tasks for the CellProfiler features."
   ]
  },
  {
   "cell_type": "markdown",
   "metadata": {},
   "source": [
    "All compound, ORF and CRISPR plates from the `2020_11_04_CPJUMP1` batch are read, except for those with cell seeding density other than 1000 (100%) and compound plates with antibiotics (Puromycin/Blasticidin) added. Additional annotations for the compounds are also read."
   ]
  },
  {
   "cell_type": "code",
   "execution_count": 2,
   "metadata": {
    "collapsed": false,
    "pycharm": {
     "name": "#%%\n"
    }
   },
   "outputs": [],
   "source": [
    "replicability_map_df = pd.DataFrame()\n",
    "replicability_fr_df = pd.DataFrame()\n",
    "matching_map_df = pd.DataFrame()\n",
    "matching_fr_df = pd.DataFrame()\n",
    "gene_compound_matching_map_df = pd.DataFrame()\n",
    "gene_compound_matching_fr_df = pd.DataFrame()\n",
    "\n",
    "replicate_feature = \"Metadata_broad_sample\"\n",
    "batch = \"2020_11_04_CPJUMP1\"\n",
    "batch_size = 100000\n",
    "null_size = 100000\n",
    "\n",
    "experiment_df = (\n",
    "    pd.read_csv(\"output/experiment-metadata.tsv\", sep=\"\\t\")\n",
    "    .query(\"Batch==@batch\")\n",
    "    .query(\"Density==100\")\n",
    "    .query('Antibiotics==\"absent\"')\n",
    ")\n",
    "\n",
    "experiment_df.drop(\n",
    "    experiment_df[\n",
    "        (experiment_df.Perturbation == \"compound\") & (experiment_df.Cell_line == \"Cas9\")\n",
    "    ].index,\n",
    "    inplace=True,\n",
    ")\n",
    "\n",
    "target1_metadata = pd.read_csv(\n",
    "    \"input/JUMP-Target-1_compound_metadata_additional_annotations.tsv\",\n",
    "    sep=\"\\t\",\n",
    "    usecols=[\"broad_sample\", \"target_list\"],\n",
    ").rename(\n",
    "    columns={\n",
    "        \"broad_sample\": \"Metadata_broad_sample\",\n",
    "        \"target_list\": \"Metadata_target_list\",\n",
    "    }\n",
    ")"
   ]
  },
  {
   "attachments": {},
   "cell_type": "markdown",
   "metadata": {},
   "source": [
    "Normalized, feature selected compound profiles for replicate plates at the same time point, using the same cell type are merged into a single data frame. Empty wells are removed before calculating mAP for perturbation detection (retrieve replicates of the query compound). mAP for the random baseline (10000 random list of size number of replicates + number of negcon) is subtracted.\n",
    "\n",
    "For the perturbation matching task, compounds that not are replicable (qvalue > 0.05) are removed. Negative control wells are also removed and the additional target annotations are added before mAP for perturbation matching is calculated. Again, the mAP for the random baseline is subtracted.\n",
    "\n",
    "Similarly, mAP for perturbation detection is computed for both CRISPR and ORF plates while mAP for perturbation matching is computed only for the CRISPR guides as there are no sister ORF perturbations.\n",
    "\n",
    "Then, mAP for the chemical perturbation-genetic perturbation matching task is computed using the median consensus profiles and the baseline mAP is subtracted.\n",
    "\n",
    "Along with mAP, fraction retrieved is also calculated. This is the fraction of queries that have qvalue < 0.05.\n",
    "\n",
    "The mAP and fraction retrieved values as saved to `output` directory and the results are plotted."
   ]
  },
  {
   "cell_type": "code",
   "execution_count": 3,
   "metadata": {
    "collapsed": false,
    "pycharm": {
     "name": "#%%\n"
    }
   },
   "outputs": [
    {
     "name": "stdout",
     "output_type": "stream",
     "text": [
      "Computing compound_A549_short replicability\n"
     ]
    },
    {
     "data": {
      "application/vnd.jupyter.widget-view+json": {
       "model_id": "c1d0a455721a40b4b0f5c3c3830005cb",
       "version_major": 2,
       "version_minor": 0
      },
      "text/plain": [
       "  0%|          | 0/1 [00:00<?, ?it/s]"
      ]
     },
     "metadata": {},
     "output_type": "display_data"
    },
    {
     "data": {
      "application/vnd.jupyter.widget-view+json": {
       "model_id": "e68085c869184199974ae3c9a1a1881d",
       "version_major": 2,
       "version_minor": 0
      },
      "text/plain": [
       "  0%|          | 0/1 [00:00<?, ?it/s]"
      ]
     },
     "metadata": {},
     "output_type": "display_data"
    },
    {
     "name": "stdout",
     "output_type": "stream",
     "text": [
      "Computing compound_A549_short matching\n"
     ]
    },
    {
     "data": {
      "application/vnd.jupyter.widget-view+json": {
       "model_id": "717060795e4343509e60914561ef26e3",
       "version_major": 2,
       "version_minor": 0
      },
      "text/plain": [
       "  0%|          | 0/1 [00:00<?, ?it/s]"
      ]
     },
     "metadata": {},
     "output_type": "display_data"
    },
    {
     "data": {
      "application/vnd.jupyter.widget-view+json": {
       "model_id": "7bcc13159f3c4486b36b49ec6f64d69d",
       "version_major": 2,
       "version_minor": 0
      },
      "text/plain": [
       "  0%|          | 0/1 [00:00<?, ?it/s]"
      ]
     },
     "metadata": {},
     "output_type": "display_data"
    },
    {
     "name": "stdout",
     "output_type": "stream",
     "text": [
      "Computing crispr_A549_long replicability\n"
     ]
    },
    {
     "data": {
      "application/vnd.jupyter.widget-view+json": {
       "model_id": "8fc80795646548b6891010ed24d78ad9",
       "version_major": 2,
       "version_minor": 0
      },
      "text/plain": [
       "  0%|          | 0/1 [00:00<?, ?it/s]"
      ]
     },
     "metadata": {},
     "output_type": "display_data"
    },
    {
     "data": {
      "application/vnd.jupyter.widget-view+json": {
       "model_id": "aa60fb16ddbe4d4da6f0bfddb8886edd",
       "version_major": 2,
       "version_minor": 0
      },
      "text/plain": [
       "  0%|          | 0/1 [00:00<?, ?it/s]"
      ]
     },
     "metadata": {},
     "output_type": "display_data"
    },
    {
     "name": "stdout",
     "output_type": "stream",
     "text": [
      "Computing crispr_A549_long matching\n"
     ]
    },
    {
     "data": {
      "application/vnd.jupyter.widget-view+json": {
       "model_id": "f6756e39c3f44bd39fd4a21af59c6c73",
       "version_major": 2,
       "version_minor": 0
      },
      "text/plain": [
       "  0%|          | 0/1 [00:00<?, ?it/s]"
      ]
     },
     "metadata": {},
     "output_type": "display_data"
    },
    {
     "data": {
      "application/vnd.jupyter.widget-view+json": {
       "model_id": "4a852892122748b7b0362cf4c0a2f94a",
       "version_major": 2,
       "version_minor": 0
      },
      "text/plain": [
       "  0%|          | 0/1 [00:00<?, ?it/s]"
      ]
     },
     "metadata": {},
     "output_type": "display_data"
    },
    {
     "name": "stdout",
     "output_type": "stream",
     "text": [
      "Computing compound_A549_short-crispr_A549_long matching\n"
     ]
    },
    {
     "data": {
      "application/vnd.jupyter.widget-view+json": {
       "model_id": "8fda4b91c2b849e0a6d1cd2c2353e323",
       "version_major": 2,
       "version_minor": 0
      },
      "text/plain": [
       "  0%|          | 0/1 [00:00<?, ?it/s]"
      ]
     },
     "metadata": {},
     "output_type": "display_data"
    },
    {
     "data": {
      "application/vnd.jupyter.widget-view+json": {
       "model_id": "bb0d8c9428ef49f79947c51ad1fcf7e4",
       "version_major": 2,
       "version_minor": 0
      },
      "text/plain": [
       "  0%|          | 0/1 [00:00<?, ?it/s]"
      ]
     },
     "metadata": {},
     "output_type": "display_data"
    },
    {
     "name": "stdout",
     "output_type": "stream",
     "text": [
      "Computing crispr_A549_short replicability\n"
     ]
    },
    {
     "data": {
      "application/vnd.jupyter.widget-view+json": {
       "model_id": "2114273653fa49bc98d31aea2318cb3b",
       "version_major": 2,
       "version_minor": 0
      },
      "text/plain": [
       "  0%|          | 0/1 [00:00<?, ?it/s]"
      ]
     },
     "metadata": {},
     "output_type": "display_data"
    },
    {
     "data": {
      "application/vnd.jupyter.widget-view+json": {
       "model_id": "21a8c8eebbee4a5cabed603f0c2ed5ca",
       "version_major": 2,
       "version_minor": 0
      },
      "text/plain": [
       "  0%|          | 0/1 [00:00<?, ?it/s]"
      ]
     },
     "metadata": {},
     "output_type": "display_data"
    },
    {
     "name": "stdout",
     "output_type": "stream",
     "text": [
      "Computing crispr_A549_short matching\n"
     ]
    },
    {
     "data": {
      "application/vnd.jupyter.widget-view+json": {
       "model_id": "6c89399fb8d24cfe92055dc7a9e51a70",
       "version_major": 2,
       "version_minor": 0
      },
      "text/plain": [
       "  0%|          | 0/1 [00:00<?, ?it/s]"
      ]
     },
     "metadata": {},
     "output_type": "display_data"
    },
    {
     "data": {
      "application/vnd.jupyter.widget-view+json": {
       "model_id": "a5e256339ebc400987a8cc478ff4aae8",
       "version_major": 2,
       "version_minor": 0
      },
      "text/plain": [
       "  0%|          | 0/1 [00:00<?, ?it/s]"
      ]
     },
     "metadata": {},
     "output_type": "display_data"
    },
    {
     "name": "stdout",
     "output_type": "stream",
     "text": [
      "Computing compound_A549_short-crispr_A549_short matching\n"
     ]
    },
    {
     "data": {
      "application/vnd.jupyter.widget-view+json": {
       "model_id": "3304d266ae394a908a2a7330a9824d37",
       "version_major": 2,
       "version_minor": 0
      },
      "text/plain": [
       "  0%|          | 0/1 [00:00<?, ?it/s]"
      ]
     },
     "metadata": {},
     "output_type": "display_data"
    },
    {
     "data": {
      "application/vnd.jupyter.widget-view+json": {
       "model_id": "34292ebe14334681b393bbaa4922f546",
       "version_major": 2,
       "version_minor": 0
      },
      "text/plain": [
       "  0%|          | 0/1 [00:00<?, ?it/s]"
      ]
     },
     "metadata": {},
     "output_type": "display_data"
    },
    {
     "name": "stdout",
     "output_type": "stream",
     "text": [
      "Computing orf_A549_long replicability\n"
     ]
    },
    {
     "data": {
      "application/vnd.jupyter.widget-view+json": {
       "model_id": "d3fac8dc392747a19d013f025f372afa",
       "version_major": 2,
       "version_minor": 0
      },
      "text/plain": [
       "  0%|          | 0/1 [00:00<?, ?it/s]"
      ]
     },
     "metadata": {},
     "output_type": "display_data"
    },
    {
     "data": {
      "application/vnd.jupyter.widget-view+json": {
       "model_id": "d04a45f60b18471aa6c55cc90fdf236f",
       "version_major": 2,
       "version_minor": 0
      },
      "text/plain": [
       "  0%|          | 0/1 [00:00<?, ?it/s]"
      ]
     },
     "metadata": {},
     "output_type": "display_data"
    },
    {
     "name": "stdout",
     "output_type": "stream",
     "text": [
      "Computing compound_A549_short-orf_A549_long matching\n"
     ]
    },
    {
     "data": {
      "application/vnd.jupyter.widget-view+json": {
       "model_id": "ae079566312d4ffd820cd26ef193aaff",
       "version_major": 2,
       "version_minor": 0
      },
      "text/plain": [
       "  0%|          | 0/1 [00:00<?, ?it/s]"
      ]
     },
     "metadata": {},
     "output_type": "display_data"
    },
    {
     "data": {
      "application/vnd.jupyter.widget-view+json": {
       "model_id": "856db473ac3b44e1874928b83e168a86",
       "version_major": 2,
       "version_minor": 0
      },
      "text/plain": [
       "  0%|          | 0/1 [00:00<?, ?it/s]"
      ]
     },
     "metadata": {},
     "output_type": "display_data"
    },
    {
     "name": "stdout",
     "output_type": "stream",
     "text": [
      "Computing orf_A549_short replicability\n"
     ]
    },
    {
     "data": {
      "application/vnd.jupyter.widget-view+json": {
       "model_id": "4dce4b8a8561471b92e94d16446e1942",
       "version_major": 2,
       "version_minor": 0
      },
      "text/plain": [
       "  0%|          | 0/1 [00:00<?, ?it/s]"
      ]
     },
     "metadata": {},
     "output_type": "display_data"
    },
    {
     "data": {
      "application/vnd.jupyter.widget-view+json": {
       "model_id": "9685456a01f34f548f6bc56471fee46f",
       "version_major": 2,
       "version_minor": 0
      },
      "text/plain": [
       "  0%|          | 0/1 [00:00<?, ?it/s]"
      ]
     },
     "metadata": {},
     "output_type": "display_data"
    },
    {
     "name": "stdout",
     "output_type": "stream",
     "text": [
      "Computing compound_A549_short-orf_A549_short matching\n"
     ]
    },
    {
     "data": {
      "application/vnd.jupyter.widget-view+json": {
       "model_id": "46d0a4acb2e94af8b476cc3193edf22a",
       "version_major": 2,
       "version_minor": 0
      },
      "text/plain": [
       "  0%|          | 0/1 [00:00<?, ?it/s]"
      ]
     },
     "metadata": {},
     "output_type": "display_data"
    },
    {
     "data": {
      "application/vnd.jupyter.widget-view+json": {
       "model_id": "2683f523245a40c3a45c43e4b8fc3dbc",
       "version_major": 2,
       "version_minor": 0
      },
      "text/plain": [
       "  0%|          | 0/1 [00:00<?, ?it/s]"
      ]
     },
     "metadata": {},
     "output_type": "display_data"
    },
    {
     "name": "stdout",
     "output_type": "stream",
     "text": [
      "Computing compound_A549_long replicability\n"
     ]
    },
    {
     "data": {
      "application/vnd.jupyter.widget-view+json": {
       "model_id": "179a590747f2417881ecd4200f6b7d2b",
       "version_major": 2,
       "version_minor": 0
      },
      "text/plain": [
       "  0%|          | 0/1 [00:00<?, ?it/s]"
      ]
     },
     "metadata": {},
     "output_type": "display_data"
    },
    {
     "data": {
      "application/vnd.jupyter.widget-view+json": {
       "model_id": "bf61c08a414c4afab6ccaffff586d020",
       "version_major": 2,
       "version_minor": 0
      },
      "text/plain": [
       "  0%|          | 0/1 [00:00<?, ?it/s]"
      ]
     },
     "metadata": {},
     "output_type": "display_data"
    },
    {
     "name": "stdout",
     "output_type": "stream",
     "text": [
      "Computing compound_A549_long matching\n"
     ]
    },
    {
     "data": {
      "application/vnd.jupyter.widget-view+json": {
       "model_id": "b8b44fbb68bc4dc385a92b3e292cf054",
       "version_major": 2,
       "version_minor": 0
      },
      "text/plain": [
       "  0%|          | 0/1 [00:00<?, ?it/s]"
      ]
     },
     "metadata": {},
     "output_type": "display_data"
    },
    {
     "data": {
      "application/vnd.jupyter.widget-view+json": {
       "model_id": "849404ecb22941609ec0a5026756d6cf",
       "version_major": 2,
       "version_minor": 0
      },
      "text/plain": [
       "  0%|          | 0/1 [00:00<?, ?it/s]"
      ]
     },
     "metadata": {},
     "output_type": "display_data"
    },
    {
     "name": "stdout",
     "output_type": "stream",
     "text": [
      "Computing compound_A549_long-crispr_A549_long matching\n"
     ]
    },
    {
     "data": {
      "application/vnd.jupyter.widget-view+json": {
       "model_id": "a786eed34f6741c0943b3a877a1d031c",
       "version_major": 2,
       "version_minor": 0
      },
      "text/plain": [
       "  0%|          | 0/1 [00:00<?, ?it/s]"
      ]
     },
     "metadata": {},
     "output_type": "display_data"
    },
    {
     "data": {
      "application/vnd.jupyter.widget-view+json": {
       "model_id": "6d00684b7a5243ad9280f71432e7ab5a",
       "version_major": 2,
       "version_minor": 0
      },
      "text/plain": [
       "  0%|          | 0/1 [00:00<?, ?it/s]"
      ]
     },
     "metadata": {},
     "output_type": "display_data"
    },
    {
     "name": "stdout",
     "output_type": "stream",
     "text": [
      "Computing compound_A549_long-crispr_A549_short matching\n"
     ]
    },
    {
     "data": {
      "application/vnd.jupyter.widget-view+json": {
       "model_id": "a8b4be4f276f4eec96f89e118315db37",
       "version_major": 2,
       "version_minor": 0
      },
      "text/plain": [
       "  0%|          | 0/1 [00:00<?, ?it/s]"
      ]
     },
     "metadata": {},
     "output_type": "display_data"
    },
    {
     "data": {
      "application/vnd.jupyter.widget-view+json": {
       "model_id": "f9e7dfea98b84e13a57a298a73367db8",
       "version_major": 2,
       "version_minor": 0
      },
      "text/plain": [
       "  0%|          | 0/1 [00:00<?, ?it/s]"
      ]
     },
     "metadata": {},
     "output_type": "display_data"
    },
    {
     "name": "stdout",
     "output_type": "stream",
     "text": [
      "Computing compound_A549_long-orf_A549_long matching\n"
     ]
    },
    {
     "data": {
      "application/vnd.jupyter.widget-view+json": {
       "model_id": "3444d96cbcc2419e9ca487a9547f2b6c",
       "version_major": 2,
       "version_minor": 0
      },
      "text/plain": [
       "  0%|          | 0/1 [00:00<?, ?it/s]"
      ]
     },
     "metadata": {},
     "output_type": "display_data"
    },
    {
     "data": {
      "application/vnd.jupyter.widget-view+json": {
       "model_id": "7fa1b49fe91546679a8a8cbedd01b197",
       "version_major": 2,
       "version_minor": 0
      },
      "text/plain": [
       "  0%|          | 0/1 [00:00<?, ?it/s]"
      ]
     },
     "metadata": {},
     "output_type": "display_data"
    },
    {
     "name": "stdout",
     "output_type": "stream",
     "text": [
      "Computing compound_A549_long-orf_A549_short matching\n"
     ]
    },
    {
     "data": {
      "application/vnd.jupyter.widget-view+json": {
       "model_id": "d473f4ff7a8d40a3b5f082b2b80c6713",
       "version_major": 2,
       "version_minor": 0
      },
      "text/plain": [
       "  0%|          | 0/1 [00:00<?, ?it/s]"
      ]
     },
     "metadata": {},
     "output_type": "display_data"
    },
    {
     "data": {
      "application/vnd.jupyter.widget-view+json": {
       "model_id": "111bb8225f214dbea115ffa3ea6c50ed",
       "version_major": 2,
       "version_minor": 0
      },
      "text/plain": [
       "  0%|          | 0/1 [00:00<?, ?it/s]"
      ]
     },
     "metadata": {},
     "output_type": "display_data"
    },
    {
     "name": "stdout",
     "output_type": "stream",
     "text": [
      "Computing compound_U2OS_short replicability\n"
     ]
    },
    {
     "data": {
      "application/vnd.jupyter.widget-view+json": {
       "model_id": "8347d9ac83b84477a80e46641fe3f685",
       "version_major": 2,
       "version_minor": 0
      },
      "text/plain": [
       "  0%|          | 0/1 [00:00<?, ?it/s]"
      ]
     },
     "metadata": {},
     "output_type": "display_data"
    },
    {
     "data": {
      "application/vnd.jupyter.widget-view+json": {
       "model_id": "4b80c63fed884ce697b8c0e8bad12ead",
       "version_major": 2,
       "version_minor": 0
      },
      "text/plain": [
       "  0%|          | 0/1 [00:00<?, ?it/s]"
      ]
     },
     "metadata": {},
     "output_type": "display_data"
    },
    {
     "name": "stdout",
     "output_type": "stream",
     "text": [
      "Computing compound_U2OS_short matching\n"
     ]
    },
    {
     "data": {
      "application/vnd.jupyter.widget-view+json": {
       "model_id": "213077d4a1ce44a684fe6251841d6b67",
       "version_major": 2,
       "version_minor": 0
      },
      "text/plain": [
       "  0%|          | 0/1 [00:00<?, ?it/s]"
      ]
     },
     "metadata": {},
     "output_type": "display_data"
    },
    {
     "data": {
      "application/vnd.jupyter.widget-view+json": {
       "model_id": "53a3458ce0474e5bb9465a4d29707f34",
       "version_major": 2,
       "version_minor": 0
      },
      "text/plain": [
       "  0%|          | 0/1 [00:00<?, ?it/s]"
      ]
     },
     "metadata": {},
     "output_type": "display_data"
    },
    {
     "name": "stdout",
     "output_type": "stream",
     "text": [
      "Computing crispr_U2OS_long replicability\n"
     ]
    },
    {
     "data": {
      "application/vnd.jupyter.widget-view+json": {
       "model_id": "16e34f284a474513a5611d4736dbfd50",
       "version_major": 2,
       "version_minor": 0
      },
      "text/plain": [
       "  0%|          | 0/1 [00:00<?, ?it/s]"
      ]
     },
     "metadata": {},
     "output_type": "display_data"
    },
    {
     "data": {
      "application/vnd.jupyter.widget-view+json": {
       "model_id": "850d26eedea04f6696c206b01252fcb6",
       "version_major": 2,
       "version_minor": 0
      },
      "text/plain": [
       "  0%|          | 0/1 [00:00<?, ?it/s]"
      ]
     },
     "metadata": {},
     "output_type": "display_data"
    },
    {
     "name": "stdout",
     "output_type": "stream",
     "text": [
      "Computing crispr_U2OS_long matching\n"
     ]
    },
    {
     "data": {
      "application/vnd.jupyter.widget-view+json": {
       "model_id": "de5a46929e864b2f884875f2da278581",
       "version_major": 2,
       "version_minor": 0
      },
      "text/plain": [
       "  0%|          | 0/1 [00:00<?, ?it/s]"
      ]
     },
     "metadata": {},
     "output_type": "display_data"
    },
    {
     "data": {
      "application/vnd.jupyter.widget-view+json": {
       "model_id": "21398ac7e0054d9ca335a675eb51f5a7",
       "version_major": 2,
       "version_minor": 0
      },
      "text/plain": [
       "  0%|          | 0/1 [00:00<?, ?it/s]"
      ]
     },
     "metadata": {},
     "output_type": "display_data"
    },
    {
     "name": "stdout",
     "output_type": "stream",
     "text": [
      "Computing compound_U2OS_short-crispr_U2OS_long matching\n"
     ]
    },
    {
     "data": {
      "application/vnd.jupyter.widget-view+json": {
       "model_id": "2a294f07ccba45a4be6f6639ca0e1111",
       "version_major": 2,
       "version_minor": 0
      },
      "text/plain": [
       "  0%|          | 0/1 [00:00<?, ?it/s]"
      ]
     },
     "metadata": {},
     "output_type": "display_data"
    },
    {
     "data": {
      "application/vnd.jupyter.widget-view+json": {
       "model_id": "9a460d80f70d49f3864425e0ac36054a",
       "version_major": 2,
       "version_minor": 0
      },
      "text/plain": [
       "  0%|          | 0/1 [00:00<?, ?it/s]"
      ]
     },
     "metadata": {},
     "output_type": "display_data"
    },
    {
     "name": "stdout",
     "output_type": "stream",
     "text": [
      "Computing crispr_U2OS_short replicability\n"
     ]
    },
    {
     "data": {
      "application/vnd.jupyter.widget-view+json": {
       "model_id": "86f3843876e343bd9f5d13ace82ac685",
       "version_major": 2,
       "version_minor": 0
      },
      "text/plain": [
       "  0%|          | 0/1 [00:00<?, ?it/s]"
      ]
     },
     "metadata": {},
     "output_type": "display_data"
    },
    {
     "data": {
      "application/vnd.jupyter.widget-view+json": {
       "model_id": "5bd532865ba84b8894b9d8ea2675b4e1",
       "version_major": 2,
       "version_minor": 0
      },
      "text/plain": [
       "  0%|          | 0/1 [00:00<?, ?it/s]"
      ]
     },
     "metadata": {},
     "output_type": "display_data"
    },
    {
     "name": "stdout",
     "output_type": "stream",
     "text": [
      "Computing crispr_U2OS_short matching\n"
     ]
    },
    {
     "data": {
      "application/vnd.jupyter.widget-view+json": {
       "model_id": "e9b5a9283e4e4cd6874b640a29bf5b5b",
       "version_major": 2,
       "version_minor": 0
      },
      "text/plain": [
       "  0%|          | 0/1 [00:00<?, ?it/s]"
      ]
     },
     "metadata": {},
     "output_type": "display_data"
    },
    {
     "data": {
      "application/vnd.jupyter.widget-view+json": {
       "model_id": "33912502a3b34cf4b36f4d6d913840b8",
       "version_major": 2,
       "version_minor": 0
      },
      "text/plain": [
       "  0%|          | 0/1 [00:00<?, ?it/s]"
      ]
     },
     "metadata": {},
     "output_type": "display_data"
    },
    {
     "name": "stdout",
     "output_type": "stream",
     "text": [
      "Computing compound_U2OS_short-crispr_U2OS_short matching\n"
     ]
    },
    {
     "data": {
      "application/vnd.jupyter.widget-view+json": {
       "model_id": "479428bac3504b47940aa69b662831be",
       "version_major": 2,
       "version_minor": 0
      },
      "text/plain": [
       "  0%|          | 0/1 [00:00<?, ?it/s]"
      ]
     },
     "metadata": {},
     "output_type": "display_data"
    },
    {
     "data": {
      "application/vnd.jupyter.widget-view+json": {
       "model_id": "90c1322fc10f40a6aedb98b4bce00c1f",
       "version_major": 2,
       "version_minor": 0
      },
      "text/plain": [
       "  0%|          | 0/1 [00:00<?, ?it/s]"
      ]
     },
     "metadata": {},
     "output_type": "display_data"
    },
    {
     "name": "stdout",
     "output_type": "stream",
     "text": [
      "Computing orf_U2OS_short replicability\n"
     ]
    },
    {
     "data": {
      "application/vnd.jupyter.widget-view+json": {
       "model_id": "4084542cc1ea419f896cd1c340f9c598",
       "version_major": 2,
       "version_minor": 0
      },
      "text/plain": [
       "  0%|          | 0/1 [00:00<?, ?it/s]"
      ]
     },
     "metadata": {},
     "output_type": "display_data"
    },
    {
     "data": {
      "application/vnd.jupyter.widget-view+json": {
       "model_id": "01635191f30e4df98171540c30afc1ad",
       "version_major": 2,
       "version_minor": 0
      },
      "text/plain": [
       "  0%|          | 0/1 [00:00<?, ?it/s]"
      ]
     },
     "metadata": {},
     "output_type": "display_data"
    },
    {
     "name": "stdout",
     "output_type": "stream",
     "text": [
      "Computing compound_U2OS_short-orf_U2OS_short matching\n"
     ]
    },
    {
     "data": {
      "application/vnd.jupyter.widget-view+json": {
       "model_id": "2c3d90761b36438db3f1fab1ffd59936",
       "version_major": 2,
       "version_minor": 0
      },
      "text/plain": [
       "  0%|          | 0/1 [00:00<?, ?it/s]"
      ]
     },
     "metadata": {},
     "output_type": "display_data"
    },
    {
     "data": {
      "application/vnd.jupyter.widget-view+json": {
       "model_id": "c2e55c8f52a04e15b4b43d00e6f58636",
       "version_major": 2,
       "version_minor": 0
      },
      "text/plain": [
       "  0%|          | 0/1 [00:00<?, ?it/s]"
      ]
     },
     "metadata": {},
     "output_type": "display_data"
    },
    {
     "name": "stdout",
     "output_type": "stream",
     "text": [
      "Computing orf_U2OS_long replicability\n"
     ]
    },
    {
     "data": {
      "application/vnd.jupyter.widget-view+json": {
       "model_id": "74c16e47963649da91ca98682c17c823",
       "version_major": 2,
       "version_minor": 0
      },
      "text/plain": [
       "  0%|          | 0/1 [00:00<?, ?it/s]"
      ]
     },
     "metadata": {},
     "output_type": "display_data"
    },
    {
     "data": {
      "application/vnd.jupyter.widget-view+json": {
       "model_id": "65ea4f09f11d4659b647f7da30980f61",
       "version_major": 2,
       "version_minor": 0
      },
      "text/plain": [
       "  0%|          | 0/1 [00:00<?, ?it/s]"
      ]
     },
     "metadata": {},
     "output_type": "display_data"
    },
    {
     "name": "stdout",
     "output_type": "stream",
     "text": [
      "Computing compound_U2OS_short-orf_U2OS_long matching\n"
     ]
    },
    {
     "data": {
      "application/vnd.jupyter.widget-view+json": {
       "model_id": "58c0a7b814c34d97a68be84e0f50853d",
       "version_major": 2,
       "version_minor": 0
      },
      "text/plain": [
       "  0%|          | 0/1 [00:00<?, ?it/s]"
      ]
     },
     "metadata": {},
     "output_type": "display_data"
    },
    {
     "data": {
      "application/vnd.jupyter.widget-view+json": {
       "model_id": "c772fabd3c9c4d71a2b9527a21102961",
       "version_major": 2,
       "version_minor": 0
      },
      "text/plain": [
       "  0%|          | 0/1 [00:00<?, ?it/s]"
      ]
     },
     "metadata": {},
     "output_type": "display_data"
    },
    {
     "name": "stdout",
     "output_type": "stream",
     "text": [
      "Computing compound_U2OS_long replicability\n"
     ]
    },
    {
     "data": {
      "application/vnd.jupyter.widget-view+json": {
       "model_id": "9914b692ec66426fb47ae5d976958f93",
       "version_major": 2,
       "version_minor": 0
      },
      "text/plain": [
       "  0%|          | 0/1 [00:00<?, ?it/s]"
      ]
     },
     "metadata": {},
     "output_type": "display_data"
    },
    {
     "data": {
      "application/vnd.jupyter.widget-view+json": {
       "model_id": "8642fa0791d64153b84c9f1928707cf0",
       "version_major": 2,
       "version_minor": 0
      },
      "text/plain": [
       "  0%|          | 0/1 [00:00<?, ?it/s]"
      ]
     },
     "metadata": {},
     "output_type": "display_data"
    },
    {
     "name": "stdout",
     "output_type": "stream",
     "text": [
      "Computing compound_U2OS_long matching\n"
     ]
    },
    {
     "data": {
      "application/vnd.jupyter.widget-view+json": {
       "model_id": "d6f5deb85a454dec8cf86dedc6421da7",
       "version_major": 2,
       "version_minor": 0
      },
      "text/plain": [
       "  0%|          | 0/1 [00:00<?, ?it/s]"
      ]
     },
     "metadata": {},
     "output_type": "display_data"
    },
    {
     "data": {
      "application/vnd.jupyter.widget-view+json": {
       "model_id": "8cc4e05f096247168b6b3d453290dc7b",
       "version_major": 2,
       "version_minor": 0
      },
      "text/plain": [
       "  0%|          | 0/1 [00:00<?, ?it/s]"
      ]
     },
     "metadata": {},
     "output_type": "display_data"
    },
    {
     "name": "stdout",
     "output_type": "stream",
     "text": [
      "Computing compound_U2OS_long-crispr_U2OS_long matching\n"
     ]
    },
    {
     "data": {
      "application/vnd.jupyter.widget-view+json": {
       "model_id": "fa3e963cfc3741c5a8346168a847ba64",
       "version_major": 2,
       "version_minor": 0
      },
      "text/plain": [
       "  0%|          | 0/1 [00:00<?, ?it/s]"
      ]
     },
     "metadata": {},
     "output_type": "display_data"
    },
    {
     "data": {
      "application/vnd.jupyter.widget-view+json": {
       "model_id": "356dae6e1ac74c23932dbed305fab5c4",
       "version_major": 2,
       "version_minor": 0
      },
      "text/plain": [
       "  0%|          | 0/1 [00:00<?, ?it/s]"
      ]
     },
     "metadata": {},
     "output_type": "display_data"
    },
    {
     "name": "stdout",
     "output_type": "stream",
     "text": [
      "Computing compound_U2OS_long-crispr_U2OS_short matching\n"
     ]
    },
    {
     "data": {
      "application/vnd.jupyter.widget-view+json": {
       "model_id": "2e1a90eb89ec4b58a4fbb8fe0d129300",
       "version_major": 2,
       "version_minor": 0
      },
      "text/plain": [
       "  0%|          | 0/1 [00:00<?, ?it/s]"
      ]
     },
     "metadata": {},
     "output_type": "display_data"
    },
    {
     "data": {
      "application/vnd.jupyter.widget-view+json": {
       "model_id": "bd52df11b06c48c9b675bc7ea95e7fec",
       "version_major": 2,
       "version_minor": 0
      },
      "text/plain": [
       "  0%|          | 0/1 [00:00<?, ?it/s]"
      ]
     },
     "metadata": {},
     "output_type": "display_data"
    },
    {
     "name": "stdout",
     "output_type": "stream",
     "text": [
      "Computing compound_U2OS_long-orf_U2OS_short matching\n"
     ]
    },
    {
     "data": {
      "application/vnd.jupyter.widget-view+json": {
       "model_id": "3adec1d143174f4db5596b0db086c1d3",
       "version_major": 2,
       "version_minor": 0
      },
      "text/plain": [
       "  0%|          | 0/1 [00:00<?, ?it/s]"
      ]
     },
     "metadata": {},
     "output_type": "display_data"
    },
    {
     "data": {
      "application/vnd.jupyter.widget-view+json": {
       "model_id": "e771959169fa4fb2b4e4bf4e0c7b26bf",
       "version_major": 2,
       "version_minor": 0
      },
      "text/plain": [
       "  0%|          | 0/1 [00:00<?, ?it/s]"
      ]
     },
     "metadata": {},
     "output_type": "display_data"
    },
    {
     "name": "stdout",
     "output_type": "stream",
     "text": [
      "Computing compound_U2OS_long-orf_U2OS_long matching\n"
     ]
    },
    {
     "data": {
      "application/vnd.jupyter.widget-view+json": {
       "model_id": "6c00cf7feff04b6cb718e57a1027baa9",
       "version_major": 2,
       "version_minor": 0
      },
      "text/plain": [
       "  0%|          | 0/1 [00:00<?, ?it/s]"
      ]
     },
     "metadata": {},
     "output_type": "display_data"
    },
    {
     "data": {
      "application/vnd.jupyter.widget-view+json": {
       "model_id": "738716f697144dc8b4c0f893b279bac4",
       "version_major": 2,
       "version_minor": 0
      },
      "text/plain": [
       "  0%|          | 0/1 [00:00<?, ?it/s]"
      ]
     },
     "metadata": {},
     "output_type": "display_data"
    }
   ],
   "source": [
    "for cell in experiment_df.Cell_type.unique():\n",
    "    cell_df = experiment_df.query(\"Cell_type==@cell\")\n",
    "    modality_1_perturbation = \"compound\"\n",
    "    modality_1_experiments_df = cell_df.query(\"Perturbation==@modality_1_perturbation\")\n",
    "    for modality_1_timepoint in modality_1_experiments_df.Time.unique():\n",
    "        modality_1_timepoint_df = modality_1_experiments_df.query(\n",
    "            \"Time==@modality_1_timepoint\"\n",
    "        )\n",
    "        modality_1_df = pd.DataFrame()\n",
    "        for plate in modality_1_timepoint_df.Assay_Plate_Barcode.unique():\n",
    "            # Read all the plates\n",
    "            data_df = utils.load_data(\n",
    "                batch, plate, \"normalized_feature_select_negcon_batch.csv.gz\"\n",
    "            ).assign(Metadata_modality=modality_1_perturbation)\n",
    "            modality_1_df = utils.concat_profiles(modality_1_df, data_df)\n",
    "\n",
    "        # Set Metadata_broad_sample value to \"DMSO\" for DMSO wells\n",
    "        modality_1_df[replicate_feature].fillna(\"DMSO\", inplace=True)\n",
    "\n",
    "        # Remove empty wells\n",
    "        modality_1_df = utils.remove_empty_wells(modality_1_df)\n",
    "\n",
    "        # Description\n",
    "        description = f\"{modality_1_perturbation}_{cell}_{utils.time_point(modality_1_perturbation, modality_1_timepoint)}\"\n",
    "\n",
    "        # Calculate replicability mAP\n",
    "        print(f\"Computing {description} replicability\")\n",
    "\n",
    "        modality_1_df[\"Metadata_negcon\"] = np.where(\n",
    "            modality_1_df[\"Metadata_control_type\"] == \"negcon\", 1, 0\n",
    "        )  # Create dummy column\n",
    "\n",
    "        pos_sameby = [\"Metadata_broad_sample\"]\n",
    "        pos_diffby = []\n",
    "        neg_sameby = [\"Metadata_Plate\"]\n",
    "        neg_diffby = [\"Metadata_negcon\"]\n",
    "\n",
    "        metadata_df = utils.get_metadata(modality_1_df)\n",
    "        feature_df = utils.get_featuredata(modality_1_df)\n",
    "        feature_values = feature_df.values\n",
    "\n",
    "        result = utils.run_pipeline(\n",
    "            metadata_df,\n",
    "            feature_values,\n",
    "            pos_sameby,\n",
    "            pos_diffby,\n",
    "            neg_sameby,\n",
    "            neg_diffby,\n",
    "            anti_match=False,\n",
    "            batch_size=batch_size,\n",
    "            null_size=null_size,\n",
    "        )\n",
    "\n",
    "        result = result.query(\"Metadata_negcon==0\").reset_index(drop=True)\n",
    "\n",
    "        replicability_map_df, replicability_fr_df = utils.create_replicability_df(\n",
    "            replicability_map_df,\n",
    "            replicability_fr_df,\n",
    "            result,\n",
    "            pos_sameby,\n",
    "            0.05,\n",
    "            modality_1_perturbation,\n",
    "            cell,\n",
    "            modality_1_timepoint,\n",
    "        )\n",
    "\n",
    "        # Remove DMSO wells\n",
    "        modality_1_df = utils.remove_negcon_and_empty_wells(modality_1_df)\n",
    "\n",
    "        # Create consensus profiles\n",
    "        modality_1_consensus_df = utils.consensus(modality_1_df, replicate_feature)\n",
    "\n",
    "        # Filter out non-replicable compounds\n",
    "        replicable_compounds = list(\n",
    "            replicability_map_df[\n",
    "                (replicability_map_df.Description == description)\n",
    "                & (replicability_map_df.above_q_threshold == True)\n",
    "            ][replicate_feature]\n",
    "        )\n",
    "        modality_1_consensus_df = modality_1_consensus_df.query(\n",
    "            \"Metadata_broad_sample==@replicable_compounds\"\n",
    "        ).reset_index(drop=True)\n",
    "\n",
    "        # Adding additional gene annotation metadata\n",
    "        modality_1_consensus_df = (\n",
    "            modality_1_consensus_df.merge(\n",
    "                target1_metadata, on=\"Metadata_broad_sample\", how=\"left\"\n",
    "            )\n",
    "            .assign(\n",
    "                Metadata_matching_target=lambda x: x.Metadata_target_list.str.split(\"|\")\n",
    "            )\n",
    "            .drop([\"Metadata_target_list\"], axis=1)\n",
    "        )\n",
    "\n",
    "        # Calculate compound-compound matching\n",
    "        print(f\"Computing {description} matching\")\n",
    "\n",
    "        pos_sameby = [\"Metadata_matching_target\"]\n",
    "        pos_diffby = []\n",
    "        neg_sameby = []\n",
    "        neg_diffby = [\"Metadata_matching_target\"]\n",
    "\n",
    "        metadata_df = utils.get_metadata(modality_1_consensus_df)\n",
    "        feature_df = utils.get_featuredata(modality_1_consensus_df)\n",
    "        feature_values = feature_df.values\n",
    "\n",
    "        result = utils.run_pipeline(\n",
    "            metadata_df,\n",
    "            feature_values,\n",
    "            pos_sameby,\n",
    "            pos_diffby,\n",
    "            neg_sameby,\n",
    "            neg_diffby,\n",
    "            anti_match=True,\n",
    "            batch_size=batch_size,\n",
    "            null_size=null_size,\n",
    "            multilabel_col=\"Metadata_matching_target\",\n",
    "        )\n",
    "\n",
    "        matching_map_df, matching_fr_df = utils.create_matching_df(\n",
    "            matching_map_df,\n",
    "            matching_fr_df,\n",
    "            result,\n",
    "            pos_sameby,\n",
    "            0.05,\n",
    "            modality_1_perturbation,\n",
    "            cell,\n",
    "            modality_1_timepoint,\n",
    "        )\n",
    "\n",
    "        all_modality_2_experiments_df = cell_df.query(\n",
    "            \"Perturbation!=@modality_1_perturbation\"\n",
    "        )\n",
    "        for (\n",
    "            modality_2_perturbation\n",
    "        ) in all_modality_2_experiments_df.Perturbation.unique():\n",
    "            modality_2_experiments_df = all_modality_2_experiments_df.query(\n",
    "                \"Perturbation==@modality_2_perturbation\"\n",
    "            )\n",
    "            for modality_2_timepoint in modality_2_experiments_df.Time.unique():\n",
    "                modality_2_timepoint_df = modality_2_experiments_df.query(\n",
    "                    \"Time==@modality_2_timepoint\"\n",
    "                )\n",
    "\n",
    "                modality_2_df = pd.DataFrame()\n",
    "                for plate in modality_2_timepoint_df.Assay_Plate_Barcode.unique():\n",
    "                    data_df = (\n",
    "                        utils.load_data(\n",
    "                            batch,\n",
    "                            plate,\n",
    "                            \"normalized_feature_select_negcon_batch.csv.gz\",\n",
    "                        )\n",
    "                        .assign(Metadata_modality=modality_2_perturbation)\n",
    "                        .assign(Metadata_matching_target=lambda x: x.Metadata_gene)\n",
    "                    )\n",
    "                    modality_2_df = utils.concat_profiles(modality_2_df, data_df)\n",
    "\n",
    "                # Remove empty wells\n",
    "                modality_2_df = utils.remove_empty_wells(modality_2_df)\n",
    "\n",
    "                # Description\n",
    "                description = f\"{modality_2_perturbation}_{cell}_{utils.time_point(modality_2_perturbation, modality_2_timepoint)}\"\n",
    "\n",
    "                # Calculate replicability mAP\n",
    "\n",
    "                if not replicability_map_df.Description.str.contains(description).any():\n",
    "                    print(f\"Computing {description} replicability\")\n",
    "\n",
    "                    modality_2_df[\"Metadata_negcon\"] = np.where(\n",
    "                        modality_2_df[\"Metadata_control_type\"] == \"negcon\", 1, 0\n",
    "                    )  # Create dummy column\n",
    "\n",
    "                    pos_sameby = [\"Metadata_broad_sample\"]\n",
    "                    pos_diffby = []\n",
    "                    neg_sameby = [\"Metadata_Plate\"]\n",
    "                    neg_diffby = [\"Metadata_negcon\"]\n",
    "\n",
    "                    metadata_df = utils.get_metadata(modality_2_df)\n",
    "                    feature_df = utils.get_featuredata(modality_2_df)\n",
    "                    feature_values = feature_df.values\n",
    "\n",
    "                    result = utils.run_pipeline(\n",
    "                        metadata_df,\n",
    "                        feature_values,\n",
    "                        pos_sameby,\n",
    "                        pos_diffby,\n",
    "                        neg_sameby,\n",
    "                        neg_diffby,\n",
    "                        anti_match=False,\n",
    "                        batch_size=batch_size,\n",
    "                        null_size=null_size,\n",
    "                    )\n",
    "\n",
    "                    result = result.query(\"Metadata_negcon==0\").reset_index(drop=True)\n",
    "\n",
    "                    (\n",
    "                        replicability_map_df,\n",
    "                        replicability_fr_df,\n",
    "                    ) = utils.create_replicability_df(\n",
    "                        replicability_map_df,\n",
    "                        replicability_fr_df,\n",
    "                        result,\n",
    "                        pos_sameby,\n",
    "                        0.05,\n",
    "                        modality_2_perturbation,\n",
    "                        cell,\n",
    "                        modality_2_timepoint,\n",
    "                    )\n",
    "\n",
    "                # Remove negcon wells\n",
    "                modality_2_df = utils.remove_negcon_and_empty_wells(modality_2_df)\n",
    "\n",
    "                # Create consensus profiles\n",
    "                modality_2_consensus_df = utils.consensus(\n",
    "                    modality_2_df, \"Metadata_broad_sample\"\n",
    "                )\n",
    "\n",
    "                # Filter out non-replicable genes\n",
    "                replicable_genes = list(\n",
    "                    replicability_map_df[\n",
    "                        (\n",
    "                            replicability_map_df.Description\n",
    "                            == f\"{modality_2_perturbation}_{cell}_{utils.time_point(modality_2_perturbation, modality_2_timepoint)}\"\n",
    "                        )\n",
    "                        & (replicability_map_df.above_q_threshold == True)\n",
    "                    ][replicate_feature]\n",
    "                )\n",
    "                modality_2_consensus_df = modality_2_consensus_df.query(\n",
    "                    \"Metadata_broad_sample==@replicable_genes\"\n",
    "                ).reset_index(drop=True)\n",
    "\n",
    "                # Filter out reagents without a sister guide\n",
    "\n",
    "                genes_without_sister = (\n",
    "                    modality_2_consensus_df.Metadata_gene.value_counts()\n",
    "                    .reset_index()\n",
    "                    .query(\"Metadata_gene==1\")[\"index\"]\n",
    "                    .to_list()\n",
    "                )\n",
    "\n",
    "                modality_2_consensus_for_matching_df = (\n",
    "                    modality_2_consensus_df.query(\n",
    "                        \"Metadata_gene!=@genes_without_sister\"\n",
    "                    ).reset_index(drop=True)\n",
    "                )\n",
    "\n",
    "                # Calculate cripsr-crispr matching\n",
    "                if modality_2_perturbation == \"crispr\":\n",
    "                    if not matching_map_df.Description.str.contains(description).any():\n",
    "                        print(f\"Computing {description} matching\")\n",
    "\n",
    "                        pos_sameby = [\"Metadata_gene\"]\n",
    "                        pos_diffby = []\n",
    "                        neg_sameby = []\n",
    "                        neg_diffby = [\"Metadata_gene\"]\n",
    "\n",
    "                        metadata_df = utils.get_metadata(modality_2_consensus_for_matching_df)\n",
    "                        feature_df = utils.get_featuredata(modality_2_consensus_for_matching_df)\n",
    "                        feature_values = feature_df.values\n",
    "\n",
    "                        result = utils.run_pipeline(\n",
    "                            metadata_df,\n",
    "                            feature_values,\n",
    "                            pos_sameby,\n",
    "                            pos_diffby,\n",
    "                            neg_sameby,\n",
    "                            neg_diffby,\n",
    "                            anti_match=False,\n",
    "                            batch_size=batch_size,\n",
    "                            null_size=null_size,\n",
    "                        )\n",
    "\n",
    "                        matching_map_df, matching_fr_df = utils.create_matching_df(\n",
    "                            matching_map_df,\n",
    "                            matching_fr_df,\n",
    "                            result,\n",
    "                            pos_sameby,\n",
    "                            0.05,\n",
    "                            modality_2_perturbation,\n",
    "                            cell,\n",
    "                            modality_2_timepoint,\n",
    "                        )\n",
    "\n",
    "                # Filter out genes that are not perturbed by ORFs or CRISPRs\n",
    "                perturbed_genes = list(\n",
    "                    set(modality_2_consensus_df.Metadata_matching_target)\n",
    "                )\n",
    "\n",
    "                modality_1_filtered_genes_df = (\n",
    "                    modality_1_consensus_df[\n",
    "                        [\"Metadata_broad_sample\", \"Metadata_matching_target\"]\n",
    "                    ]\n",
    "                    .copy()\n",
    "                    .explode(\"Metadata_matching_target\")\n",
    "                    .query(\"Metadata_matching_target==@perturbed_genes\")\n",
    "                    .reset_index(drop=True)\n",
    "                    .groupby([\"Metadata_broad_sample\"])\n",
    "                    .Metadata_matching_target.apply(list)\n",
    "                    .reset_index()\n",
    "                )\n",
    "\n",
    "                modality_1_consensus_filtered_df = modality_1_consensus_df.drop(\n",
    "                    columns=[\"Metadata_matching_target\"]\n",
    "                ).merge(\n",
    "                    modality_1_filtered_genes_df,\n",
    "                    on=\"Metadata_broad_sample\",\n",
    "                    how=\"inner\",\n",
    "                )\n",
    "\n",
    "                # Calculate gene-compound matching mAP\n",
    "                description = f\"{modality_1_perturbation}_{cell}_{utils.time_point(modality_1_perturbation, modality_1_timepoint)}-{modality_2_perturbation}_{cell}_{utils.time_point(modality_2_perturbation, modality_2_timepoint)}\"\n",
    "                print(f\"Computing {description} matching\")\n",
    "\n",
    "                modality_1_modality_2_df = utils.concat_profiles(\n",
    "                    modality_1_consensus_filtered_df, modality_2_consensus_df\n",
    "                )\n",
    "\n",
    "                pos_sameby = [\"Metadata_matching_target\"]\n",
    "                pos_diffby = [\"Metadata_modality\"]\n",
    "                neg_sameby = []\n",
    "                neg_diffby = [\"Metadata_matching_target\", \"Metadata_modality\"]\n",
    "\n",
    "                metadata_df = utils.get_metadata(modality_1_modality_2_df)\n",
    "                feature_df = utils.get_featuredata(modality_1_modality_2_df)\n",
    "                feature_values = feature_df.values\n",
    "\n",
    "                result = utils.run_pipeline(\n",
    "                    metadata_df,\n",
    "                    feature_values,\n",
    "                    pos_sameby,\n",
    "                    pos_diffby,\n",
    "                    neg_sameby,\n",
    "                    neg_diffby,\n",
    "                    anti_match=True,\n",
    "                    batch_size=batch_size,\n",
    "                    null_size=null_size,\n",
    "                    multilabel_col=\"Metadata_matching_target\",\n",
    "                )\n",
    "\n",
    "                (\n",
    "                    gene_compound_matching_map_df,\n",
    "                    gene_compound_matching_fr_df,\n",
    "                ) = utils.create_gene_compound_matching_df(\n",
    "                    gene_compound_matching_map_df,\n",
    "                    gene_compound_matching_fr_df,\n",
    "                    result,\n",
    "                    pos_sameby,\n",
    "                    0.05,\n",
    "                    modality_1_perturbation,\n",
    "                    modality_2_perturbation,\n",
    "                    cell,\n",
    "                    modality_1_timepoint,\n",
    "                    modality_2_timepoint,\n",
    "                )"
   ]
  },
  {
   "attachments": {},
   "cell_type": "markdown",
   "metadata": {},
   "source": [
    "Tables of mAP values and the fraction retrieved (fr) are printed and bar plots are plotted."
   ]
  },
  {
   "attachments": {},
   "cell_type": "markdown",
   "metadata": {
    "collapsed": false,
    "pycharm": {
     "name": "#%% md\n"
    }
   },
   "source": [
    "Replicability fraction retrieved."
   ]
  },
  {
   "cell_type": "code",
   "execution_count": 4,
   "metadata": {
    "collapsed": false,
    "pycharm": {
     "name": "#%%\n"
    }
   },
   "outputs": [
    {
     "name": "stdout",
     "output_type": "stream",
     "text": [
      "| Description         |   timepoint |    fr |\n",
      "|:--------------------|------------:|------:|\n",
      "| compound_A549_short |          24 | 0.761 |\n",
      "| crispr_A549_long    |         144 | 0.679 |\n",
      "| crispr_A549_short   |          96 | 0.682 |\n",
      "| orf_A549_long       |          96 | 0.05  |\n",
      "| orf_A549_short      |          48 | 0.05  |\n",
      "| compound_A549_long  |          48 | 0.954 |\n",
      "| compound_U2OS_short |          24 | 0.775 |\n",
      "| crispr_U2OS_long    |         144 | 0.482 |\n",
      "| crispr_U2OS_short   |          96 | 0.669 |\n",
      "| orf_U2OS_short      |          48 | 0.369 |\n",
      "| orf_U2OS_long       |          96 | 0.2   |\n",
      "| compound_U2OS_long  |          48 | 0.663 |\n"
     ]
    }
   ],
   "source": [
    "print(replicability_fr_df[[\"Description\", \"timepoint\", \"fr\"]].to_markdown(index=False))"
   ]
  },
  {
   "attachments": {},
   "cell_type": "markdown",
   "metadata": {
    "collapsed": false,
    "pycharm": {
     "name": "#%% md\n"
    }
   },
   "source": [
    "Within perturbation matching fractive retrieved."
   ]
  },
  {
   "cell_type": "code",
   "execution_count": 5,
   "metadata": {
    "collapsed": false,
    "pycharm": {
     "name": "#%%\n"
    }
   },
   "outputs": [
    {
     "name": "stdout",
     "output_type": "stream",
     "text": [
      "| Description         |   timepoint |    fr |\n",
      "|:--------------------|------------:|------:|\n",
      "| compound_A549_short |          24 | 0.133 |\n",
      "| crispr_A549_long    |         144 | 0.123 |\n",
      "| crispr_A549_short   |          96 | 0.11  |\n",
      "| compound_A549_long  |          48 | 0.169 |\n",
      "| compound_U2OS_short |          24 | 0.043 |\n",
      "| crispr_U2OS_long    |         144 | 0.167 |\n",
      "| crispr_U2OS_short   |          96 | 0.068 |\n",
      "| compound_U2OS_long  |          48 | 0.246 |\n"
     ]
    }
   ],
   "source": [
    "print(matching_fr_df[[\"Description\", \"timepoint\", \"fr\"]].to_markdown(index=False))"
   ]
  },
  {
   "attachments": {},
   "cell_type": "markdown",
   "metadata": {
    "collapsed": false,
    "pycharm": {
     "name": "#%% md\n"
    }
   },
   "source": [
    "Gene-compound matching fraction retrieved."
   ]
  },
  {
   "cell_type": "code",
   "execution_count": 6,
   "metadata": {
    "collapsed": false,
    "pycharm": {
     "name": "#%%\n"
    }
   },
   "outputs": [
    {
     "name": "stdout",
     "output_type": "stream",
     "text": [
      "| Description                           | Cell   |    fr |\n",
      "|:--------------------------------------|:-------|------:|\n",
      "| compound_A549_short-crispr_A549_long  | A549   | 0.008 |\n",
      "| compound_A549_short-crispr_A549_short | A549   | 0.008 |\n",
      "| compound_A549_short-orf_A549_long     | A549   | 0     |\n",
      "| compound_A549_short-orf_A549_short    | A549   | 0     |\n",
      "| compound_A549_long-crispr_A549_long   | A549   | 0.007 |\n",
      "| compound_A549_long-crispr_A549_short  | A549   | 0.007 |\n",
      "| compound_A549_long-orf_A549_long      | A549   | 0     |\n",
      "| compound_A549_long-orf_A549_short     | A549   | 0     |\n",
      "| compound_U2OS_short-crispr_U2OS_long  | U2OS   | 0     |\n",
      "| compound_U2OS_short-crispr_U2OS_short | U2OS   | 0.016 |\n",
      "| compound_U2OS_short-orf_U2OS_short    | U2OS   | 0     |\n",
      "| compound_U2OS_short-orf_U2OS_long     | U2OS   | 0     |\n",
      "| compound_U2OS_long-crispr_U2OS_long   | U2OS   | 0.033 |\n",
      "| compound_U2OS_long-crispr_U2OS_short  | U2OS   | 0.009 |\n",
      "| compound_U2OS_long-orf_U2OS_short     | U2OS   | 0.075 |\n",
      "| compound_U2OS_long-orf_U2OS_long      | U2OS   | 0     |\n"
     ]
    }
   ],
   "source": [
    "print(\n",
    "    gene_compound_matching_fr_df[[\"Description\", \"Cell\", \"fr\"]].to_markdown(index=False)\n",
    ")"
   ]
  },
  {
   "cell_type": "code",
   "execution_count": 7,
   "metadata": {
    "collapsed": false,
    "pycharm": {
     "name": "#%%\n"
    }
   },
   "outputs": [
    {
     "data": {
      "image/png": "[encoded data removed]"
     },
     "metadata": {},
     "output_type": "display_data"
    }
   ],
   "source": [
    "fig = px.bar(\n",
    "    data_frame=replicability_fr_df,\n",
    "    x=\"Modality\",\n",
    "    y=\"fr\",\n",
    "    facet_row=\"Cell\",\n",
    "    facet_col=\"time\",\n",
    ")\n",
    "fig.update_layout(\n",
    "    xaxis1=dict(title=\"Perturbation\"),\n",
    "    xaxis2=dict(title=\"Perturbation\"),\n",
    "    yaxis1=dict(title=\"Fraction Retrieved\"),\n",
    "    yaxis3=dict(title=\"Fraction Retrieved\"),\n",
    ")\n",
    "fig.show(\"png\")\n",
    "fig.write_image(\n",
    "    f\"figures/1.CellProfiler_replicability_fr.png\", width=640, height=480, scale=2\n",
    ")"
   ]
  },
  {
   "cell_type": "code",
   "execution_count": 8,
   "metadata": {
    "collapsed": false,
    "pycharm": {
     "name": "#%%\n"
    }
   },
   "outputs": [
    {
     "data": {
      "image/png": "[encoded data removed]"
     },
     "metadata": {},
     "output_type": "display_data"
    }
   ],
   "source": [
    "fig = px.bar(\n",
    "    data_frame=matching_fr_df,\n",
    "    x=\"Modality\",\n",
    "    y=\"fr\",\n",
    "    facet_row=\"Cell\",\n",
    "    facet_col=\"time\",\n",
    ")\n",
    "fig.update_layout(\n",
    "    xaxis1=dict(title=\"Perturbation\"),\n",
    "    xaxis2=dict(title=\"Perturbation\"),\n",
    "    yaxis1=dict(title=\"Fraction Retrieved\"),\n",
    "    yaxis3=dict(title=\"Fraction Retrieved\"),\n",
    ")\n",
    "fig.show(\"png\")\n",
    "fig.write_image(\n",
    "    f\"figures/1.CellProfiler_matching_fr.png\", width=640, height=480, scale=2\n",
    ")"
   ]
  },
  {
   "cell_type": "code",
   "execution_count": 9,
   "metadata": {
    "collapsed": false,
    "pycharm": {
     "name": "#%%\n"
    }
   },
   "outputs": [
    {
     "data": {
      "image/png": "[encoded data removed]"
     },
     "metadata": {},
     "output_type": "display_data"
    }
   ],
   "source": [
    "fig = px.bar(\n",
    "    gene_compound_matching_fr_df,\n",
    "    x=\"Modality2\",\n",
    "    y=\"fr\",\n",
    "    facet_col=\"Modality1\",\n",
    "    facet_row=\"Cell\",\n",
    ")\n",
    "fig.update_layout(\n",
    "    xaxis1=dict(title=\"Genetic perturbation\"),\n",
    "    xaxis2=dict(title=\"Genetic perturbation\"),\n",
    "    yaxis1=dict(title=\"Fraction Retrieved\"),\n",
    "    yaxis3=dict(title=\"Fraction Retrieved\"),\n",
    ")\n",
    "fig.show(\"png\")\n",
    "fig.write_image(\n",
    "    f\"figures/1.CellProfiler_gene_compound_matching_fr.png\",\n",
    "    width=640,\n",
    "    height=480,\n",
    "    scale=2,\n",
    ")"
   ]
  },
  {
   "cell_type": "code",
   "execution_count": 10,
   "metadata": {
    "collapsed": false,
    "pycharm": {
     "name": "#%%\n"
    }
   },
   "outputs": [
    {
     "data": {
      "image/png": "[encoded data removed]"
     },
     "metadata": {},
     "output_type": "display_data"
    }
   ],
   "source": [
    "fig = px.box(\n",
    "    data_frame=replicability_map_df,\n",
    "    x=\"Modality\",\n",
    "    y=\"mean_average_precision\",\n",
    "    facet_row=\"Cell\",\n",
    "    facet_col=\"time\",\n",
    ")\n",
    "fig.update_layout(\n",
    "    xaxis1=dict(title=\"Perturbation\"),\n",
    "    xaxis2=dict(title=\"Perturbation\"),\n",
    "    yaxis1=dict(title=\"mAP\"),\n",
    "    yaxis3=dict(title=\"mAP\"),\n",
    ")\n",
    "fig.show(\"png\")\n",
    "fig.write_image(\n",
    "    f\"figures/1.CellProfiler_replicability_map.png\", width=640, height=480, scale=2\n",
    ")"
   ]
  },
  {
   "cell_type": "code",
   "execution_count": 11,
   "metadata": {
    "collapsed": false,
    "pycharm": {
     "name": "#%%\n"
    }
   },
   "outputs": [
    {
     "data": {
      "image/png": "[encoded data removed]"
     },
     "metadata": {},
     "output_type": "display_data"
    }
   ],
   "source": [
    "fig = px.box(\n",
    "    data_frame=matching_map_df,\n",
    "    x=\"Modality\",\n",
    "    y=\"mean_average_precision\",\n",
    "    facet_row=\"Cell\",\n",
    "    facet_col=\"time\",\n",
    ")\n",
    "fig.update_layout(\n",
    "    xaxis1=dict(title=\"Perturbation\"),\n",
    "    xaxis2=dict(title=\"Perturbation\"),\n",
    "    yaxis1=dict(title=\"mAP\"),\n",
    "    yaxis3=dict(title=\"mAP\"),\n",
    ")\n",
    "fig.show(\"png\")\n",
    "fig.write_image(\n",
    "    f\"figures/1.CellProfiler_matching_map.png\", width=640, height=480, scale=2\n",
    ")"
   ]
  },
  {
   "cell_type": "code",
   "execution_count": 12,
   "metadata": {
    "collapsed": false,
    "pycharm": {
     "name": "#%%\n"
    }
   },
   "outputs": [
    {
     "data": {
      "image/png": "[encoded data removed]"
     },
     "metadata": {},
     "output_type": "display_data"
    }
   ],
   "source": [
    "fig = px.box(\n",
    "    data_frame=gene_compound_matching_map_df,\n",
    "    x=\"Modality2\",\n",
    "    y=\"mean_average_precision\",\n",
    "    facet_col=\"Modality1\",\n",
    "    facet_row=\"Cell\",\n",
    ")\n",
    "fig.update_layout(\n",
    "    xaxis1=dict(title=\"Perturbation\"),\n",
    "    xaxis2=dict(title=\"Perturbation\"),\n",
    "    yaxis1=dict(title=\"mAP\"),\n",
    "    yaxis3=dict(title=\"mAP\"),\n",
    ")\n",
    "fig.show(\"png\")\n",
    "fig.write_image(\n",
    "    f\"figures/1.CellProfiler_gene_compound_matching_map.png\",\n",
    "    width=640,\n",
    "    height=480,\n",
    "    scale=2,\n",
    ")"
   ]
  },
  {
   "attachments": {},
   "cell_type": "markdown",
   "metadata": {},
   "source": [
    "Tables of mAP and fr values are written to file."
   ]
  },
  {
   "cell_type": "code",
   "execution_count": 13,
   "metadata": {
    "collapsed": false,
    "pycharm": {
     "name": "#%%\n"
    }
   },
   "outputs": [],
   "source": [
    "replicability_fr_df.to_csv(\"output/cellprofiler_replicability_fr.csv\", index=False)\n",
    "replicability_map_df.to_csv(\"output/cellprofiler_replicability_map.csv\", index=False)\n",
    "matching_fr_df.to_csv(\"output/cellprofiler_matching_fr.csv\", index=False)\n",
    "matching_map_df.to_csv(\"output/cellprofiler_matching_map.csv\", index=False)\n",
    "gene_compound_matching_fr_df.to_csv(\n",
    "    \"output/cellprofiler_gene_compound_matching_fr.csv\", index=False\n",
    ")\n",
    "gene_compound_matching_map_df.to_csv(\n",
    "    \"output/cellprofiler_gene_compound_matching_map.csv\", index=False\n",
    ")"
   ]
  }
 ],
 "metadata": {
  "kernelspec": {
   "display_name": "analysis",
   "language": "python",
   "name": "python3"
  },
  "language_info": {
   "codemirror_mode": {
    "name": "ipython",
    "version": 3
   },
   "file_extension": ".py",
   "mimetype": "text/x-python",
   "name": "python",
   "nbconvert_exporter": "python",
   "pygments_lexer": "ipython3",
   "version": "3.10.6"
  },
  "vscode": {
   "interpreter": {
    "hash": "986381fcaa5fa2a4fbfcc238e5cd47c7186c89fa9a103f6aff6b597c4b48d920"
   }
  }
 },
 "nbformat": 4,
 "nbformat_minor": 0
}
