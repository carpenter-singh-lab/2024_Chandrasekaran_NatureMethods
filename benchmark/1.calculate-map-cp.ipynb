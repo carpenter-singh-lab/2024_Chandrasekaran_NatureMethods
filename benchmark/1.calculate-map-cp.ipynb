{
 "cells": [
  {
   "cell_type": "code",
   "execution_count": 1,
   "metadata": {
    "collapsed": true,
    "pycharm": {
     "name": "#%%\n"
    }
   },
   "outputs": [],
   "source": [
    "import warnings\n",
    "import pandas as pd\n",
    "import utils\n",
    "import plotly.express as px\n",
    "import numpy as np\n",
    "\n",
    "warnings.simplefilter(action=\"ignore\", category=FutureWarning)\n",
    "warnings.filterwarnings(\"ignore\", category=RuntimeWarning)"
   ]
  },
  {
   "cell_type": "markdown",
   "metadata": {
    "collapsed": false,
    "pycharm": {
     "name": "#%% md\n"
    }
   },
   "source": [
    "### Calculating mean Average Precision (mAP) for CellProfiler features\n",
    "In this notebook, we calculate the mAP for perturbation detection and perturbation matching tasks for the CellProfiler features."
   ]
  },
  {
   "cell_type": "markdown",
   "metadata": {},
   "source": [
    "All compound, ORF and CRISPR plates from the `2020_11_04_CPJUMP1` batch are read, except for those with cell seeding density other than 1000 (100%) and compound plates with antibiotics (Puromycin/Blasticidin) added. Additional annotations for the compounds are also read."
   ]
  },
  {
   "cell_type": "code",
   "execution_count": 2,
   "metadata": {
    "collapsed": false,
    "pycharm": {
     "name": "#%%\n"
    }
   },
   "outputs": [],
   "source": [
    "replicability_map_df = pd.DataFrame()\n",
    "replicability_fr_df = pd.DataFrame()\n",
    "matching_map_df = pd.DataFrame()\n",
    "matching_fr_df = pd.DataFrame()\n",
    "gene_compound_matching_map_df = pd.DataFrame()\n",
    "gene_compound_matching_fr_df = pd.DataFrame()\n",
    "\n",
    "replicate_feature = \"Metadata_broad_sample\"\n",
    "batch = \"2020_11_04_CPJUMP1\"\n",
    "batch_size = 100000\n",
    "null_size = 20000\n",
    "\n",
    "experiment_df = (\n",
    "    pd.read_csv(\"output/experiment-metadata.tsv\", sep=\"\\t\")\n",
    "    .query(\"Batch==@batch\")\n",
    "    .query(\"Density==100\")\n",
    "    .query('Antibiotics==\"absent\"')\n",
    ")\n",
    "\n",
    "experiment_df.drop(\n",
    "    experiment_df[\n",
    "        (experiment_df.Perturbation == \"compound\") & (experiment_df.Cell_line == \"Cas9\")\n",
    "    ].index,\n",
    "    inplace=True,\n",
    ")\n",
    "\n",
    "target1_metadata = pd.read_csv(\n",
    "    \"input/JUMP-Target-1_compound_metadata_additional_annotations.tsv\",\n",
    "    sep=\"\\t\",\n",
    "    usecols=[\"broad_sample\", \"target_list\"],\n",
    ").rename(\n",
    "    columns={\n",
    "        \"broad_sample\": \"Metadata_broad_sample\",\n",
    "        \"target_list\": \"Metadata_target_list\",\n",
    "    }\n",
    ")"
   ]
  },
  {
   "attachments": {},
   "cell_type": "markdown",
   "metadata": {},
   "source": [
    "Normalized, feature selected compound profiles for replicate plates at the same time point, using the same cell type are merged into a single data frame. Empty wells are removed before calculating mAP for perturbation detection (retrieve replicates of the query compound). mAP for the random baseline (10000 random list of size number of replicates + number of negcon) is subtracted.\n",
    "\n",
    "For the perturbation matching task, compounds that not are replicable (qvalue > 0.05) are removed. Negative control wells are also removed and the additional target annotations are added before mAP for perturbation matching is calculated. Again, the mAP for the random baseline is subtracted.\n",
    "\n",
    "Similarly, mAP for perturbation detection is computed for both CRISPR and ORF plates while mAP for perturbation matching is computed only for the CRISPR guides as there are no sister ORF perturbations.\n",
    "\n",
    "Then, mAP for the chemical perturbation-genetic perturbation matching task is computed using the median consensus profiles and the baseline mAP is subtracted.\n",
    "\n",
    "Along with mAP, fraction retrieved is also calculated. This is the fraction of queries that have qvalue < 0.05.\n",
    "\n",
    "The mAP and fraction retrieved values as saved to `output` directory and the results are plotted."
   ]
  },
  {
   "cell_type": "code",
   "execution_count": 3,
   "metadata": {
    "collapsed": false,
    "pycharm": {
     "name": "#%%\n"
    }
   },
   "outputs": [
    {
     "name": "stdout",
     "output_type": "stream",
     "text": [
      "Computing compound_A549_short replicability\n"
     ]
    },
    {
     "data": {
      "application/vnd.jupyter.widget-view+json": {
       "model_id": "27d2e8aa112648868c4aca3acd3110ad",
       "version_major": 2,
       "version_minor": 0
      },
      "text/plain": [
       "  0%|          | 0/1 [00:00<?, ?it/s]"
      ]
     },
     "metadata": {},
     "output_type": "display_data"
    },
    {
     "data": {
      "application/vnd.jupyter.widget-view+json": {
       "model_id": "e73d7f08a12e41d4ba9eb6fd856326a8",
       "version_major": 2,
       "version_minor": 0
      },
      "text/plain": [
       "  0%|          | 0/1 [00:00<?, ?it/s]"
      ]
     },
     "metadata": {},
     "output_type": "display_data"
    },
    {
     "name": "stdout",
     "output_type": "stream",
     "text": [
      "Computing compound_A549_short matching\n"
     ]
    },
    {
     "data": {
      "application/vnd.jupyter.widget-view+json": {
       "model_id": "677d7de3401842e4ad9a6b2d59b8357b",
       "version_major": 2,
       "version_minor": 0
      },
      "text/plain": [
       "  0%|          | 0/1 [00:00<?, ?it/s]"
      ]
     },
     "metadata": {},
     "output_type": "display_data"
    },
    {
     "data": {
      "application/vnd.jupyter.widget-view+json": {
       "model_id": "504af05e347f4014b6e65a28f112f897",
       "version_major": 2,
       "version_minor": 0
      },
      "text/plain": [
       "  0%|          | 0/1 [00:00<?, ?it/s]"
      ]
     },
     "metadata": {},
     "output_type": "display_data"
    },
    {
     "name": "stdout",
     "output_type": "stream",
     "text": [
      "Computing crispr_A549_long replicability\n"
     ]
    },
    {
     "data": {
      "application/vnd.jupyter.widget-view+json": {
       "model_id": "c9ccf8eb363a43559a6ae85ac461604a",
       "version_major": 2,
       "version_minor": 0
      },
      "text/plain": [
       "  0%|          | 0/1 [00:00<?, ?it/s]"
      ]
     },
     "metadata": {},
     "output_type": "display_data"
    },
    {
     "data": {
      "application/vnd.jupyter.widget-view+json": {
       "model_id": "02a7317954f04fac8cdc21017500aa39",
       "version_major": 2,
       "version_minor": 0
      },
      "text/plain": [
       "  0%|          | 0/1 [00:00<?, ?it/s]"
      ]
     },
     "metadata": {},
     "output_type": "display_data"
    },
    {
     "name": "stdout",
     "output_type": "stream",
     "text": [
      "Computing crispr_A549_long matching\n"
     ]
    },
    {
     "data": {
      "application/vnd.jupyter.widget-view+json": {
       "model_id": "1362edb1d27d487e90a574cda6c3b02c",
       "version_major": 2,
       "version_minor": 0
      },
      "text/plain": [
       "  0%|          | 0/1 [00:00<?, ?it/s]"
      ]
     },
     "metadata": {},
     "output_type": "display_data"
    },
    {
     "data": {
      "application/vnd.jupyter.widget-view+json": {
       "model_id": "a0940afb3d244dbc93014531919e585e",
       "version_major": 2,
       "version_minor": 0
      },
      "text/plain": [
       "  0%|          | 0/1 [00:00<?, ?it/s]"
      ]
     },
     "metadata": {},
     "output_type": "display_data"
    },
    {
     "name": "stdout",
     "output_type": "stream",
     "text": [
      "Computing compound_A549_short-crispr_A549_long matching\n"
     ]
    },
    {
     "data": {
      "application/vnd.jupyter.widget-view+json": {
       "model_id": "d181182f109b4a138c2741442fc3ef16",
       "version_major": 2,
       "version_minor": 0
      },
      "text/plain": [
       "  0%|          | 0/1 [00:00<?, ?it/s]"
      ]
     },
     "metadata": {},
     "output_type": "display_data"
    },
    {
     "data": {
      "application/vnd.jupyter.widget-view+json": {
       "model_id": "6390aa41767f4760bdc539ead4ed0864",
       "version_major": 2,
       "version_minor": 0
      },
      "text/plain": [
       "  0%|          | 0/1 [00:00<?, ?it/s]"
      ]
     },
     "metadata": {},
     "output_type": "display_data"
    },
    {
     "name": "stdout",
     "output_type": "stream",
     "text": [
      "Computing crispr_A549_short replicability\n"
     ]
    },
    {
     "data": {
      "application/vnd.jupyter.widget-view+json": {
       "model_id": "43703973ba3e4e86ab21a993253fdf15",
       "version_major": 2,
       "version_minor": 0
      },
      "text/plain": [
       "  0%|          | 0/1 [00:00<?, ?it/s]"
      ]
     },
     "metadata": {},
     "output_type": "display_data"
    },
    {
     "data": {
      "application/vnd.jupyter.widget-view+json": {
       "model_id": "410a73b58cf64c989b1bdebd13c619f7",
       "version_major": 2,
       "version_minor": 0
      },
      "text/plain": [
       "  0%|          | 0/1 [00:00<?, ?it/s]"
      ]
     },
     "metadata": {},
     "output_type": "display_data"
    },
    {
     "name": "stdout",
     "output_type": "stream",
     "text": [
      "Computing crispr_A549_short matching\n"
     ]
    },
    {
     "data": {
      "application/vnd.jupyter.widget-view+json": {
       "model_id": "617c91c572424df092b40ccce22a8187",
       "version_major": 2,
       "version_minor": 0
      },
      "text/plain": [
       "  0%|          | 0/1 [00:00<?, ?it/s]"
      ]
     },
     "metadata": {},
     "output_type": "display_data"
    },
    {
     "data": {
      "application/vnd.jupyter.widget-view+json": {
       "model_id": "637a2ec2e09a4cb49d47ccf0a64ae675",
       "version_major": 2,
       "version_minor": 0
      },
      "text/plain": [
       "  0%|          | 0/1 [00:00<?, ?it/s]"
      ]
     },
     "metadata": {},
     "output_type": "display_data"
    },
    {
     "name": "stdout",
     "output_type": "stream",
     "text": [
      "Computing compound_A549_short-crispr_A549_short matching\n"
     ]
    },
    {
     "data": {
      "application/vnd.jupyter.widget-view+json": {
       "model_id": "aecfe9c7d36f48a4be7fb7aa2a12c935",
       "version_major": 2,
       "version_minor": 0
      },
      "text/plain": [
       "  0%|          | 0/1 [00:00<?, ?it/s]"
      ]
     },
     "metadata": {},
     "output_type": "display_data"
    },
    {
     "data": {
      "application/vnd.jupyter.widget-view+json": {
       "model_id": "9106f7cdf020435598043a426b54ebac",
       "version_major": 2,
       "version_minor": 0
      },
      "text/plain": [
       "  0%|          | 0/1 [00:00<?, ?it/s]"
      ]
     },
     "metadata": {},
     "output_type": "display_data"
    },
    {
     "name": "stdout",
     "output_type": "stream",
     "text": [
      "Computing orf_A549_long replicability\n"
     ]
    },
    {
     "data": {
      "application/vnd.jupyter.widget-view+json": {
       "model_id": "dbc0ea2dc30643f38ad8eb0b286f9046",
       "version_major": 2,
       "version_minor": 0
      },
      "text/plain": [
       "  0%|          | 0/1 [00:00<?, ?it/s]"
      ]
     },
     "metadata": {},
     "output_type": "display_data"
    },
    {
     "data": {
      "application/vnd.jupyter.widget-view+json": {
       "model_id": "f52995f376b24979b0114a8fb8defc61",
       "version_major": 2,
       "version_minor": 0
      },
      "text/plain": [
       "  0%|          | 0/1 [00:00<?, ?it/s]"
      ]
     },
     "metadata": {},
     "output_type": "display_data"
    },
    {
     "name": "stdout",
     "output_type": "stream",
     "text": [
      "Computing compound_A549_short-orf_A549_long matching\n"
     ]
    },
    {
     "data": {
      "application/vnd.jupyter.widget-view+json": {
       "model_id": "678bd60295854896b1453f8fdc8815b5",
       "version_major": 2,
       "version_minor": 0
      },
      "text/plain": [
       "  0%|          | 0/1 [00:00<?, ?it/s]"
      ]
     },
     "metadata": {},
     "output_type": "display_data"
    },
    {
     "data": {
      "application/vnd.jupyter.widget-view+json": {
       "model_id": "fec9631bf01c4cf1a69cc91b74587828",
       "version_major": 2,
       "version_minor": 0
      },
      "text/plain": [
       "  0%|          | 0/1 [00:00<?, ?it/s]"
      ]
     },
     "metadata": {},
     "output_type": "display_data"
    },
    {
     "name": "stdout",
     "output_type": "stream",
     "text": [
      "Computing orf_A549_short replicability\n"
     ]
    },
    {
     "data": {
      "application/vnd.jupyter.widget-view+json": {
       "model_id": "115c8c6ea38f4f49a85ac607b3db23a1",
       "version_major": 2,
       "version_minor": 0
      },
      "text/plain": [
       "  0%|          | 0/1 [00:00<?, ?it/s]"
      ]
     },
     "metadata": {},
     "output_type": "display_data"
    },
    {
     "data": {
      "application/vnd.jupyter.widget-view+json": {
       "model_id": "6ceb197dd98844b99edcff1d551cbe2d",
       "version_major": 2,
       "version_minor": 0
      },
      "text/plain": [
       "  0%|          | 0/1 [00:00<?, ?it/s]"
      ]
     },
     "metadata": {},
     "output_type": "display_data"
    },
    {
     "name": "stdout",
     "output_type": "stream",
     "text": [
      "Computing compound_A549_short-orf_A549_short matching\n"
     ]
    },
    {
     "data": {
      "application/vnd.jupyter.widget-view+json": {
       "model_id": "268421b22476457a973e575c0d3b1e0c",
       "version_major": 2,
       "version_minor": 0
      },
      "text/plain": [
       "  0%|          | 0/1 [00:00<?, ?it/s]"
      ]
     },
     "metadata": {},
     "output_type": "display_data"
    },
    {
     "data": {
      "application/vnd.jupyter.widget-view+json": {
       "model_id": "2d0e5656892a4896a70f1d710583f4da",
       "version_major": 2,
       "version_minor": 0
      },
      "text/plain": [
       "  0%|          | 0/1 [00:00<?, ?it/s]"
      ]
     },
     "metadata": {},
     "output_type": "display_data"
    },
    {
     "name": "stdout",
     "output_type": "stream",
     "text": [
      "Computing compound_A549_long replicability\n"
     ]
    },
    {
     "data": {
      "application/vnd.jupyter.widget-view+json": {
       "model_id": "a5b6d7c3ee19490f90a190e15264d972",
       "version_major": 2,
       "version_minor": 0
      },
      "text/plain": [
       "  0%|          | 0/1 [00:00<?, ?it/s]"
      ]
     },
     "metadata": {},
     "output_type": "display_data"
    },
    {
     "data": {
      "application/vnd.jupyter.widget-view+json": {
       "model_id": "99ff6944ecf3428bb12ef50eb44cfd59",
       "version_major": 2,
       "version_minor": 0
      },
      "text/plain": [
       "  0%|          | 0/1 [00:00<?, ?it/s]"
      ]
     },
     "metadata": {},
     "output_type": "display_data"
    },
    {
     "name": "stdout",
     "output_type": "stream",
     "text": [
      "Computing compound_A549_long matching\n"
     ]
    },
    {
     "data": {
      "application/vnd.jupyter.widget-view+json": {
       "model_id": "f7e912f09ea24118b1554fe661b253aa",
       "version_major": 2,
       "version_minor": 0
      },
      "text/plain": [
       "  0%|          | 0/1 [00:00<?, ?it/s]"
      ]
     },
     "metadata": {},
     "output_type": "display_data"
    },
    {
     "data": {
      "application/vnd.jupyter.widget-view+json": {
       "model_id": "a839693e136f4af098669efe8c4d0d32",
       "version_major": 2,
       "version_minor": 0
      },
      "text/plain": [
       "  0%|          | 0/1 [00:00<?, ?it/s]"
      ]
     },
     "metadata": {},
     "output_type": "display_data"
    },
    {
     "name": "stdout",
     "output_type": "stream",
     "text": [
      "Computing compound_A549_long-crispr_A549_long matching\n"
     ]
    },
    {
     "data": {
      "application/vnd.jupyter.widget-view+json": {
       "model_id": "06b2c7df4b7242cb8f0b4d660462cb47",
       "version_major": 2,
       "version_minor": 0
      },
      "text/plain": [
       "  0%|          | 0/1 [00:00<?, ?it/s]"
      ]
     },
     "metadata": {},
     "output_type": "display_data"
    },
    {
     "data": {
      "application/vnd.jupyter.widget-view+json": {
       "model_id": "556ffb9e6bb04de6bb6a901590775404",
       "version_major": 2,
       "version_minor": 0
      },
      "text/plain": [
       "  0%|          | 0/1 [00:00<?, ?it/s]"
      ]
     },
     "metadata": {},
     "output_type": "display_data"
    },
    {
     "name": "stdout",
     "output_type": "stream",
     "text": [
      "Computing compound_A549_long-crispr_A549_short matching\n"
     ]
    },
    {
     "data": {
      "application/vnd.jupyter.widget-view+json": {
       "model_id": "acd99125f4e94392b6cff0a24164034a",
       "version_major": 2,
       "version_minor": 0
      },
      "text/plain": [
       "  0%|          | 0/1 [00:00<?, ?it/s]"
      ]
     },
     "metadata": {},
     "output_type": "display_data"
    },
    {
     "data": {
      "application/vnd.jupyter.widget-view+json": {
       "model_id": "5fdb1e167cb8420583d8a03eae1780fa",
       "version_major": 2,
       "version_minor": 0
      },
      "text/plain": [
       "  0%|          | 0/1 [00:00<?, ?it/s]"
      ]
     },
     "metadata": {},
     "output_type": "display_data"
    },
    {
     "name": "stdout",
     "output_type": "stream",
     "text": [
      "Computing compound_A549_long-orf_A549_long matching\n"
     ]
    },
    {
     "data": {
      "application/vnd.jupyter.widget-view+json": {
       "model_id": "a532180c134f4a3ca7861c200ffa7ed9",
       "version_major": 2,
       "version_minor": 0
      },
      "text/plain": [
       "  0%|          | 0/1 [00:00<?, ?it/s]"
      ]
     },
     "metadata": {},
     "output_type": "display_data"
    },
    {
     "data": {
      "application/vnd.jupyter.widget-view+json": {
       "model_id": "4515f472b57348c19c4911413d152dbd",
       "version_major": 2,
       "version_minor": 0
      },
      "text/plain": [
       "  0%|          | 0/1 [00:00<?, ?it/s]"
      ]
     },
     "metadata": {},
     "output_type": "display_data"
    },
    {
     "name": "stdout",
     "output_type": "stream",
     "text": [
      "Computing compound_A549_long-orf_A549_short matching\n"
     ]
    },
    {
     "data": {
      "application/vnd.jupyter.widget-view+json": {
       "model_id": "6bf396c84af5474f8f3e87589de22e88",
       "version_major": 2,
       "version_minor": 0
      },
      "text/plain": [
       "  0%|          | 0/1 [00:00<?, ?it/s]"
      ]
     },
     "metadata": {},
     "output_type": "display_data"
    },
    {
     "data": {
      "application/vnd.jupyter.widget-view+json": {
       "model_id": "6ec8abf5a8c446acbf6f91904ead6990",
       "version_major": 2,
       "version_minor": 0
      },
      "text/plain": [
       "  0%|          | 0/1 [00:00<?, ?it/s]"
      ]
     },
     "metadata": {},
     "output_type": "display_data"
    },
    {
     "name": "stdout",
     "output_type": "stream",
     "text": [
      "Computing compound_U2OS_short replicability\n"
     ]
    },
    {
     "data": {
      "application/vnd.jupyter.widget-view+json": {
       "model_id": "abf2eba808364644a7ad55224c4b870c",
       "version_major": 2,
       "version_minor": 0
      },
      "text/plain": [
       "  0%|          | 0/1 [00:00<?, ?it/s]"
      ]
     },
     "metadata": {},
     "output_type": "display_data"
    },
    {
     "data": {
      "application/vnd.jupyter.widget-view+json": {
       "model_id": "c20347fdb30f4edbbbc1050a9c4b6dc2",
       "version_major": 2,
       "version_minor": 0
      },
      "text/plain": [
       "  0%|          | 0/1 [00:00<?, ?it/s]"
      ]
     },
     "metadata": {},
     "output_type": "display_data"
    },
    {
     "name": "stdout",
     "output_type": "stream",
     "text": [
      "Computing compound_U2OS_short matching\n"
     ]
    },
    {
     "data": {
      "application/vnd.jupyter.widget-view+json": {
       "model_id": "fbce9685e0d0476bb344cb9457addcbf",
       "version_major": 2,
       "version_minor": 0
      },
      "text/plain": [
       "  0%|          | 0/1 [00:00<?, ?it/s]"
      ]
     },
     "metadata": {},
     "output_type": "display_data"
    },
    {
     "data": {
      "application/vnd.jupyter.widget-view+json": {
       "model_id": "b77931f872b24592a9b40b9b51ee5708",
       "version_major": 2,
       "version_minor": 0
      },
      "text/plain": [
       "  0%|          | 0/1 [00:00<?, ?it/s]"
      ]
     },
     "metadata": {},
     "output_type": "display_data"
    },
    {
     "name": "stdout",
     "output_type": "stream",
     "text": [
      "Computing crispr_U2OS_long replicability\n"
     ]
    },
    {
     "data": {
      "application/vnd.jupyter.widget-view+json": {
       "model_id": "53377e7ffce144b3a2936f114d41f98c",
       "version_major": 2,
       "version_minor": 0
      },
      "text/plain": [
       "  0%|          | 0/1 [00:00<?, ?it/s]"
      ]
     },
     "metadata": {},
     "output_type": "display_data"
    },
    {
     "data": {
      "application/vnd.jupyter.widget-view+json": {
       "model_id": "41880d87800a4bd485587f3782e9615a",
       "version_major": 2,
       "version_minor": 0
      },
      "text/plain": [
       "  0%|          | 0/1 [00:00<?, ?it/s]"
      ]
     },
     "metadata": {},
     "output_type": "display_data"
    },
    {
     "name": "stdout",
     "output_type": "stream",
     "text": [
      "Computing crispr_U2OS_long matching\n"
     ]
    },
    {
     "data": {
      "application/vnd.jupyter.widget-view+json": {
       "model_id": "1254218d6e324bd2b0700dcd3b9d9d27",
       "version_major": 2,
       "version_minor": 0
      },
      "text/plain": [
       "  0%|          | 0/1 [00:00<?, ?it/s]"
      ]
     },
     "metadata": {},
     "output_type": "display_data"
    },
    {
     "data": {
      "application/vnd.jupyter.widget-view+json": {
       "model_id": "5351292c537843a8b92de37747ba8c74",
       "version_major": 2,
       "version_minor": 0
      },
      "text/plain": [
       "  0%|          | 0/1 [00:00<?, ?it/s]"
      ]
     },
     "metadata": {},
     "output_type": "display_data"
    },
    {
     "name": "stdout",
     "output_type": "stream",
     "text": [
      "Computing compound_U2OS_short-crispr_U2OS_long matching\n"
     ]
    },
    {
     "data": {
      "application/vnd.jupyter.widget-view+json": {
       "model_id": "03e6bf18e2d64cbd8b7e7f28d651c2d2",
       "version_major": 2,
       "version_minor": 0
      },
      "text/plain": [
       "  0%|          | 0/1 [00:00<?, ?it/s]"
      ]
     },
     "metadata": {},
     "output_type": "display_data"
    },
    {
     "data": {
      "application/vnd.jupyter.widget-view+json": {
       "model_id": "c264c77aa511442c9b44cf09baed2b57",
       "version_major": 2,
       "version_minor": 0
      },
      "text/plain": [
       "  0%|          | 0/1 [00:00<?, ?it/s]"
      ]
     },
     "metadata": {},
     "output_type": "display_data"
    },
    {
     "name": "stdout",
     "output_type": "stream",
     "text": [
      "Computing crispr_U2OS_short replicability\n"
     ]
    },
    {
     "data": {
      "application/vnd.jupyter.widget-view+json": {
       "model_id": "6588c63f0b6b4a71a12b24f8133d13ca",
       "version_major": 2,
       "version_minor": 0
      },
      "text/plain": [
       "  0%|          | 0/1 [00:00<?, ?it/s]"
      ]
     },
     "metadata": {},
     "output_type": "display_data"
    },
    {
     "data": {
      "application/vnd.jupyter.widget-view+json": {
       "model_id": "45b65468456d4c5da8d8265530c8a0a6",
       "version_major": 2,
       "version_minor": 0
      },
      "text/plain": [
       "  0%|          | 0/1 [00:00<?, ?it/s]"
      ]
     },
     "metadata": {},
     "output_type": "display_data"
    },
    {
     "name": "stdout",
     "output_type": "stream",
     "text": [
      "Computing crispr_U2OS_short matching\n"
     ]
    },
    {
     "data": {
      "application/vnd.jupyter.widget-view+json": {
       "model_id": "7cb21a01a4f149bf83a34c3b4567c006",
       "version_major": 2,
       "version_minor": 0
      },
      "text/plain": [
       "  0%|          | 0/1 [00:00<?, ?it/s]"
      ]
     },
     "metadata": {},
     "output_type": "display_data"
    },
    {
     "data": {
      "application/vnd.jupyter.widget-view+json": {
       "model_id": "32768ddad3a44b149231dca245b2d5a7",
       "version_major": 2,
       "version_minor": 0
      },
      "text/plain": [
       "  0%|          | 0/1 [00:00<?, ?it/s]"
      ]
     },
     "metadata": {},
     "output_type": "display_data"
    },
    {
     "name": "stdout",
     "output_type": "stream",
     "text": [
      "Computing compound_U2OS_short-crispr_U2OS_short matching\n"
     ]
    },
    {
     "data": {
      "application/vnd.jupyter.widget-view+json": {
       "model_id": "3196da9cd6304195909abc7d5938e6a0",
       "version_major": 2,
       "version_minor": 0
      },
      "text/plain": [
       "  0%|          | 0/1 [00:00<?, ?it/s]"
      ]
     },
     "metadata": {},
     "output_type": "display_data"
    },
    {
     "data": {
      "application/vnd.jupyter.widget-view+json": {
       "model_id": "ca0e8253506c44c69fc771da170a2943",
       "version_major": 2,
       "version_minor": 0
      },
      "text/plain": [
       "  0%|          | 0/1 [00:00<?, ?it/s]"
      ]
     },
     "metadata": {},
     "output_type": "display_data"
    },
    {
     "name": "stdout",
     "output_type": "stream",
     "text": [
      "Computing orf_U2OS_short replicability\n"
     ]
    },
    {
     "data": {
      "application/vnd.jupyter.widget-view+json": {
       "model_id": "2857b72b20254a8d9071fc99226be81d",
       "version_major": 2,
       "version_minor": 0
      },
      "text/plain": [
       "  0%|          | 0/1 [00:00<?, ?it/s]"
      ]
     },
     "metadata": {},
     "output_type": "display_data"
    },
    {
     "data": {
      "application/vnd.jupyter.widget-view+json": {
       "model_id": "0f14cf5ed54d409a8dba2e0ffe858c8f",
       "version_major": 2,
       "version_minor": 0
      },
      "text/plain": [
       "  0%|          | 0/1 [00:00<?, ?it/s]"
      ]
     },
     "metadata": {},
     "output_type": "display_data"
    },
    {
     "name": "stdout",
     "output_type": "stream",
     "text": [
      "Computing compound_U2OS_short-orf_U2OS_short matching\n"
     ]
    },
    {
     "data": {
      "application/vnd.jupyter.widget-view+json": {
       "model_id": "b72f1ed8340548d0b636095fd3bddab9",
       "version_major": 2,
       "version_minor": 0
      },
      "text/plain": [
       "  0%|          | 0/1 [00:00<?, ?it/s]"
      ]
     },
     "metadata": {},
     "output_type": "display_data"
    },
    {
     "data": {
      "application/vnd.jupyter.widget-view+json": {
       "model_id": "aa669564b963441b8de1c2bb9c80bb5a",
       "version_major": 2,
       "version_minor": 0
      },
      "text/plain": [
       "  0%|          | 0/1 [00:00<?, ?it/s]"
      ]
     },
     "metadata": {},
     "output_type": "display_data"
    },
    {
     "name": "stdout",
     "output_type": "stream",
     "text": [
      "Computing orf_U2OS_long replicability\n"
     ]
    },
    {
     "data": {
      "application/vnd.jupyter.widget-view+json": {
       "model_id": "b457a256f1d3422d877e487ff27f362f",
       "version_major": 2,
       "version_minor": 0
      },
      "text/plain": [
       "  0%|          | 0/1 [00:00<?, ?it/s]"
      ]
     },
     "metadata": {},
     "output_type": "display_data"
    },
    {
     "data": {
      "application/vnd.jupyter.widget-view+json": {
       "model_id": "a0f3ebfc7f564093878925bc27c5e9ea",
       "version_major": 2,
       "version_minor": 0
      },
      "text/plain": [
       "  0%|          | 0/1 [00:00<?, ?it/s]"
      ]
     },
     "metadata": {},
     "output_type": "display_data"
    },
    {
     "name": "stdout",
     "output_type": "stream",
     "text": [
      "Computing compound_U2OS_short-orf_U2OS_long matching\n"
     ]
    },
    {
     "data": {
      "application/vnd.jupyter.widget-view+json": {
       "model_id": "52dcdd2629384f4f9ac395804762deee",
       "version_major": 2,
       "version_minor": 0
      },
      "text/plain": [
       "  0%|          | 0/1 [00:00<?, ?it/s]"
      ]
     },
     "metadata": {},
     "output_type": "display_data"
    },
    {
     "data": {
      "application/vnd.jupyter.widget-view+json": {
       "model_id": "00ea6a055b4c472cb21dfe6093c83d26",
       "version_major": 2,
       "version_minor": 0
      },
      "text/plain": [
       "  0%|          | 0/1 [00:00<?, ?it/s]"
      ]
     },
     "metadata": {},
     "output_type": "display_data"
    },
    {
     "name": "stdout",
     "output_type": "stream",
     "text": [
      "Computing compound_U2OS_long replicability\n"
     ]
    },
    {
     "data": {
      "application/vnd.jupyter.widget-view+json": {
       "model_id": "64c33b9a7e3645beb40fa4215bbceeb4",
       "version_major": 2,
       "version_minor": 0
      },
      "text/plain": [
       "  0%|          | 0/1 [00:00<?, ?it/s]"
      ]
     },
     "metadata": {},
     "output_type": "display_data"
    },
    {
     "data": {
      "application/vnd.jupyter.widget-view+json": {
       "model_id": "a97a49bb925641cda8a2fd2e391969ee",
       "version_major": 2,
       "version_minor": 0
      },
      "text/plain": [
       "  0%|          | 0/1 [00:00<?, ?it/s]"
      ]
     },
     "metadata": {},
     "output_type": "display_data"
    },
    {
     "name": "stdout",
     "output_type": "stream",
     "text": [
      "Computing compound_U2OS_long matching\n"
     ]
    },
    {
     "data": {
      "application/vnd.jupyter.widget-view+json": {
       "model_id": "f03388fc9af84f1db0482c43bac1d1d2",
       "version_major": 2,
       "version_minor": 0
      },
      "text/plain": [
       "  0%|          | 0/1 [00:00<?, ?it/s]"
      ]
     },
     "metadata": {},
     "output_type": "display_data"
    },
    {
     "data": {
      "application/vnd.jupyter.widget-view+json": {
       "model_id": "b11c7cf9274749228677b2e666f50f6e",
       "version_major": 2,
       "version_minor": 0
      },
      "text/plain": [
       "  0%|          | 0/1 [00:00<?, ?it/s]"
      ]
     },
     "metadata": {},
     "output_type": "display_data"
    },
    {
     "name": "stdout",
     "output_type": "stream",
     "text": [
      "Computing compound_U2OS_long-crispr_U2OS_long matching\n"
     ]
    },
    {
     "data": {
      "application/vnd.jupyter.widget-view+json": {
       "model_id": "2577da37b2054c4ea0db03467fbd7009",
       "version_major": 2,
       "version_minor": 0
      },
      "text/plain": [
       "  0%|          | 0/1 [00:00<?, ?it/s]"
      ]
     },
     "metadata": {},
     "output_type": "display_data"
    },
    {
     "data": {
      "application/vnd.jupyter.widget-view+json": {
       "model_id": "2b16f7ff943f447ca49e54e35dfdda04",
       "version_major": 2,
       "version_minor": 0
      },
      "text/plain": [
       "  0%|          | 0/1 [00:00<?, ?it/s]"
      ]
     },
     "metadata": {},
     "output_type": "display_data"
    },
    {
     "name": "stdout",
     "output_type": "stream",
     "text": [
      "Computing compound_U2OS_long-crispr_U2OS_short matching\n"
     ]
    },
    {
     "data": {
      "application/vnd.jupyter.widget-view+json": {
       "model_id": "04ab991483724777ae708108568b7263",
       "version_major": 2,
       "version_minor": 0
      },
      "text/plain": [
       "  0%|          | 0/1 [00:00<?, ?it/s]"
      ]
     },
     "metadata": {},
     "output_type": "display_data"
    },
    {
     "data": {
      "application/vnd.jupyter.widget-view+json": {
       "model_id": "8c907c902afc43038afe200116adcb47",
       "version_major": 2,
       "version_minor": 0
      },
      "text/plain": [
       "  0%|          | 0/1 [00:00<?, ?it/s]"
      ]
     },
     "metadata": {},
     "output_type": "display_data"
    },
    {
     "name": "stdout",
     "output_type": "stream",
     "text": [
      "Computing compound_U2OS_long-orf_U2OS_short matching\n"
     ]
    },
    {
     "data": {
      "application/vnd.jupyter.widget-view+json": {
       "model_id": "214b3d0699224788bffd684e0909e3ed",
       "version_major": 2,
       "version_minor": 0
      },
      "text/plain": [
       "  0%|          | 0/1 [00:00<?, ?it/s]"
      ]
     },
     "metadata": {},
     "output_type": "display_data"
    },
    {
     "data": {
      "application/vnd.jupyter.widget-view+json": {
       "model_id": "36842151a53a4bf78a7a02fe143b78f2",
       "version_major": 2,
       "version_minor": 0
      },
      "text/plain": [
       "  0%|          | 0/1 [00:00<?, ?it/s]"
      ]
     },
     "metadata": {},
     "output_type": "display_data"
    },
    {
     "name": "stdout",
     "output_type": "stream",
     "text": [
      "Computing compound_U2OS_long-orf_U2OS_long matching\n"
     ]
    },
    {
     "data": {
      "application/vnd.jupyter.widget-view+json": {
       "model_id": "7390a579536e49d6a4f66e8560a7c794",
       "version_major": 2,
       "version_minor": 0
      },
      "text/plain": [
       "  0%|          | 0/1 [00:00<?, ?it/s]"
      ]
     },
     "metadata": {},
     "output_type": "display_data"
    },
    {
     "data": {
      "application/vnd.jupyter.widget-view+json": {
       "model_id": "811b7d66ad0f439b8ea06511b50dd727",
       "version_major": 2,
       "version_minor": 0
      },
      "text/plain": [
       "  0%|          | 0/1 [00:00<?, ?it/s]"
      ]
     },
     "metadata": {},
     "output_type": "display_data"
    }
   ],
   "source": [
    "# random_baseline_ap = pd.DataFrame(columns=[\"ap\", \"n_matches\", \"n_reference\"])\n",
    "\n",
    "for cell in experiment_df.Cell_type.unique():\n",
    "    cell_df = experiment_df.query(\"Cell_type==@cell\")\n",
    "    modality_1_perturbation = \"compound\"\n",
    "    modality_1_experiments_df = cell_df.query(\"Perturbation==@modality_1_perturbation\")\n",
    "    for modality_1_timepoint in modality_1_experiments_df.Time.unique():\n",
    "        modality_1_timepoint_df = modality_1_experiments_df.query(\n",
    "            \"Time==@modality_1_timepoint\"\n",
    "        )\n",
    "        modality_1_df = pd.DataFrame()\n",
    "        for plate in modality_1_timepoint_df.Assay_Plate_Barcode.unique():\n",
    "            # Read all the plates\n",
    "            data_df = utils.load_data(\n",
    "                batch, plate, \"normalized_feature_select_negcon_batch.csv.gz\"\n",
    "            ).assign(Metadata_modality=modality_1_perturbation)\n",
    "            modality_1_df = utils.concat_profiles(modality_1_df, data_df)\n",
    "\n",
    "        # Set Metadata_broad_sample value to \"DMSO\" for DMSO wells\n",
    "        modality_1_df[replicate_feature].fillna(\"DMSO\", inplace=True)\n",
    "\n",
    "        # Remove empty wells\n",
    "        modality_1_df = utils.remove_empty_wells(modality_1_df)\n",
    "\n",
    "        # Description\n",
    "        description = f\"{modality_1_perturbation}_{cell}_{utils.time_point(modality_1_perturbation, modality_1_timepoint)}\"\n",
    "\n",
    "        # Calculate replicability mAP\n",
    "        print(f\"Computing {description} replicability\")\n",
    "\n",
    "        modality_1_df[\"Metadata_negcon\"] = np.where(\n",
    "            modality_1_df[\"Metadata_control_type\"] == \"negcon\", 1, 0\n",
    "        )  # Create dummy column\n",
    "\n",
    "        pos_sameby = [\"Metadata_broad_sample\"]\n",
    "        pos_diffby = []\n",
    "        neg_sameby = [\"Metadata_Plate\"]\n",
    "        neg_diffby = [\"Metadata_negcon\"]\n",
    "\n",
    "        metadata_df = utils.get_metadata(modality_1_df)\n",
    "        feature_df = utils.get_featuredata(modality_1_df)\n",
    "        feature_values = feature_df.values\n",
    "\n",
    "        result = utils.run_pipeline(\n",
    "            metadata_df,\n",
    "            feature_values,\n",
    "            pos_sameby,\n",
    "            pos_diffby,\n",
    "            neg_sameby,\n",
    "            neg_diffby,\n",
    "            anti_match=False,\n",
    "            batch_size=batch_size,\n",
    "            null_size=null_size,\n",
    "        )\n",
    "\n",
    "        replicability_map_df, replicability_fr_df = utils.create_replicability_df(\n",
    "            replicability_map_df,\n",
    "            replicability_fr_df,\n",
    "            result,\n",
    "            pos_sameby,\n",
    "            0.05,\n",
    "            modality_1_perturbation,\n",
    "            cell,\n",
    "            modality_1_timepoint,\n",
    "        )\n",
    "\n",
    "        # Remove DMSO wells\n",
    "        modality_1_df = utils.remove_negcon_and_empty_wells(modality_1_df)\n",
    "\n",
    "        # Create consensus profiles\n",
    "        modality_1_consensus_df = utils.consensus(modality_1_df, replicate_feature)\n",
    "\n",
    "        # Filter out non-replicable compounds\n",
    "        replicable_compounds = list(\n",
    "            replicability_map_df[\n",
    "                (replicability_map_df.Description == description)\n",
    "                & (replicability_map_df.above_q_threshold == True)\n",
    "            ][replicate_feature]\n",
    "        )\n",
    "        modality_1_consensus_df = modality_1_consensus_df.query(\n",
    "            \"Metadata_broad_sample==@replicable_compounds\"\n",
    "        ).reset_index(drop=True)\n",
    "\n",
    "        # Adding additional gene annotation metadata\n",
    "        modality_1_consensus_df = (\n",
    "            modality_1_consensus_df.merge(\n",
    "                target1_metadata, on=\"Metadata_broad_sample\", how=\"left\"\n",
    "            )\n",
    "            .assign(\n",
    "                Metadata_matching_target=lambda x: x.Metadata_target_list.str.split(\"|\")\n",
    "            )\n",
    "            .drop([\"Metadata_target_list\"], axis=1)\n",
    "        )\n",
    "\n",
    "        # Calculate compound-compound matching\n",
    "        print(f\"Computing {description} matching\")\n",
    "\n",
    "        pos_sameby = [\"Metadata_matching_target\"]\n",
    "        pos_diffby = []\n",
    "        neg_sameby = []\n",
    "        neg_diffby = [\"Metadata_matching_target\"]\n",
    "\n",
    "        metadata_df = utils.get_metadata(modality_1_consensus_df)\n",
    "        feature_df = utils.get_featuredata(modality_1_consensus_df)\n",
    "        feature_values = feature_df.values\n",
    "\n",
    "        result = utils.run_pipeline(\n",
    "            metadata_df,\n",
    "            feature_values,\n",
    "            pos_sameby,\n",
    "            pos_diffby,\n",
    "            neg_sameby,\n",
    "            neg_diffby,\n",
    "            anti_match=True,\n",
    "            batch_size=batch_size,\n",
    "            null_size=null_size,\n",
    "            multilabel_col=\"Metadata_matching_target\",\n",
    "        )\n",
    "\n",
    "        matching_map_df, matching_fr_df = utils.create_matching_df(\n",
    "            matching_map_df,\n",
    "            matching_fr_df,\n",
    "            result,\n",
    "            pos_sameby,\n",
    "            0.05,\n",
    "            modality_1_perturbation,\n",
    "            cell,\n",
    "            modality_1_timepoint,\n",
    "        )\n",
    "\n",
    "        all_modality_2_experiments_df = cell_df.query(\n",
    "            \"Perturbation!=@modality_1_perturbation\"\n",
    "        )\n",
    "        for (\n",
    "            modality_2_perturbation\n",
    "        ) in all_modality_2_experiments_df.Perturbation.unique():\n",
    "            modality_2_experiments_df = all_modality_2_experiments_df.query(\n",
    "                \"Perturbation==@modality_2_perturbation\"\n",
    "            )\n",
    "            for modality_2_timepoint in modality_2_experiments_df.Time.unique():\n",
    "                modality_2_timepoint_df = modality_2_experiments_df.query(\n",
    "                    \"Time==@modality_2_timepoint\"\n",
    "                )\n",
    "\n",
    "                modality_2_df = pd.DataFrame()\n",
    "                for plate in modality_2_timepoint_df.Assay_Plate_Barcode.unique():\n",
    "                    data_df = (\n",
    "                        utils.load_data(\n",
    "                            batch,\n",
    "                            plate,\n",
    "                            \"normalized_feature_select_negcon_batch.csv.gz\",\n",
    "                        )\n",
    "                        .assign(Metadata_modality=modality_2_perturbation)\n",
    "                        .assign(Metadata_matching_target=lambda x: x.Metadata_gene)\n",
    "                    )\n",
    "                    modality_2_df = utils.concat_profiles(modality_2_df, data_df)\n",
    "\n",
    "                # Remove empty wells\n",
    "                modality_2_df = utils.remove_empty_wells(modality_2_df)\n",
    "\n",
    "                # Description\n",
    "                description = f\"{modality_2_perturbation}_{cell}_{utils.time_point(modality_2_perturbation, modality_2_timepoint)}\"\n",
    "\n",
    "                # Calculate replicability mAP\n",
    "\n",
    "                if not replicability_map_df.Description.str.contains(description).any():\n",
    "                    print(f\"Computing {description} replicability\")\n",
    "\n",
    "                    modality_2_df[\"Metadata_negcon\"] = np.where(\n",
    "                        modality_2_df[\"Metadata_control_type\"] == \"negcon\", 1, 0\n",
    "                    )  # Create dummy column\n",
    "\n",
    "                    pos_sameby = [\"Metadata_broad_sample\"]\n",
    "                    pos_diffby = []\n",
    "                    neg_sameby = [\"Metadata_Plate\"]\n",
    "                    neg_diffby = [\"Metadata_negcon\"]\n",
    "\n",
    "                    metadata_df = utils.get_metadata(modality_2_df)\n",
    "                    feature_df = utils.get_featuredata(modality_2_df)\n",
    "                    feature_values = feature_df.values\n",
    "\n",
    "                    result = utils.run_pipeline(\n",
    "                        metadata_df,\n",
    "                        feature_values,\n",
    "                        pos_sameby,\n",
    "                        pos_diffby,\n",
    "                        neg_sameby,\n",
    "                        neg_diffby,\n",
    "                        anti_match=False,\n",
    "                        batch_size=batch_size,\n",
    "                        null_size=null_size,\n",
    "                    )\n",
    "\n",
    "                    (\n",
    "                        replicability_map_df,\n",
    "                        replicability_fr_df,\n",
    "                    ) = utils.create_replicability_df(\n",
    "                        replicability_map_df,\n",
    "                        replicability_fr_df,\n",
    "                        result,\n",
    "                        pos_sameby,\n",
    "                        0.05,\n",
    "                        modality_2_perturbation,\n",
    "                        cell,\n",
    "                        modality_2_timepoint,\n",
    "                    )\n",
    "\n",
    "                # Remove negcon wells\n",
    "                modality_2_df = utils.remove_negcon_and_empty_wells(modality_2_df)\n",
    "\n",
    "                # Create consensus profiles\n",
    "                modality_2_consensus_df = utils.consensus(\n",
    "                    modality_2_df, \"Metadata_broad_sample\"\n",
    "                )\n",
    "\n",
    "                # Filter out non-replicable genes\n",
    "                replicable_genes = list(\n",
    "                    replicability_map_df[\n",
    "                        (\n",
    "                            replicability_map_df.Description\n",
    "                            == f\"{modality_2_perturbation}_{cell}_{utils.time_point(modality_2_perturbation, modality_2_timepoint)}\"\n",
    "                        )\n",
    "                        & (replicability_map_df.above_q_threshold == True)\n",
    "                    ][replicate_feature]\n",
    "                )\n",
    "                modality_2_consensus_df = modality_2_consensus_df.query(\n",
    "                    \"Metadata_broad_sample==@replicable_genes\"\n",
    "                ).reset_index(drop=True)\n",
    "\n",
    "                # Calculate cripsr-crispr matching\n",
    "                if modality_2_perturbation == \"crispr\":\n",
    "                    if not matching_map_df.Description.str.contains(description).any():\n",
    "                        print(f\"Computing {description} matching\")\n",
    "\n",
    "                        pos_sameby = [\"Metadata_gene\"]\n",
    "                        pos_diffby = []\n",
    "                        neg_sameby = []\n",
    "                        neg_diffby = [\"Metadata_gene\"]\n",
    "\n",
    "                        metadata_df = utils.get_metadata(modality_2_consensus_df)\n",
    "                        feature_df = utils.get_featuredata(modality_2_consensus_df)\n",
    "                        feature_values = feature_df.values\n",
    "\n",
    "                        result = utils.run_pipeline(\n",
    "                            metadata_df,\n",
    "                            feature_values,\n",
    "                            pos_sameby,\n",
    "                            pos_diffby,\n",
    "                            neg_sameby,\n",
    "                            neg_diffby,\n",
    "                            anti_match=False,\n",
    "                            batch_size=batch_size,\n",
    "                            null_size=null_size,\n",
    "                        )\n",
    "\n",
    "                        matching_map_df, matching_fr_df = utils.create_matching_df(\n",
    "                            matching_map_df,\n",
    "                            matching_fr_df,\n",
    "                            result,\n",
    "                            pos_sameby,\n",
    "                            0.05,\n",
    "                            modality_2_perturbation,\n",
    "                            cell,\n",
    "                            modality_2_timepoint,\n",
    "                        )\n",
    "\n",
    "                # Filter out genes that are not perturbed by ORFs or CRISPRs\n",
    "                perturbed_genes = list(\n",
    "                    set(modality_2_consensus_df.Metadata_matching_target)\n",
    "                )\n",
    "\n",
    "                modality_1_filtered_genes_df = (\n",
    "                    modality_1_consensus_df[\n",
    "                        [\"Metadata_broad_sample\", \"Metadata_matching_target\"]\n",
    "                    ]\n",
    "                    .copy()\n",
    "                    .explode(\"Metadata_matching_target\")\n",
    "                    .query(\"Metadata_matching_target==@perturbed_genes\")\n",
    "                    .reset_index(drop=True)\n",
    "                    .groupby([\"Metadata_broad_sample\"])\n",
    "                    .Metadata_matching_target.apply(list)\n",
    "                    .reset_index()\n",
    "                )\n",
    "\n",
    "                modality_1_consensus_filtered_df = modality_1_consensus_df.drop(\n",
    "                    columns=[\"Metadata_matching_target\"]\n",
    "                ).merge(\n",
    "                    modality_1_filtered_genes_df,\n",
    "                    on=\"Metadata_broad_sample\",\n",
    "                    how=\"inner\",\n",
    "                )\n",
    "\n",
    "                # Calculate gene-compound matching mAP\n",
    "                description = f\"{modality_1_perturbation}_{cell}_{utils.time_point(modality_1_perturbation, modality_1_timepoint)}-{modality_2_perturbation}_{cell}_{utils.time_point(modality_2_perturbation, modality_2_timepoint)}\"\n",
    "                print(f\"Computing {description} matching\")\n",
    "\n",
    "                modality_1_modality_2_df = utils.concat_profiles(\n",
    "                    modality_1_consensus_filtered_df, modality_2_consensus_df\n",
    "                )\n",
    "\n",
    "                pos_sameby = [\"Metadata_matching_target\"]\n",
    "                pos_diffby = [\"Metadata_modality\"]\n",
    "                neg_sameby = []\n",
    "                neg_diffby = [\"Metadata_matching_target\", \"Metadata_modality\"]\n",
    "                # neg_diffby = [\"Metadata_matching_target\"]\n",
    "\n",
    "                metadata_df = utils.get_metadata(modality_1_modality_2_df)\n",
    "                feature_df = utils.get_featuredata(modality_1_modality_2_df)\n",
    "                feature_values = feature_df.values\n",
    "\n",
    "                result = utils.run_pipeline(\n",
    "                    metadata_df,\n",
    "                    feature_values,\n",
    "                    pos_sameby,\n",
    "                    pos_diffby,\n",
    "                    neg_sameby,\n",
    "                    neg_diffby,\n",
    "                    anti_match=True,\n",
    "                    batch_size=batch_size,\n",
    "                    null_size=null_size,\n",
    "                    multilabel_col=\"Metadata_matching_target\",\n",
    "                )\n",
    "\n",
    "                gene_compound_matching_map_df, gene_compound_matching_fr_df = utils.create_gene_compound_matching_df(\n",
    "                    gene_compound_matching_map_df,\n",
    "                    gene_compound_matching_fr_df,\n",
    "                    result,\n",
    "                    pos_sameby,\n",
    "                    0.05,\n",
    "                    modality_1_perturbation,\n",
    "                    modality_2_perturbation,\n",
    "                    cell,\n",
    "                    modality_1_timepoint,\n",
    "                    modality_2_timepoint,\n",
    "                )"
   ]
  },
  {
   "attachments": {},
   "cell_type": "markdown",
   "metadata": {},
   "source": [
    "Tables of mAP values and the fraction positive mAP (fp) are printed and bar plots are plotted."
   ]
  },
  {
   "attachments": {},
   "cell_type": "markdown",
   "metadata": {
    "collapsed": false,
    "pycharm": {
     "name": "#%% md\n"
    }
   },
   "source": [
    "Replicability fraction retrieved."
   ]
  },
  {
   "cell_type": "code",
   "execution_count": 4,
   "metadata": {
    "collapsed": false,
    "pycharm": {
     "name": "#%%\n"
    }
   },
   "outputs": [
    {
     "name": "stdout",
     "output_type": "stream",
     "text": [
      "| Description         |   timepoint |    fr |\n",
      "|:--------------------|------------:|------:|\n",
      "| compound_A549_short |          24 | 0.759 |\n",
      "| crispr_A549_long    |         144 | 0.621 |\n",
      "| crispr_A549_short   |          96 | 0.63  |\n",
      "| orf_A549_long       |          96 | 0.04  |\n",
      "| orf_A549_short      |          48 | 0.051 |\n",
      "| compound_A549_long  |          48 | 0.951 |\n",
      "| compound_U2OS_short |          24 | 0.779 |\n",
      "| crispr_U2OS_long    |         144 | 0.421 |\n",
      "| crispr_U2OS_short   |          96 | 0.627 |\n",
      "| orf_U2OS_short      |          48 | 0.343 |\n",
      "| orf_U2OS_long       |          96 | 0.166 |\n",
      "| compound_U2OS_long  |          48 | 0.661 |\n"
     ]
    }
   ],
   "source": [
    "print(replicability_fr_df[[\"Description\", \"timepoint\", \"fr\"]].to_markdown(index=False))"
   ]
  },
  {
   "attachments": {},
   "cell_type": "markdown",
   "metadata": {
    "collapsed": false,
    "pycharm": {
     "name": "#%% md\n"
    }
   },
   "source": [
    "Within perturbation matching fractive retrieved."
   ]
  },
  {
   "cell_type": "code",
   "execution_count": 5,
   "metadata": {
    "collapsed": false,
    "pycharm": {
     "name": "#%%\n"
    }
   },
   "outputs": [
    {
     "name": "stdout",
     "output_type": "stream",
     "text": [
      "| Description         |   timepoint |    fr |\n",
      "|:--------------------|------------:|------:|\n",
      "| compound_A549_short |          24 | 0.213 |\n",
      "| crispr_A549_long    |         144 | 0.538 |\n",
      "| crispr_A549_short   |          96 | 0.533 |\n",
      "| compound_A549_long  |          48 | 0.169 |\n",
      "| compound_U2OS_short |          24 | 0.07  |\n",
      "| crispr_U2OS_long    |         144 | 0.687 |\n",
      "| crispr_U2OS_short   |          96 | 0.531 |\n",
      "| compound_U2OS_long  |          48 | 0.246 |\n"
     ]
    }
   ],
   "source": [
    "print(matching_fr_df[[\"Description\", \"timepoint\", \"fr\"]].to_markdown(index=False))"
   ]
  },
  {
   "attachments": {},
   "cell_type": "markdown",
   "metadata": {
    "collapsed": false,
    "pycharm": {
     "name": "#%% md\n"
    }
   },
   "source": [
    "Gene-compound matching fraction retrieved."
   ]
  },
  {
   "cell_type": "code",
   "execution_count": 6,
   "metadata": {
    "collapsed": false,
    "pycharm": {
     "name": "#%%\n"
    }
   },
   "outputs": [
    {
     "name": "stdout",
     "output_type": "stream",
     "text": [
      "| Description                           | Cell   |    fr |\n",
      "|:--------------------------------------|:-------|------:|\n",
      "| compound_A549_short-crispr_A549_long  | A549   | 0.008 |\n",
      "| compound_A549_short-crispr_A549_short | A549   | 0.008 |\n",
      "| compound_A549_short-orf_A549_long     | A549   | 0     |\n",
      "| compound_A549_short-orf_A549_short    | A549   | 0     |\n",
      "| compound_A549_long-crispr_A549_long   | A549   | 0     |\n",
      "| compound_A549_long-crispr_A549_short  | A549   | 0.007 |\n",
      "| compound_A549_long-orf_A549_long      | A549   | 0     |\n",
      "| compound_A549_long-orf_A549_short     | A549   | 0     |\n",
      "| compound_U2OS_short-crispr_U2OS_long  | U2OS   | 0     |\n",
      "| compound_U2OS_short-crispr_U2OS_short | U2OS   | 0.008 |\n",
      "| compound_U2OS_short-orf_U2OS_short    | U2OS   | 0     |\n",
      "| compound_U2OS_short-orf_U2OS_long     | U2OS   | 0     |\n",
      "| compound_U2OS_long-crispr_U2OS_long   | U2OS   | 0     |\n",
      "| compound_U2OS_long-crispr_U2OS_short  | U2OS   | 0.009 |\n",
      "| compound_U2OS_long-orf_U2OS_short     | U2OS   | 0.075 |\n",
      "| compound_U2OS_long-orf_U2OS_long      | U2OS   | 0     |\n"
     ]
    }
   ],
   "source": [
    "print(\n",
    "    gene_compound_matching_fr_df[[\"Description\", \"Cell\", \"fr\"]].to_markdown(index=False)\n",
    ")"
   ]
  },
  {
   "cell_type": "code",
   "execution_count": 7,
   "metadata": {
    "collapsed": false,
    "pycharm": {
     "name": "#%%\n"
    }
   },
   "outputs": [
    {
     "data": {
      "image/png": "[encoded data removed]"
     },
     "metadata": {},
     "output_type": "display_data"
    }
   ],
   "source": [
    "fig = px.bar(\n",
    "    data_frame=replicability_fr_df,\n",
    "    x=\"Modality\",\n",
    "    y=\"fr\",\n",
    "    facet_row=\"Cell\",\n",
    "    facet_col=\"time\",\n",
    ")\n",
    "fig.update_layout(\n",
    "    xaxis1=dict(title=\"Perturbation\"),\n",
    "    xaxis2=dict(title=\"Perturbation\"),\n",
    "    yaxis1=dict(title=\"Fraction Retrieved\"),\n",
    "    yaxis3=dict(title=\"Fraction Retrieved\"),\n",
    ")\n",
    "fig.show(\"png\")\n",
    "fig.write_image(\n",
    "    f\"figures/1.CellProfiler_replicability_fr.png\", width=640, height=480, scale=2\n",
    ")"
   ]
  },
  {
   "cell_type": "code",
   "execution_count": 8,
   "metadata": {
    "collapsed": false,
    "pycharm": {
     "name": "#%%\n"
    }
   },
   "outputs": [
    {
     "data": {
      "image/png": "[encoded data removed]"
     },
     "metadata": {},
     "output_type": "display_data"
    }
   ],
   "source": [
    "fig = px.bar(\n",
    "    data_frame=matching_fr_df,\n",
    "    x=\"Modality\",\n",
    "    y=\"fr\",\n",
    "    facet_row=\"Cell\",\n",
    "    facet_col=\"time\",\n",
    ")\n",
    "fig.update_layout(\n",
    "    xaxis1=dict(title=\"Perturbation\"),\n",
    "    xaxis2=dict(title=\"Perturbation\"),\n",
    "    yaxis1=dict(title=\"Fraction Retrieved\"),\n",
    "    yaxis3=dict(title=\"Fraction Retrieved\"),\n",
    ")\n",
    "fig.show(\"png\")\n",
    "fig.write_image(\n",
    "    f\"figures/1.CellProfiler_matching_fr.png\", width=640, height=480, scale=2\n",
    ")"
   ]
  },
  {
   "cell_type": "code",
   "execution_count": 9,
   "metadata": {
    "collapsed": false,
    "pycharm": {
     "name": "#%%\n"
    }
   },
   "outputs": [
    {
     "data": {
      "image/png": "[encoded data removed]"
     },
     "metadata": {},
     "output_type": "display_data"
    }
   ],
   "source": [
    "fig = px.bar(\n",
    "    gene_compound_matching_fr_df,\n",
    "    x=\"Modality2\",\n",
    "    y=\"fr\",\n",
    "    facet_col=\"Modality1\",\n",
    "    facet_row=\"Cell\",\n",
    ")\n",
    "fig.update_layout(\n",
    "    xaxis1=dict(title=\"Genetic perturbation\"),\n",
    "    xaxis2=dict(title=\"Genetic perturbation\"),\n",
    "    yaxis1=dict(title=\"Fraction Retrieved\"),\n",
    "    yaxis3=dict(title=\"Fraction Retrieved\"),\n",
    ")\n",
    "fig.show(\"png\")\n",
    "fig.write_image(\n",
    "    f\"figures/1.CellProfiler_gene_compound_matching_fr.png\",\n",
    "    width=640,\n",
    "    height=480,\n",
    "    scale=2,\n",
    ")"
   ]
  },
  {
   "cell_type": "code",
   "execution_count": 10,
   "metadata": {
    "collapsed": false,
    "pycharm": {
     "name": "#%%\n"
    }
   },
   "outputs": [
    {
     "data": {
      "image/png": "[encoded data removed]"
     },
     "metadata": {},
     "output_type": "display_data"
    }
   ],
   "source": [
    "fig = px.box(\n",
    "    data_frame=replicability_map_df,\n",
    "    x=\"Modality\",\n",
    "    y=\"mean_average_precision\",\n",
    "    facet_row=\"Cell\",\n",
    "    facet_col=\"time\",\n",
    ")\n",
    "fig.update_layout(\n",
    "    xaxis1=dict(title=\"Perturbation\"),\n",
    "    xaxis2=dict(title=\"Perturbation\"),\n",
    "    yaxis1=dict(title=\"mAP\"),\n",
    "    yaxis3=dict(title=\"mAP\"),\n",
    ")\n",
    "fig.show(\"png\")\n",
    "fig.write_image(\n",
    "    f\"figures/1.CellProfiler_replicability_map.png\", width=640, height=480, scale=2\n",
    ")"
   ]
  },
  {
   "cell_type": "code",
   "execution_count": 11,
   "metadata": {
    "collapsed": false,
    "pycharm": {
     "name": "#%%\n"
    }
   },
   "outputs": [
    {
     "data": {
      "image/png": "[encoded data removed]"
     },
     "metadata": {},
     "output_type": "display_data"
    }
   ],
   "source": [
    "fig = px.box(\n",
    "    data_frame=matching_map_df,\n",
    "    x=\"Modality\",\n",
    "    y=\"mean_average_precision\",\n",
    "    facet_row=\"Cell\",\n",
    "    facet_col=\"time\",\n",
    ")\n",
    "fig.update_layout(\n",
    "    xaxis1=dict(title=\"Perturbation\"),\n",
    "    xaxis2=dict(title=\"Perturbation\"),\n",
    "    yaxis1=dict(title=\"mAP\"),\n",
    "    yaxis3=dict(title=\"mAP\"),\n",
    ")\n",
    "fig.show(\"png\")\n",
    "fig.write_image(\n",
    "    f\"figures/1.CellProfiler_matching_map.png\", width=640, height=480, scale=2\n",
    ")"
   ]
  },
  {
   "cell_type": "code",
   "execution_count": 12,
   "metadata": {
    "collapsed": false,
    "pycharm": {
     "name": "#%%\n"
    }
   },
   "outputs": [
    {
     "data": {
      "image/png": "[encoded data removed]"
     },
     "metadata": {},
     "output_type": "display_data"
    }
   ],
   "source": [
    "fig = px.box(\n",
    "    data_frame=gene_compound_matching_map_df,\n",
    "    x=\"Modality2\",\n",
    "    y=\"mean_average_precision\",\n",
    "    facet_col=\"Modality1\",\n",
    "    facet_row=\"Cell\",\n",
    ")\n",
    "fig.update_layout(\n",
    "    xaxis1=dict(title=\"Perturbation\"),\n",
    "    xaxis2=dict(title=\"Perturbation\"),\n",
    "    yaxis1=dict(title=\"mAP\"),\n",
    "    yaxis3=dict(title=\"mAP\"),\n",
    ")\n",
    "fig.show(\"png\")\n",
    "fig.write_image(\n",
    "    f\"figures/1.CellProfiler_gene_compound_matching_map.png\",\n",
    "    width=640,\n",
    "    height=480,\n",
    "    scale=2,\n",
    ")"
   ]
  },
  {
   "attachments": {},
   "cell_type": "markdown",
   "metadata": {},
   "source": [
    "Tables of mAP and fp values are written to file."
   ]
  },
  {
   "cell_type": "code",
   "execution_count": 13,
   "metadata": {
    "collapsed": false,
    "pycharm": {
     "name": "#%%\n"
    }
   },
   "outputs": [],
   "source": [
    "replicability_fr_df[[\"Modality\", \"Cell\", \"time\", \"fr\"]].to_csv(\n",
    "    \"output/cellprofiler_replicability_fr.csv\", index=False\n",
    ")\n",
    "replicability_map_df[\n",
    "    [\"Modality\", \"Cell\", \"time\", \"Metadata_broad_sample\", \"mean_average_precision\"]\n",
    "].to_csv(\"output/cellprofiler_replicability_map.csv\", index=False)\n",
    "matching_fr_df[[\"Modality\", \"Cell\", \"time\", \"fr\"]].to_csv(\n",
    "    \"output/cellprofiler_matching_fr.csv\", index=False\n",
    ")\n",
    "matching_map_df[[\"Modality\", \"Cell\", \"time\", \"mean_average_precision\"]].to_csv(\n",
    "    \"output/cellprofiler_matching_map.csv\", index=False\n",
    ")\n",
    "gene_compound_matching_fr_df[[\"Modality1\", \"Modality2\", \"Cell\", \"fr\"]].to_csv(\n",
    "    \"output/cellprofiler_gene_compound_matching_fr.csv\", index=False\n",
    ")\n",
    "gene_compound_matching_map_df[[\"Modality1\", \"Modality2\", \"Cell\", \"mean_average_precision\"]].to_csv(\n",
    "    \"output/cellprofiler_gene_compound_matching_map.csv\", index=False\n",
    ")"
   ]
  }
 ],
 "metadata": {
  "kernelspec": {
   "display_name": "analysis",
   "language": "python",
   "name": "python3"
  },
  "language_info": {
   "codemirror_mode": {
    "name": "ipython",
    "version": 3
   },
   "file_extension": ".py",
   "mimetype": "text/x-python",
   "name": "python",
   "nbconvert_exporter": "python",
   "pygments_lexer": "ipython3",
   "version": "3.10.6"
  },
  "vscode": {
   "interpreter": {
    "hash": "986381fcaa5fa2a4fbfcc238e5cd47c7186c89fa9a103f6aff6b597c4b48d920"
   }
  }
 },
 "nbformat": 4,
 "nbformat_minor": 0
}
