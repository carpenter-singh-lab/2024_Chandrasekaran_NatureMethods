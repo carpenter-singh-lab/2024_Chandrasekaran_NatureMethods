{
 "cells": [
  {
   "cell_type": "code",
   "execution_count": null,
   "metadata": {
    "collapsed": true,
    "pycharm": {
     "name": "#%%\n",
     "is_executing": true
    }
   },
   "outputs": [],
   "source": [
    "import plotly.express as px\n",
    "import pandas as pd\n",
    "import matplotlib.pyplot as plt"
   ]
  },
  {
   "cell_type": "markdown",
   "source": [
    "Code for generating Figure 2. The data tables from `10.average_precision_replicating.ipynb` and `12.average_precision_repliating_dl.ipynb`."
   ],
   "metadata": {
    "collapsed": false,
    "pycharm": {
     "name": "#%% md\n"
    }
   }
  },
  {
   "cell_type": "code",
   "execution_count": null,
   "outputs": [],
   "source": [
    "k = 5\n",
    "\n",
    "df = pd.concat([pd.read_csv('output/cellprofiler_precision_scores.csv'), pd.read_csv('output/deepprofiler_precision_scores.csv')], ignore_index=True, join=\"inner\")\n",
    "\n",
    "df.replace('compound', \"Compound\", inplace=True)\n",
    "df.replace('crispr', \"CRISPR\", inplace=True)\n",
    "df.replace('orf', \"ORF\", inplace=True)\n",
    "\n",
    "fig = px.bar(data_frame=df,\n",
    "             x='Perturbation',\n",
    "             y='mAP',\n",
    "             color='feature_set_replicates',\n",
    "             barmode='group',\n",
    "             facet_row='Cell',\n",
    "             facet_col='time')\n",
    "fig.update_layout(title='mAP vs. Perturbation',\n",
    "                  yaxis=dict(title='mAP'),\n",
    "                  yaxis3=dict(title='mAP'))\n",
    "fig.show(\"png\")\n",
    "fig.write_image(f'figures/13.figure_mAP.png', width=640, height=480, scale=2)"
   ],
   "metadata": {
    "collapsed": false,
    "pycharm": {
     "name": "#%%\n",
     "is_executing": true
    }
   }
  },
  {
   "cell_type": "code",
   "execution_count": null,
   "outputs": [],
   "source": [
    "fig = px.bar(data_frame=df,\n",
    "             x='Perturbation',\n",
    "             y='mPk',\n",
    "             color='feature_set_replicates',\n",
    "             barmode='group',\n",
    "             facet_row='Cell',\n",
    "             facet_col='time')\n",
    "fig.update_layout(title=f'mP@{k} vs. Perturbation',\n",
    "                  yaxis=dict(title=f'mP@{k}'),\n",
    "                  yaxis3=dict(title=f'mP@{k}'))\n",
    "fig.show(\"png\")\n",
    "fig.write_image(f'figures/13.figure_mPk.png', width=640, height=480, scale=2)"
   ],
   "metadata": {
    "collapsed": false,
    "pycharm": {
     "name": "#%%\n",
     "is_executing": true
    }
   }
  },
  {
   "cell_type": "code",
   "execution_count": null,
   "outputs": [],
   "source": [
    "fig = px.bar(data_frame=df,\n",
    "             x='Perturbation',\n",
    "             y='mPr',\n",
    "             color='feature_set_replicates',\n",
    "             barmode='group',\n",
    "             facet_row='Cell',\n",
    "             facet_col='time')\n",
    "fig.update_layout(title='mP@r vs. Perturbation',\n",
    "                  yaxis=dict(title='mP@r'),\n",
    "                  yaxis3=dict(title='mP@r'))\n",
    "fig.show(\"png\")\n",
    "fig.write_image(f'figures/13.figure_mPr.png', width=640, height=480, scale=2)"
   ],
   "metadata": {
    "collapsed": false,
    "pycharm": {
     "name": "#%%\n",
     "is_executing": true
    }
   }
  }
 ],
 "metadata": {
  "kernelspec": {
   "display_name": "Python 3",
   "language": "python",
   "name": "python3"
  },
  "language_info": {
   "codemirror_mode": {
    "name": "ipython",
    "version": 2
   },
   "file_extension": ".py",
   "mimetype": "text/x-python",
   "name": "python",
   "nbconvert_exporter": "python",
   "pygments_lexer": "ipython2",
   "version": "2.7.6"
  }
 },
 "nbformat": 4,
 "nbformat_minor": 0
}