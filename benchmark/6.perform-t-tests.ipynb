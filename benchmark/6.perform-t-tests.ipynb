{
 "cells": [
  {
   "cell_type": "code",
   "execution_count": 1,
   "metadata": {},
   "outputs": [],
   "source": [
    "import warnings\n",
    "\n",
    "warnings.simplefilter(action=\"ignore\", category=FutureWarning)\n",
    "import pandas as pd\n",
    "import scipy.stats as sps\n",
    "import utils"
   ]
  },
  {
   "attachments": {},
   "cell_type": "markdown",
   "metadata": {},
   "source": [
    "Perform t-tests for the following scenarios to see whether the mAP values are different\n",
    "- perturbation identification and matching vs. baseline.\n",
    "- ORF vs. CRISPR matching to compounds. "
   ]
  },
  {
   "cell_type": "code",
   "execution_count": 2,
   "metadata": {},
   "outputs": [],
   "source": [
    "cp_replicability_df = pd.read_csv(\"output/cellprofiler_replicability_map.csv\")\n",
    "cp_matching_df = pd.read_csv(\"output/cellprofiler_matching_map.csv\")\n",
    "cp_gene_compound_matching_df = pd.read_csv(\n",
    "    \"output/cellprofiler_gene_compound_matching_map.csv\"\n",
    ")\n",
    "\n",
    "replicability_df = pd.DataFrame()\n",
    "matching_df = pd.DataFrame()\n",
    "gene_compound_matching_df = pd.DataFrame()\n",
    "crispr_orf_df = pd.DataFrame()\n",
    "\n",
    "replicability_experimental_variables = (\"Modality\", \"Cell\", \"time\")\n",
    "matching_experimental_variables = (\"Modality\", \"Cell\", \"time\")\n",
    "gene_compound_matching_experimental_variables = (\"Modality1\", \"Modality2\", \"Cell\")\n",
    "crispr_orf_experimental_variables = [\"Modality1\", \"Cell\"]"
   ]
  },
  {
   "attachments": {},
   "cell_type": "markdown",
   "metadata": {},
   "source": [
    "### Perturbation detection mAP vs. baseline"
   ]
  },
  {
   "cell_type": "code",
   "execution_count": 3,
   "metadata": {},
   "outputs": [],
   "source": [
    "for experiment, experiment_df in cp_replicability_df.groupby(\n",
    "    list(replicability_experimental_variables)\n",
    "):\n",
    "    query_string = f'{replicability_experimental_variables[0]}==\"{experiment[0]}\" and \\\n",
    "        {replicability_experimental_variables[1]}==\"{experiment[1]}\" and \\\n",
    "            {replicability_experimental_variables[2]}==\"{experiment[2]}\"'\n",
    "\n",
    "    ttest_1sample = sps.ttest_1samp(experiment_df.mean_average_precision.values, 0)\n",
    "\n",
    "    replicability_df = replicability_df.append(\n",
    "        {\n",
    "            \"t-test\": \"Replicability\",\n",
    "            f\"{replicability_experimental_variables[0]}\": f\"{experiment[0]}\",\n",
    "            f\"{replicability_experimental_variables[1]}\": f\"{experiment[1]}\",\n",
    "            f\"{replicability_experimental_variables[2]}\": f\"{experiment[2]}\",\n",
    "            \"statistic\": f\"{ttest_1sample.statistic}\",\n",
    "            \"pvalue\": f\"{utils.convert_pvalue(ttest_1sample.pvalue)}\",\n",
    "        },\n",
    "        ignore_index=True,\n",
    "    )"
   ]
  },
  {
   "cell_type": "code",
   "execution_count": 4,
   "metadata": {},
   "outputs": [
    {
     "name": "stdout",
     "output_type": "stream",
     "text": [
      "| t-test        | Modality   | Cell   | time   |   statistic | pvalue   |\n",
      "|:--------------|:-----------|:-------|:-------|------------:|:---------|\n",
      "| Replicability | compound   | A549   | long   |     54.8318 | <0.05    |\n",
      "| Replicability | compound   | A549   | short  |     33.5299 | <0.05    |\n",
      "| Replicability | compound   | U2OS   | long   |     28.4879 | <0.05    |\n",
      "| Replicability | compound   | U2OS   | short  |     35.3446 | <0.05    |\n",
      "| Replicability | crispr     | A549   | long   |     32.6584 | <0.05    |\n",
      "| Replicability | crispr     | A549   | short  |     33.3071 | <0.05    |\n",
      "| Replicability | crispr     | U2OS   | long   |     32.5284 | <0.05    |\n",
      "| Replicability | crispr     | U2OS   | short  |     33.2953 | <0.05    |\n",
      "| Replicability | orf        | A549   | long   |     17.6019 | <0.05    |\n",
      "| Replicability | orf        | A549   | short  |     17.6278 | <0.05    |\n",
      "| Replicability | orf        | U2OS   | long   |     16.2907 | <0.05    |\n",
      "| Replicability | orf        | U2OS   | short  |     17.9468 | <0.05    |\n"
     ]
    }
   ],
   "source": [
    "print(\n",
    "    replicability_df[\n",
    "        [\"t-test\"]\n",
    "        + list(replicability_experimental_variables)\n",
    "        + [\"statistic\", \"pvalue\"]\n",
    "    ].to_markdown(index=False)\n",
    ")"
   ]
  },
  {
   "attachments": {},
   "cell_type": "markdown",
   "metadata": {},
   "source": [
    "### Within perturbation matching mAP vs. baseline"
   ]
  },
  {
   "cell_type": "code",
   "execution_count": 5,
   "metadata": {},
   "outputs": [],
   "source": [
    "for experiment, experiment_df in cp_matching_df.groupby(\n",
    "    list(matching_experimental_variables)\n",
    "):\n",
    "    query_string = f'{matching_experimental_variables[0]}==\"{experiment[0]}\" and \\\n",
    "        {matching_experimental_variables[1]}==\"{experiment[1]}\" and \\\n",
    "            {matching_experimental_variables[2]}==\"{experiment[2]}\"'\n",
    "\n",
    "    ttest_1sample = sps.ttest_1samp(experiment_df.mean_average_precision.values, 0)\n",
    "\n",
    "    matching_df = matching_df.append(\n",
    "        {\n",
    "            \"t-test\": \"Same perturbation type matching\",\n",
    "            f\"{matching_experimental_variables[0]}\": f\"{experiment[0]}\",\n",
    "            f\"{matching_experimental_variables[1]}\": f\"{experiment[1]}\",\n",
    "            f\"{matching_experimental_variables[2]}\": f\"{experiment[2]}\",\n",
    "            \"statistic\": f\"{ttest_1sample.statistic}\",\n",
    "            \"pvalue\": f\"{utils.convert_pvalue(ttest_1sample.pvalue)}\",\n",
    "        },\n",
    "        ignore_index=True,\n",
    "    )\n"
   ]
  },
  {
   "cell_type": "code",
   "execution_count": 6,
   "metadata": {},
   "outputs": [
    {
     "name": "stdout",
     "output_type": "stream",
     "text": [
      "| t-test                          | Modality   | Cell   | time   |   statistic | pvalue   |\n",
      "|:--------------------------------|:-----------|:-------|:-------|------------:|:---------|\n",
      "| Same perturbation type matching | compound   | A549   | long   |    11.5802  | <0.05    |\n",
      "| Same perturbation type matching | compound   | A549   | short  |    10.6303  | <0.05    |\n",
      "| Same perturbation type matching | compound   | U2OS   | long   |    12.8986  | <0.05    |\n",
      "| Same perturbation type matching | compound   | U2OS   | short  |    12.047   | <0.05    |\n",
      "| Same perturbation type matching | crispr     | A549   | long   |     4.59245 | <0.05    |\n",
      "| Same perturbation type matching | crispr     | A549   | short  |     4.22521 | <0.05    |\n",
      "| Same perturbation type matching | crispr     | U2OS   | long   |     4.64332 | <0.05    |\n",
      "| Same perturbation type matching | crispr     | U2OS   | short  |     4.1434  | <0.05    |\n"
     ]
    }
   ],
   "source": [
    "print(\n",
    "    matching_df[\n",
    "        [\"t-test\"]\n",
    "        + list(matching_experimental_variables)\n",
    "        + [\"statistic\", \"pvalue\"]\n",
    "    ].to_markdown(index=False)\n",
    ")"
   ]
  },
  {
   "attachments": {},
   "cell_type": "markdown",
   "metadata": {},
   "source": [
    "### Compound to genetic perturbation matching mAP vs. baseline"
   ]
  },
  {
   "cell_type": "code",
   "execution_count": 7,
   "metadata": {},
   "outputs": [],
   "source": [
    "for experiment, experiment_df in cp_gene_compound_matching_df.groupby(\n",
    "    list(gene_compound_matching_experimental_variables)\n",
    "):\n",
    "    query_string = f'{gene_compound_matching_experimental_variables[0]}==\"{experiment[0]}\" and \\\n",
    "        {gene_compound_matching_experimental_variables[1]}==\"{experiment[1]}\" and \\\n",
    "            {gene_compound_matching_experimental_variables[2]}==\"{experiment[2]}\"'\n",
    "\n",
    "    ttest_1sample = sps.ttest_1samp(experiment_df.mean_average_precision.values, 0)\n",
    "\n",
    "    gene_compound_matching_df = gene_compound_matching_df.append(\n",
    "        {\n",
    "            \"t-test\": \"Compoung-gene matching\",\n",
    "            \"Feature_set\": \"CellProfiler\",\n",
    "            f\"{gene_compound_matching_experimental_variables[0]}\": f\"{experiment[0]}\",\n",
    "            f\"{gene_compound_matching_experimental_variables[1]}\": f\"{experiment[1]}\",\n",
    "            f\"{gene_compound_matching_experimental_variables[2]}\": f\"{experiment[2]}\",\n",
    "            \"statistic\": f\"{ttest_1sample.statistic}\",\n",
    "            \"pvalue\": f\"{utils.convert_pvalue(ttest_1sample.pvalue)}\",\n",
    "        },\n",
    "        ignore_index=True,\n",
    "    )"
   ]
  },
  {
   "cell_type": "code",
   "execution_count": 8,
   "metadata": {},
   "outputs": [
    {
     "name": "stdout",
     "output_type": "stream",
     "text": [
      "| t-test                 | Modality1      | Modality2    | Cell   |   statistic | pvalue   |\n",
      "|:-----------------------|:---------------|:-------------|:-------|------------:|:---------|\n",
      "| Compoung-gene matching | compound_long  | crispr_long  | A549   |     7.06491 | <0.05    |\n",
      "| Compoung-gene matching | compound_long  | crispr_long  | U2OS   |     5.97384 | <0.05    |\n",
      "| Compoung-gene matching | compound_long  | crispr_short | A549   |     6.83458 | <0.05    |\n",
      "| Compoung-gene matching | compound_long  | crispr_short | U2OS   |     5.19219 | <0.05    |\n",
      "| Compoung-gene matching | compound_long  | orf_long     | A549   |    13.6708  | <0.05    |\n",
      "| Compoung-gene matching | compound_long  | orf_long     | U2OS   |     6.1091  | <0.05    |\n",
      "| Compoung-gene matching | compound_long  | orf_short    | A549   |    14.0282  | <0.05    |\n",
      "| Compoung-gene matching | compound_long  | orf_short    | U2OS   |     5.19261 | <0.05    |\n",
      "| Compoung-gene matching | compound_short | crispr_long  | A549   |     5.34495 | <0.05    |\n",
      "| Compoung-gene matching | compound_short | crispr_long  | U2OS   |     6.28517 | <0.05    |\n",
      "| Compoung-gene matching | compound_short | crispr_short | A549   |     5.39388 | <0.05    |\n",
      "| Compoung-gene matching | compound_short | crispr_short | U2OS   |     5.01404 | <0.05    |\n",
      "| Compoung-gene matching | compound_short | orf_long     | A549   |     6.8519  | <0.05    |\n",
      "| Compoung-gene matching | compound_short | orf_long     | U2OS   |     5.69504 | <0.05    |\n",
      "| Compoung-gene matching | compound_short | orf_short    | A549   |     8.79459 | <0.05    |\n",
      "| Compoung-gene matching | compound_short | orf_short    | U2OS   |     7.95658 | <0.05    |\n"
     ]
    }
   ],
   "source": [
    "print(\n",
    "    gene_compound_matching_df[\n",
    "        [\"t-test\"]\n",
    "        + list(gene_compound_matching_experimental_variables)\n",
    "        + [\"statistic\", \"pvalue\"]\n",
    "    ].to_markdown(index=False)\n",
    ")"
   ]
  },
  {
   "attachments": {},
   "cell_type": "markdown",
   "metadata": {},
   "source": [
    "### Compound to genetic perturbation matching mAP - ORF vs. CRISPR"
   ]
  },
  {
   "cell_type": "code",
   "execution_count": 9,
   "metadata": {},
   "outputs": [],
   "source": [
    "crispr_experiments = [\"crispr_long\", \"crispr_short\"]\n",
    "orf_experiments = [\"orf_long\", \"orf_short\"]\n",
    "\n",
    "for experiment, experiment_df in cp_gene_compound_matching_df.groupby(\n",
    "    list(crispr_orf_experimental_variables)\n",
    "):\n",
    "    query_string = f'{crispr_orf_experimental_variables[0]}==\"{experiment[0]}\" and \\\n",
    "        {crispr_orf_experimental_variables[1]}==\"{experiment[1]}\"'\n",
    "\n",
    "    for crispr in crispr_experiments:\n",
    "        crispr_df = experiment_df.query(\"Modality2==@crispr\")\n",
    "        for orf in orf_experiments:\n",
    "            orf_df = experiment_df.query(\"Modality2==@orf\")\n",
    "\n",
    "            ttest_2sample = sps.ttest_ind(crispr_df.mean_average_precision.values, orf_df.mean_average_precision.values)\n",
    "\n",
    "            crispr_orf_df = crispr_orf_df.append(\n",
    "                {\n",
    "                    \"t-test\": \"Compoung-gene matching - CRISPR vs. ORF\",\n",
    "                    \"Feature_set\": \"CellProfiler\",\n",
    "                    \"compound-crispr\": f\"{experiment[0]}-{crispr}\",\n",
    "                    \"Cell\": f\"{experiment[1]}\",\n",
    "                    \"compound-orf\": f\"{experiment[0]}-{orf}\",\n",
    "                    \"statistic\": f\"{ttest_2sample.statistic}\",\n",
    "                    \"pvalue\": f\"{utils.convert_pvalue(ttest_2sample.pvalue)}\",\n",
    "                },\n",
    "                ignore_index=True,\n",
    "            )"
   ]
  },
  {
   "cell_type": "code",
   "execution_count": 10,
   "metadata": {},
   "outputs": [
    {
     "name": "stdout",
     "output_type": "stream",
     "text": [
      "| t-test                                  | Cell   | compound-crispr             | compound-orf             |   statistic | pvalue   |\n",
      "|:----------------------------------------|:-------|:----------------------------|:-------------------------|------------:|:---------|\n",
      "| Compoung-gene matching - CRISPR vs. ORF | A549   | compound_long-crispr_long   | compound_long-orf_long   |    -4.78669 | <0.05    |\n",
      "| Compoung-gene matching - CRISPR vs. ORF | A549   | compound_long-crispr_long   | compound_long-orf_short  |    -4.07287 | <0.05    |\n",
      "| Compoung-gene matching - CRISPR vs. ORF | A549   | compound_long-crispr_short  | compound_long-orf_long   |    -5.07941 | <0.05    |\n",
      "| Compoung-gene matching - CRISPR vs. ORF | A549   | compound_long-crispr_short  | compound_long-orf_short  |    -4.3409  | <0.05    |\n",
      "| Compoung-gene matching - CRISPR vs. ORF | U2OS   | compound_long-crispr_long   | compound_long-orf_long   |    -3.18953 | <0.05    |\n",
      "| Compoung-gene matching - CRISPR vs. ORF | U2OS   | compound_long-crispr_long   | compound_long-orf_short  |    -1.5651  | 0.12     |\n",
      "| Compoung-gene matching - CRISPR vs. ORF | U2OS   | compound_long-crispr_short  | compound_long-orf_long   |    -4.90651 | <0.05    |\n",
      "| Compoung-gene matching - CRISPR vs. ORF | U2OS   | compound_long-crispr_short  | compound_long-orf_short  |    -3.13297 | <0.05    |\n",
      "| Compoung-gene matching - CRISPR vs. ORF | A549   | compound_short-crispr_long  | compound_short-orf_long  |    -3.60435 | <0.05    |\n",
      "| Compoung-gene matching - CRISPR vs. ORF | A549   | compound_short-crispr_long  | compound_short-orf_short |    -4.57786 | <0.05    |\n",
      "| Compoung-gene matching - CRISPR vs. ORF | A549   | compound_short-crispr_short | compound_short-orf_long  |    -4.31286 | <0.05    |\n",
      "| Compoung-gene matching - CRISPR vs. ORF | A549   | compound_short-crispr_short | compound_short-orf_short |    -5.42921 | <0.05    |\n",
      "| Compoung-gene matching - CRISPR vs. ORF | U2OS   | compound_short-crispr_long  | compound_short-orf_long  |    -4.34742 | <0.05    |\n",
      "| Compoung-gene matching - CRISPR vs. ORF | U2OS   | compound_short-crispr_long  | compound_short-orf_short |    -2.52457 | <0.05    |\n",
      "| Compoung-gene matching - CRISPR vs. ORF | U2OS   | compound_short-crispr_short | compound_short-orf_long  |    -4.49552 | <0.05    |\n",
      "| Compoung-gene matching - CRISPR vs. ORF | U2OS   | compound_short-crispr_short | compound_short-orf_short |    -2.91253 | <0.05    |\n"
     ]
    }
   ],
   "source": [
    "print(crispr_orf_df[['t-test', 'Cell', 'compound-crispr','compound-orf','statistic', 'pvalue']].to_markdown(index=False))"
   ]
  },
  {
   "cell_type": "markdown",
   "metadata": {},
   "source": [
    "Write to file"
   ]
  },
  {
   "cell_type": "code",
   "execution_count": 11,
   "metadata": {},
   "outputs": [],
   "source": [
    "replicability_df[\n",
    "    [\"t-test\"]\n",
    "    + list(replicability_experimental_variables)\n",
    "    + [\"statistic\", \"pvalue\"]\n",
    "].to_csv(\"output/replicability_pvalue.csv\", index=False)\n",
    "matching_df[\n",
    "    [\"t-test\"]\n",
    "    + list(matching_experimental_variables)\n",
    "    + [\"statistic\", \"pvalue\"]\n",
    "].to_csv(\"output/matching_pvalue.csv\", index=False)\n",
    "gene_compound_matching_df[\n",
    "    [\"t-test\"]\n",
    "    + list(gene_compound_matching_experimental_variables)\n",
    "    + [\"statistic\", \"pvalue\"]\n",
    "].to_csv(\"output/gene_compound_matching_pvalue.csv\", index=False)\n",
    "crispr_orf_df[\n",
    "    [\n",
    "        \"t-test\",\n",
    "        \"Cell\",\n",
    "        \"compound-crispr\",\n",
    "        \"compound-orf\",\n",
    "        \"statistic\",\n",
    "        \"pvalue\",\n",
    "    ]\n",
    "].to_csv(\"output/crispr_orf_pvalue.csv\", index=False)"
   ]
  }
 ],
 "metadata": {
  "kernelspec": {
   "display_name": "analysis",
   "language": "python",
   "name": "python3"
  },
  "language_info": {
   "codemirror_mode": {
    "name": "ipython",
    "version": 3
   },
   "file_extension": ".py",
   "mimetype": "text/x-python",
   "name": "python",
   "nbconvert_exporter": "python",
   "pygments_lexer": "ipython3",
   "version": "3.10.6"
  },
  "orig_nbformat": 4,
  "vscode": {
   "interpreter": {
    "hash": "986381fcaa5fa2a4fbfcc238e5cd47c7186c89fa9a103f6aff6b597c4b48d920"
   }
  }
 },
 "nbformat": 4,
 "nbformat_minor": 2
}
