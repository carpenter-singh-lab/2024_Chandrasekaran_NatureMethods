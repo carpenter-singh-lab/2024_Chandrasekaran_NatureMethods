{
 "cells": [
  {
   "cell_type": "code",
   "execution_count": 1,
   "metadata": {
    "collapsed": true,
    "pycharm": {
     "name": "#%%\n"
    }
   },
   "outputs": [],
   "source": [
    "import pandas as pd\n",
    "import utils\n",
    "import numpy as np\n",
    "import plotly.express as px\n",
    "\n",
    "np.random.seed(9000)"
   ]
  },
  {
   "cell_type": "markdown",
   "source": [
    "In this notebook we calculate `mean average precision` for a subset of the plates (U2OS at the longest time point) whose features were extracted using a pre-trained neural network. The following are the steps taken\n",
    "1. Augmented ORF, CRISPR and Compound profiles are read and the replicate plates are merged into a single dataframe.\n",
    "2. The augmented ORF, CRISPR and Compound profiles are spherized separately.\n",
    "3. Negative control and empty wells are removed from the dataframe.\n",
    "4. Negative control and empty wells are removed from the dataframe.\n",
    "5. Average precision (AP) is computed for each replicate of each perturbation and the mean average precision (mAP) is computed for each condition.\n",
    "6. The same is repeated for after shuffling the dataframe which is an estimate of the null distribution.\n",
    "7. Table of mAP values is printed and bar plot of mAP values is plotted."
   ],
   "metadata": {
    "collapsed": false,
    "pycharm": {
     "name": "#%% md\n"
    }
   }
  },
  {
   "cell_type": "code",
   "execution_count": 2,
   "outputs": [],
   "source": [
    "cell = \"U2OS\"\n",
    "mean_average_precision_df = pd.DataFrame()\n",
    "group_by_feature = 'Metadata_broad_sample'\n",
    "batch = \"2020_11_04_CPJUMP1_DL\"\n",
    "\n",
    "experiment_df = (\n",
    "    pd.read_csv('output/experiment-metadata.tsv', sep='\\t')\n",
    "    .query('Batch==@batch')\n",
    ")"
   ],
   "metadata": {
    "collapsed": false,
    "pycharm": {
     "name": "#%%\n"
    }
   }
  },
  {
   "cell_type": "code",
   "source": [
    "for modality in experiment_df.Perturbation.unique():\n",
    "    modality_df = experiment_df.query('Perturbation==@modality')\n",
    "    for time_point in modality_df.Time.unique():\n",
    "        time_df = modality_df.query('Time==@time_point')\n",
    "        all_plates_df = pd.DataFrame()\n",
    "        for plate in time_df.Assay_Plate_Barcode.unique():\n",
    "            plate_df = utils.load_data(batch, plate, \"spherized.csv.gz\")\n",
    "            all_plates_df = utils.concat_profiles(all_plates_df, plate_df)\n",
    "\n",
    "        all_plates_df = utils.remove_negcon_empty_wells(all_plates_df)\n",
    "\n",
    "        score = utils.MeanAveragePrecision(all_plates_df, all_plates_df, group_by_feature)\n",
    "\n",
    "        mean_average_precision_df = mean_average_precision_df.append({'Description':f'{modality}_{cell}_{time_point}',\n",
    "                                                                      'Modality':f'{modality}',\n",
    "                                                                      'Cell':f'{cell}',\n",
    "                                                                      'time':f'{time_point}',\n",
    "                                                                      'mAP':f'{score.map:.3f}',\n",
    "                                                                      'feature_set_replicates':'DP_True'}, ignore_index=True)\n",
    "\n",
    "        all_plates_shuffled_df = utils.shuffle_profiles(all_plates_df)\n",
    "        score_shuffled = utils.MeanAveragePrecision(all_plates_shuffled_df, all_plates_shuffled_df, group_by_feature)\n",
    "\n",
    "        mean_average_precision_df = mean_average_precision_df.append({'Description':f'{modality}_{cell}_{time_point}',\n",
    "                                                                      'Modality':f'{modality}',\n",
    "                                                                      'Cell':f'{cell}',\n",
    "                                                                      'time':f'{time_point}',\n",
    "                                                                      'mAP':f'{score_shuffled.map:.3f}',\n",
    "                                                                      'feature_set_replicates':'DP_Shuffled'}, ignore_index=True)"
   ],
   "metadata": {
    "collapsed": false,
    "pycharm": {
     "name": "#%%\n"
    }
   },
   "execution_count": 3,
   "outputs": []
  },
  {
   "cell_type": "code",
   "execution_count": 4,
   "outputs": [
    {
     "name": "stdout",
     "output_type": "stream",
     "text": [
      "| Description      |   mAP | feature_set_replicates   |\n",
      "|:-----------------|------:|:-------------------------|\n",
      "| compound_U2OS_48 | 0.5   | DP_True                  |\n",
      "| crispr_U2OS_144  | 0.289 | DP_True                  |\n",
      "| orf_U2OS_96      | 0.321 | DP_True                  |\n"
     ]
    }
   ],
   "source": [
    "print(mean_average_precision_df[['Description', 'mAP','feature_set_replicates']].query('feature_set_replicates==\"DP_True\"').to_markdown(index=False))"
   ],
   "metadata": {
    "collapsed": false,
    "pycharm": {
     "name": "#%%\n"
    }
   }
  },
  {
   "cell_type": "code",
   "execution_count": 5,
   "outputs": [
    {
     "name": "stdout",
     "output_type": "stream",
     "text": [
      "| Description      |   mAP | feature_set_replicates   |\n",
      "|:-----------------|------:|:-------------------------|\n",
      "| compound_U2OS_48 | 0.021 | DP_Shuffled              |\n",
      "| crispr_U2OS_144  | 0.021 | DP_Shuffled              |\n",
      "| orf_U2OS_96      | 0.075 | DP_Shuffled              |\n"
     ]
    }
   ],
   "source": [
    "print(mean_average_precision_df[['Description', 'mAP','feature_set_replicates']].query('feature_set_replicates==\"DP_Shuffled\"').to_markdown(index=False))"
   ],
   "metadata": {
    "collapsed": false,
    "pycharm": {
     "name": "#%%\n"
    }
   }
  },
  {
   "cell_type": "code",
   "execution_count": 6,
   "outputs": [],
   "source": [
    "mean_average_precision_df['mAP'] = mean_average_precision_df['mAP'].astype(float)\n",
    "\n",
    "mean_average_precision_df.loc[(mean_average_precision_df.Modality=='compound') & (mean_average_precision_df.time=='24'), 'time'] = 'short'\n",
    "mean_average_precision_df.loc[(mean_average_precision_df.Modality=='compound') & (mean_average_precision_df.time=='48'), 'time'] = 'long'\n",
    "mean_average_precision_df.loc[(mean_average_precision_df.Modality=='crispr') & (mean_average_precision_df.time=='96'), 'time'] = 'short'\n",
    "mean_average_precision_df.loc[(mean_average_precision_df.Modality=='crispr') & (mean_average_precision_df.time=='144'), 'time'] = 'long'\n",
    "mean_average_precision_df.loc[(mean_average_precision_df.Modality=='orf') & (mean_average_precision_df.time=='48'), 'time'] = 'short'\n",
    "mean_average_precision_df.loc[(mean_average_precision_df.Modality=='orf') & (mean_average_precision_df.time=='96'), 'time'] = 'long'\n",
    "\n",
    "plot_mAP_df = (\n",
    "    mean_average_precision_df.rename(columns={'Modality':'Perturbation'})\n",
    ")"
   ],
   "metadata": {
    "collapsed": false,
    "pycharm": {
     "name": "#%%\n"
    }
   }
  },
  {
   "cell_type": "code",
   "execution_count": 7,
   "outputs": [
    {
     "data": {
      "image/png": "[encoded data removed]"
     },
     "metadata": {},
     "output_type": "display_data"
    }
   ],
   "source": [
    "fig = px.bar(data_frame=plot_mAP_df,\n",
    "             x='Perturbation',\n",
    "             y='mAP',\n",
    "             color='feature_set_replicates',\n",
    "             barmode='overlay',\n",
    "             facet_row='time',\n",
    "             facet_col='Cell')\n",
    "fig.update_layout(title='mAP vs. Perturbation',\n",
    "                  yaxis=dict(title='mAP'),\n",
    "                  yaxis3=dict(title='mAP'))\n",
    "fig.show(\"png\")\n",
    "fig.write_image(f'figures/12.mAP_CellProfiler.png', width=640, height=480, scale=2)"
   ],
   "metadata": {
    "collapsed": false,
    "pycharm": {
     "name": "#%%\n"
    }
   }
  },
  {
   "cell_type": "code",
   "execution_count": 8,
   "outputs": [
    {
     "name": "stdout",
     "output_type": "stream",
     "text": [
      "| Description      | Perturbation   | time   | Cell   |   mAP | feature_set_replicates   |\n",
      "|:-----------------|:---------------|:-------|:-------|------:|:-------------------------|\n",
      "| compound_U2OS_48 | compound       | long   | U2OS   | 0.5   | DP_True                  |\n",
      "| compound_U2OS_48 | compound       | long   | U2OS   | 0.021 | DP_Shuffled              |\n",
      "| crispr_U2OS_144  | crispr         | long   | U2OS   | 0.289 | DP_True                  |\n",
      "| crispr_U2OS_144  | crispr         | long   | U2OS   | 0.021 | DP_Shuffled              |\n",
      "| orf_U2OS_96      | orf            | long   | U2OS   | 0.321 | DP_True                  |\n",
      "| orf_U2OS_96      | orf            | long   | U2OS   | 0.075 | DP_Shuffled              |\n"
     ]
    }
   ],
   "source": [
    "print(plot_mAP_df[['Description','Perturbation','time', 'Cell' ,'mAP', 'feature_set_replicates']].to_markdown(index=False))"
   ],
   "metadata": {
    "collapsed": false,
    "pycharm": {
     "name": "#%%\n"
    }
   }
  },
  {
   "cell_type": "code",
   "execution_count": 9,
   "outputs": [],
   "source": [
    "plot_mAP_df.to_csv('output/deepprofiler_mAP.csv', index=False)"
   ],
   "metadata": {
    "collapsed": false,
    "pycharm": {
     "name": "#%%\n"
    }
   }
  }
 ],
 "metadata": {
  "kernelspec": {
   "display_name": "Python 3",
   "language": "python",
   "name": "python3"
  },
  "language_info": {
   "codemirror_mode": {
    "name": "ipython",
    "version": 2
   },
   "file_extension": ".py",
   "mimetype": "text/x-python",
   "name": "python",
   "nbconvert_exporter": "python",
   "pygments_lexer": "ipython2",
   "version": "2.7.6"
  }
 },
 "nbformat": 4,
 "nbformat_minor": 0
}