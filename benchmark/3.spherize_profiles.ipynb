{
 "cells": [
  {
   "cell_type": "code",
   "execution_count": 1,
   "metadata": {
    "collapsed": true
   },
   "outputs": [],
   "source": [
    "import pandas as pd\n",
    "import utils\n",
    "import random\n",
    "\n",
    "random.seed(9000)"
   ]
  },
  {
   "cell_type": "markdown",
   "source": [
    "In this notebook, the CellProfiler features of the compound plates are spherized and written to file. The whole plate normalized ORF, CRISPR and Compound profiles are read and the replicate plates are merged into a single dataframe. Then they are spherized and the output is written to file."
   ],
   "metadata": {
    "collapsed": false,
    "pycharm": {
     "name": "#%% md\n"
    }
   }
  },
  {
   "cell_type": "code",
   "execution_count": 2,
   "outputs": [],
   "source": [
    "experiment = {\n",
    "    'ORF':{'A549':{'48':{'BR00117020':'A549 48-hour ORF Plate 1',\n",
    "                         'BR00117021':'A549 48-hour ORF Plate 2'\n",
    "                         },\n",
    "                   '96':{'BR00118050':'A549 96-hour ORF Plate 1',\n",
    "                         'BR00117006':'A549 96-hour ORF Plate 2'\n",
    "                         }\n",
    "                   },\n",
    "           'U2OS':{'48':{'BR00117022':'U2OS 48-hour ORF Plate 1',\n",
    "                         'BR00117023':'U2OS 48-hour ORF Plate 2'\n",
    "                         },\n",
    "                   '96':{'BR00118039':'U2OS 96-hour ORF Plate 1',\n",
    "                         'BR00118040':'U2OS 96-hour ORF Plate 2'\n",
    "                         }\n",
    "                   }\n",
    "           },\n",
    "    'CRISPR':{'A549':{'96':{'BR00118041':'A549 96-hour CRISPR Plate 1',\n",
    "                            'BR00118042':'A549 96-hour CRISPR Plate 2',\n",
    "                            'BR00118043':'A549 96-hour CRISPR Plate 3',\n",
    "                            'BR00118044':'A549 96-hour CRISPR Plate 4'\n",
    "                            },\n",
    "                      '144':{'BR00117003':'A549 144-hour CRISPR Plate 1',\n",
    "                             'BR00117004':'A549 144-hour CRISPR Plate 2',\n",
    "                             'BR00117005':'A549 144-hour CRISPR Plate 3',\n",
    "                             'BR00117000':'A549 144-hour CRISPR Plate 4'\n",
    "                             }\n",
    "                      },\n",
    "              'U2OS':{'96':{'BR00118045':'U2OS 96-hour CRISPR Plate 1',\n",
    "                            'BR00118046':'U2OS 96-hour CRISPR Plate 2',\n",
    "                            'BR00118047':'U2OS 96-hour CRISPR Plate 3',\n",
    "                            'BR00118048':'U2OS 96-hour CRISPR Plate 4'\n",
    "                            },\n",
    "                      '144':{'BR00116997':'U2OS 144-hour CRISPR Plate 1',\n",
    "                             'BR00116998':'U2OS 144-hour CRISPR Plate 2',\n",
    "                             'BR00116999':'U2OS 144-hour CRISPR Plate 3',\n",
    "                             'BR00116996':'U2OS 144-hour CRISPR Plate 4'\n",
    "                             }\n",
    "                      }\n",
    "              },\n",
    "    'Compound':{'A549':{'24':{'BR00116991':'A549 24-hour Compound Plate 1',\n",
    "                              'BR00116992':'A549 24-hour Compound Plate 2',\n",
    "                              'BR00116993':'A549 24-hour Compound Plate 3',\n",
    "                              'BR00116994':'A549 24-hour Compound Plate 4'\n",
    "                              },\n",
    "                        '48':{'BR00117017':'A549 48-hour Compound Plate 1',\n",
    "                              'BR00117019':'A549 48-hour Compound Plate 2',\n",
    "                              'BR00117015':'A549 48-hour Compound Plate 3',\n",
    "                              'BR00117016':'A549 48-hour Compound Plate 4'\n",
    "                              }\n",
    "                        },\n",
    "                'U2OS':{'24':{'BR00116995':'U2OS 24-hour Compound Plate 1',\n",
    "                              'BR00117024':'U2OS 24-hour Compound Plate 2',\n",
    "                              'BR00117025':'U2OS 24-hour Compound Plate 3',\n",
    "                              'BR00117026':'U2OS 24-hour Compound Plate 4'\n",
    "                              },\n",
    "                        '48':{'BR00117012':'U2OS 48-hour Compound Plate 1',\n",
    "                              'BR00117013':'U2OS 48-hour Compound Plate 2',\n",
    "                              'BR00117010':'U2OS 48-hour Compound Plate 3',\n",
    "                              'BR00117011':'U2OS 48-hour Compound Plate 4'\n",
    "                              }\n",
    "                        }\n",
    "                }\n",
    "}\n",
    "\n",
    "experiment_name = \"2020_11_04_CPJUMP1\""
   ],
   "metadata": {
    "collapsed": false,
    "pycharm": {
     "name": "#%%\n"
    }
   }
  },
  {
   "cell_type": "code",
   "execution_count": 3,
   "outputs": [],
   "source": [
    "for modality in experiment:\n",
    "    for cell_line in experiment[modality]:\n",
    "        for time in experiment[modality][cell_line]:\n",
    "            experiment_df = pd.DataFrame()\n",
    "            for plate in experiment[modality][cell_line][time]:\n",
    "                data_df = (\n",
    "                    utils.load_data(experiment_name, plate, \"normalized.csv.gz\")\n",
    "            )\n",
    "\n",
    "                experiment_df = utils.concat_profiles(experiment_df, data_df)\n",
    "\n",
    "            experiment_df = utils.sphere_plate_zca_corr(experiment_df)\n",
    "\n",
    "            for plate in experiment[modality][cell_line][time]:\n",
    "                df = experiment_df.query('Metadata_Plate==@plate')\n",
    "                df.to_csv(f'../profiles/{experiment_name}/{plate}/{plate}_spherized.csv.gz', index=False, float_format='%.5g')\n"
   ],
   "metadata": {
    "collapsed": false,
    "pycharm": {
     "name": "#%%\n"
    }
   }
  }
 ],
 "metadata": {
  "kernelspec": {
   "display_name": "Python 3",
   "language": "python",
   "name": "python3"
  },
  "language_info": {
   "codemirror_mode": {
    "name": "ipython",
    "version": 2
   },
   "file_extension": ".py",
   "mimetype": "text/x-python",
   "name": "python",
   "nbconvert_exporter": "python",
   "pygments_lexer": "ipython2",
   "version": "2.7.6"
  }
 },
 "nbformat": 4,
 "nbformat_minor": 0
}