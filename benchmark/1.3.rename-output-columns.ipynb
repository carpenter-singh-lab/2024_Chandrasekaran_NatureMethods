{
 "cells": [
  {
   "cell_type": "code",
   "execution_count": 1,
   "metadata": {},
   "outputs": [],
   "source": [
    "import pandas as pd"
   ]
  },
  {
   "cell_type": "markdown",
   "metadata": {},
   "source": [
    "Rename column names in the mAP files\n",
    "\n",
    "q value in column names will be converted to corrected p value."
   ]
  },
  {
   "cell_type": "code",
   "execution_count": 2,
   "metadata": {},
   "outputs": [],
   "source": [
    "def rename_columns(df):\n",
    "    df.rename(\n",
    "        columns={\n",
    "            \"q_value\": \"corrected_p_value\",\n",
    "            \"nlog10qvalue\": \"nlog10correctedpvalue\",\n",
    "            \"above_q_threshold\": \"above_corrected_p_threshold\",\n",
    "        },\n",
    "        inplace=True,\n",
    "    )\n",
    "    return df"
   ]
  },
  {
   "cell_type": "code",
   "execution_count": 3,
   "metadata": {},
   "outputs": [],
   "source": [
    "filenames = [\n",
    "    \"cellprofiler_replicability_map.csv\",\n",
    "    \"cellprofiler_matching_map.csv\",\n",
    "    \"cellprofiler_gene_compound_matching_map.csv\",\n",
    "    \"cellprofiler_replicability_orf_same_map.csv\",\n",
    "    \"cellprofiler_replicability_orf_different_map.csv\"\n",
    "]\n",
    "\n",
    "for filename in filenames:\n",
    "    df = pd.read_csv(f\"output/{filename}\")\n",
    "    df = rename_columns(df)\n",
    "    df.to_csv(f\"output/{filename}\", index=False)"
   ]
  }
 ],
 "metadata": {
  "kernelspec": {
   "display_name": "analysis",
   "language": "python",
   "name": "python3"
  },
  "language_info": {
   "codemirror_mode": {
    "name": "ipython",
    "version": 3
   },
   "file_extension": ".py",
   "mimetype": "text/x-python",
   "name": "python",
   "nbconvert_exporter": "python",
   "pygments_lexer": "ipython3",
   "version": "3.10.6"
  }
 },
 "nbformat": 4,
 "nbformat_minor": 2
}
