{
 "cells": [
  {
   "cell_type": "code",
   "execution_count": 1,
   "metadata": {
    "collapsed": true,
    "pycharm": {
     "name": "#%%\n"
    }
   },
   "outputs": [],
   "source": [
    "import pandas as pd\n",
    "import utils\n",
    "import numpy as np\n",
    "import plotly.express as px\n",
    "\n",
    "np.random.seed(9000)"
   ]
  },
  {
   "cell_type": "markdown",
   "source": [
    "TODO\n",
    "\n",
    "In this notebook, we calculate the `Percent Matching` score between chemical and genetic perturbations. The following are the steps taken\n",
    "1. Normalized, feature selected ORF, CRISPR and Compound profiles are read and the replicate plates are merged into a single dataframe, for each time point and cell line.\n",
    "2. All the target annotations of the compounds are used in this analysis.\n",
    "3. Negative control and empty wells are removed from the dataframe.\n",
    "4. The signal distribution, which is the median pairwise correlation between each Compound-CRISPR or Compound-ORF pair (that target the same gene), is computed.\n",
    "5. The null distribution, which is the median pairwise correlation of Compound-CRISPRs or Compound-ORF that target different genes, is computed for 1000 combinations of Compound-CRISPRs or Compound-ORFs.\n",
    "6. Percent Matching is computed as the percentage of the signal distribution that is the greater than the 95th percentile of null distribution\n",
    "7. The signal and noise distributions and the Percent Matching values are plotted and the table of Percent Matching is printed."
   ],
   "metadata": {
    "collapsed": false,
    "pycharm": {
     "name": "#%% md\n"
    }
   }
  },
  {
   "cell_type": "code",
   "execution_count": 2,
   "outputs": [],
   "source": [
    "mean_average_precision_df = pd.DataFrame()\n",
    "batch = \"2020_11_04_CPJUMP1\"\n",
    "\n",
    "experiment_df = (\n",
    "    pd.read_csv('output/experiment-metadata.tsv', sep='\\t')\n",
    "    .query('Batch==@batch')\n",
    "    .query('Density==\"100\"')\n",
    "    .query('Antibiotics==\"absent\"')\n",
    ")\n",
    "\n",
    "experiment_df.drop(experiment_df[(experiment_df.Perturbation == \"compound\") & (experiment_df.Cell_line == \"Cas9\")].index, inplace=True)\n",
    "\n",
    "target1_metadata = (\n",
    "    pd.read_csv('input/JUMP-Target-1_compound_metadata_additional_annotations.tsv', sep='\\t', usecols=['broad_sample', 'target_list'])\n",
    "    .rename(columns={'broad_sample':'Metadata_broad_sample', 'target_list':'Metadata_target_list'})\n",
    ")"
   ],
   "metadata": {
    "collapsed": false,
    "pycharm": {
     "name": "#%%\n"
    }
   }
  },
  {
   "cell_type": "code",
   "execution_count": null,
   "outputs": [],
   "source": [
    "for cell in experiment_df.Cell_type.unique():\n",
    "    cell_df = experiment_df.query('Cell_type==@cell')\n",
    "    modality_1_perturbation = \"compound\"\n",
    "    modality_1_experiments_df = cell_df.query('Perturbation==@modality_1_perturbation')\n",
    "    for modality_1_timepoint in modality_1_experiments_df.Time.unique():\n",
    "        modality_1_timepoint_df = modality_1_experiments_df.query('Time==@modality_1_timepoint')\n",
    "        modality_1_df = pd.DataFrame()\n",
    "        for plate in modality_1_timepoint_df.Assay_Plate_Barcode.unique():\n",
    "            data_df = (\n",
    "                utils.load_data(batch, plate, \"normalized_feature_select_negcon_batch.csv.gz\")\n",
    "                .assign(Metadata_modality=modality_1_perturbation)\n",
    "            )\n",
    "            modality_1_df = utils.concat_profiles(modality_1_df, data_df)\n",
    "\n",
    "        modality_1_df = utils.remove_negcon_empty_wells(modality_1_df)\n",
    "        modality_1_consensus_df = utils.consensus(modality_1_df, \"Metadata_broad_sample\")\n",
    "\n",
    "        modality_1_consensus_df = (\n",
    "            modality_1_consensus_df.merge(target1_metadata, on='Metadata_broad_sample', how='left')\n",
    "            .assign(Metadata_gene=lambda x: x.Metadata_target_list.str.split('|'))\n",
    "            .assign(Metadata_gene_list=lambda x: x.Metadata_target_list.str.split('|'))\n",
    "            .explode('Metadata_gene')\n",
    "            .reset_index(drop=True)\n",
    "        )\n",
    "\n",
    "        modality_1_consensus_shuffled_df = utils.shuffle_profiles(modality_1_consensus_df)\n",
    "\n",
    "        both_modality_2_experiments_df = cell_df.query('Perturbation!=@modality_1_perturbation')\n",
    "        for modality_2_perturbation in both_modality_2_experiments_df.Perturbation.unique():\n",
    "            modality_2_experiments_df = both_modality_2_experiments_df.query('Perturbation==@modality_2_perturbation')\n",
    "            for modality_2_timepoint in modality_2_experiments_df.Time.unique():\n",
    "                modality_2_timepoint_df = modality_2_experiments_df.query('Time==@modality_2_timepoint')\n",
    "                modality_2_df = pd.DataFrame()\n",
    "                for plate in modality_2_timepoint_df.Assay_Plate_Barcode.unique():\n",
    "                    data_df = (\n",
    "                        utils.load_data(batch, plate, \"normalized_feature_select_negcon_batch.csv.gz\")\n",
    "                        .assign(Metadata_modality=modality_2_perturbation)\n",
    "                        .assign(Metadata_gene_list=lambda x: x.Metadata_gene)\n",
    "                    )\n",
    "                    modality_2_df = utils.concat_profiles(modality_1_df, data_df)\n",
    "\n",
    "                modality_2_df = utils.remove_negcon_empty_wells(modality_2_df)\n",
    "\n",
    "                modality_2_consensus_df = utils.consensus(modality_2_df, \"Metadata_broad_sample\")\n",
    "                modality_2_consensus_shuffled_df = utils.shuffle_profiles(modality_2_consensus_df)\n",
    "\n",
    "                modality_2_genes = list(np.unique(list(modality_2_consensus_df.Metadata_gene)))\n",
    "                modality_1_consensus_filtered_df = modality_1_consensus_df.query('Metadata_gene==@modality_2_genes').reset_index(drop=True)\n",
    "                modality_1_consensus_shuffled_filtered_df = modality_1_consensus_shuffled_df.query('Metadata_gene==@modality_2_genes').reset_index(drop=True)\n",
    "\n",
    "                score = utils.MeanAveragePrecision(modality_1_consensus_filtered_df, modality_2_consensus_df, \"Metadata_gene\")\n",
    "\n",
    "                mean_average_precision_df = mean_average_precision_df.append({'Description':f'{modality_1_perturbation}_{cell}_{modality_1_timepoint} vs. {modality_2_perturbation}_{cell}_{modality_2_timepoint}',\n",
    "                                                                              'mAP':f'{score.map:.3f}',\n",
    "                                                                              'Matches':'True'}, ignore_index=True)\n",
    "\n",
    "                score_shuffled = utils.MeanAveragePrecision(modality_1_consensus_shuffled_filtered_df, modality_2_consensus_shuffled_df, \"Metadata_gene\")\n",
    "\n",
    "                mean_average_precision_df = mean_average_precision_df.append({'Description':f'{modality_1_perturbation}_{cell}_{modality_1_timepoint} vs. {modality_2_perturbation}_{cell}_{modality_2_timepoint}',\n",
    "                                                                              'mAP':f'{score_shuffled.map:.3f}',\n",
    "                                                                              'Matches':'Shuffled'}, ignore_index=True)\n"
   ],
   "metadata": {
    "collapsed": false,
    "pycharm": {
     "name": "#%%\n",
     "is_executing": true
    }
   }
  },
  {
   "cell_type": "code",
   "execution_count": null,
   "outputs": [],
   "source": [
    "print(mean_average_precision_df[['Description','Matches', 'mAP']].query('Matches==\"True\"').to_markdown(index=False))"
   ],
   "metadata": {
    "collapsed": false,
    "pycharm": {
     "name": "#%%\n",
     "is_executing": true
    }
   }
  },
  {
   "cell_type": "code",
   "execution_count": null,
   "outputs": [],
   "source": [
    "print(mean_average_precision_df[['Description','Matches', 'mAP']].query('Matches==\"Shuffled\"').to_markdown(index=False))"
   ],
   "metadata": {
    "collapsed": false,
    "pycharm": {
     "name": "#%%\n",
     "is_executing": true
    }
   }
  },
  {
   "cell_type": "code",
   "execution_count": null,
   "outputs": [],
   "source": [
    "mean_average_precision_df[['Chemical_Perturbation','Genetic_Perturbation']] = mean_average_precision_df.Description.str.split(' vs. ', expand=True,)\n",
    "mean_average_precision_df['mAP'] = mean_average_precision_df['mAP'].astype(float)\n",
    "pivot_table = (\n",
    "    mean_average_precision_df\n",
    "        .query('Matches==\"True\"')\n",
    "        .pivot('Chemical_Perturbation','Genetic_Perturbation','mAP')\n",
    ")\n",
    "fig = px.imshow(pivot_table, color_continuous_scale='blues')\n",
    "fig.update_layout(title='mAP vs. genes',\n",
    "                  xaxis=dict(title='Genetic Perturbations'),\n",
    "                  yaxis=dict(title='Compounds'),\n",
    "                  coloraxis_colorbar_x=+1.15)\n",
    "fig.show(\"png\")\n",
    "fig.write_image(f'figures/11.mAP_heatmap.png', width=640, height=480, scale=2)"
   ],
   "metadata": {
    "collapsed": false,
    "pycharm": {
     "name": "#%%\n",
     "is_executing": true
    }
   }
  },
  {
   "cell_type": "code",
   "execution_count": null,
   "outputs": [],
   "source": [
    "print(mean_average_precision_df[['Chemical_Perturbation','Genetic_Perturbation', 'Matches', 'mAP']].to_markdown(index=False))"
   ],
   "metadata": {
    "collapsed": false,
    "pycharm": {
     "name": "#%%\n",
     "is_executing": true
    }
   }
  },
  {
   "cell_type": "code",
   "execution_count": null,
   "outputs": [],
   "source": [
    "fig = px.bar(data_frame=mean_average_precision_df,\n",
    "             x='Description',\n",
    "             y='mAP',\n",
    "             barmode='overlay',\n",
    "             color='Matches')\n",
    "fig.update_layout(title='mAP vs. Perturbation matching',\n",
    "                  yaxis=dict(title='Perturbation matching'))\n",
    "fig.update_xaxes(tickangle=45)\n",
    "fig.show(\"png\")\n",
    "fig.write_image(f'figures/11.mAP_matching.png', width=640, height=480, scale=2)"
   ],
   "metadata": {
    "collapsed": false,
    "pycharm": {
     "name": "#%%\n",
     "is_executing": true
    }
   }
  }
 ],
 "metadata": {
  "kernelspec": {
   "display_name": "Python 3",
   "language": "python",
   "name": "python3"
  },
  "language_info": {
   "codemirror_mode": {
    "name": "ipython",
    "version": 2
   },
   "file_extension": ".py",
   "mimetype": "text/x-python",
   "name": "python",
   "nbconvert_exporter": "python",
   "pygments_lexer": "ipython2",
   "version": "2.7.6"
  }
 },
 "nbformat": 4,
 "nbformat_minor": 0
}