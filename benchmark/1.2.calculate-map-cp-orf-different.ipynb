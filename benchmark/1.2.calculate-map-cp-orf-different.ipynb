{
 "cells": [
  {
   "cell_type": "code",
   "execution_count": 1,
   "metadata": {
    "collapsed": true,
    "pycharm": {
     "name": "#%%\n"
    }
   },
   "outputs": [],
   "source": [
    "import warnings\n",
    "import pandas as pd\n",
    "import utils\n",
    "import plotly.express as px\n",
    "import numpy as np\n",
    "\n",
    "warnings.simplefilter(action=\"ignore\", category=FutureWarning)\n",
    "warnings.filterwarnings(\"ignore\", category=RuntimeWarning)"
   ]
  },
  {
   "cell_type": "markdown",
   "metadata": {
    "collapsed": false,
    "pycharm": {
     "name": "#%% md\n"
    }
   },
   "source": [
    "### Calculating mean Average Precision (mAP) for CellProfiler features\n",
    "In this notebook, we calculate the mAP perturbation detection for the CellProfiler features. We only use ORFs that are in different well positions."
   ]
  },
  {
   "cell_type": "markdown",
   "metadata": {},
   "source": [
    "All ORF plates from the `2020_11_04_CPJUMP1` batch are read, except for the ones with antibiotics (Blasticidin)"
   ]
  },
  {
   "cell_type": "code",
   "execution_count": 2,
   "metadata": {
    "collapsed": false,
    "pycharm": {
     "name": "#%%\n"
    }
   },
   "outputs": [],
   "source": [
    "replicability_map_df = pd.DataFrame()\n",
    "replicability_fr_df = pd.DataFrame()\n",
    "\n",
    "batch = \"2020_11_04_CPJUMP1\"\n",
    "modality_perturbation = \"orf\"\n",
    "batch_size = 100000\n",
    "null_size = 100000\n",
    "\n",
    "experiment_df = (\n",
    "    pd.read_csv(\"output/experiment-metadata.tsv\", sep=\"\\t\")\n",
    "    .query(\"Batch==@batch\")\n",
    "    .query(\"Perturbation=='orf'\")\n",
    "    .query('Antibiotics==\"absent\"')\n",
    ")\n"
   ]
  },
  {
   "attachments": {},
   "cell_type": "markdown",
   "metadata": {},
   "source": [
    "Normalized, feature selected ORF profiles for replicate plates at the same time point, using the same cell type are merged into a single data frame. Empty wells are removed before calculating mAP for perturbation detection (retrieve replicates of the query compound). p value and FDR corrected p values are calculated using a permutation-based significance test.\n",
    "\n",
    "Along with mAP, fraction retrieved is also calculated. This is the fraction of queries that have qvalue < 0.05.\n",
    "\n",
    "The mAP and fraction retrieved values as saved to `output` directory and the results are plotted."
   ]
  },
  {
   "cell_type": "code",
   "execution_count": 3,
   "metadata": {
    "collapsed": false,
    "pycharm": {
     "name": "#%%\n"
    }
   },
   "outputs": [
    {
     "name": "stdout",
     "output_type": "stream",
     "text": [
      "Computing orf_A549_long replicability\n"
     ]
    },
    {
     "data": {
      "application/vnd.jupyter.widget-view+json": {
       "model_id": "5c88b99344c547dda6532c973b35ce8d",
       "version_major": 2,
       "version_minor": 0
      },
      "text/plain": [
       "  0%|          | 0/1 [00:00<?, ?it/s]"
      ]
     },
     "metadata": {},
     "output_type": "display_data"
    },
    {
     "data": {
      "application/vnd.jupyter.widget-view+json": {
       "model_id": "188e720ee595415ca6750229fdd9abff",
       "version_major": 2,
       "version_minor": 0
      },
      "text/plain": [
       "  0%|          | 0/1 [00:00<?, ?it/s]"
      ]
     },
     "metadata": {},
     "output_type": "display_data"
    },
    {
     "name": "stdout",
     "output_type": "stream",
     "text": [
      "Computing orf_A549_short replicability\n"
     ]
    },
    {
     "data": {
      "application/vnd.jupyter.widget-view+json": {
       "model_id": "c3618bccf7e14b138c86a55a98ec030b",
       "version_major": 2,
       "version_minor": 0
      },
      "text/plain": [
       "  0%|          | 0/1 [00:00<?, ?it/s]"
      ]
     },
     "metadata": {},
     "output_type": "display_data"
    },
    {
     "data": {
      "application/vnd.jupyter.widget-view+json": {
       "model_id": "cdfeefcacdd540908ff0f0b6259643ef",
       "version_major": 2,
       "version_minor": 0
      },
      "text/plain": [
       "  0%|          | 0/1 [00:00<?, ?it/s]"
      ]
     },
     "metadata": {},
     "output_type": "display_data"
    },
    {
     "name": "stdout",
     "output_type": "stream",
     "text": [
      "Computing orf_U2OS_short replicability\n"
     ]
    },
    {
     "data": {
      "application/vnd.jupyter.widget-view+json": {
       "model_id": "815a37392eaf49969b38cd58d1f58e1e",
       "version_major": 2,
       "version_minor": 0
      },
      "text/plain": [
       "  0%|          | 0/1 [00:00<?, ?it/s]"
      ]
     },
     "metadata": {},
     "output_type": "display_data"
    },
    {
     "data": {
      "application/vnd.jupyter.widget-view+json": {
       "model_id": "b60a2d96196f49f5b407ec0e84ab5f91",
       "version_major": 2,
       "version_minor": 0
      },
      "text/plain": [
       "  0%|          | 0/1 [00:00<?, ?it/s]"
      ]
     },
     "metadata": {},
     "output_type": "display_data"
    },
    {
     "name": "stdout",
     "output_type": "stream",
     "text": [
      "Computing orf_U2OS_long replicability\n"
     ]
    },
    {
     "data": {
      "application/vnd.jupyter.widget-view+json": {
       "model_id": "74f94cede83c4df3aba37cf31733e364",
       "version_major": 2,
       "version_minor": 0
      },
      "text/plain": [
       "  0%|          | 0/1 [00:00<?, ?it/s]"
      ]
     },
     "metadata": {},
     "output_type": "display_data"
    },
    {
     "data": {
      "application/vnd.jupyter.widget-view+json": {
       "model_id": "4ee80dfd29bc477baf3970495b415be0",
       "version_major": 2,
       "version_minor": 0
      },
      "text/plain": [
       "  0%|          | 0/1 [00:00<?, ?it/s]"
      ]
     },
     "metadata": {},
     "output_type": "display_data"
    }
   ],
   "source": [
    "for cell in experiment_df.Cell_type.unique():\n",
    "    cell_df = experiment_df.query(\"Cell_type==@cell\")\n",
    "    modality_experiments_df = cell_df.copy()\n",
    "    \n",
    "    for modality_timepoint in modality_experiments_df.Time.unique():\n",
    "        modality_timepoint_df = modality_experiments_df.query(\n",
    "            \"Time==@modality_timepoint\"\n",
    "        )\n",
    "\n",
    "        modality_df = pd.DataFrame()\n",
    "        for plate in modality_timepoint_df.Assay_Plate_Barcode.unique():\n",
    "            data_df = (\n",
    "                utils.load_data(\n",
    "                    batch,\n",
    "                    plate,\n",
    "                    \"normalized_feature_select_negcon_batch.csv.gz\",\n",
    "                )\n",
    "                .assign(Metadata_modality=modality_perturbation)\n",
    "                .assign(Metadata_matching_target=lambda x: x.Metadata_gene)\n",
    "            )\n",
    "            modality_df = utils.concat_profiles(modality_df, data_df)\n",
    "\n",
    "        # Remove empty wells\n",
    "        modality_df = utils.remove_empty_wells(modality_df)\n",
    "\n",
    "        # Description\n",
    "        description = f\"{modality_perturbation}_{cell}_{utils.time_point(modality_perturbation, modality_timepoint)}\"\n",
    "\n",
    "        # Calculate replicability mAP\n",
    "\n",
    "        print(f\"Computing {description} replicability\")\n",
    "\n",
    "        modality_df[\"Metadata_negcon\"] = np.where(\n",
    "            modality_df[\"Metadata_control_type\"] == \"negcon\", 1, 0\n",
    "        )  # Create dummy column\n",
    "\n",
    "        pos_sameby = [\"Metadata_broad_sample\", \"Metadata_Well\"]\n",
    "        pos_diffby = []\n",
    "        neg_sameby = [\"Metadata_Plate\"]\n",
    "        neg_diffby = [\"Metadata_negcon\"]\n",
    "\n",
    "        metadata_df = utils.get_metadata(modality_df)\n",
    "        feature_df = utils.get_featuredata(modality_df)\n",
    "        feature_values = feature_df.values\n",
    "\n",
    "        result = utils.run_pipeline(\n",
    "            metadata_df,\n",
    "            feature_values,\n",
    "            pos_sameby,\n",
    "            pos_diffby,\n",
    "            neg_sameby,\n",
    "            neg_diffby,\n",
    "            anti_match=False,\n",
    "            batch_size=batch_size,\n",
    "            null_size=null_size,\n",
    "        )\n",
    "\n",
    "        result = result.query(\"Metadata_negcon==0\").reset_index(drop=True)\n",
    "\n",
    "        (\n",
    "            replicability_map_df,\n",
    "            replicability_fr_df,\n",
    "        ) = utils.create_replicability_df(\n",
    "            replicability_map_df,\n",
    "            replicability_fr_df,\n",
    "            result,\n",
    "            pos_sameby,\n",
    "            0.05,\n",
    "            modality_perturbation,\n",
    "            cell,\n",
    "            modality_timepoint,\n",
    "        )"
   ]
  },
  {
   "attachments": {},
   "cell_type": "markdown",
   "metadata": {},
   "source": [
    "Tables of mAP values and the fraction retrieved (fr) are printed and bar plots are plotted."
   ]
  },
  {
   "attachments": {},
   "cell_type": "markdown",
   "metadata": {
    "collapsed": false,
    "pycharm": {
     "name": "#%% md\n"
    }
   },
   "source": [
    "Replicability fraction retrieved."
   ]
  },
  {
   "cell_type": "code",
   "execution_count": 4,
   "metadata": {
    "collapsed": false,
    "pycharm": {
     "name": "#%%\n"
    }
   },
   "outputs": [
    {
     "name": "stdout",
     "output_type": "stream",
     "text": [
      "| Description    |   timepoint |    fr |\n",
      "|:---------------|------------:|------:|\n",
      "| orf_A549_long  |          96 | 0.247 |\n",
      "| orf_A549_short |          48 | 0.234 |\n",
      "| orf_U2OS_short |          48 | 0.425 |\n",
      "| orf_U2OS_long  |          96 | 0.241 |\n"
     ]
    }
   ],
   "source": [
    "print(replicability_fr_df[[\"Description\", \"timepoint\", \"fr\"]].to_markdown(index=False))"
   ]
  },
  {
   "cell_type": "code",
   "execution_count": 5,
   "metadata": {
    "collapsed": false,
    "pycharm": {
     "name": "#%%\n"
    }
   },
   "outputs": [
    {
     "data": {
      "image/png": "[encoded data removed]"
     },
     "metadata": {},
     "output_type": "display_data"
    }
   ],
   "source": [
    "fig = px.bar(\n",
    "    data_frame=replicability_fr_df,\n",
    "    x=\"Modality\",\n",
    "    y=\"fr\",\n",
    "    facet_row=\"Cell\",\n",
    "    facet_col=\"time\",\n",
    ")\n",
    "fig.update_layout(\n",
    "    xaxis1=dict(title=\"Perturbation\"),\n",
    "    xaxis2=dict(title=\"Perturbation\"),\n",
    "    yaxis1=dict(title=\"Fraction Retrieved\"),\n",
    "    yaxis3=dict(title=\"Fraction Retrieved\"),\n",
    ")\n",
    "fig.show(\"png\")\n",
    "fig.write_image(\n",
    "    f\"figures/1.2.CellProfiler_replicability_orf_different_fr.png\", width=640, height=480, scale=2\n",
    ")"
   ]
  },
  {
   "cell_type": "code",
   "execution_count": 6,
   "metadata": {
    "collapsed": false,
    "pycharm": {
     "name": "#%%\n"
    }
   },
   "outputs": [
    {
     "data": {
      "image/png": "[encoded data removed]"
     },
     "metadata": {},
     "output_type": "display_data"
    }
   ],
   "source": [
    "fig = px.box(\n",
    "    data_frame=replicability_map_df,\n",
    "    x=\"Modality\",\n",
    "    y=\"mean_average_precision\",\n",
    "    facet_row=\"Cell\",\n",
    "    facet_col=\"time\",\n",
    ")\n",
    "fig.update_layout(\n",
    "    xaxis1=dict(title=\"Perturbation\"),\n",
    "    xaxis2=dict(title=\"Perturbation\"),\n",
    "    yaxis1=dict(title=\"mAP\"),\n",
    "    yaxis3=dict(title=\"mAP\"),\n",
    ")\n",
    "fig.show(\"png\")\n",
    "fig.write_image(\n",
    "    f\"figures/1.2.CellProfiler_replicability_orf_different_map.png\", width=640, height=480, scale=2\n",
    ")"
   ]
  },
  {
   "attachments": {},
   "cell_type": "markdown",
   "metadata": {},
   "source": [
    "Tables of mAP and fr values are written to file."
   ]
  },
  {
   "cell_type": "code",
   "execution_count": 7,
   "metadata": {
    "collapsed": false,
    "pycharm": {
     "name": "#%%\n"
    }
   },
   "outputs": [],
   "source": [
    "replicability_fr_df.to_csv(\"output/cellprofiler_replicability_orf_different_fr.csv\", index=False)\n",
    "replicability_map_df.to_csv(\"output/cellprofiler_replicability_orf_different_map.csv\", index=False)"
   ]
  }
 ],
 "metadata": {
  "kernelspec": {
   "display_name": "analysis",
   "language": "python",
   "name": "python3"
  },
  "language_info": {
   "codemirror_mode": {
    "name": "ipython",
    "version": 3
   },
   "file_extension": ".py",
   "mimetype": "text/x-python",
   "name": "python",
   "nbconvert_exporter": "python",
   "pygments_lexer": "ipython3",
   "version": "3.10.6"
  },
  "vscode": {
   "interpreter": {
    "hash": "986381fcaa5fa2a4fbfcc238e5cd47c7186c89fa9a103f6aff6b597c4b48d920"
   }
  }
 },
 "nbformat": 4,
 "nbformat_minor": 0
}
