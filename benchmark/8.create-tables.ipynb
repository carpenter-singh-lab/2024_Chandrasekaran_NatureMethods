{
 "cells": [
  {
   "cell_type": "code",
   "execution_count": 1,
   "metadata": {},
   "outputs": [],
   "source": [
    "import pandas as pd"
   ]
  },
  {
   "cell_type": "markdown",
   "metadata": {},
   "source": [
    "Replicability"
   ]
  },
  {
   "cell_type": "code",
   "execution_count": 2,
   "metadata": {},
   "outputs": [],
   "source": [
    "replicability_pvalue = pd.read_csv('output/replicability_pvalue.csv')\n",
    "replicability_cp_dp_pvalue = replicability_pvalue.query('Feature_set!=\"DP-CP\"').reset_index(drop=True)\n",
    "replicability_dp_vs_cp_pvalue = replicability_pvalue.query('Feature_set==\"DP-CP\"').reset_index(drop=True)\n",
    "\n",
    "replicability_mmap = pd.concat(\n",
    "    [\n",
    "        pd.read_csv('output/cellprofiler_replicability_mmap.csv').assign(Feature_set=\"CellProfiler\"),\n",
    "        pd.read_csv('output/deepprofiler_replicability_mmap.csv').assign(Feature_set=\"DeepProfiler\")\n",
    "    ],\n",
    "    join=\"inner\",\n",
    "    )\n"
   ]
  },
  {
   "cell_type": "code",
   "execution_count": 3,
   "metadata": {},
   "outputs": [
    {
     "name": "stdout",
     "output_type": "stream",
     "text": [
      "| t-test        | Feature_set   | Modality   | Cell   | time   |   statistic | pvalue   |   mmAP |\n",
      "|:--------------|:--------------|:-----------|:-------|:-------|------------:|:---------|-------:|\n",
      "| Replicability | CellProfiler  | compound   | A549   | long   |     38.2031 | <0.05    |  0.703 |\n",
      "| Replicability | CellProfiler  | compound   | A549   | short  |     25.0861 | <0.05    |  0.532 |\n",
      "| Replicability | CellProfiler  | compound   | U2OS   | long   |     22.0976 | <0.05    |  0.496 |\n",
      "| Replicability | CellProfiler  | compound   | U2OS   | short  |     25.6074 | <0.05    |  0.55  |\n",
      "| Replicability | CellProfiler  | crispr     | A549   | long   |     23.4325 | <0.05    |  0.394 |\n",
      "| Replicability | CellProfiler  | crispr     | A549   | short  |     23.1375 | <0.05    |  0.373 |\n",
      "| Replicability | CellProfiler  | crispr     | U2OS   | long   |     20.719  | <0.05    |  0.255 |\n",
      "| Replicability | CellProfiler  | crispr     | U2OS   | short  |     21.2979 | <0.05    |  0.334 |\n",
      "| Replicability | CellProfiler  | orf        | A549   | long   |     12.1735 | <0.05    |  0.148 |\n",
      "| Replicability | CellProfiler  | orf        | A549   | short  |     12.3054 | <0.05    |  0.16  |\n",
      "| Replicability | CellProfiler  | orf        | U2OS   | long   |     11.6351 | <0.05    |  0.214 |\n",
      "| Replicability | CellProfiler  | orf        | U2OS   | short  |     14.1632 | <0.05    |  0.318 |\n",
      "| Replicability | DeepProfiler  | compound   | U2OS   | long   |     28.707  | <0.05    |  0.532 |\n",
      "| Replicability | DeepProfiler  | crispr     | U2OS   | long   |     42.7232 | <0.05    |  0.32  |\n",
      "| Replicability | DeepProfiler  | orf        | U2OS   | long   |     20.5627 | <0.05    |  0.277 |\n"
     ]
    }
   ],
   "source": [
    "print(\n",
    "    replicability_cp_dp_pvalue.merge(replicability_mmap, on=['Feature_set','Modality','Cell','time'])\n",
    "    .sort_values(by=['Feature_set','Modality','Cell','time'])\n",
    "    .to_markdown(index=False)\n",
    ")"
   ]
  },
  {
   "cell_type": "code",
   "execution_count": 4,
   "metadata": {},
   "outputs": [
    {
     "name": "stdout",
     "output_type": "stream",
     "text": [
      "| t-test        | Feature_set   | Modality   | Cell   | time   |   statistic | pvalue   |\n",
      "|:--------------|:--------------|:-----------|:-------|:-------|------------:|:---------|\n",
      "| Replicability | DP-CP         | compound   | U2OS   | long   |     1.24786 | 0.21     |\n",
      "| Replicability | DP-CP         | crispr     | U2OS   | long   |     4.50381 | <0.05    |\n",
      "| Replicability | DP-CP         | orf        | U2OS   | long   |     2.78749 | <0.05    |\n"
     ]
    }
   ],
   "source": [
    "print(\n",
    "    replicability_dp_vs_cp_pvalue\n",
    "    .sort_values(by=['Feature_set','Modality','Cell','time'])\n",
    "    .to_markdown(index=False)\n",
    ")"
   ]
  },
  {
   "cell_type": "markdown",
   "metadata": {},
   "source": [
    "Same perturbation matching"
   ]
  },
  {
   "cell_type": "code",
   "execution_count": 5,
   "metadata": {},
   "outputs": [],
   "source": [
    "matching_pvalue = pd.read_csv('output/matching_pvalue.csv')\n",
    "matching_cp_dp_pvalue = matching_pvalue.query('Feature_set!=\"DP-CP\"').reset_index(drop=True)\n",
    "matching_dp_vs_cp_pvalue = matching_pvalue.query('Feature_set==\"DP-CP\"').reset_index(drop=True)\n",
    "\n",
    "matching_mmap = pd.concat(\n",
    "    [\n",
    "        pd.read_csv('output/cellprofiler_matching_mmap.csv').assign(Feature_set=\"CellProfiler\"),\n",
    "        pd.read_csv('output/deepprofiler_matching_mmap.csv').assign(Feature_set=\"DeepProfiler\")\n",
    "    ],\n",
    "    join=\"inner\",\n",
    "    )\n"
   ]
  },
  {
   "cell_type": "code",
   "execution_count": 6,
   "metadata": {},
   "outputs": [
    {
     "name": "stdout",
     "output_type": "stream",
     "text": [
      "| t-test                          | Feature_set   | Modality   | Cell   | time   |   statistic | pvalue   |   mmAP |\n",
      "|:--------------------------------|:--------------|:-----------|:-------|:-------|------------:|:---------|-------:|\n",
      "| Same perturbation type matching | CellProfiler  | compound   | A549   | long   |    11.0019  | <0.05    |  0.12  |\n",
      "| Same perturbation type matching | CellProfiler  | compound   | A549   | short  |    10.9935  | <0.05    |  0.108 |\n",
      "| Same perturbation type matching | CellProfiler  | compound   | U2OS   | long   |    11.4465  | <0.05    |  0.11  |\n",
      "| Same perturbation type matching | CellProfiler  | compound   | U2OS   | short  |    11.2009  | <0.05    |  0.078 |\n",
      "| Same perturbation type matching | CellProfiler  | crispr     | A549   | long   |     4.92739 | <0.05    |  0.088 |\n",
      "| Same perturbation type matching | CellProfiler  | crispr     | A549   | short  |     4.29482 | <0.05    |  0.062 |\n",
      "| Same perturbation type matching | CellProfiler  | crispr     | U2OS   | long   |     4.78768 | <0.05    |  0.076 |\n",
      "| Same perturbation type matching | CellProfiler  | crispr     | U2OS   | short  |     4.2895  | <0.05    |  0.067 |\n",
      "| Same perturbation type matching | DeepProfiler  | compound   | U2OS   | long   |     9.75066 | <0.05    |  0.061 |\n",
      "| Same perturbation type matching | DeepProfiler  | crispr     | U2OS   | long   |     5.09525 | <0.05    |  0.081 |\n"
     ]
    }
   ],
   "source": [
    "print(\n",
    "    matching_cp_dp_pvalue.merge(matching_mmap, on=['Feature_set','Modality','Cell','time'])\n",
    "    .sort_values(by=['Feature_set','Modality','Cell','time'])\n",
    "    .to_markdown(index=False)\n",
    ")"
   ]
  },
  {
   "cell_type": "code",
   "execution_count": 7,
   "metadata": {},
   "outputs": [
    {
     "name": "stdout",
     "output_type": "stream",
     "text": [
      "| t-test                          | Feature_set   | Modality   | Cell   | time   |   statistic | pvalue   |\n",
      "|:--------------------------------|:--------------|:-----------|:-------|:-------|------------:|:---------|\n",
      "| Same perturbation type matching | DP-CP         | compound   | U2OS   | long   |   -4.29094  | <0.05    |\n",
      "| Same perturbation type matching | DP-CP         | crispr     | U2OS   | long   |    0.210606 | 0.83     |\n"
     ]
    }
   ],
   "source": [
    "print(\n",
    "    matching_dp_vs_cp_pvalue\n",
    "    .sort_values(by=['Feature_set','Modality','Cell','time'])\n",
    "    .to_markdown(index=False)\n",
    ")"
   ]
  },
  {
   "cell_type": "markdown",
   "metadata": {},
   "source": [
    "Different perturbation matching"
   ]
  },
  {
   "cell_type": "code",
   "execution_count": 8,
   "metadata": {},
   "outputs": [],
   "source": [
    "gene_compound_matching_pvalue = pd.read_csv('output/gene_compound_matching_pvalue.csv')\n",
    "gene_compound_matching_cp_dp_pvalue = gene_compound_matching_pvalue.query('Feature_set!=\"DP-CP\"').reset_index(drop=True)\n",
    "gene_compound_matching_dp_vs_cp_pvalue = gene_compound_matching_pvalue.query('Feature_set==\"DP-CP\"').reset_index(drop=True)\n",
    "\n",
    "gene_compound_matching_mmap = pd.concat(\n",
    "    [\n",
    "        pd.read_csv('output/cellprofiler_gene_compound_matching_mmap.csv').assign(Feature_set=\"CellProfiler\"),\n",
    "        pd.read_csv('output/deepprofiler_gene_compound_matching_mmap.csv').assign(Feature_set=\"DeepProfiler\")\n",
    "    ],\n",
    "    join=\"inner\",\n",
    "    )"
   ]
  },
  {
   "cell_type": "code",
   "execution_count": 9,
   "metadata": {},
   "outputs": [
    {
     "name": "stdout",
     "output_type": "stream",
     "text": [
      "| t-test                 | Feature_set   | Modality1      | Modality2    | Cell   |   statistic | pvalue   |   mmAP |\n",
      "|:-----------------------|:--------------|:---------------|:-------------|:-------|------------:|:---------|-------:|\n",
      "| Compoung-gene matching | CellProfiler  | compound_long  | crispr_long  | A549   |     5.48398 | <0.05    |  0.032 |\n",
      "| Compoung-gene matching | CellProfiler  | compound_long  | crispr_long  | U2OS   |     5.68521 | <0.05    |  0.033 |\n",
      "| Compoung-gene matching | CellProfiler  | compound_long  | crispr_short | A549   |     5.23907 | <0.05    |  0.032 |\n",
      "| Compoung-gene matching | CellProfiler  | compound_long  | crispr_short | U2OS   |     3.63061 | <0.05    |  0.024 |\n",
      "| Compoung-gene matching | CellProfiler  | compound_long  | orf_long     | A549   |     5.00785 | <0.05    |  0.03  |\n",
      "| Compoung-gene matching | CellProfiler  | compound_long  | orf_long     | U2OS   |     6.06296 | <0.05    |  0.043 |\n",
      "| Compoung-gene matching | CellProfiler  | compound_long  | orf_short    | A549   |     5.10801 | <0.05    |  0.032 |\n",
      "| Compoung-gene matching | CellProfiler  | compound_long  | orf_short    | U2OS   |     6.00445 | <0.05    |  0.051 |\n",
      "| Compoung-gene matching | CellProfiler  | compound_short | crispr_long  | A549   |     4.01905 | <0.05    |  0.027 |\n",
      "| Compoung-gene matching | CellProfiler  | compound_short | crispr_long  | U2OS   |     5.24338 | <0.05    |  0.032 |\n",
      "| Compoung-gene matching | CellProfiler  | compound_short | crispr_short | A549   |     3.70763 | <0.05    |  0.026 |\n",
      "| Compoung-gene matching | CellProfiler  | compound_short | crispr_short | U2OS   |     3.66404 | <0.05    |  0.028 |\n",
      "| Compoung-gene matching | CellProfiler  | compound_short | orf_long     | A549   |     6.34847 | <0.05    |  0.032 |\n",
      "| Compoung-gene matching | CellProfiler  | compound_short | orf_long     | U2OS   |     5.79732 | <0.05    |  0.045 |\n",
      "| Compoung-gene matching | CellProfiler  | compound_short | orf_short    | A549   |     7.03922 | <0.05    |  0.037 |\n",
      "| Compoung-gene matching | CellProfiler  | compound_short | orf_short    | U2OS   |     6.27147 | <0.05    |  0.039 |\n",
      "| Compoung-gene matching | DeepProfiler  | compound_long  | crispr_long  | U2OS   |     4.83822 | <0.05    |  0.027 |\n",
      "| Compoung-gene matching | DeepProfiler  | compound_long  | orf_long     | U2OS   |     6.62451 | <0.05    |  0.037 |\n"
     ]
    }
   ],
   "source": [
    "print(\n",
    "    gene_compound_matching_cp_dp_pvalue.merge(gene_compound_matching_mmap, on=['Feature_set','Modality1','Modality2','Cell'])\n",
    "    .sort_values(by=['Feature_set','Modality1','Modality2','Cell'])\n",
    "    .to_markdown(index=False)\n",
    ")"
   ]
  },
  {
   "cell_type": "code",
   "execution_count": 10,
   "metadata": {},
   "outputs": [
    {
     "name": "stdout",
     "output_type": "stream",
     "text": [
      "| t-test                 | Feature_set   | Modality1     | Modality2   | Cell   |   statistic |   pvalue |\n",
      "|:-----------------------|:--------------|:--------------|:------------|:-------|------------:|---------:|\n",
      "| Compoung-gene matching | DP-CP         | compound_long | crispr_long | U2OS   |   -0.696465 |     0.49 |\n",
      "| Compoung-gene matching | DP-CP         | compound_long | orf_long    | U2OS   |   -0.640213 |     0.52 |\n"
     ]
    }
   ],
   "source": [
    "print(\n",
    "    gene_compound_matching_dp_vs_cp_pvalue\n",
    "    .sort_values(by=['Feature_set','Modality1','Modality2','Cell'])\n",
    "    .to_markdown(index=False)\n",
    ")"
   ]
  },
  {
   "cell_type": "markdown",
   "metadata": {},
   "source": [
    "Different pertubation matching CRISPR vs. ORF"
   ]
  },
  {
   "cell_type": "code",
   "execution_count": 11,
   "metadata": {},
   "outputs": [],
   "source": [
    "gene_compound_matching_crispr_orf_pvalue = pd.read_csv('output/crispr_orf_pvalue.csv')\n"
   ]
  },
  {
   "cell_type": "code",
   "execution_count": 12,
   "metadata": {},
   "outputs": [
    {
     "name": "stdout",
     "output_type": "stream",
     "text": [
      "| t-test                                  | Feature_set   | Modality1      | Modality2              | Cell   |   statistic | pvalue   |\n",
      "|:----------------------------------------|:--------------|:---------------|:-----------------------|:-------|------------:|:---------|\n",
      "| Compoung-gene matching - CRISPR vs. ORF | CellProfiler  | compound_long  | crispr_long-orf_long   | A549   |   0.247125  | 0.80     |\n",
      "| Compoung-gene matching - CRISPR vs. ORF | CellProfiler  | compound_long  | crispr_long-orf_long   | U2OS   |  -1.06864   | 0.29     |\n",
      "| Compoung-gene matching - CRISPR vs. ORF | CellProfiler  | compound_long  | crispr_long-orf_short  | A549   |  -0.0291253 | 0.98     |\n",
      "| Compoung-gene matching - CRISPR vs. ORF | CellProfiler  | compound_long  | crispr_long-orf_short  | U2OS   |  -1.74948   | 0.08     |\n",
      "| Compoung-gene matching - CRISPR vs. ORF | CellProfiler  | compound_long  | crispr_short-orf_long  | A549   |   0.220637  | 0.83     |\n",
      "| Compoung-gene matching - CRISPR vs. ORF | CellProfiler  | compound_long  | crispr_short-orf_long  | U2OS   |  -1.86789   | 0.06     |\n",
      "| Compoung-gene matching - CRISPR vs. ORF | CellProfiler  | compound_long  | crispr_short-orf_short | A549   |  -0.0496191 | 0.96     |\n",
      "| Compoung-gene matching - CRISPR vs. ORF | CellProfiler  | compound_long  | crispr_short-orf_short | U2OS   |  -2.43992   | <0.05    |\n",
      "| Compoung-gene matching - CRISPR vs. ORF | CellProfiler  | compound_short | crispr_long-orf_long   | A549   |  -0.627043  | 0.53     |\n",
      "| Compoung-gene matching - CRISPR vs. ORF | CellProfiler  | compound_short | crispr_long-orf_long   | U2OS   |  -1.32234   | 0.19     |\n",
      "| Compoung-gene matching - CRISPR vs. ORF | CellProfiler  | compound_short | crispr_long-orf_short  | A549   |  -1.12638   | 0.26     |\n",
      "| Compoung-gene matching - CRISPR vs. ORF | CellProfiler  | compound_short | crispr_long-orf_short  | U2OS   |  -0.818318  | 0.41     |\n",
      "| Compoung-gene matching - CRISPR vs. ORF | CellProfiler  | compound_short | crispr_short-orf_long  | A549   |  -0.726925  | 0.47     |\n",
      "| Compoung-gene matching - CRISPR vs. ORF | CellProfiler  | compound_short | crispr_short-orf_long  | U2OS   |  -1.57123   | 0.12     |\n",
      "| Compoung-gene matching - CRISPR vs. ORF | CellProfiler  | compound_short | crispr_short-orf_short | A549   |  -1.21235   | 0.23     |\n",
      "| Compoung-gene matching - CRISPR vs. ORF | CellProfiler  | compound_short | crispr_short-orf_short | U2OS   |  -1.13507   | 0.26     |\n",
      "| Compoung-gene matching - CRISPR vs. ORF | DeepProfiler  | compound_long  | crispr_long-orf_long   | U2OS   |  -1.06864   | 0.29     |\n"
     ]
    }
   ],
   "source": [
    "print(\n",
    "    gene_compound_matching_crispr_orf_pvalue\n",
    "    .sort_values(by=['Feature_set','Modality1','Modality2','Cell'])\n",
    "    [['t-test', 'Feature_set', 'Modality1', 'Modality2', 'Cell', 'statistic', 'pvalue']]\n",
    "    .to_markdown(index=False)\n",
    ")"
   ]
  }
 ],
 "metadata": {
  "kernelspec": {
   "display_name": "Python 3.8.5 ('analysis')",
   "language": "python",
   "name": "python3"
  },
  "language_info": {
   "codemirror_mode": {
    "name": "ipython",
    "version": 3
   },
   "file_extension": ".py",
   "mimetype": "text/x-python",
   "name": "python",
   "nbconvert_exporter": "python",
   "pygments_lexer": "ipython3",
   "version": "3.8.5"
  },
  "orig_nbformat": 4,
  "vscode": {
   "interpreter": {
    "hash": "986381fcaa5fa2a4fbfcc238e5cd47c7186c89fa9a103f6aff6b597c4b48d920"
   }
  }
 },
 "nbformat": 4,
 "nbformat_minor": 2
}
