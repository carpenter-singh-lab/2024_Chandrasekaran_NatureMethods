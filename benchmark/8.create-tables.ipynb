{
 "cells": [
  {
   "cell_type": "code",
   "execution_count": 1,
   "metadata": {},
   "outputs": [],
   "source": [
    "import pandas as pd"
   ]
  },
  {
   "cell_type": "markdown",
   "metadata": {},
   "source": [
    "Replicability"
   ]
  },
  {
   "cell_type": "code",
   "execution_count": 2,
   "metadata": {},
   "outputs": [],
   "source": [
    "replicability_pvalue = pd.read_csv(\"output/replicability_pvalue.csv\")\n",
    "replicability_cp_dp_pvalue = replicability_pvalue.query(\n",
    "    'Feature_set!=\"DP-CP\"'\n",
    ").reset_index(drop=True)\n",
    "replicability_dp_vs_cp_pvalue = replicability_pvalue.query(\n",
    "    'Feature_set==\"DP-CP\"'\n",
    ").reset_index(drop=True)\n",
    "\n",
    "replicability_fp = pd.concat(\n",
    "    [\n",
    "        pd.read_csv(\"output/cellprofiler_replicability_fp.csv\").assign(\n",
    "            Feature_set=\"CellProfiler\"\n",
    "        ),\n",
    "        pd.read_csv(\"output/deepprofiler_replicability_fp.csv\").assign(\n",
    "            Feature_set=\"DeepProfiler\"\n",
    "        ),\n",
    "    ],\n",
    "    join=\"inner\",\n",
    ")"
   ]
  },
  {
   "cell_type": "code",
   "execution_count": 3,
   "metadata": {},
   "outputs": [
    {
     "name": "stdout",
     "output_type": "stream",
     "text": [
      "| t-test        | Feature_set   | Modality   | Cell   | time   |   statistic | pvalue   |    fp |\n",
      "|:--------------|:--------------|:-----------|:-------|:-------|------------:|:---------|------:|\n",
      "| Replicability | CellProfiler  | compound   | A549   | long   |    31.517   | <0.05    | 0.922 |\n",
      "| Replicability | CellProfiler  | compound   | A549   | short  |    15.401   | <0.05    | 0.729 |\n",
      "| Replicability | CellProfiler  | compound   | U2OS   | long   |    11.9764  | <0.05    | 0.641 |\n",
      "| Replicability | CellProfiler  | compound   | U2OS   | short  |    17.4787  | <0.05    | 0.771 |\n",
      "| Replicability | CellProfiler  | crispr     | A549   | long   |    10.5586  | <0.05    | 0.662 |\n",
      "| Replicability | CellProfiler  | crispr     | A549   | short  |    10.1071  | <0.05    | 0.659 |\n",
      "| Replicability | CellProfiler  | crispr     | U2OS   | long   |     3.61722 | <0.05    | 0.518 |\n",
      "| Replicability | CellProfiler  | crispr     | U2OS   | short  |     9.71768 | <0.05    | 0.662 |\n",
      "| Replicability | CellProfiler  | orf        | A549   | long   |    -9.59125 | <0.05    | 0.156 |\n",
      "| Replicability | CellProfiler  | orf        | A549   | short  |    -8.17235 | <0.05    | 0.169 |\n",
      "| Replicability | CellProfiler  | orf        | U2OS   | long   |    -3.01658 | <0.05    | 0.312 |\n",
      "| Replicability | CellProfiler  | orf        | U2OS   | short  |     1.65491 | 0.10     | 0.4   |\n",
      "| Replicability | DeepProfiler  | compound   | U2OS   | long   |    26.7891  | <0.05    | 1     |\n",
      "| Replicability | DeepProfiler  | crispr     | U2OS   | long   |    29.2342  | <0.05    | 0.993 |\n",
      "| Replicability | DeepProfiler  | orf        | U2OS   | long   |    10.226   | <0.05    | 0.838 |\n"
     ]
    }
   ],
   "source": [
    "print(\n",
    "    replicability_cp_dp_pvalue.merge(\n",
    "        replicability_fp, on=[\"Feature_set\", \"Modality\", \"Cell\", \"time\"]\n",
    "    )\n",
    "    .sort_values(by=[\"Feature_set\", \"Modality\", \"Cell\", \"time\"])\n",
    "    .to_markdown(index=False)\n",
    ")"
   ]
  },
  {
   "cell_type": "code",
   "execution_count": 4,
   "metadata": {},
   "outputs": [
    {
     "name": "stdout",
     "output_type": "stream",
     "text": [
      "| t-test        | Feature_set   | Modality   | Cell   | time   |   statistic | pvalue   |\n",
      "|:--------------|:--------------|:-----------|:-------|:-------|------------:|:---------|\n",
      "| Replicability | DP-CP         | compound   | U2OS   | long   |     6.19497 | <0.05    |\n",
      "| Replicability | DP-CP         | crispr     | U2OS   | long   |    14.2519  | <0.05    |\n",
      "| Replicability | DP-CP         | orf        | U2OS   | long   |     8.70731 | <0.05    |\n"
     ]
    }
   ],
   "source": [
    "print(\n",
    "    replicability_dp_vs_cp_pvalue.sort_values(\n",
    "        by=[\"Feature_set\", \"Modality\", \"Cell\", \"time\"]\n",
    "    ).to_markdown(index=False)\n",
    ")"
   ]
  },
  {
   "cell_type": "markdown",
   "metadata": {},
   "source": [
    "Same perturbation matching"
   ]
  },
  {
   "cell_type": "code",
   "execution_count": 5,
   "metadata": {},
   "outputs": [],
   "source": [
    "matching_pvalue = pd.read_csv(\"output/matching_pvalue.csv\")\n",
    "matching_cp_dp_pvalue = matching_pvalue.query('Feature_set!=\"DP-CP\"').reset_index(\n",
    "    drop=True\n",
    ")\n",
    "matching_dp_vs_cp_pvalue = matching_pvalue.query('Feature_set==\"DP-CP\"').reset_index(\n",
    "    drop=True\n",
    ")\n",
    "\n",
    "matching_fp = pd.concat(\n",
    "    [\n",
    "        pd.read_csv(\"output/cellprofiler_matching_fp.csv\").assign(\n",
    "            Feature_set=\"CellProfiler\"\n",
    "        ),\n",
    "        pd.read_csv(\"output/deepprofiler_matching_fp.csv\").assign(\n",
    "            Feature_set=\"DeepProfiler\"\n",
    "        ),\n",
    "    ],\n",
    "    join=\"inner\",\n",
    ")"
   ]
  },
  {
   "cell_type": "code",
   "execution_count": 6,
   "metadata": {},
   "outputs": [
    {
     "name": "stdout",
     "output_type": "stream",
     "text": [
      "| t-test                          | Feature_set   | Modality   | Cell   | time   |   statistic | pvalue   |    fp |\n",
      "|:--------------------------------|:--------------|:-----------|:-------|:-------|------------:|:---------|------:|\n",
      "| Same perturbation type matching | CellProfiler  | compound   | A549   | long   |    1.26224  | 0.21     | 0.278 |\n",
      "| Same perturbation type matching | CellProfiler  | compound   | A549   | short  |    0.723932 | 0.47     | 0.284 |\n",
      "| Same perturbation type matching | CellProfiler  | compound   | U2OS   | long   |    4.8252   | <0.05    | 0.42  |\n",
      "| Same perturbation type matching | CellProfiler  | compound   | U2OS   | short  |    2.13019  | <0.05    | 0.388 |\n",
      "| Same perturbation type matching | CellProfiler  | crispr     | A549   | long   |   -1.29781  | 0.20     | 0.203 |\n",
      "| Same perturbation type matching | CellProfiler  | crispr     | A549   | short  |   -1.62145  | 0.11     | 0.162 |\n",
      "| Same perturbation type matching | CellProfiler  | crispr     | U2OS   | long   |    0.113721 | 0.91     | 0.222 |\n",
      "| Same perturbation type matching | CellProfiler  | crispr     | U2OS   | short  |   -1.24353  | 0.22     | 0.171 |\n",
      "| Same perturbation type matching | DeepProfiler  | compound   | U2OS   | long   |   -4.73762  | <0.05    | 0.221 |\n",
      "| Same perturbation type matching | DeepProfiler  | crispr     | U2OS   | long   |   -3.62236  | <0.05    | 0.186 |\n"
     ]
    }
   ],
   "source": [
    "print(\n",
    "    matching_cp_dp_pvalue.merge(\n",
    "        matching_fp, on=[\"Feature_set\", \"Modality\", \"Cell\", \"time\"]\n",
    "    )\n",
    "    .sort_values(by=[\"Feature_set\", \"Modality\", \"Cell\", \"time\"])\n",
    "    .to_markdown(index=False)\n",
    ")"
   ]
  },
  {
   "cell_type": "code",
   "execution_count": 7,
   "metadata": {},
   "outputs": [
    {
     "name": "stdout",
     "output_type": "stream",
     "text": [
      "| t-test                          | Feature_set   | Modality   | Cell   | time   |   statistic | pvalue   |\n",
      "|:--------------------------------|:--------------|:-----------|:-------|:-------|------------:|:---------|\n",
      "| Same perturbation type matching | DP-CP         | compound   | U2OS   | long   |    -7.06974 | <0.05    |\n",
      "| Same perturbation type matching | DP-CP         | crispr     | U2OS   | long   |    -1.70548 | 0.09     |\n"
     ]
    }
   ],
   "source": [
    "print(\n",
    "    matching_dp_vs_cp_pvalue.sort_values(\n",
    "        by=[\"Feature_set\", \"Modality\", \"Cell\", \"time\"]\n",
    "    ).to_markdown(index=False)\n",
    ")"
   ]
  },
  {
   "cell_type": "markdown",
   "metadata": {},
   "source": [
    "Different perturbation matching"
   ]
  },
  {
   "cell_type": "code",
   "execution_count": 8,
   "metadata": {},
   "outputs": [],
   "source": [
    "gene_compound_matching_pvalue = pd.read_csv(\"output/gene_compound_matching_pvalue.csv\")\n",
    "gene_compound_matching_cp_dp_pvalue = gene_compound_matching_pvalue.query(\n",
    "    'Feature_set!=\"DP-CP\"'\n",
    ").reset_index(drop=True)\n",
    "gene_compound_matching_dp_vs_cp_pvalue = gene_compound_matching_pvalue.query(\n",
    "    'Feature_set==\"DP-CP\"'\n",
    ").reset_index(drop=True)\n",
    "\n",
    "gene_compound_matching_fp = pd.concat(\n",
    "    [\n",
    "        pd.read_csv(\"output/cellprofiler_gene_compound_matching_fp.csv\").assign(\n",
    "            Feature_set=\"CellProfiler\"\n",
    "        ),\n",
    "        pd.read_csv(\"output/deepprofiler_gene_compound_matching_fp.csv\").assign(\n",
    "            Feature_set=\"DeepProfiler\"\n",
    "        ),\n",
    "    ],\n",
    "    join=\"inner\",\n",
    ")"
   ]
  },
  {
   "cell_type": "code",
   "execution_count": 9,
   "metadata": {},
   "outputs": [
    {
     "name": "stdout",
     "output_type": "stream",
     "text": [
      "| t-test                 | Feature_set   | Modality1      | Modality2    | Cell   |   statistic | pvalue   |    fp |\n",
      "|:-----------------------|:--------------|:---------------|:-------------|:-------|------------:|:---------|------:|\n",
      "| Compoung-gene matching | CellProfiler  | compound_long  | crispr_long  | A549   |    -9.44963 | <0.05    | 0.137 |\n",
      "| Compoung-gene matching | CellProfiler  | compound_long  | crispr_long  | U2OS   |    -6.9846  | <0.05    | 0.121 |\n",
      "| Compoung-gene matching | CellProfiler  | compound_long  | crispr_short | A549   |   -12.3498  | <0.05    | 0.092 |\n",
      "| Compoung-gene matching | CellProfiler  | compound_long  | crispr_short | U2OS   |    -8.54345 | <0.05    | 0.087 |\n",
      "| Compoung-gene matching | CellProfiler  | compound_long  | orf_long     | A549   |   -11.9376  | <0.05    | 0.04  |\n",
      "| Compoung-gene matching | CellProfiler  | compound_long  | orf_long     | U2OS   |   -10.5517  | <0.05    | 0.047 |\n",
      "| Compoung-gene matching | CellProfiler  | compound_long  | orf_short    | A549   |   -11.0452  | <0.05    | 0.038 |\n",
      "| Compoung-gene matching | CellProfiler  | compound_long  | orf_short    | U2OS   |    -5.95185 | <0.05    | 0.107 |\n",
      "| Compoung-gene matching | CellProfiler  | compound_short | crispr_long  | A549   |    -8.41884 | <0.05    | 0.139 |\n",
      "| Compoung-gene matching | CellProfiler  | compound_short | crispr_long  | U2OS   |   -11.4075  | <0.05    | 0.1   |\n",
      "| Compoung-gene matching | CellProfiler  | compound_short | crispr_short | A549   |   -10.8949  | <0.05    | 0.081 |\n",
      "| Compoung-gene matching | CellProfiler  | compound_short | crispr_short | U2OS   |    -9.35078 | <0.05    | 0.102 |\n",
      "| Compoung-gene matching | CellProfiler  | compound_short | orf_long     | A549   |   -17.7291  | <0.05    | 0     |\n",
      "| Compoung-gene matching | CellProfiler  | compound_short | orf_long     | U2OS   |    -8.23602 | <0.05    | 0.146 |\n",
      "| Compoung-gene matching | CellProfiler  | compound_short | orf_short    | A549   |    -9.62045 | <0.05    | 0.042 |\n",
      "| Compoung-gene matching | CellProfiler  | compound_short | orf_short    | U2OS   |   -10.8437  | <0.05    | 0.127 |\n",
      "| Compoung-gene matching | DeepProfiler  | compound_long  | crispr_long  | U2OS   |   -13.9409  | <0.05    | 0.076 |\n",
      "| Compoung-gene matching | DeepProfiler  | compound_long  | orf_long     | U2OS   |   -20.3632  | <0.05    | 0.06  |\n"
     ]
    }
   ],
   "source": [
    "print(\n",
    "    gene_compound_matching_cp_dp_pvalue.merge(\n",
    "        gene_compound_matching_fp,\n",
    "        on=[\"Feature_set\", \"Modality1\", \"Modality2\", \"Cell\"],\n",
    "    )\n",
    "    .sort_values(by=[\"Feature_set\", \"Modality1\", \"Modality2\", \"Cell\"])\n",
    "    .to_markdown(index=False)\n",
    ")"
   ]
  },
  {
   "cell_type": "code",
   "execution_count": 10,
   "metadata": {},
   "outputs": [
    {
     "name": "stdout",
     "output_type": "stream",
     "text": [
      "| t-test                 | Feature_set   | Modality1     | Modality2   | Cell   |   statistic | pvalue   |\n",
      "|:-----------------------|:--------------|:--------------|:------------|:-------|------------:|:---------|\n",
      "| Compoung-gene matching | DP-CP         | compound_long | crispr_long | U2OS   |    -1.04339 | 0.30     |\n",
      "| Compoung-gene matching | DP-CP         | compound_long | orf_long    | U2OS   |     3.21301 | <0.05    |\n"
     ]
    }
   ],
   "source": [
    "print(\n",
    "    gene_compound_matching_dp_vs_cp_pvalue.sort_values(\n",
    "        by=[\"Feature_set\", \"Modality1\", \"Modality2\", \"Cell\"]\n",
    "    ).to_markdown(index=False)\n",
    ")"
   ]
  },
  {
   "cell_type": "markdown",
   "metadata": {},
   "source": [
    "Different pertubation matching CRISPR vs. ORF"
   ]
  },
  {
   "cell_type": "code",
   "execution_count": 11,
   "metadata": {},
   "outputs": [],
   "source": [
    "gene_compound_matching_crispr_orf_pvalue = pd.read_csv(\"output/crispr_orf_pvalue.csv\")"
   ]
  },
  {
   "cell_type": "code",
   "execution_count": 12,
   "metadata": {},
   "outputs": [
    {
     "name": "stdout",
     "output_type": "stream",
     "text": [
      "| t-test                                  | Feature_set   | compound-crispr             | compound-orf             | Cell   |   statistic | pvalue   |\n",
      "|:----------------------------------------|:--------------|:----------------------------|:-------------------------|:-------|------------:|:---------|\n",
      "| Compoung-gene matching - CRISPR vs. ORF | CellProfiler  | compound_long-crispr_long   | compound_long-orf_long   | A549   |    8.07241  | <0.05    |\n",
      "| Compoung-gene matching - CRISPR vs. ORF | CellProfiler  | compound_long-crispr_long   | compound_long-orf_long   | U2OS   |    3.39236  | <0.05    |\n",
      "| Compoung-gene matching - CRISPR vs. ORF | CellProfiler  | compound_long-crispr_long   | compound_long-orf_short  | A549   |    7.87323  | <0.05    |\n",
      "| Compoung-gene matching - CRISPR vs. ORF | CellProfiler  | compound_long-crispr_long   | compound_long-orf_short  | U2OS   |    1.17604  | 0.24     |\n",
      "| Compoung-gene matching - CRISPR vs. ORF | CellProfiler  | compound_long-crispr_short  | compound_long-orf_long   | A549   |    8.75641  | <0.05    |\n",
      "| Compoung-gene matching - CRISPR vs. ORF | CellProfiler  | compound_long-crispr_short  | compound_long-orf_long   | U2OS   |    3.13871  | <0.05    |\n",
      "| Compoung-gene matching - CRISPR vs. ORF | CellProfiler  | compound_long-crispr_short  | compound_long-orf_short  | A549   |    8.47962  | <0.05    |\n",
      "| Compoung-gene matching - CRISPR vs. ORF | CellProfiler  | compound_long-crispr_short  | compound_long-orf_short  | U2OS   |    0.838385 | 0.40     |\n",
      "| Compoung-gene matching - CRISPR vs. ORF | CellProfiler  | compound_short-crispr_long  | compound_short-orf_long  | A549   |    6.83158  | <0.05    |\n",
      "| Compoung-gene matching - CRISPR vs. ORF | CellProfiler  | compound_short-crispr_long  | compound_short-orf_long  | U2OS   |    2.75969  | <0.05    |\n",
      "| Compoung-gene matching - CRISPR vs. ORF | CellProfiler  | compound_short-crispr_long  | compound_short-orf_short | A549   |    6.08036  | <0.05    |\n",
      "| Compoung-gene matching - CRISPR vs. ORF | CellProfiler  | compound_short-crispr_long  | compound_short-orf_short | U2OS   |    1.48153  | 0.14     |\n",
      "| Compoung-gene matching - CRISPR vs. ORF | CellProfiler  | compound_short-crispr_short | compound_short-orf_long  | A549   |    6.99085  | <0.05    |\n",
      "| Compoung-gene matching - CRISPR vs. ORF | CellProfiler  | compound_short-crispr_short | compound_short-orf_long  | U2OS   |    2.36968  | <0.05    |\n",
      "| Compoung-gene matching - CRISPR vs. ORF | CellProfiler  | compound_short-crispr_short | compound_short-orf_short | A549   |    6.12071  | <0.05    |\n",
      "| Compoung-gene matching - CRISPR vs. ORF | CellProfiler  | compound_short-crispr_short | compound_short-orf_short | U2OS   |    1.22508  | 0.22     |\n",
      "| Compoung-gene matching - CRISPR vs. ORF | DeepProfiler  | compound_long-crispr_long   | compound_long-orf_long   | U2OS   |    3.39236  | <0.05    |\n"
     ]
    }
   ],
   "source": [
    "print(\n",
    "    gene_compound_matching_crispr_orf_pvalue.sort_values(\n",
    "        by=[\"Feature_set\", \"compound-crispr\", \"compound-orf\", \"Cell\"]\n",
    "    )[\n",
    "        [\n",
    "            \"t-test\",\n",
    "            \"Feature_set\",\n",
    "            \"compound-crispr\",\n",
    "            \"compound-orf\",\n",
    "            \"Cell\",\n",
    "            \"statistic\",\n",
    "            \"pvalue\",\n",
    "        ]\n",
    "    ].to_markdown(\n",
    "        index=False\n",
    "    )\n",
    ")"
   ]
  },
  {
   "attachments": {},
   "cell_type": "markdown",
   "metadata": {},
   "source": [
    "Compound-genetic perturbation cosine similarity lists"
   ]
  },
  {
   "cell_type": "code",
   "execution_count": 13,
   "metadata": {},
   "outputs": [
    {
     "name": "stdout",
     "output_type": "stream",
     "text": [
      "| Cell   | Genetic_Perturbation   | pert_iname    | Metadata_matching_target   | moa_list                                  |   cosine_sim |\n",
      "|:-------|:-----------------------|:--------------|:---------------------------|:------------------------------------------|-------------:|\n",
      "| A549   | CRISPR                 | AMG900        | AURKB                      | Aurora kinase inhibitor                   |     0.775409 |\n",
      "| A549   | CRISPR                 | BI-2536       | PLK1                       | PLK inhibitor                             |     0.77319  |\n",
      "| A549   | CRISPR                 | NSC-663284    | CDC25A                     | CDC inhibitor                             |     0.770165 |\n",
      "| A549   | CRISPR                 | BI-2536       | PLK1                       | PLK inhibitor                             |     0.762776 |\n",
      "| A549   | CRISPR                 | AMG900        | AURKB                      | Aurora kinase inhibitor                   |     0.756971 |\n",
      "| A549   | CRISPR                 | BI-2536       | PLK1                       | PLK inhibitor                             |     0.748997 |\n",
      "| A549   | CRISPR                 | BI-2536       | PLK1                       | PLK inhibitor                             |     0.746296 |\n",
      "| A549   | CRISPR                 | KI-16425      | LPAR1                      | lysophosphatidic acid receptor antagonist |     0.717315 |\n",
      "| A549   | CRISPR                 | NSC-663284    | CDC25A                     | CDC inhibitor                             |     0.713504 |\n",
      "| A549   | CRISPR                 | NSC-663284    | CDC25A                     | CDC inhibitor                             |     0.707269 |\n",
      "| A549   | ORF                    | oxytocin      | AVPR1A                     | oxytocin receptor agonist                 |    -0.513476 |\n",
      "| A549   | CRISPR                 | sorbinil      | AKR1B1                     | aldose reductase inhibitor                |    -0.515508 |\n",
      "| A549   | CRISPR                 | ibutilide     | CACNG1                     | potassium channel blocker                 |    -0.515927 |\n",
      "| A549   | ORF                    | sulfasalazine | SLC7A11                    | cyclooxygenase inhibitor                  |    -0.543247 |\n",
      "| A549   | CRISPR                 | CCG-50014     | RGS4                       | G protein signaling inhibitor             |    -0.549354 |\n",
      "| A549   | CRISPR                 | xanomeline    | HTR2C                      | acetylcholine receptor agonist            |    -0.558536 |\n",
      "| A549   | ORF                    | coumarin      | CYP2A6                     | vitamin K antagonist                      |    -0.564612 |\n",
      "| A549   | CRISPR                 | sorbinil      | AKR1B1                     | aldose reductase inhibitor                |    -0.573262 |\n",
      "| A549   | CRISPR                 | ibutilide     | CACNG1                     | potassium channel blocker                 |    -0.576196 |\n",
      "| A549   | CRISPR                 | sorbinil      | AKR1B1                     | aldose reductase inhibitor                |    -0.588253 |\n",
      "| Cell   | Genetic_Perturbation   | pert_iname                  | Metadata_matching_target   | moa_list                                                                                                                          |   cosine_sim |\n",
      "|:-------|:-----------------------|:----------------------------|:---------------------------|:----------------------------------------------------------------------------------------------------------------------------------|-------------:|\n",
      "| U2OS   | CRISPR                 | BI-2536                     | PLK1                       | PLK inhibitor                                                                                                                     |     0.893123 |\n",
      "| U2OS   | CRISPR                 | BI-2536                     | PLK1                       | PLK inhibitor                                                                                                                     |     0.891863 |\n",
      "| U2OS   | ORF                    | pyrrolidine-dithiocarbamate | HSD11B1                    | NFkB pathway inhibitor                                                                                                            |     0.818119 |\n",
      "| U2OS   | CRISPR                 | AMG900                      | AURKB                      | Aurora kinase inhibitor                                                                                                           |     0.816575 |\n",
      "| U2OS   | CRISPR                 | AMG900                      | AURKB                      | Aurora kinase inhibitor                                                                                                           |     0.802506 |\n",
      "| U2OS   | CRISPR                 | danusertib                  | AURKB                      | Aurora kinase inhibitor|growth factor receptor inhibitor                                                                          |     0.783599 |\n",
      "| U2OS   | CRISPR                 | danusertib                  | AURKB                      | Aurora kinase inhibitor|growth factor receptor inhibitor                                                                          |     0.750009 |\n",
      "| U2OS   | ORF                    | PP-2                        | ABL1                       | src inhibitor                                                                                                                     |     0.746113 |\n",
      "| U2OS   | ORF                    | AZD1283                     | P2RY12                     | purinergic receptor antagonist                                                                                                    |     0.714925 |\n",
      "| U2OS   | ORF                    | hexestrol                   | AKR1C1                     | synthetic estrogen                                                                                                                |     0.704071 |\n",
      "| U2OS   | ORF                    | ZM-336372                   | MAPK14                     | RAF inhibitor                                                                                                                     |    -0.532583 |\n",
      "| U2OS   | ORF                    | regorafenib                 | BRAF                       | FGFR inhibitor|KIT inhibitor|PDGFR tyrosine kinase receptor inhibitor|RAF inhibitor|RET tyrosine kinase inhibitor|VEGFR inhibitor |    -0.537763 |\n",
      "| U2OS   | ORF                    | ZM-336372                   | MAPK14                     | RAF inhibitor                                                                                                                     |    -0.541875 |\n",
      "| U2OS   | CRISPR                 | nevirapine                  | CYP2A6                     | non-nucleoside reverse transcriptase inhibitor                                                                                    |    -0.548661 |\n",
      "| U2OS   | CRISPR                 | cyclophosphamide            | CYP2A6                     | DNA alkylating agent                                                                                                              |    -0.553281 |\n",
      "| U2OS   | ORF                    | ZM-336372                   | MAPK14                     | RAF inhibitor                                                                                                                     |    -0.556743 |\n",
      "| U2OS   | CRISPR                 | PF-06463922                 | ALK                        | ALK tyrosine kinase receptor inhibitor                                                                                            |    -0.557283 |\n",
      "| U2OS   | ORF                    | ZM-336372                   | MAPK14                     | RAF inhibitor                                                                                                                     |    -0.559419 |\n",
      "| U2OS   | ORF                    | GSK2110183                  | AKT1                       | AKT inhibitor                                                                                                                     |    -0.575825 |\n",
      "| U2OS   | ORF                    | GSK2110183                  | AKT1                       | AKT inhibitor                                                                                                                     |    -0.653074 |\n"
     ]
    }
   ],
   "source": [
    "cols = [\n",
    "    \"Cell\",\n",
    "    \"Genetic_Perturbation\",\n",
    "    \"pert_iname\",\n",
    "    \"Metadata_matching_target\",\n",
    "    \"moa_list\",\n",
    "    \"cosine_sim\",\n",
    "]\n",
    "\n",
    "cosine_sim = pd.read_csv(\"output/compound_genetic_perturbation_cosine_similarity.csv\")\n",
    "metadata = (\n",
    "    pd.read_csv(\n",
    "        \"../metadata/external_metadata/JUMP-Target-1_compound_metadata.tsv\",\n",
    "        sep=\"\\t\",\n",
    "        usecols=[\"broad_sample\", \"pert_iname\"],\n",
    "    )\n",
    "    .merge(\n",
    "        pd.read_csv(\n",
    "            \"input/JUMP-Target-1_compound_metadata_additional_annotations.tsv\",\n",
    "            sep=\"\\t\",\n",
    "            usecols=[\"broad_sample\", \"moa_list\"],\n",
    "        )\n",
    "    )\n",
    "    .rename(columns={\"broad_sample\": \"Metadata_broad_sample\"})\n",
    ")\n",
    "\n",
    "cosine_sim = cosine_sim.merge(metadata, on=\"Metadata_broad_sample\")\n",
    "\n",
    "for cell_type in cosine_sim.Cell.unique():\n",
    "    filtered_df = cosine_sim.query(\"Cell==@cell_type\")\n",
    "    top_df = filtered_df.nlargest(10, \"cosine_sim\")\n",
    "    bottom_df = filtered_df.nsmallest(10, \"cosine_sim\").sort_values(\n",
    "        by=\"cosine_sim\", ascending=False\n",
    "    )\n",
    "    df = pd.concat([top_df, bottom_df], join=\"inner\")\n",
    "    print(df[cols].to_markdown(index=False))"
   ]
  }
 ],
 "metadata": {
  "kernelspec": {
   "display_name": "analysis",
   "language": "python",
   "name": "python3"
  },
  "language_info": {
   "codemirror_mode": {
    "name": "ipython",
    "version": 3
   },
   "file_extension": ".py",
   "mimetype": "text/x-python",
   "name": "python",
   "nbconvert_exporter": "python",
   "pygments_lexer": "ipython3",
   "version": "3.10.6"
  },
  "orig_nbformat": 4,
  "vscode": {
   "interpreter": {
    "hash": "986381fcaa5fa2a4fbfcc238e5cd47c7186c89fa9a103f6aff6b597c4b48d920"
   }
  }
 },
 "nbformat": 4,
 "nbformat_minor": 2
}
