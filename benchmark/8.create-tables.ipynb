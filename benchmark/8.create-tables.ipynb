{
 "cells": [
  {
   "cell_type": "code",
   "execution_count": 1,
   "metadata": {},
   "outputs": [],
   "source": [
    "import pandas as pd"
   ]
  },
  {
   "cell_type": "markdown",
   "metadata": {},
   "source": [
    "Replicability"
   ]
  },
  {
   "cell_type": "code",
   "execution_count": 2,
   "metadata": {},
   "outputs": [],
   "source": [
    "replicability_pvalue = pd.read_csv(\"output/replicability_pvalue.csv\")\n",
    "replicability_cp_dp_pvalue = replicability_pvalue.query(\n",
    "    'Feature_set!=\"DP-CP\"'\n",
    ").reset_index(drop=True)\n",
    "replicability_dp_vs_cp_pvalue = replicability_pvalue.query(\n",
    "    'Feature_set==\"DP-CP\"'\n",
    ").reset_index(drop=True)\n",
    "\n",
    "replicability_mmap = pd.concat(\n",
    "    [\n",
    "        pd.read_csv(\"output/cellprofiler_replicability_mmap.csv\").assign(\n",
    "            Feature_set=\"CellProfiler\"\n",
    "        ),\n",
    "        pd.read_csv(\"output/deepprofiler_replicability_mmap.csv\").assign(\n",
    "            Feature_set=\"DeepProfiler\"\n",
    "        ),\n",
    "    ],\n",
    "    join=\"inner\",\n",
    ")"
   ]
  },
  {
   "cell_type": "code",
   "execution_count": 3,
   "metadata": {},
   "outputs": [
    {
     "name": "stdout",
     "output_type": "stream",
     "text": [
      "| t-test        | Feature_set   | Modality   | Cell   | time   |   statistic | pvalue   |   mmAP |\n",
      "|:--------------|:--------------|:-----------|:-------|:-------|------------:|:---------|-------:|\n",
      "| Replicability | CellProfiler  | compound   | A549   | long   |     38.2235 | <0.05    |  0.703 |\n",
      "| Replicability | CellProfiler  | compound   | A549   | short  |     25.0989 | <0.05    |  0.531 |\n",
      "| Replicability | CellProfiler  | compound   | U2OS   | long   |     22.1072 | <0.05    |  0.495 |\n",
      "| Replicability | CellProfiler  | compound   | U2OS   | short  |     25.6631 | <0.05    |  0.55  |\n",
      "| Replicability | CellProfiler  | crispr     | A549   | long   |     23.3573 | <0.05    |  0.393 |\n",
      "| Replicability | CellProfiler  | crispr     | A549   | short  |     23.0591 | <0.05    |  0.372 |\n",
      "| Replicability | CellProfiler  | crispr     | U2OS   | long   |     20.6414 | <0.05    |  0.254 |\n",
      "| Replicability | CellProfiler  | crispr     | U2OS   | short  |     21.2194 | <0.05    |  0.333 |\n",
      "| Replicability | CellProfiler  | orf        | A549   | long   |     12.1735 | <0.05    |  0.148 |\n",
      "| Replicability | CellProfiler  | orf        | A549   | short  |     12.3054 | <0.05    |  0.16  |\n",
      "| Replicability | CellProfiler  | orf        | U2OS   | long   |     11.6351 | <0.05    |  0.214 |\n",
      "| Replicability | CellProfiler  | orf        | U2OS   | short  |     14.1632 | <0.05    |  0.318 |\n",
      "| Replicability | DeepProfiler  | compound   | U2OS   | long   |     28.7366 | <0.05    |  0.532 |\n",
      "| Replicability | DeepProfiler  | crispr     | U2OS   | long   |     42.4649 | <0.05    |  0.319 |\n",
      "| Replicability | DeepProfiler  | orf        | U2OS   | long   |     20.5627 | <0.05    |  0.277 |\n"
     ]
    }
   ],
   "source": [
    "print(\n",
    "    replicability_cp_dp_pvalue.merge(\n",
    "        replicability_mmap, on=[\"Feature_set\", \"Modality\", \"Cell\", \"time\"]\n",
    "    )\n",
    "    .sort_values(by=[\"Feature_set\", \"Modality\", \"Cell\", \"time\"])\n",
    "    .to_markdown(index=False)\n",
    ")"
   ]
  },
  {
   "cell_type": "code",
   "execution_count": 4,
   "metadata": {},
   "outputs": [
    {
     "name": "stdout",
     "output_type": "stream",
     "text": [
      "| t-test        | Feature_set   | Modality   | Cell   | time   |   statistic | pvalue   |\n",
      "|:--------------|:--------------|:-----------|:-------|:-------|------------:|:---------|\n",
      "| Replicability | DP-CP         | compound   | U2OS   | long   |     1.25053 | 0.21     |\n",
      "| Replicability | DP-CP         | crispr     | U2OS   | long   |     4.49756 | <0.05    |\n",
      "| Replicability | DP-CP         | orf        | U2OS   | long   |     2.78749 | <0.05    |\n"
     ]
    }
   ],
   "source": [
    "print(\n",
    "    replicability_dp_vs_cp_pvalue.sort_values(\n",
    "        by=[\"Feature_set\", \"Modality\", \"Cell\", \"time\"]\n",
    "    ).to_markdown(index=False)\n",
    ")"
   ]
  },
  {
   "cell_type": "markdown",
   "metadata": {},
   "source": [
    "Same perturbation matching"
   ]
  },
  {
   "cell_type": "code",
   "execution_count": 5,
   "metadata": {},
   "outputs": [],
   "source": [
    "matching_pvalue = pd.read_csv(\"output/matching_pvalue.csv\")\n",
    "matching_cp_dp_pvalue = matching_pvalue.query('Feature_set!=\"DP-CP\"').reset_index(\n",
    "    drop=True\n",
    ")\n",
    "matching_dp_vs_cp_pvalue = matching_pvalue.query('Feature_set==\"DP-CP\"').reset_index(\n",
    "    drop=True\n",
    ")\n",
    "\n",
    "matching_mmap = pd.concat(\n",
    "    [\n",
    "        pd.read_csv(\"output/cellprofiler_matching_mmap.csv\").assign(\n",
    "            Feature_set=\"CellProfiler\"\n",
    "        ),\n",
    "        pd.read_csv(\"output/deepprofiler_matching_mmap.csv\").assign(\n",
    "            Feature_set=\"DeepProfiler\"\n",
    "        ),\n",
    "    ],\n",
    "    join=\"inner\",\n",
    ")"
   ]
  },
  {
   "cell_type": "code",
   "execution_count": 6,
   "metadata": {},
   "outputs": [
    {
     "name": "stdout",
     "output_type": "stream",
     "text": [
      "| t-test                          | Feature_set   | Modality   | Cell   | time   |   statistic | pvalue   |   mmAP |\n",
      "|:--------------------------------|:--------------|:-----------|:-------|:-------|------------:|:---------|-------:|\n",
      "| Same perturbation type matching | CellProfiler  | compound   | A549   | long   |    10.9722  | <0.05    |  0.12  |\n",
      "| Same perturbation type matching | CellProfiler  | compound   | A549   | short  |    10.9711  | <0.05    |  0.108 |\n",
      "| Same perturbation type matching | CellProfiler  | compound   | U2OS   | long   |    11.4203  | <0.05    |  0.11  |\n",
      "| Same perturbation type matching | CellProfiler  | compound   | U2OS   | short  |    11.6574  | <0.05    |  0.081 |\n",
      "| Same perturbation type matching | CellProfiler  | crispr     | A549   | long   |     4.92739 | <0.05    |  0.088 |\n",
      "| Same perturbation type matching | CellProfiler  | crispr     | A549   | short  |     4.29482 | <0.05    |  0.062 |\n",
      "| Same perturbation type matching | CellProfiler  | crispr     | U2OS   | long   |     4.78768 | <0.05    |  0.076 |\n",
      "| Same perturbation type matching | CellProfiler  | crispr     | U2OS   | short  |     4.2895  | <0.05    |  0.067 |\n",
      "| Same perturbation type matching | DeepProfiler  | compound   | U2OS   | long   |     9.77027 | <0.05    |  0.061 |\n",
      "| Same perturbation type matching | DeepProfiler  | crispr     | U2OS   | long   |     5.09525 | <0.05    |  0.081 |\n"
     ]
    }
   ],
   "source": [
    "print(\n",
    "    matching_cp_dp_pvalue.merge(\n",
    "        matching_mmap, on=[\"Feature_set\", \"Modality\", \"Cell\", \"time\"]\n",
    "    )\n",
    "    .sort_values(by=[\"Feature_set\", \"Modality\", \"Cell\", \"time\"])\n",
    "    .to_markdown(index=False)\n",
    ")"
   ]
  },
  {
   "cell_type": "code",
   "execution_count": 7,
   "metadata": {},
   "outputs": [
    {
     "name": "stdout",
     "output_type": "stream",
     "text": [
      "| t-test                          | Feature_set   | Modality   | Cell   | time   |   statistic | pvalue   |\n",
      "|:--------------------------------|:--------------|:-----------|:-------|:-------|------------:|:---------|\n",
      "| Same perturbation type matching | DP-CP         | compound   | U2OS   | long   |   -4.2832   | <0.05    |\n",
      "| Same perturbation type matching | DP-CP         | crispr     | U2OS   | long   |    0.210606 | 0.83     |\n"
     ]
    }
   ],
   "source": [
    "print(\n",
    "    matching_dp_vs_cp_pvalue.sort_values(\n",
    "        by=[\"Feature_set\", \"Modality\", \"Cell\", \"time\"]\n",
    "    ).to_markdown(index=False)\n",
    ")"
   ]
  },
  {
   "cell_type": "markdown",
   "metadata": {},
   "source": [
    "Different perturbation matching"
   ]
  },
  {
   "cell_type": "code",
   "execution_count": 8,
   "metadata": {},
   "outputs": [],
   "source": [
    "gene_compound_matching_pvalue = pd.read_csv(\"output/gene_compound_matching_pvalue.csv\")\n",
    "gene_compound_matching_cp_dp_pvalue = gene_compound_matching_pvalue.query(\n",
    "    'Feature_set!=\"DP-CP\"'\n",
    ").reset_index(drop=True)\n",
    "gene_compound_matching_dp_vs_cp_pvalue = gene_compound_matching_pvalue.query(\n",
    "    'Feature_set==\"DP-CP\"'\n",
    ").reset_index(drop=True)\n",
    "\n",
    "gene_compound_matching_mmap = pd.concat(\n",
    "    [\n",
    "        pd.read_csv(\"output/cellprofiler_gene_compound_matching_mmap.csv\").assign(\n",
    "            Feature_set=\"CellProfiler\"\n",
    "        ),\n",
    "        pd.read_csv(\"output/deepprofiler_gene_compound_matching_mmap.csv\").assign(\n",
    "            Feature_set=\"DeepProfiler\"\n",
    "        ),\n",
    "    ],\n",
    "    join=\"inner\",\n",
    ")"
   ]
  },
  {
   "cell_type": "code",
   "execution_count": 9,
   "metadata": {},
   "outputs": [
    {
     "name": "stdout",
     "output_type": "stream",
     "text": [
      "| t-test                 | Feature_set   | Modality1      | Modality2    | Cell   |   statistic | pvalue   |   mmAP |\n",
      "|:-----------------------|:--------------|:---------------|:-------------|:-------|------------:|:---------|-------:|\n",
      "| Compoung-gene matching | CellProfiler  | compound_long  | crispr_long  | A549   |     5.53934 | <0.05    |  0.032 |\n",
      "| Compoung-gene matching | CellProfiler  | compound_long  | crispr_long  | U2OS   |     5.74079 | <0.05    |  0.033 |\n",
      "| Compoung-gene matching | CellProfiler  | compound_long  | crispr_short | A549   |     5.29455 | <0.05    |  0.032 |\n",
      "| Compoung-gene matching | CellProfiler  | compound_long  | crispr_short | U2OS   |     3.67899 | <0.05    |  0.025 |\n",
      "| Compoung-gene matching | CellProfiler  | compound_long  | orf_long     | A549   |     5.00785 | <0.05    |  0.03  |\n",
      "| Compoung-gene matching | CellProfiler  | compound_long  | orf_long     | U2OS   |     6.06296 | <0.05    |  0.043 |\n",
      "| Compoung-gene matching | CellProfiler  | compound_long  | orf_short    | A549   |     5.10801 | <0.05    |  0.032 |\n",
      "| Compoung-gene matching | CellProfiler  | compound_long  | orf_short    | U2OS   |     6.00445 | <0.05    |  0.051 |\n",
      "| Compoung-gene matching | CellProfiler  | compound_short | crispr_long  | A549   |     4.06602 | <0.05    |  0.027 |\n",
      "| Compoung-gene matching | CellProfiler  | compound_short | crispr_long  | U2OS   |     5.27651 | <0.05    |  0.032 |\n",
      "| Compoung-gene matching | CellProfiler  | compound_short | crispr_short | A549   |     3.75358 | <0.05    |  0.026 |\n",
      "| Compoung-gene matching | CellProfiler  | compound_short | crispr_short | U2OS   |     3.69909 | <0.05    |  0.028 |\n",
      "| Compoung-gene matching | CellProfiler  | compound_short | orf_long     | A549   |     6.34847 | <0.05    |  0.032 |\n",
      "| Compoung-gene matching | CellProfiler  | compound_short | orf_long     | U2OS   |     5.79578 | <0.05    |  0.045 |\n",
      "| Compoung-gene matching | CellProfiler  | compound_short | orf_short    | A549   |     7.03922 | <0.05    |  0.037 |\n",
      "| Compoung-gene matching | CellProfiler  | compound_short | orf_short    | U2OS   |     6.25956 | <0.05    |  0.039 |\n",
      "| Compoung-gene matching | DeepProfiler  | compound_long  | crispr_long  | U2OS   |     4.89245 | <0.05    |  0.027 |\n",
      "| Compoung-gene matching | DeepProfiler  | compound_long  | orf_long     | U2OS   |     6.62451 | <0.05    |  0.037 |\n"
     ]
    }
   ],
   "source": [
    "print(\n",
    "    gene_compound_matching_cp_dp_pvalue.merge(\n",
    "        gene_compound_matching_mmap,\n",
    "        on=[\"Feature_set\", \"Modality1\", \"Modality2\", \"Cell\"],\n",
    "    )\n",
    "    .sort_values(by=[\"Feature_set\", \"Modality1\", \"Modality2\", \"Cell\"])\n",
    "    .to_markdown(index=False)\n",
    ")"
   ]
  },
  {
   "cell_type": "code",
   "execution_count": 10,
   "metadata": {},
   "outputs": [
    {
     "name": "stdout",
     "output_type": "stream",
     "text": [
      "| t-test                 | Feature_set   | Modality1     | Modality2   | Cell   |   statistic |   pvalue |\n",
      "|:-----------------------|:--------------|:--------------|:------------|:-------|------------:|---------:|\n",
      "| Compoung-gene matching | DP-CP         | compound_long | crispr_long | U2OS   |   -0.696575 |     0.49 |\n",
      "| Compoung-gene matching | DP-CP         | compound_long | orf_long    | U2OS   |   -0.640213 |     0.52 |\n"
     ]
    }
   ],
   "source": [
    "print(\n",
    "    gene_compound_matching_dp_vs_cp_pvalue.sort_values(\n",
    "        by=[\"Feature_set\", \"Modality1\", \"Modality2\", \"Cell\"]\n",
    "    ).to_markdown(index=False)\n",
    ")"
   ]
  },
  {
   "cell_type": "markdown",
   "metadata": {},
   "source": [
    "Different pertubation matching CRISPR vs. ORF"
   ]
  },
  {
   "cell_type": "code",
   "execution_count": 11,
   "metadata": {},
   "outputs": [],
   "source": [
    "gene_compound_matching_crispr_orf_pvalue = pd.read_csv(\"output/crispr_orf_pvalue.csv\")"
   ]
  },
  {
   "cell_type": "code",
   "execution_count": 12,
   "metadata": {},
   "outputs": [
    {
     "name": "stdout",
     "output_type": "stream",
     "text": [
      "| t-test                                  | Feature_set   | compound-crispr             | compound-orf             | Cell   |   statistic | pvalue   |\n",
      "|:----------------------------------------|:--------------|:----------------------------|:-------------------------|:-------|------------:|:---------|\n",
      "| Compoung-gene matching - CRISPR vs. ORF | CellProfiler  | compound_long-crispr_long   | compound_long-orf_long   | A549   |  0.283919   | 0.78     |\n",
      "| Compoung-gene matching - CRISPR vs. ORF | CellProfiler  | compound_long-crispr_long   | compound_long-orf_long   | U2OS   | -1.03495    | 0.30     |\n",
      "| Compoung-gene matching - CRISPR vs. ORF | CellProfiler  | compound_long-crispr_long   | compound_long-orf_short  | A549   |  0.00655953 | 0.99     |\n",
      "| Compoung-gene matching - CRISPR vs. ORF | CellProfiler  | compound_long-crispr_long   | compound_long-orf_short  | U2OS   | -1.71964    | 0.09     |\n",
      "| Compoung-gene matching - CRISPR vs. ORF | CellProfiler  | compound_long-crispr_short  | compound_long-orf_long   | A549   |  0.25676    | 0.80     |\n",
      "| Compoung-gene matching - CRISPR vs. ORF | CellProfiler  | compound_long-crispr_short  | compound_long-orf_long   | U2OS   | -1.83684    | 0.07     |\n",
      "| Compoung-gene matching - CRISPR vs. ORF | CellProfiler  | compound_long-crispr_short  | compound_long-orf_short  | A549   | -0.0146064  | 0.99     |\n",
      "| Compoung-gene matching - CRISPR vs. ORF | CellProfiler  | compound_long-crispr_short  | compound_long-orf_short  | U2OS   | -2.41208    | <0.05    |\n",
      "| Compoung-gene matching - CRISPR vs. ORF | CellProfiler  | compound_short-crispr_long  | compound_short-orf_long  | A549   | -0.590622   | 0.56     |\n",
      "| Compoung-gene matching - CRISPR vs. ORF | CellProfiler  | compound_short-crispr_long  | compound_short-orf_long  | U2OS   | -1.29171    | 0.20     |\n",
      "| Compoung-gene matching - CRISPR vs. ORF | CellProfiler  | compound_short-crispr_long  | compound_short-orf_short | A549   | -1.09033    | 0.28     |\n",
      "| Compoung-gene matching - CRISPR vs. ORF | CellProfiler  | compound_short-crispr_long  | compound_short-orf_short | U2OS   | -0.777114   | 0.44     |\n",
      "| Compoung-gene matching - CRISPR vs. ORF | CellProfiler  | compound_short-crispr_short | compound_short-orf_long  | A549   | -0.691631   | 0.49     |\n",
      "| Compoung-gene matching - CRISPR vs. ORF | CellProfiler  | compound_short-crispr_short | compound_short-orf_long  | U2OS   | -1.54507    | 0.12     |\n",
      "| Compoung-gene matching - CRISPR vs. ORF | CellProfiler  | compound_short-crispr_short | compound_short-orf_short | A549   | -1.17749    | 0.24     |\n",
      "| Compoung-gene matching - CRISPR vs. ORF | CellProfiler  | compound_short-crispr_short | compound_short-orf_short | U2OS   | -1.10004    | 0.27     |\n",
      "| Compoung-gene matching - CRISPR vs. ORF | DeepProfiler  | compound_long-crispr_long   | compound_long-orf_long   | U2OS   | -1.03495    | 0.30     |\n"
     ]
    }
   ],
   "source": [
    "print(\n",
    "    gene_compound_matching_crispr_orf_pvalue.sort_values(\n",
    "        by=[\"Feature_set\", \"compound-crispr\", \"compound-orf\", \"Cell\"]\n",
    "    )[\n",
    "        [\n",
    "            \"t-test\",\n",
    "            \"Feature_set\",\n",
    "            \"compound-crispr\",\n",
    "            \"compound-orf\",\n",
    "            \"Cell\",\n",
    "            \"statistic\",\n",
    "            \"pvalue\",\n",
    "        ]\n",
    "    ].to_markdown(\n",
    "        index=False\n",
    "    )\n",
    ")"
   ]
  },
  {
   "attachments": {},
   "cell_type": "markdown",
   "metadata": {},
   "source": [
    "Compound-genetic perturbation cosine similarity lists"
   ]
  },
  {
   "cell_type": "code",
   "execution_count": 13,
   "metadata": {},
   "outputs": [
    {
     "name": "stdout",
     "output_type": "stream",
     "text": [
      "| Cell   | Genetic_Perturbation   | pert_iname    | Metadata_matching_target   | moa_list                                  |   cosine_sim |\n",
      "|:-------|:-----------------------|:--------------|:---------------------------|:------------------------------------------|-------------:|\n",
      "| A549   | CRISPR                 | AMG900        | AURKB                      | Aurora kinase inhibitor                   |     0.775409 |\n",
      "| A549   | CRISPR                 | BI-2536       | PLK1                       | PLK inhibitor                             |     0.77319  |\n",
      "| A549   | CRISPR                 | NSC-663284    | CDC25A                     | CDC inhibitor                             |     0.770165 |\n",
      "| A549   | CRISPR                 | BI-2536       | PLK1                       | PLK inhibitor                             |     0.762776 |\n",
      "| A549   | CRISPR                 | AMG900        | AURKB                      | Aurora kinase inhibitor                   |     0.756971 |\n",
      "| A549   | CRISPR                 | BI-2536       | PLK1                       | PLK inhibitor                             |     0.748997 |\n",
      "| A549   | CRISPR                 | BI-2536       | PLK1                       | PLK inhibitor                             |     0.746296 |\n",
      "| A549   | CRISPR                 | KI-16425      | LPAR1                      | lysophosphatidic acid receptor antagonist |     0.717315 |\n",
      "| A549   | CRISPR                 | NSC-663284    | CDC25A                     | CDC inhibitor                             |     0.713504 |\n",
      "| A549   | CRISPR                 | NSC-663284    | CDC25A                     | CDC inhibitor                             |     0.707269 |\n",
      "| A549   | ORF                    | oxytocin      | AVPR1A                     | oxytocin receptor agonist                 |    -0.513476 |\n",
      "| A549   | CRISPR                 | sorbinil      | AKR1B1                     | aldose reductase inhibitor                |    -0.515508 |\n",
      "| A549   | CRISPR                 | ibutilide     | CACNG1                     | potassium channel blocker                 |    -0.515927 |\n",
      "| A549   | ORF                    | sulfasalazine | SLC7A11                    | cyclooxygenase inhibitor                  |    -0.543247 |\n",
      "| A549   | CRISPR                 | CCG-50014     | RGS4                       | G protein signaling inhibitor             |    -0.549354 |\n",
      "| A549   | CRISPR                 | xanomeline    | HTR2C                      | acetylcholine receptor agonist            |    -0.558536 |\n",
      "| A549   | ORF                    | coumarin      | CYP2A6                     | vitamin K antagonist                      |    -0.564612 |\n",
      "| A549   | CRISPR                 | sorbinil      | AKR1B1                     | aldose reductase inhibitor                |    -0.573262 |\n",
      "| A549   | CRISPR                 | ibutilide     | CACNG1                     | potassium channel blocker                 |    -0.576196 |\n",
      "| A549   | CRISPR                 | sorbinil      | AKR1B1                     | aldose reductase inhibitor                |    -0.588253 |\n",
      "| Cell   | Genetic_Perturbation   | pert_iname                  | Metadata_matching_target   | moa_list                                                                                                                          |   cosine_sim |\n",
      "|:-------|:-----------------------|:----------------------------|:---------------------------|:----------------------------------------------------------------------------------------------------------------------------------|-------------:|\n",
      "| U2OS   | CRISPR                 | BI-2536                     | PLK1                       | PLK inhibitor                                                                                                                     |     0.893123 |\n",
      "| U2OS   | CRISPR                 | BI-2536                     | PLK1                       | PLK inhibitor                                                                                                                     |     0.891863 |\n",
      "| U2OS   | ORF                    | pyrrolidine-dithiocarbamate | HSD11B1                    | NFkB pathway inhibitor                                                                                                            |     0.818119 |\n",
      "| U2OS   | CRISPR                 | AMG900                      | AURKB                      | Aurora kinase inhibitor                                                                                                           |     0.816575 |\n",
      "| U2OS   | CRISPR                 | AMG900                      | AURKB                      | Aurora kinase inhibitor                                                                                                           |     0.802506 |\n",
      "| U2OS   | CRISPR                 | danusertib                  | AURKB                      | Aurora kinase inhibitor|growth factor receptor inhibitor                                                                          |     0.783599 |\n",
      "| U2OS   | CRISPR                 | danusertib                  | AURKB                      | Aurora kinase inhibitor|growth factor receptor inhibitor                                                                          |     0.750009 |\n",
      "| U2OS   | ORF                    | PP-2                        | ABL1                       | src inhibitor                                                                                                                     |     0.746113 |\n",
      "| U2OS   | ORF                    | AZD1283                     | P2RY12                     | purinergic receptor antagonist                                                                                                    |     0.714925 |\n",
      "| U2OS   | ORF                    | hexestrol                   | AKR1C1                     | synthetic estrogen                                                                                                                |     0.704071 |\n",
      "| U2OS   | ORF                    | ZM-336372                   | MAPK14                     | RAF inhibitor                                                                                                                     |    -0.532583 |\n",
      "| U2OS   | ORF                    | regorafenib                 | BRAF                       | FGFR inhibitor|KIT inhibitor|PDGFR tyrosine kinase receptor inhibitor|RAF inhibitor|RET tyrosine kinase inhibitor|VEGFR inhibitor |    -0.537763 |\n",
      "| U2OS   | ORF                    | ZM-336372                   | MAPK14                     | RAF inhibitor                                                                                                                     |    -0.541875 |\n",
      "| U2OS   | CRISPR                 | nevirapine                  | CYP2A6                     | non-nucleoside reverse transcriptase inhibitor                                                                                    |    -0.548661 |\n",
      "| U2OS   | CRISPR                 | cyclophosphamide            | CYP2A6                     | DNA alkylating agent                                                                                                              |    -0.553281 |\n",
      "| U2OS   | ORF                    | ZM-336372                   | MAPK14                     | RAF inhibitor                                                                                                                     |    -0.556743 |\n",
      "| U2OS   | CRISPR                 | PF-06463922                 | ALK                        | ALK tyrosine kinase receptor inhibitor                                                                                            |    -0.557283 |\n",
      "| U2OS   | ORF                    | ZM-336372                   | MAPK14                     | RAF inhibitor                                                                                                                     |    -0.559419 |\n",
      "| U2OS   | ORF                    | GSK2110183                  | AKT1                       | AKT inhibitor                                                                                                                     |    -0.575825 |\n",
      "| U2OS   | ORF                    | GSK2110183                  | AKT1                       | AKT inhibitor                                                                                                                     |    -0.653074 |\n"
     ]
    }
   ],
   "source": [
    "cols = [\n",
    "    \"Cell\",\n",
    "    \"Genetic_Perturbation\",\n",
    "    \"pert_iname\",\n",
    "    \"Metadata_matching_target\",\n",
    "    \"moa_list\",\n",
    "    \"cosine_sim\",\n",
    "]\n",
    "\n",
    "cosine_sim = pd.read_csv(\"output/compound_genetic_perturbation_cosine_similarity.csv\")\n",
    "metadata = (\n",
    "    pd.read_csv(\n",
    "        \"../metadata/external_metadata/JUMP-Target-1_compound_metadata.tsv\",\n",
    "        sep=\"\\t\",\n",
    "        usecols=[\"broad_sample\", \"pert_iname\"],\n",
    "    )\n",
    "    .merge(\n",
    "        pd.read_csv(\n",
    "            \"input/JUMP-Target-1_compound_metadata_additional_annotations.tsv\",\n",
    "            sep=\"\\t\",\n",
    "            usecols=[\"broad_sample\", \"moa_list\"],\n",
    "        )\n",
    "    )\n",
    "    .rename(columns={\"broad_sample\": \"Metadata_broad_sample\"})\n",
    ")\n",
    "\n",
    "cosine_sim = cosine_sim.merge(metadata, on=\"Metadata_broad_sample\")\n",
    "\n",
    "for cell_type in cosine_sim.Cell.unique():\n",
    "    filtered_df = cosine_sim.query(\"Cell==@cell_type\")\n",
    "    top_df = filtered_df.nlargest(10, \"cosine_sim\")\n",
    "    bottom_df = filtered_df.nsmallest(10, \"cosine_sim\").sort_values(\n",
    "        by=\"cosine_sim\", ascending=False\n",
    "    )\n",
    "    df = pd.concat([top_df, bottom_df], join=\"inner\")\n",
    "    print(df[cols].to_markdown(index=False))"
   ]
  }
 ],
 "metadata": {
  "kernelspec": {
   "display_name": "analysis",
   "language": "python",
   "name": "python3"
  },
  "language_info": {
   "codemirror_mode": {
    "name": "ipython",
    "version": 3
   },
   "file_extension": ".py",
   "mimetype": "text/x-python",
   "name": "python",
   "nbconvert_exporter": "python",
   "pygments_lexer": "ipython3",
   "version": "3.10.6"
  },
  "orig_nbformat": 4,
  "vscode": {
   "interpreter": {
    "hash": "986381fcaa5fa2a4fbfcc238e5cd47c7186c89fa9a103f6aff6b597c4b48d920"
   }
  }
 },
 "nbformat": 4,
 "nbformat_minor": 2
}
