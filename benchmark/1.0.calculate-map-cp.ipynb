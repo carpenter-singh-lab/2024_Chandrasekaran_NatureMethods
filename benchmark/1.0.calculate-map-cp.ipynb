{
 "cells": [
  {
   "cell_type": "code",
   "execution_count": 1,
   "metadata": {
    "collapsed": true,
    "pycharm": {
     "name": "#%%\n"
    }
   },
   "outputs": [],
   "source": [
    "import warnings\n",
    "import pandas as pd\n",
    "import utils\n",
    "import plotly.express as px\n",
    "import numpy as np\n",
    "\n",
    "warnings.simplefilter(action=\"ignore\", category=FutureWarning)\n",
    "warnings.filterwarnings(\"ignore\", category=RuntimeWarning)"
   ]
  },
  {
   "cell_type": "markdown",
   "metadata": {
    "collapsed": false,
    "pycharm": {
     "name": "#%% md\n"
    }
   },
   "source": [
    "### Calculating mean Average Precision (mAP) for CellProfiler features\n",
    "In this notebook, we calculate the mAP for perturbation detection and perturbation matching tasks for the CellProfiler features."
   ]
  },
  {
   "cell_type": "markdown",
   "metadata": {},
   "source": [
    "All compound, ORF and CRISPR plates from the `2020_11_04_CPJUMP1` batch are read, except for those with cell seeding density other than 1000 (100%) and compound plates with antibiotics (Puromycin/Blasticidin) added. Additional annotations for the compounds are also read."
   ]
  },
  {
   "cell_type": "code",
   "execution_count": 2,
   "metadata": {
    "collapsed": false,
    "pycharm": {
     "name": "#%%\n"
    }
   },
   "outputs": [],
   "source": [
    "replicability_map_df = pd.DataFrame()\n",
    "replicability_fr_df = pd.DataFrame()\n",
    "matching_map_df = pd.DataFrame()\n",
    "matching_fr_df = pd.DataFrame()\n",
    "gene_compound_matching_map_df = pd.DataFrame()\n",
    "gene_compound_matching_fr_df = pd.DataFrame()\n",
    "\n",
    "replicate_feature = \"Metadata_broad_sample\"\n",
    "batch = \"2020_11_04_CPJUMP1\"\n",
    "batch_size = 100000\n",
    "null_size = 100000\n",
    "\n",
    "experiment_df = (\n",
    "    pd.read_csv(\"output/experiment-metadata.tsv\", sep=\"\\t\")\n",
    "    .query(\"Batch==@batch\")\n",
    "    .query(\"Density==100\")\n",
    "    .query('Antibiotics==\"absent\"')\n",
    ")\n",
    "\n",
    "experiment_df.drop(\n",
    "    experiment_df[\n",
    "        (experiment_df.Perturbation == \"compound\") & (experiment_df.Cell_line == \"Cas9\")\n",
    "    ].index,\n",
    "    inplace=True,\n",
    ")\n",
    "\n",
    "target1_metadata = pd.read_csv(\n",
    "    \"input/JUMP-Target-1_compound_metadata_additional_annotations.tsv\",\n",
    "    sep=\"\\t\",\n",
    "    usecols=[\"broad_sample\", \"target_list\"],\n",
    ").rename(\n",
    "    columns={\n",
    "        \"broad_sample\": \"Metadata_broad_sample\",\n",
    "        \"target_list\": \"Metadata_target_list\",\n",
    "    }\n",
    ")"
   ]
  },
  {
   "attachments": {},
   "cell_type": "markdown",
   "metadata": {},
   "source": [
    "Normalized, feature selected compound profiles for replicate plates at the same time point, using the same cell type are merged into a single data frame. Empty wells are removed before calculating mAP for perturbation detection (retrieve replicates of the query compound). p value and FDR corrected p values are calculated using a permutation-based significance test.\n",
    "\n",
    "For the perturbation matching task, compounds that not are replicable (corrected pvalue > 0.05) are removed. Negative control wells are also removed and the additional target annotations are added before mAP for perturbation matching is calculated. Again, p value and FDR corrected p values are calculated using a permutation-based significance test.\n",
    "\n",
    "Similarly, mAP for perturbation detection is computed for both CRISPR and ORF plates while mAP for perturbation matching is computed only for the CRISPR guides as there are no sister ORF perturbations.\n",
    "\n",
    "Then, mAP for the chemical perturbation-genetic perturbation matching task is computed using the median consensus profiles.\n",
    "\n",
    "Along with mAP, fraction retrieved is also calculated. This is the fraction of queries that have corrected p value < 0.05.\n",
    "\n",
    "The mAP and fraction retrieved values as saved to `output` directory and the results are plotted."
   ]
  },
  {
   "cell_type": "code",
   "execution_count": 3,
   "metadata": {
    "collapsed": false,
    "pycharm": {
     "name": "#%%\n"
    }
   },
   "outputs": [
    {
     "name": "stdout",
     "output_type": "stream",
     "text": [
      "Computing compound_A549_short replicability\n"
     ]
    },
    {
     "data": {
      "application/vnd.jupyter.widget-view+json": {
       "model_id": "9853859067f74895aeb0e2922cb2d117",
       "version_major": 2,
       "version_minor": 0
      },
      "text/plain": [
       "  0%|          | 0/1 [00:00<?, ?it/s]"
      ]
     },
     "metadata": {},
     "output_type": "display_data"
    },
    {
     "data": {
      "application/vnd.jupyter.widget-view+json": {
       "model_id": "ee753e8a0fd84c81813d6d2e3fffec88",
       "version_major": 2,
       "version_minor": 0
      },
      "text/plain": [
       "  0%|          | 0/1 [00:00<?, ?it/s]"
      ]
     },
     "metadata": {},
     "output_type": "display_data"
    },
    {
     "name": "stdout",
     "output_type": "stream",
     "text": [
      "Computing compound_A549_short matching\n"
     ]
    },
    {
     "data": {
      "application/vnd.jupyter.widget-view+json": {
       "model_id": "88e5f5ea22524543a374c40e1648785f",
       "version_major": 2,
       "version_minor": 0
      },
      "text/plain": [
       "  0%|          | 0/1 [00:00<?, ?it/s]"
      ]
     },
     "metadata": {},
     "output_type": "display_data"
    },
    {
     "data": {
      "application/vnd.jupyter.widget-view+json": {
       "model_id": "08c3b4b38b2d4b0e9f3695cb24567912",
       "version_major": 2,
       "version_minor": 0
      },
      "text/plain": [
       "  0%|          | 0/1 [00:00<?, ?it/s]"
      ]
     },
     "metadata": {},
     "output_type": "display_data"
    },
    {
     "name": "stdout",
     "output_type": "stream",
     "text": [
      "Computing crispr_A549_long replicability\n"
     ]
    },
    {
     "data": {
      "application/vnd.jupyter.widget-view+json": {
       "model_id": "f61f6529c6a1483ca6307bbbf679db10",
       "version_major": 2,
       "version_minor": 0
      },
      "text/plain": [
       "  0%|          | 0/1 [00:00<?, ?it/s]"
      ]
     },
     "metadata": {},
     "output_type": "display_data"
    },
    {
     "data": {
      "application/vnd.jupyter.widget-view+json": {
       "model_id": "58e9b3ac19074499b59f408c3da60d4b",
       "version_major": 2,
       "version_minor": 0
      },
      "text/plain": [
       "  0%|          | 0/1 [00:00<?, ?it/s]"
      ]
     },
     "metadata": {},
     "output_type": "display_data"
    },
    {
     "name": "stdout",
     "output_type": "stream",
     "text": [
      "Computing crispr_A549_long matching\n"
     ]
    },
    {
     "data": {
      "application/vnd.jupyter.widget-view+json": {
       "model_id": "f9771a83f8dd4631901568554ffd2ca9",
       "version_major": 2,
       "version_minor": 0
      },
      "text/plain": [
       "  0%|          | 0/1 [00:00<?, ?it/s]"
      ]
     },
     "metadata": {},
     "output_type": "display_data"
    },
    {
     "data": {
      "application/vnd.jupyter.widget-view+json": {
       "model_id": "acba08d4075f4865b87e000edd031481",
       "version_major": 2,
       "version_minor": 0
      },
      "text/plain": [
       "  0%|          | 0/1 [00:00<?, ?it/s]"
      ]
     },
     "metadata": {},
     "output_type": "display_data"
    },
    {
     "name": "stdout",
     "output_type": "stream",
     "text": [
      "Computing compound_A549_short-crispr_A549_long matching\n"
     ]
    },
    {
     "data": {
      "application/vnd.jupyter.widget-view+json": {
       "model_id": "8c84519612f04edda9a0ceb78447b82c",
       "version_major": 2,
       "version_minor": 0
      },
      "text/plain": [
       "  0%|          | 0/1 [00:00<?, ?it/s]"
      ]
     },
     "metadata": {},
     "output_type": "display_data"
    },
    {
     "data": {
      "application/vnd.jupyter.widget-view+json": {
       "model_id": "6029f15818c249dea75c4a4aeeada60a",
       "version_major": 2,
       "version_minor": 0
      },
      "text/plain": [
       "  0%|          | 0/1 [00:00<?, ?it/s]"
      ]
     },
     "metadata": {},
     "output_type": "display_data"
    },
    {
     "name": "stdout",
     "output_type": "stream",
     "text": [
      "Computing crispr_A549_short replicability\n"
     ]
    },
    {
     "data": {
      "application/vnd.jupyter.widget-view+json": {
       "model_id": "64a62160a13b4a418e5b0c06ee124b44",
       "version_major": 2,
       "version_minor": 0
      },
      "text/plain": [
       "  0%|          | 0/1 [00:00<?, ?it/s]"
      ]
     },
     "metadata": {},
     "output_type": "display_data"
    },
    {
     "data": {
      "application/vnd.jupyter.widget-view+json": {
       "model_id": "8b88767328be472cb8ec5af1a336b2e2",
       "version_major": 2,
       "version_minor": 0
      },
      "text/plain": [
       "  0%|          | 0/1 [00:00<?, ?it/s]"
      ]
     },
     "metadata": {},
     "output_type": "display_data"
    },
    {
     "name": "stdout",
     "output_type": "stream",
     "text": [
      "Computing crispr_A549_short matching\n"
     ]
    },
    {
     "data": {
      "application/vnd.jupyter.widget-view+json": {
       "model_id": "6b54307fb1324382a9eb48a3967182c2",
       "version_major": 2,
       "version_minor": 0
      },
      "text/plain": [
       "  0%|          | 0/1 [00:00<?, ?it/s]"
      ]
     },
     "metadata": {},
     "output_type": "display_data"
    },
    {
     "data": {
      "application/vnd.jupyter.widget-view+json": {
       "model_id": "f3d15df28b9f4790828deb3b071d9a4e",
       "version_major": 2,
       "version_minor": 0
      },
      "text/plain": [
       "  0%|          | 0/1 [00:00<?, ?it/s]"
      ]
     },
     "metadata": {},
     "output_type": "display_data"
    },
    {
     "name": "stdout",
     "output_type": "stream",
     "text": [
      "Computing compound_A549_short-crispr_A549_short matching\n"
     ]
    },
    {
     "data": {
      "application/vnd.jupyter.widget-view+json": {
       "model_id": "157b36166b1a4b45a3939246f069fdc3",
       "version_major": 2,
       "version_minor": 0
      },
      "text/plain": [
       "  0%|          | 0/1 [00:00<?, ?it/s]"
      ]
     },
     "metadata": {},
     "output_type": "display_data"
    },
    {
     "data": {
      "application/vnd.jupyter.widget-view+json": {
       "model_id": "73967bffb3b742509b6fcde7ffe3966e",
       "version_major": 2,
       "version_minor": 0
      },
      "text/plain": [
       "  0%|          | 0/1 [00:00<?, ?it/s]"
      ]
     },
     "metadata": {},
     "output_type": "display_data"
    },
    {
     "name": "stdout",
     "output_type": "stream",
     "text": [
      "Computing orf_A549_long replicability\n"
     ]
    },
    {
     "data": {
      "application/vnd.jupyter.widget-view+json": {
       "model_id": "65a41ec5626f4561ae7c27d25c8ef120",
       "version_major": 2,
       "version_minor": 0
      },
      "text/plain": [
       "  0%|          | 0/1 [00:00<?, ?it/s]"
      ]
     },
     "metadata": {},
     "output_type": "display_data"
    },
    {
     "data": {
      "application/vnd.jupyter.widget-view+json": {
       "model_id": "3014567348af44a892cbec1afed6ea63",
       "version_major": 2,
       "version_minor": 0
      },
      "text/plain": [
       "  0%|          | 0/1 [00:00<?, ?it/s]"
      ]
     },
     "metadata": {},
     "output_type": "display_data"
    },
    {
     "name": "stdout",
     "output_type": "stream",
     "text": [
      "Computing compound_A549_short-orf_A549_long matching\n"
     ]
    },
    {
     "data": {
      "application/vnd.jupyter.widget-view+json": {
       "model_id": "f069141e851644059ec0699e80b14179",
       "version_major": 2,
       "version_minor": 0
      },
      "text/plain": [
       "  0%|          | 0/1 [00:00<?, ?it/s]"
      ]
     },
     "metadata": {},
     "output_type": "display_data"
    },
    {
     "data": {
      "application/vnd.jupyter.widget-view+json": {
       "model_id": "f881f1e947ec41c9aba13aaadc09ae54",
       "version_major": 2,
       "version_minor": 0
      },
      "text/plain": [
       "  0%|          | 0/1 [00:00<?, ?it/s]"
      ]
     },
     "metadata": {},
     "output_type": "display_data"
    },
    {
     "name": "stdout",
     "output_type": "stream",
     "text": [
      "Computing orf_A549_short replicability\n"
     ]
    },
    {
     "data": {
      "application/vnd.jupyter.widget-view+json": {
       "model_id": "ef4f62ed36f94035b1c083b7509ec32b",
       "version_major": 2,
       "version_minor": 0
      },
      "text/plain": [
       "  0%|          | 0/1 [00:00<?, ?it/s]"
      ]
     },
     "metadata": {},
     "output_type": "display_data"
    },
    {
     "data": {
      "application/vnd.jupyter.widget-view+json": {
       "model_id": "041a2aab9db04cad940e6b5dd2c4344f",
       "version_major": 2,
       "version_minor": 0
      },
      "text/plain": [
       "  0%|          | 0/1 [00:00<?, ?it/s]"
      ]
     },
     "metadata": {},
     "output_type": "display_data"
    },
    {
     "name": "stdout",
     "output_type": "stream",
     "text": [
      "Computing compound_A549_short-orf_A549_short matching\n"
     ]
    },
    {
     "data": {
      "application/vnd.jupyter.widget-view+json": {
       "model_id": "b75597754d1b4a2c964048166a9d5efc",
       "version_major": 2,
       "version_minor": 0
      },
      "text/plain": [
       "  0%|          | 0/1 [00:00<?, ?it/s]"
      ]
     },
     "metadata": {},
     "output_type": "display_data"
    },
    {
     "data": {
      "application/vnd.jupyter.widget-view+json": {
       "model_id": "762ba5cc282c412e8819cf78ed17ec79",
       "version_major": 2,
       "version_minor": 0
      },
      "text/plain": [
       "  0%|          | 0/1 [00:00<?, ?it/s]"
      ]
     },
     "metadata": {},
     "output_type": "display_data"
    },
    {
     "name": "stdout",
     "output_type": "stream",
     "text": [
      "Computing compound_A549_long replicability\n"
     ]
    },
    {
     "data": {
      "application/vnd.jupyter.widget-view+json": {
       "model_id": "24751fc197684bc0b974aa1086fcfc09",
       "version_major": 2,
       "version_minor": 0
      },
      "text/plain": [
       "  0%|          | 0/1 [00:00<?, ?it/s]"
      ]
     },
     "metadata": {},
     "output_type": "display_data"
    },
    {
     "data": {
      "application/vnd.jupyter.widget-view+json": {
       "model_id": "0cd9de4b1c714b589b1e90e878eeead1",
       "version_major": 2,
       "version_minor": 0
      },
      "text/plain": [
       "  0%|          | 0/1 [00:00<?, ?it/s]"
      ]
     },
     "metadata": {},
     "output_type": "display_data"
    },
    {
     "name": "stdout",
     "output_type": "stream",
     "text": [
      "Computing compound_A549_long matching\n"
     ]
    },
    {
     "data": {
      "application/vnd.jupyter.widget-view+json": {
       "model_id": "e92899073fd648ed9e90eb66059f7a60",
       "version_major": 2,
       "version_minor": 0
      },
      "text/plain": [
       "  0%|          | 0/1 [00:00<?, ?it/s]"
      ]
     },
     "metadata": {},
     "output_type": "display_data"
    },
    {
     "data": {
      "application/vnd.jupyter.widget-view+json": {
       "model_id": "f6ab2023cb9e4490a5c28f27b28a4a4f",
       "version_major": 2,
       "version_minor": 0
      },
      "text/plain": [
       "  0%|          | 0/1 [00:00<?, ?it/s]"
      ]
     },
     "metadata": {},
     "output_type": "display_data"
    },
    {
     "name": "stdout",
     "output_type": "stream",
     "text": [
      "Computing compound_A549_long-crispr_A549_long matching\n"
     ]
    },
    {
     "data": {
      "application/vnd.jupyter.widget-view+json": {
       "model_id": "53a5ec51e8b7489d84bee50c4f850e69",
       "version_major": 2,
       "version_minor": 0
      },
      "text/plain": [
       "  0%|          | 0/1 [00:00<?, ?it/s]"
      ]
     },
     "metadata": {},
     "output_type": "display_data"
    },
    {
     "data": {
      "application/vnd.jupyter.widget-view+json": {
       "model_id": "cd492c250b914ad4a78b6da50ec01751",
       "version_major": 2,
       "version_minor": 0
      },
      "text/plain": [
       "  0%|          | 0/1 [00:00<?, ?it/s]"
      ]
     },
     "metadata": {},
     "output_type": "display_data"
    },
    {
     "name": "stdout",
     "output_type": "stream",
     "text": [
      "Computing compound_A549_long-crispr_A549_short matching\n"
     ]
    },
    {
     "data": {
      "application/vnd.jupyter.widget-view+json": {
       "model_id": "3b95f3ed1f67447888c13c9337ccb3b8",
       "version_major": 2,
       "version_minor": 0
      },
      "text/plain": [
       "  0%|          | 0/1 [00:00<?, ?it/s]"
      ]
     },
     "metadata": {},
     "output_type": "display_data"
    },
    {
     "data": {
      "application/vnd.jupyter.widget-view+json": {
       "model_id": "c4f7221eda7d4c55a1a2a006036612b6",
       "version_major": 2,
       "version_minor": 0
      },
      "text/plain": [
       "  0%|          | 0/1 [00:00<?, ?it/s]"
      ]
     },
     "metadata": {},
     "output_type": "display_data"
    },
    {
     "name": "stdout",
     "output_type": "stream",
     "text": [
      "Computing compound_A549_long-orf_A549_long matching\n"
     ]
    },
    {
     "data": {
      "application/vnd.jupyter.widget-view+json": {
       "model_id": "499333f5b53b42f7aa7569ca51d2f405",
       "version_major": 2,
       "version_minor": 0
      },
      "text/plain": [
       "  0%|          | 0/1 [00:00<?, ?it/s]"
      ]
     },
     "metadata": {},
     "output_type": "display_data"
    },
    {
     "data": {
      "application/vnd.jupyter.widget-view+json": {
       "model_id": "d69adaa2532d490c84b643e95bc61958",
       "version_major": 2,
       "version_minor": 0
      },
      "text/plain": [
       "  0%|          | 0/1 [00:00<?, ?it/s]"
      ]
     },
     "metadata": {},
     "output_type": "display_data"
    },
    {
     "name": "stdout",
     "output_type": "stream",
     "text": [
      "Computing compound_A549_long-orf_A549_short matching\n"
     ]
    },
    {
     "data": {
      "application/vnd.jupyter.widget-view+json": {
       "model_id": "d2074a2524d244eca648ea02c31edc1f",
       "version_major": 2,
       "version_minor": 0
      },
      "text/plain": [
       "  0%|          | 0/1 [00:00<?, ?it/s]"
      ]
     },
     "metadata": {},
     "output_type": "display_data"
    },
    {
     "data": {
      "application/vnd.jupyter.widget-view+json": {
       "model_id": "b81b4c0b524f42d38b0aee8eeed9529b",
       "version_major": 2,
       "version_minor": 0
      },
      "text/plain": [
       "  0%|          | 0/1 [00:00<?, ?it/s]"
      ]
     },
     "metadata": {},
     "output_type": "display_data"
    },
    {
     "name": "stdout",
     "output_type": "stream",
     "text": [
      "Computing compound_U2OS_short replicability\n"
     ]
    },
    {
     "data": {
      "application/vnd.jupyter.widget-view+json": {
       "model_id": "5ba60f69e40948389c8e3e779d6ee8a8",
       "version_major": 2,
       "version_minor": 0
      },
      "text/plain": [
       "  0%|          | 0/1 [00:00<?, ?it/s]"
      ]
     },
     "metadata": {},
     "output_type": "display_data"
    },
    {
     "data": {
      "application/vnd.jupyter.widget-view+json": {
       "model_id": "eb297af414a743279d706074c4f49d90",
       "version_major": 2,
       "version_minor": 0
      },
      "text/plain": [
       "  0%|          | 0/1 [00:00<?, ?it/s]"
      ]
     },
     "metadata": {},
     "output_type": "display_data"
    },
    {
     "name": "stdout",
     "output_type": "stream",
     "text": [
      "Computing compound_U2OS_short matching\n"
     ]
    },
    {
     "data": {
      "application/vnd.jupyter.widget-view+json": {
       "model_id": "4f9e5f7aef5f40eeb5d9035b0dbd3d42",
       "version_major": 2,
       "version_minor": 0
      },
      "text/plain": [
       "  0%|          | 0/1 [00:00<?, ?it/s]"
      ]
     },
     "metadata": {},
     "output_type": "display_data"
    },
    {
     "data": {
      "application/vnd.jupyter.widget-view+json": {
       "model_id": "63fd2a3972b74d76a92fcd63f2c03c34",
       "version_major": 2,
       "version_minor": 0
      },
      "text/plain": [
       "  0%|          | 0/1 [00:00<?, ?it/s]"
      ]
     },
     "metadata": {},
     "output_type": "display_data"
    },
    {
     "name": "stdout",
     "output_type": "stream",
     "text": [
      "Computing crispr_U2OS_long replicability\n"
     ]
    },
    {
     "data": {
      "application/vnd.jupyter.widget-view+json": {
       "model_id": "938f5afe2b194a1a9c24f007aab9df6c",
       "version_major": 2,
       "version_minor": 0
      },
      "text/plain": [
       "  0%|          | 0/1 [00:00<?, ?it/s]"
      ]
     },
     "metadata": {},
     "output_type": "display_data"
    },
    {
     "data": {
      "application/vnd.jupyter.widget-view+json": {
       "model_id": "1b31bba86b704592bf4640d85bea4a11",
       "version_major": 2,
       "version_minor": 0
      },
      "text/plain": [
       "  0%|          | 0/1 [00:00<?, ?it/s]"
      ]
     },
     "metadata": {},
     "output_type": "display_data"
    },
    {
     "name": "stdout",
     "output_type": "stream",
     "text": [
      "Computing crispr_U2OS_long matching\n"
     ]
    },
    {
     "data": {
      "application/vnd.jupyter.widget-view+json": {
       "model_id": "4c071c23be8d4c6e9c049670694cdee6",
       "version_major": 2,
       "version_minor": 0
      },
      "text/plain": [
       "  0%|          | 0/1 [00:00<?, ?it/s]"
      ]
     },
     "metadata": {},
     "output_type": "display_data"
    },
    {
     "data": {
      "application/vnd.jupyter.widget-view+json": {
       "model_id": "18ff4c4fd66c41229ed83ddf3729f870",
       "version_major": 2,
       "version_minor": 0
      },
      "text/plain": [
       "  0%|          | 0/1 [00:00<?, ?it/s]"
      ]
     },
     "metadata": {},
     "output_type": "display_data"
    },
    {
     "name": "stdout",
     "output_type": "stream",
     "text": [
      "Computing compound_U2OS_short-crispr_U2OS_long matching\n"
     ]
    },
    {
     "data": {
      "application/vnd.jupyter.widget-view+json": {
       "model_id": "a3cb930f98724d89a355bb23ba8c7f41",
       "version_major": 2,
       "version_minor": 0
      },
      "text/plain": [
       "  0%|          | 0/1 [00:00<?, ?it/s]"
      ]
     },
     "metadata": {},
     "output_type": "display_data"
    },
    {
     "data": {
      "application/vnd.jupyter.widget-view+json": {
       "model_id": "88188629b13f48c39251965e37db4f62",
       "version_major": 2,
       "version_minor": 0
      },
      "text/plain": [
       "  0%|          | 0/1 [00:00<?, ?it/s]"
      ]
     },
     "metadata": {},
     "output_type": "display_data"
    },
    {
     "name": "stdout",
     "output_type": "stream",
     "text": [
      "Computing crispr_U2OS_short replicability\n"
     ]
    },
    {
     "data": {
      "application/vnd.jupyter.widget-view+json": {
       "model_id": "c5688285aa25449f9e5721a00e3f6f88",
       "version_major": 2,
       "version_minor": 0
      },
      "text/plain": [
       "  0%|          | 0/1 [00:00<?, ?it/s]"
      ]
     },
     "metadata": {},
     "output_type": "display_data"
    },
    {
     "data": {
      "application/vnd.jupyter.widget-view+json": {
       "model_id": "4768b6c3badc4e4bac6047ec516f3df6",
       "version_major": 2,
       "version_minor": 0
      },
      "text/plain": [
       "  0%|          | 0/1 [00:00<?, ?it/s]"
      ]
     },
     "metadata": {},
     "output_type": "display_data"
    },
    {
     "name": "stdout",
     "output_type": "stream",
     "text": [
      "Computing crispr_U2OS_short matching\n"
     ]
    },
    {
     "data": {
      "application/vnd.jupyter.widget-view+json": {
       "model_id": "bdb4ef077f5d44dc9eb6bda71061bd7e",
       "version_major": 2,
       "version_minor": 0
      },
      "text/plain": [
       "  0%|          | 0/1 [00:00<?, ?it/s]"
      ]
     },
     "metadata": {},
     "output_type": "display_data"
    },
    {
     "data": {
      "application/vnd.jupyter.widget-view+json": {
       "model_id": "e0ad350c40e640909422aab2474cc32d",
       "version_major": 2,
       "version_minor": 0
      },
      "text/plain": [
       "  0%|          | 0/1 [00:00<?, ?it/s]"
      ]
     },
     "metadata": {},
     "output_type": "display_data"
    },
    {
     "name": "stdout",
     "output_type": "stream",
     "text": [
      "Computing compound_U2OS_short-crispr_U2OS_short matching\n"
     ]
    },
    {
     "data": {
      "application/vnd.jupyter.widget-view+json": {
       "model_id": "d0d550fe6e3e4f368cf4b12625a4deb2",
       "version_major": 2,
       "version_minor": 0
      },
      "text/plain": [
       "  0%|          | 0/1 [00:00<?, ?it/s]"
      ]
     },
     "metadata": {},
     "output_type": "display_data"
    },
    {
     "data": {
      "application/vnd.jupyter.widget-view+json": {
       "model_id": "913d3d6124584d3c966365f8c09957b9",
       "version_major": 2,
       "version_minor": 0
      },
      "text/plain": [
       "  0%|          | 0/1 [00:00<?, ?it/s]"
      ]
     },
     "metadata": {},
     "output_type": "display_data"
    },
    {
     "name": "stdout",
     "output_type": "stream",
     "text": [
      "Computing orf_U2OS_short replicability\n"
     ]
    },
    {
     "data": {
      "application/vnd.jupyter.widget-view+json": {
       "model_id": "685f4175bae748e9b51456b45d061aef",
       "version_major": 2,
       "version_minor": 0
      },
      "text/plain": [
       "  0%|          | 0/1 [00:00<?, ?it/s]"
      ]
     },
     "metadata": {},
     "output_type": "display_data"
    },
    {
     "data": {
      "application/vnd.jupyter.widget-view+json": {
       "model_id": "41e05811d60c4d5ab1749dffec34c4b5",
       "version_major": 2,
       "version_minor": 0
      },
      "text/plain": [
       "  0%|          | 0/1 [00:00<?, ?it/s]"
      ]
     },
     "metadata": {},
     "output_type": "display_data"
    },
    {
     "name": "stdout",
     "output_type": "stream",
     "text": [
      "Computing compound_U2OS_short-orf_U2OS_short matching\n"
     ]
    },
    {
     "data": {
      "application/vnd.jupyter.widget-view+json": {
       "model_id": "15b4c9ae2943437983017afa29e3544a",
       "version_major": 2,
       "version_minor": 0
      },
      "text/plain": [
       "  0%|          | 0/1 [00:00<?, ?it/s]"
      ]
     },
     "metadata": {},
     "output_type": "display_data"
    },
    {
     "data": {
      "application/vnd.jupyter.widget-view+json": {
       "model_id": "c9894fcd3b634b4585f050712bd7932e",
       "version_major": 2,
       "version_minor": 0
      },
      "text/plain": [
       "  0%|          | 0/1 [00:00<?, ?it/s]"
      ]
     },
     "metadata": {},
     "output_type": "display_data"
    },
    {
     "name": "stdout",
     "output_type": "stream",
     "text": [
      "Computing orf_U2OS_long replicability\n"
     ]
    },
    {
     "data": {
      "application/vnd.jupyter.widget-view+json": {
       "model_id": "5da5d091671b43859737ce4963612c9c",
       "version_major": 2,
       "version_minor": 0
      },
      "text/plain": [
       "  0%|          | 0/1 [00:00<?, ?it/s]"
      ]
     },
     "metadata": {},
     "output_type": "display_data"
    },
    {
     "data": {
      "application/vnd.jupyter.widget-view+json": {
       "model_id": "71901647df92426398e491a745437d4f",
       "version_major": 2,
       "version_minor": 0
      },
      "text/plain": [
       "  0%|          | 0/1 [00:00<?, ?it/s]"
      ]
     },
     "metadata": {},
     "output_type": "display_data"
    },
    {
     "name": "stdout",
     "output_type": "stream",
     "text": [
      "Computing compound_U2OS_short-orf_U2OS_long matching\n"
     ]
    },
    {
     "data": {
      "application/vnd.jupyter.widget-view+json": {
       "model_id": "535e0e4fe3174931b696ae7c6d1a4ecf",
       "version_major": 2,
       "version_minor": 0
      },
      "text/plain": [
       "  0%|          | 0/1 [00:00<?, ?it/s]"
      ]
     },
     "metadata": {},
     "output_type": "display_data"
    },
    {
     "data": {
      "application/vnd.jupyter.widget-view+json": {
       "model_id": "a15a578daca24e7fac45fdd7091cca44",
       "version_major": 2,
       "version_minor": 0
      },
      "text/plain": [
       "  0%|          | 0/1 [00:00<?, ?it/s]"
      ]
     },
     "metadata": {},
     "output_type": "display_data"
    },
    {
     "name": "stdout",
     "output_type": "stream",
     "text": [
      "Computing compound_U2OS_long replicability\n"
     ]
    },
    {
     "data": {
      "application/vnd.jupyter.widget-view+json": {
       "model_id": "900c014139904814ba1f9a7694f7f609",
       "version_major": 2,
       "version_minor": 0
      },
      "text/plain": [
       "  0%|          | 0/1 [00:00<?, ?it/s]"
      ]
     },
     "metadata": {},
     "output_type": "display_data"
    },
    {
     "data": {
      "application/vnd.jupyter.widget-view+json": {
       "model_id": "9efedea634684d3584cecdccd663fa88",
       "version_major": 2,
       "version_minor": 0
      },
      "text/plain": [
       "  0%|          | 0/1 [00:00<?, ?it/s]"
      ]
     },
     "metadata": {},
     "output_type": "display_data"
    },
    {
     "name": "stdout",
     "output_type": "stream",
     "text": [
      "Computing compound_U2OS_long matching\n"
     ]
    },
    {
     "data": {
      "application/vnd.jupyter.widget-view+json": {
       "model_id": "489c5a8110a0499ebae73d788283fc45",
       "version_major": 2,
       "version_minor": 0
      },
      "text/plain": [
       "  0%|          | 0/1 [00:00<?, ?it/s]"
      ]
     },
     "metadata": {},
     "output_type": "display_data"
    },
    {
     "data": {
      "application/vnd.jupyter.widget-view+json": {
       "model_id": "5f5e242bd7344317bc54cad63d6ee626",
       "version_major": 2,
       "version_minor": 0
      },
      "text/plain": [
       "  0%|          | 0/1 [00:00<?, ?it/s]"
      ]
     },
     "metadata": {},
     "output_type": "display_data"
    },
    {
     "name": "stdout",
     "output_type": "stream",
     "text": [
      "Computing compound_U2OS_long-crispr_U2OS_long matching\n"
     ]
    },
    {
     "data": {
      "application/vnd.jupyter.widget-view+json": {
       "model_id": "415dc6deb9d3469194ed6530e4080c55",
       "version_major": 2,
       "version_minor": 0
      },
      "text/plain": [
       "  0%|          | 0/1 [00:00<?, ?it/s]"
      ]
     },
     "metadata": {},
     "output_type": "display_data"
    },
    {
     "data": {
      "application/vnd.jupyter.widget-view+json": {
       "model_id": "b1d0e395635542788c468413832bc3ce",
       "version_major": 2,
       "version_minor": 0
      },
      "text/plain": [
       "  0%|          | 0/1 [00:00<?, ?it/s]"
      ]
     },
     "metadata": {},
     "output_type": "display_data"
    },
    {
     "name": "stdout",
     "output_type": "stream",
     "text": [
      "Computing compound_U2OS_long-crispr_U2OS_short matching\n"
     ]
    },
    {
     "data": {
      "application/vnd.jupyter.widget-view+json": {
       "model_id": "aebc830e05ff4a71ab0fd45a5cced151",
       "version_major": 2,
       "version_minor": 0
      },
      "text/plain": [
       "  0%|          | 0/1 [00:00<?, ?it/s]"
      ]
     },
     "metadata": {},
     "output_type": "display_data"
    },
    {
     "data": {
      "application/vnd.jupyter.widget-view+json": {
       "model_id": "578d5890cde44bd19d3cd52f3ecae64a",
       "version_major": 2,
       "version_minor": 0
      },
      "text/plain": [
       "  0%|          | 0/1 [00:00<?, ?it/s]"
      ]
     },
     "metadata": {},
     "output_type": "display_data"
    },
    {
     "name": "stdout",
     "output_type": "stream",
     "text": [
      "Computing compound_U2OS_long-orf_U2OS_short matching\n"
     ]
    },
    {
     "data": {
      "application/vnd.jupyter.widget-view+json": {
       "model_id": "918954b077c94869a65bbdf68e53c554",
       "version_major": 2,
       "version_minor": 0
      },
      "text/plain": [
       "  0%|          | 0/1 [00:00<?, ?it/s]"
      ]
     },
     "metadata": {},
     "output_type": "display_data"
    },
    {
     "data": {
      "application/vnd.jupyter.widget-view+json": {
       "model_id": "c7f0238f39d54949b0e50040e9d984ca",
       "version_major": 2,
       "version_minor": 0
      },
      "text/plain": [
       "  0%|          | 0/1 [00:00<?, ?it/s]"
      ]
     },
     "metadata": {},
     "output_type": "display_data"
    },
    {
     "name": "stdout",
     "output_type": "stream",
     "text": [
      "Computing compound_U2OS_long-orf_U2OS_long matching\n"
     ]
    },
    {
     "data": {
      "application/vnd.jupyter.widget-view+json": {
       "model_id": "9ebd718625924184a90c934368c9f38c",
       "version_major": 2,
       "version_minor": 0
      },
      "text/plain": [
       "  0%|          | 0/1 [00:00<?, ?it/s]"
      ]
     },
     "metadata": {},
     "output_type": "display_data"
    },
    {
     "data": {
      "application/vnd.jupyter.widget-view+json": {
       "model_id": "28938014fc714391b1caff9fb0a921ae",
       "version_major": 2,
       "version_minor": 0
      },
      "text/plain": [
       "  0%|          | 0/1 [00:00<?, ?it/s]"
      ]
     },
     "metadata": {},
     "output_type": "display_data"
    }
   ],
   "source": [
    "for cell in experiment_df.Cell_type.unique():\n",
    "    cell_df = experiment_df.query(\"Cell_type==@cell\")\n",
    "    modality_1_perturbation = \"compound\"\n",
    "    modality_1_experiments_df = cell_df.query(\"Perturbation==@modality_1_perturbation\")\n",
    "    for modality_1_timepoint in modality_1_experiments_df.Time.unique():\n",
    "        modality_1_timepoint_df = modality_1_experiments_df.query(\n",
    "            \"Time==@modality_1_timepoint\"\n",
    "        )\n",
    "        modality_1_df = pd.DataFrame()\n",
    "        for plate in modality_1_timepoint_df.Assay_Plate_Barcode.unique():\n",
    "            # Read all the plates\n",
    "            data_df = utils.load_data(\n",
    "                batch, plate, \"normalized_feature_select_negcon_batch.csv.gz\"\n",
    "            ).assign(Metadata_modality=modality_1_perturbation)\n",
    "            modality_1_df = utils.concat_profiles(modality_1_df, data_df)\n",
    "\n",
    "        # Set Metadata_broad_sample value to \"DMSO\" for DMSO wells\n",
    "        modality_1_df[replicate_feature].fillna(\"DMSO\", inplace=True)\n",
    "\n",
    "        # Remove empty wells\n",
    "        modality_1_df = utils.remove_empty_wells(modality_1_df)\n",
    "\n",
    "        # Description\n",
    "        description = f\"{modality_1_perturbation}_{cell}_{utils.time_point(modality_1_perturbation, modality_1_timepoint)}\"\n",
    "\n",
    "        # Calculate replicability mAP\n",
    "        print(f\"Computing {description} replicability\")\n",
    "\n",
    "        modality_1_df[\"Metadata_negcon\"] = np.where(\n",
    "            modality_1_df[\"Metadata_control_type\"] == \"negcon\", 1, 0\n",
    "        )  # Create dummy column\n",
    "\n",
    "        pos_sameby = [\"Metadata_broad_sample\"]\n",
    "        pos_diffby = []\n",
    "        neg_sameby = [\"Metadata_Plate\"]\n",
    "        neg_diffby = [\"Metadata_negcon\"]\n",
    "\n",
    "        metadata_df = utils.get_metadata(modality_1_df)\n",
    "        feature_df = utils.get_featuredata(modality_1_df)\n",
    "        feature_values = feature_df.values\n",
    "\n",
    "        result = utils.run_pipeline(\n",
    "            metadata_df,\n",
    "            feature_values,\n",
    "            pos_sameby,\n",
    "            pos_diffby,\n",
    "            neg_sameby,\n",
    "            neg_diffby,\n",
    "            anti_match=False,\n",
    "            batch_size=batch_size,\n",
    "            null_size=null_size,\n",
    "        )\n",
    "\n",
    "        result = result.query(\"Metadata_negcon==0\").reset_index(drop=True)\n",
    "\n",
    "        replicability_map_df, replicability_fr_df = utils.create_replicability_df(\n",
    "            replicability_map_df,\n",
    "            replicability_fr_df,\n",
    "            result,\n",
    "            pos_sameby,\n",
    "            0.05,\n",
    "            modality_1_perturbation,\n",
    "            cell,\n",
    "            modality_1_timepoint,\n",
    "        )\n",
    "\n",
    "        # Remove DMSO wells\n",
    "        modality_1_df = utils.remove_negcon_and_empty_wells(modality_1_df)\n",
    "\n",
    "        # Create consensus profiles\n",
    "        modality_1_consensus_df = utils.consensus(modality_1_df, replicate_feature)\n",
    "\n",
    "        # Filter out non-replicable compounds\n",
    "        replicable_compounds = list(\n",
    "            replicability_map_df[\n",
    "                (replicability_map_df.Description == description)\n",
    "                & (replicability_map_df.above_q_threshold == True)\n",
    "            ][replicate_feature]\n",
    "        )\n",
    "        modality_1_consensus_df = modality_1_consensus_df.query(\n",
    "            \"Metadata_broad_sample==@replicable_compounds\"\n",
    "        ).reset_index(drop=True)\n",
    "\n",
    "        # Adding additional gene annotation metadata\n",
    "        modality_1_consensus_df = (\n",
    "            modality_1_consensus_df.merge(\n",
    "                target1_metadata, on=\"Metadata_broad_sample\", how=\"left\"\n",
    "            )\n",
    "            .assign(\n",
    "                Metadata_matching_target=lambda x: x.Metadata_target_list.str.split(\"|\")\n",
    "            )\n",
    "            .drop([\"Metadata_target_list\"], axis=1)\n",
    "        )\n",
    "\n",
    "        # Calculate compound-compound matching\n",
    "        print(f\"Computing {description} matching\")\n",
    "\n",
    "        pos_sameby = [\"Metadata_matching_target\"]\n",
    "        pos_diffby = []\n",
    "        neg_sameby = []\n",
    "        neg_diffby = [\"Metadata_matching_target\"]\n",
    "\n",
    "        metadata_df = utils.get_metadata(modality_1_consensus_df)\n",
    "        feature_df = utils.get_featuredata(modality_1_consensus_df)\n",
    "        feature_values = feature_df.values\n",
    "\n",
    "        result = utils.run_pipeline(\n",
    "            metadata_df,\n",
    "            feature_values,\n",
    "            pos_sameby,\n",
    "            pos_diffby,\n",
    "            neg_sameby,\n",
    "            neg_diffby,\n",
    "            anti_match=True,\n",
    "            batch_size=batch_size,\n",
    "            null_size=null_size,\n",
    "            multilabel_col=\"Metadata_matching_target\",\n",
    "        )\n",
    "\n",
    "        matching_map_df, matching_fr_df = utils.create_matching_df(\n",
    "            matching_map_df,\n",
    "            matching_fr_df,\n",
    "            result,\n",
    "            pos_sameby,\n",
    "            0.05,\n",
    "            modality_1_perturbation,\n",
    "            cell,\n",
    "            modality_1_timepoint,\n",
    "        )\n",
    "\n",
    "        all_modality_2_experiments_df = cell_df.query(\n",
    "            \"Perturbation!=@modality_1_perturbation\"\n",
    "        )\n",
    "        for (\n",
    "            modality_2_perturbation\n",
    "        ) in all_modality_2_experiments_df.Perturbation.unique():\n",
    "            modality_2_experiments_df = all_modality_2_experiments_df.query(\n",
    "                \"Perturbation==@modality_2_perturbation\"\n",
    "            )\n",
    "            for modality_2_timepoint in modality_2_experiments_df.Time.unique():\n",
    "                modality_2_timepoint_df = modality_2_experiments_df.query(\n",
    "                    \"Time==@modality_2_timepoint\"\n",
    "                )\n",
    "\n",
    "                modality_2_df = pd.DataFrame()\n",
    "                for plate in modality_2_timepoint_df.Assay_Plate_Barcode.unique():\n",
    "                    data_df = (\n",
    "                        utils.load_data(\n",
    "                            batch,\n",
    "                            plate,\n",
    "                            \"normalized_feature_select_negcon_batch.csv.gz\",\n",
    "                        )\n",
    "                        .assign(Metadata_modality=modality_2_perturbation)\n",
    "                        .assign(Metadata_matching_target=lambda x: x.Metadata_gene)\n",
    "                    )\n",
    "                    modality_2_df = utils.concat_profiles(modality_2_df, data_df)\n",
    "\n",
    "                # Remove empty wells\n",
    "                modality_2_df = utils.remove_empty_wells(modality_2_df)\n",
    "\n",
    "                # Description\n",
    "                description = f\"{modality_2_perturbation}_{cell}_{utils.time_point(modality_2_perturbation, modality_2_timepoint)}\"\n",
    "\n",
    "                # Calculate replicability mAP\n",
    "\n",
    "                if not replicability_map_df.Description.str.contains(description).any():\n",
    "                    print(f\"Computing {description} replicability\")\n",
    "\n",
    "                    modality_2_df[\"Metadata_negcon\"] = np.where(\n",
    "                        modality_2_df[\"Metadata_control_type\"] == \"negcon\", 1, 0\n",
    "                    )  # Create dummy column\n",
    "\n",
    "                    pos_sameby = [\"Metadata_broad_sample\"]\n",
    "                    pos_diffby = []\n",
    "                    neg_sameby = [\"Metadata_Plate\"]\n",
    "                    neg_diffby = [\"Metadata_negcon\"]\n",
    "\n",
    "                    metadata_df = utils.get_metadata(modality_2_df)\n",
    "                    feature_df = utils.get_featuredata(modality_2_df)\n",
    "                    feature_values = feature_df.values\n",
    "\n",
    "                    result = utils.run_pipeline(\n",
    "                        metadata_df,\n",
    "                        feature_values,\n",
    "                        pos_sameby,\n",
    "                        pos_diffby,\n",
    "                        neg_sameby,\n",
    "                        neg_diffby,\n",
    "                        anti_match=False,\n",
    "                        batch_size=batch_size,\n",
    "                        null_size=null_size,\n",
    "                    )\n",
    "\n",
    "                    result = result.query(\"Metadata_negcon==0\").reset_index(drop=True)\n",
    "\n",
    "                    (\n",
    "                        replicability_map_df,\n",
    "                        replicability_fr_df,\n",
    "                    ) = utils.create_replicability_df(\n",
    "                        replicability_map_df,\n",
    "                        replicability_fr_df,\n",
    "                        result,\n",
    "                        pos_sameby,\n",
    "                        0.05,\n",
    "                        modality_2_perturbation,\n",
    "                        cell,\n",
    "                        modality_2_timepoint,\n",
    "                    )\n",
    "\n",
    "                # Remove negcon wells\n",
    "                modality_2_df = utils.remove_negcon_and_empty_wells(modality_2_df)\n",
    "\n",
    "                # Create consensus profiles\n",
    "                modality_2_consensus_df = utils.consensus(\n",
    "                    modality_2_df, \"Metadata_broad_sample\"\n",
    "                )\n",
    "\n",
    "                # Filter out non-replicable genes\n",
    "                replicable_genes = list(\n",
    "                    replicability_map_df[\n",
    "                        (\n",
    "                            replicability_map_df.Description\n",
    "                            == f\"{modality_2_perturbation}_{cell}_{utils.time_point(modality_2_perturbation, modality_2_timepoint)}\"\n",
    "                        )\n",
    "                        & (replicability_map_df.above_q_threshold == True)\n",
    "                    ][replicate_feature]\n",
    "                )\n",
    "                modality_2_consensus_df = modality_2_consensus_df.query(\n",
    "                    \"Metadata_broad_sample==@replicable_genes\"\n",
    "                ).reset_index(drop=True)\n",
    "\n",
    "                # Filter out reagents without a sister guide\n",
    "\n",
    "                genes_without_sister = (\n",
    "                    modality_2_consensus_df.Metadata_gene.value_counts()\n",
    "                    .reset_index()\n",
    "                    .query(\"Metadata_gene==1\")[\"index\"]\n",
    "                    .to_list()\n",
    "                )\n",
    "\n",
    "                modality_2_consensus_for_matching_df = (\n",
    "                    modality_2_consensus_df.query(\n",
    "                        \"Metadata_gene!=@genes_without_sister\"\n",
    "                    ).reset_index(drop=True)\n",
    "                )\n",
    "\n",
    "                # Calculate cripsr-crispr matching\n",
    "                if modality_2_perturbation == \"crispr\":\n",
    "                    if not matching_map_df.Description.str.contains(description).any():\n",
    "                        print(f\"Computing {description} matching\")\n",
    "\n",
    "                        pos_sameby = [\"Metadata_matching_target\"]\n",
    "                        pos_diffby = []\n",
    "                        neg_sameby = []\n",
    "                        neg_diffby = [\"Metadata_matching_target\"]\n",
    "\n",
    "                        metadata_df = utils.get_metadata(modality_2_consensus_for_matching_df)\n",
    "                        feature_df = utils.get_featuredata(modality_2_consensus_for_matching_df)\n",
    "                        feature_values = feature_df.values\n",
    "\n",
    "                        result = utils.run_pipeline(\n",
    "                            metadata_df,\n",
    "                            feature_values,\n",
    "                            pos_sameby,\n",
    "                            pos_diffby,\n",
    "                            neg_sameby,\n",
    "                            neg_diffby,\n",
    "                            anti_match=False,\n",
    "                            batch_size=batch_size,\n",
    "                            null_size=null_size,\n",
    "                        )\n",
    "\n",
    "                        matching_map_df, matching_fr_df = utils.create_matching_df(\n",
    "                            matching_map_df,\n",
    "                            matching_fr_df,\n",
    "                            result,\n",
    "                            pos_sameby,\n",
    "                            0.05,\n",
    "                            modality_2_perturbation,\n",
    "                            cell,\n",
    "                            modality_2_timepoint,\n",
    "                        )\n",
    "\n",
    "                # Filter out genes that are not perturbed by ORFs or CRISPRs\n",
    "                perturbed_genes = list(\n",
    "                    set(modality_2_consensus_df.Metadata_matching_target)\n",
    "                )\n",
    "\n",
    "                modality_1_filtered_genes_df = (\n",
    "                    modality_1_consensus_df[\n",
    "                        [\"Metadata_broad_sample\", \"Metadata_matching_target\"]\n",
    "                    ]\n",
    "                    .copy()\n",
    "                    .explode(\"Metadata_matching_target\")\n",
    "                    .query(\"Metadata_matching_target==@perturbed_genes\")\n",
    "                    .reset_index(drop=True)\n",
    "                    .groupby([\"Metadata_broad_sample\"])\n",
    "                    .Metadata_matching_target.apply(list)\n",
    "                    .reset_index()\n",
    "                )\n",
    "\n",
    "                modality_1_consensus_filtered_df = modality_1_consensus_df.drop(\n",
    "                    columns=[\"Metadata_matching_target\"]\n",
    "                ).merge(\n",
    "                    modality_1_filtered_genes_df,\n",
    "                    on=\"Metadata_broad_sample\",\n",
    "                    how=\"inner\",\n",
    "                )\n",
    "\n",
    "                # Calculate gene-compound matching mAP\n",
    "                description = f\"{modality_1_perturbation}_{cell}_{utils.time_point(modality_1_perturbation, modality_1_timepoint)}-{modality_2_perturbation}_{cell}_{utils.time_point(modality_2_perturbation, modality_2_timepoint)}\"\n",
    "                print(f\"Computing {description} matching\")\n",
    "\n",
    "                modality_1_modality_2_df = utils.concat_profiles(\n",
    "                    modality_1_consensus_filtered_df, modality_2_consensus_df\n",
    "                )\n",
    "\n",
    "                pos_sameby = [\"Metadata_matching_target\"]\n",
    "                pos_diffby = [\"Metadata_modality\"]\n",
    "                neg_sameby = []\n",
    "                neg_diffby = [\"Metadata_matching_target\", \"Metadata_modality\"]\n",
    "\n",
    "                metadata_df = utils.get_metadata(modality_1_modality_2_df)\n",
    "                feature_df = utils.get_featuredata(modality_1_modality_2_df)\n",
    "                feature_values = feature_df.values\n",
    "\n",
    "                result = utils.run_pipeline(\n",
    "                    metadata_df,\n",
    "                    feature_values,\n",
    "                    pos_sameby,\n",
    "                    pos_diffby,\n",
    "                    neg_sameby,\n",
    "                    neg_diffby,\n",
    "                    anti_match=True,\n",
    "                    batch_size=batch_size,\n",
    "                    null_size=null_size,\n",
    "                    multilabel_col=\"Metadata_matching_target\",\n",
    "                )\n",
    "\n",
    "                (\n",
    "                    gene_compound_matching_map_df,\n",
    "                    gene_compound_matching_fr_df,\n",
    "                ) = utils.create_gene_compound_matching_df(\n",
    "                    gene_compound_matching_map_df,\n",
    "                    gene_compound_matching_fr_df,\n",
    "                    result,\n",
    "                    pos_sameby,\n",
    "                    0.05,\n",
    "                    modality_1_perturbation,\n",
    "                    modality_2_perturbation,\n",
    "                    cell,\n",
    "                    modality_1_timepoint,\n",
    "                    modality_2_timepoint,\n",
    "                )"
   ]
  },
  {
   "attachments": {},
   "cell_type": "markdown",
   "metadata": {},
   "source": [
    "Tables of mAP values and the fraction retrieved (fr) are printed and bar plots are plotted."
   ]
  },
  {
   "attachments": {},
   "cell_type": "markdown",
   "metadata": {
    "collapsed": false,
    "pycharm": {
     "name": "#%% md\n"
    }
   },
   "source": [
    "Replicability fraction retrieved."
   ]
  },
  {
   "cell_type": "code",
   "execution_count": 4,
   "metadata": {
    "collapsed": false,
    "pycharm": {
     "name": "#%%\n"
    }
   },
   "outputs": [
    {
     "name": "stdout",
     "output_type": "stream",
     "text": [
      "| Description         |   timepoint |    fr |\n",
      "|:--------------------|------------:|------:|\n",
      "| compound_A549_short |          24 | 0.761 |\n",
      "| crispr_A549_long    |         144 | 0.679 |\n",
      "| crispr_A549_short   |          96 | 0.682 |\n",
      "| orf_A549_long       |          96 | 0.044 |\n",
      "| orf_A549_short      |          48 | 0.056 |\n",
      "| compound_A549_long  |          48 | 0.954 |\n",
      "| compound_U2OS_short |          24 | 0.775 |\n",
      "| crispr_U2OS_long    |         144 | 0.475 |\n",
      "| crispr_U2OS_short   |          96 | 0.669 |\n",
      "| orf_U2OS_short      |          48 | 0.369 |\n",
      "| orf_U2OS_long       |          96 | 0.2   |\n",
      "| compound_U2OS_long  |          48 | 0.66  |\n"
     ]
    }
   ],
   "source": [
    "print(replicability_fr_df[[\"Description\", \"timepoint\", \"fr\"]].to_markdown(index=False))"
   ]
  },
  {
   "attachments": {},
   "cell_type": "markdown",
   "metadata": {
    "collapsed": false,
    "pycharm": {
     "name": "#%% md\n"
    }
   },
   "source": [
    "Within perturbation matching fractive retrieved."
   ]
  },
  {
   "cell_type": "code",
   "execution_count": 5,
   "metadata": {
    "collapsed": false,
    "pycharm": {
     "name": "#%%\n"
    }
   },
   "outputs": [
    {
     "name": "stdout",
     "output_type": "stream",
     "text": [
      "| Description         |   timepoint |    fr |\n",
      "|:--------------------|------------:|------:|\n",
      "| compound_A549_short |          24 | 0.142 |\n",
      "| crispr_A549_long    |         144 | 0.123 |\n",
      "| crispr_A549_short   |          96 | 0.11  |\n",
      "| compound_A549_long  |          48 | 0.169 |\n",
      "| compound_U2OS_short |          24 | 0.043 |\n",
      "| crispr_U2OS_long    |         144 | 0.171 |\n",
      "| crispr_U2OS_short   |          96 | 0.068 |\n",
      "| compound_U2OS_long  |          48 | 0.251 |\n"
     ]
    }
   ],
   "source": [
    "print(matching_fr_df[[\"Description\", \"timepoint\", \"fr\"]].to_markdown(index=False))"
   ]
  },
  {
   "attachments": {},
   "cell_type": "markdown",
   "metadata": {
    "collapsed": false,
    "pycharm": {
     "name": "#%% md\n"
    }
   },
   "source": [
    "Gene-compound matching fraction retrieved."
   ]
  },
  {
   "cell_type": "code",
   "execution_count": 6,
   "metadata": {
    "collapsed": false,
    "pycharm": {
     "name": "#%%\n"
    }
   },
   "outputs": [
    {
     "name": "stdout",
     "output_type": "stream",
     "text": [
      "| Description                           | Cell   |    fr |\n",
      "|:--------------------------------------|:-------|------:|\n",
      "| compound_A549_short-crispr_A549_long  | A549   | 0.008 |\n",
      "| compound_A549_short-crispr_A549_short | A549   | 0.015 |\n",
      "| compound_A549_short-orf_A549_long     | A549   | 0     |\n",
      "| compound_A549_short-orf_A549_short    | A549   | 0     |\n",
      "| compound_A549_long-crispr_A549_long   | A549   | 0.007 |\n",
      "| compound_A549_long-crispr_A549_short  | A549   | 0.007 |\n",
      "| compound_A549_long-orf_A549_long      | A549   | 0     |\n",
      "| compound_A549_long-orf_A549_short     | A549   | 0     |\n",
      "| compound_U2OS_short-crispr_U2OS_long  | U2OS   | 0     |\n",
      "| compound_U2OS_short-crispr_U2OS_short | U2OS   | 0.016 |\n",
      "| compound_U2OS_short-orf_U2OS_short    | U2OS   | 0     |\n",
      "| compound_U2OS_short-orf_U2OS_long     | U2OS   | 0     |\n",
      "| compound_U2OS_long-crispr_U2OS_long   | U2OS   | 0.033 |\n",
      "| compound_U2OS_long-crispr_U2OS_short  | U2OS   | 0.009 |\n",
      "| compound_U2OS_long-orf_U2OS_short     | U2OS   | 0.075 |\n",
      "| compound_U2OS_long-orf_U2OS_long      | U2OS   | 0     |\n"
     ]
    }
   ],
   "source": [
    "print(\n",
    "    gene_compound_matching_fr_df[[\"Description\", \"Cell\", \"fr\"]].to_markdown(index=False)\n",
    ")"
   ]
  },
  {
   "cell_type": "code",
   "execution_count": 7,
   "metadata": {
    "collapsed": false,
    "pycharm": {
     "name": "#%%\n"
    }
   },
   "outputs": [
    {
     "data": {
      "image/png": "[encoded data removed]"
     },
     "metadata": {},
     "output_type": "display_data"
    }
   ],
   "source": [
    "fig = px.bar(\n",
    "    data_frame=replicability_fr_df,\n",
    "    x=\"Modality\",\n",
    "    y=\"fr\",\n",
    "    facet_row=\"Cell\",\n",
    "    facet_col=\"time\",\n",
    ")\n",
    "fig.update_layout(\n",
    "    xaxis1=dict(title=\"Perturbation\"),\n",
    "    xaxis2=dict(title=\"Perturbation\"),\n",
    "    yaxis1=dict(title=\"Fraction Retrieved\"),\n",
    "    yaxis3=dict(title=\"Fraction Retrieved\"),\n",
    ")\n",
    "fig.show(\"png\")\n",
    "fig.write_image(\n",
    "    f\"figures/1.CellProfiler_replicability_fr.png\", width=640, height=480, scale=2\n",
    ")"
   ]
  },
  {
   "cell_type": "code",
   "execution_count": 8,
   "metadata": {
    "collapsed": false,
    "pycharm": {
     "name": "#%%\n"
    }
   },
   "outputs": [
    {
     "data": {
      "image/png": "[encoded data removed]"
     },
     "metadata": {},
     "output_type": "display_data"
    }
   ],
   "source": [
    "fig = px.bar(\n",
    "    data_frame=matching_fr_df,\n",
    "    x=\"Modality\",\n",
    "    y=\"fr\",\n",
    "    facet_row=\"Cell\",\n",
    "    facet_col=\"time\",\n",
    ")\n",
    "fig.update_layout(\n",
    "    xaxis1=dict(title=\"Perturbation\"),\n",
    "    xaxis2=dict(title=\"Perturbation\"),\n",
    "    yaxis1=dict(title=\"Fraction Retrieved\"),\n",
    "    yaxis3=dict(title=\"Fraction Retrieved\"),\n",
    ")\n",
    "fig.show(\"png\")\n",
    "fig.write_image(\n",
    "    f\"figures/1.CellProfiler_matching_fr.png\", width=640, height=480, scale=2\n",
    ")"
   ]
  },
  {
   "cell_type": "code",
   "execution_count": 9,
   "metadata": {
    "collapsed": false,
    "pycharm": {
     "name": "#%%\n"
    }
   },
   "outputs": [
    {
     "data": {
      "image/png": "[encoded data removed]"
     },
     "metadata": {},
     "output_type": "display_data"
    }
   ],
   "source": [
    "fig = px.bar(\n",
    "    gene_compound_matching_fr_df,\n",
    "    x=\"Modality2\",\n",
    "    y=\"fr\",\n",
    "    facet_col=\"Modality1\",\n",
    "    facet_row=\"Cell\",\n",
    ")\n",
    "fig.update_layout(\n",
    "    xaxis1=dict(title=\"Genetic perturbation\"),\n",
    "    xaxis2=dict(title=\"Genetic perturbation\"),\n",
    "    yaxis1=dict(title=\"Fraction Retrieved\"),\n",
    "    yaxis3=dict(title=\"Fraction Retrieved\"),\n",
    ")\n",
    "fig.show(\"png\")\n",
    "fig.write_image(\n",
    "    f\"figures/1.CellProfiler_gene_compound_matching_fr.png\",\n",
    "    width=640,\n",
    "    height=480,\n",
    "    scale=2,\n",
    ")"
   ]
  },
  {
   "cell_type": "code",
   "execution_count": 10,
   "metadata": {
    "collapsed": false,
    "pycharm": {
     "name": "#%%\n"
    }
   },
   "outputs": [
    {
     "data": {
      "image/png": "[encoded data removed]"
     },
     "metadata": {},
     "output_type": "display_data"
    }
   ],
   "source": [
    "fig = px.box(\n",
    "    data_frame=replicability_map_df,\n",
    "    x=\"Modality\",\n",
    "    y=\"mean_average_precision\",\n",
    "    facet_row=\"Cell\",\n",
    "    facet_col=\"time\",\n",
    ")\n",
    "fig.update_layout(\n",
    "    xaxis1=dict(title=\"Perturbation\"),\n",
    "    xaxis2=dict(title=\"Perturbation\"),\n",
    "    yaxis1=dict(title=\"mAP\"),\n",
    "    yaxis3=dict(title=\"mAP\"),\n",
    ")\n",
    "fig.show(\"png\")\n",
    "fig.write_image(\n",
    "    f\"figures/1.CellProfiler_replicability_map.png\", width=640, height=480, scale=2\n",
    ")"
   ]
  },
  {
   "cell_type": "code",
   "execution_count": 11,
   "metadata": {
    "collapsed": false,
    "pycharm": {
     "name": "#%%\n"
    }
   },
   "outputs": [
    {
     "data": {
      "image/png": "[encoded data removed]"
     },
     "metadata": {},
     "output_type": "display_data"
    }
   ],
   "source": [
    "fig = px.box(\n",
    "    data_frame=matching_map_df,\n",
    "    x=\"Modality\",\n",
    "    y=\"mean_average_precision\",\n",
    "    facet_row=\"Cell\",\n",
    "    facet_col=\"time\",\n",
    ")\n",
    "fig.update_layout(\n",
    "    xaxis1=dict(title=\"Perturbation\"),\n",
    "    xaxis2=dict(title=\"Perturbation\"),\n",
    "    yaxis1=dict(title=\"mAP\"),\n",
    "    yaxis3=dict(title=\"mAP\"),\n",
    ")\n",
    "fig.show(\"png\")\n",
    "fig.write_image(\n",
    "    f\"figures/1.CellProfiler_matching_map.png\", width=640, height=480, scale=2\n",
    ")"
   ]
  },
  {
   "cell_type": "code",
   "execution_count": 12,
   "metadata": {
    "collapsed": false,
    "pycharm": {
     "name": "#%%\n"
    }
   },
   "outputs": [
    {
     "data": {
      "image/png": "[encoded data removed]"
     },
     "metadata": {},
     "output_type": "display_data"
    }
   ],
   "source": [
    "fig = px.box(\n",
    "    data_frame=gene_compound_matching_map_df,\n",
    "    x=\"Modality2\",\n",
    "    y=\"mean_average_precision\",\n",
    "    facet_col=\"Modality1\",\n",
    "    facet_row=\"Cell\",\n",
    ")\n",
    "fig.update_layout(\n",
    "    xaxis1=dict(title=\"Perturbation\"),\n",
    "    xaxis2=dict(title=\"Perturbation\"),\n",
    "    yaxis1=dict(title=\"mAP\"),\n",
    "    yaxis3=dict(title=\"mAP\"),\n",
    ")\n",
    "fig.show(\"png\")\n",
    "fig.write_image(\n",
    "    f\"figures/1.CellProfiler_gene_compound_matching_map.png\",\n",
    "    width=640,\n",
    "    height=480,\n",
    "    scale=2,\n",
    ")"
   ]
  },
  {
   "attachments": {},
   "cell_type": "markdown",
   "metadata": {},
   "source": [
    "Tables of mAP and fr values are written to file."
   ]
  },
  {
   "cell_type": "code",
   "execution_count": 13,
   "metadata": {
    "collapsed": false,
    "pycharm": {
     "name": "#%%\n"
    }
   },
   "outputs": [],
   "source": [
    "replicability_fr_df.to_csv(\"output/cellprofiler_replicability_fr.csv\", index=False)\n",
    "replicability_map_df.to_csv(\"output/cellprofiler_replicability_map.csv\", index=False)\n",
    "matching_fr_df.to_csv(\"output/cellprofiler_matching_fr.csv\", index=False)\n",
    "matching_map_df.to_csv(\"output/cellprofiler_matching_map.csv\", index=False)\n",
    "gene_compound_matching_fr_df.to_csv(\n",
    "    \"output/cellprofiler_gene_compound_matching_fr.csv\", index=False\n",
    ")\n",
    "gene_compound_matching_map_df.to_csv(\n",
    "    \"output/cellprofiler_gene_compound_matching_map.csv\", index=False\n",
    ")"
   ]
  }
 ],
 "metadata": {
  "kernelspec": {
   "display_name": "analysis",
   "language": "python",
   "name": "python3"
  },
  "language_info": {
   "codemirror_mode": {
    "name": "ipython",
    "version": 3
   },
   "file_extension": ".py",
   "mimetype": "text/x-python",
   "name": "python",
   "nbconvert_exporter": "python",
   "pygments_lexer": "ipython3",
   "version": "3.10.6"
  },
  "vscode": {
   "interpreter": {
    "hash": "986381fcaa5fa2a4fbfcc238e5cd47c7186c89fa9a103f6aff6b597c4b48d920"
   }
  }
 },
 "nbformat": 4,
 "nbformat_minor": 0
}
