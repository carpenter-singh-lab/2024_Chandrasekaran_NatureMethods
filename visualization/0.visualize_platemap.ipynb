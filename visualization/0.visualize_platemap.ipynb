{
 "cells": [
  {
   "cell_type": "code",
   "execution_count": 1,
   "outputs": [],
   "source": [
    "import pandas as pd\n",
    "import seaborn as sns\n",
    "from matplotlib.colors import LinearSegmentedColormap\n",
    "from mpl_toolkits.axes_grid1 import make_axes_locatable\n",
    "import matplotlib.pyplot as plt"
   ],
   "metadata": {
    "collapsed": false,
    "pycharm": {
     "name": "#%%\n"
    }
   }
  },
  {
   "cell_type": "code",
   "execution_count": 2,
   "outputs": [],
   "source": [
    "def draw_plates(df):\n",
    "    df = (\n",
    "        df.assign(row=lambda x: x.well_position.str[0:1])\n",
    "        .assign(col=lambda x: x.well_position.str[1:])\n",
    "    )\n",
    "    wells = df[['row', 'col', 'control_type', 'pert_type']].copy()\n",
    "    wells['col'] = wells.col.astype('int')\n",
    "    wells['control_type'] = wells.control_type.fillna(wells['pert_type'])\n",
    "    wells['cat'], uniques = pd.factorize(wells.control_type, sort=True)\n",
    "    wells_pivot = wells.pivot('row', 'col', 'cat')\n",
    "\n",
    "    sns.set(rc={'figure.figsize': (24, 16)})\n",
    "    sns.set(font_scale=3)\n",
    "\n",
    "    n_cat = wells.control_type.nunique()\n",
    "    cat = list(uniques)\n",
    "    color = 'tab10'\n",
    "    colors = sns.color_palette(color, n_cat+1)[::-1]\n",
    "    colors.pop(0)\n",
    "\n",
    "    if n_cat != len(list(wells.control_type.drop_duplicates())):\n",
    "        n_cat += 1\n",
    "        cat.insert(0, 'empty')\n",
    "        colors = sns.color_palette(color, n_cat)[::-1]\n",
    "\n",
    "    cmap = LinearSegmentedColormap.from_list('Custom', colors, len(colors))\n",
    "\n",
    "    ax = sns.heatmap(wells_pivot, cmap=cmap, linewidths=.5, linecolor='lightgray', square=True)\n",
    "\n",
    "    colorbar = ax.collections[0].colorbar\n",
    "\n",
    "    r = colorbar.vmax - colorbar.vmin\n",
    "    colorbar.set_ticks([colorbar.vmin + 0.5 * r / (n_cat) + r * i / (n_cat) for i in range(n_cat)])\n",
    "    colorbar.set_ticklabels(cat)\n",
    "\n",
    "    ax.xaxis.tick_top()\n",
    "    ax.set_yticklabels(ax.get_yticklabels(), rotation=0)\n",
    "    ax.set_ylabel('')\n",
    "    ax.set_xlabel('')\n",
    "    ax.set_xlabel('')"
   ],
   "metadata": {
    "collapsed": false,
    "pycharm": {
     "name": "#%%\n"
    }
   }
  },
  {
   "cell_type": "code",
   "execution_count": 3,
   "outputs": [],
   "source": [
    "# Read plate map files\n",
    "compound_platemap = pd.read_csv('../metadata/platemaps/2020_11_04_CPJUMP1/platemap/JUMP-Target-1_compound_platemap.txt', sep='\\t')\n",
    "crispr_platemap = pd.read_csv('../metadata/platemaps/2020_11_04_CPJUMP1/platemap/JUMP-Target-1_crispr_platemap.txt', sep='\\t')\n",
    "orf_platemap = pd.read_csv('../metadata/platemaps/2020_11_04_CPJUMP1/platemap/JUMP-Target-1_orf_platemap.txt', sep='\\t')"
   ],
   "metadata": {
    "collapsed": false,
    "pycharm": {
     "name": "#%%\n"
    }
   }
  },
  {
   "cell_type": "code",
   "execution_count": 4,
   "outputs": [],
   "source": [
    "# Read Metadata files\n",
    "compound_metadata = pd.read_csv('../metadata/moa/JUMP-Target-1_compound_metadata.tsv', sep='\\t')\n",
    "crispr_metadata = pd.read_csv('../metadata/moa/JUMP-Target-1_crispr_metadata.tsv', sep='\\t')\n",
    "orf_metadata = pd.read_csv('../metadata/moa/JUMP-Target-1_orf_metadata.tsv', sep='\\t')"
   ],
   "metadata": {
    "collapsed": false,
    "pycharm": {
     "name": "#%%\n"
    }
   }
  },
  {
   "cell_type": "code",
   "execution_count": 5,
   "outputs": [],
   "source": [
    "# Plot compound plate map\n",
    "compound_platemap_metadata = compound_platemap.merge(compound_metadata, on='broad_sample', how='left')\n",
    "draw_plates(compound_platemap_metadata)\n",
    "plt.savefig('figures/compound_platemap.png')\n",
    "plt.close()"
   ],
   "metadata": {
    "collapsed": false,
    "pycharm": {
     "name": "#%%\n"
    }
   }
  },
  {
   "cell_type": "code",
   "execution_count": 6,
   "outputs": [],
   "source": [
    "# Plot CRISPR plate map\n",
    "crispr_platemap_metadata = crispr_platemap.merge(crispr_metadata, on='broad_sample', how='left')\n",
    "draw_plates(crispr_platemap_metadata)\n",
    "plt.savefig('figures/crispr_platemap.png')\n",
    "plt.close()\n"
   ],
   "metadata": {
    "collapsed": false,
    "pycharm": {
     "name": "#%%\n"
    }
   }
  },
  {
   "cell_type": "code",
   "execution_count": 7,
   "outputs": [],
   "source": [
    "# Plot ORF plate map\n",
    "orf_platemap_metadata = orf_platemap.merge(orf_metadata, on='broad_sample', how='left')\n",
    "draw_plates(orf_platemap_metadata)\n",
    "plt.savefig('figures/orf_platemap.png')\n",
    "plt.close()"
   ],
   "metadata": {
    "collapsed": false,
    "pycharm": {
     "name": "#%%\n"
    }
   }
  }
 ],
 "metadata": {
  "kernelspec": {
   "display_name": "Python 3",
   "language": "python",
   "name": "python3"
  },
  "language_info": {
   "codemirror_mode": {
    "name": "ipython",
    "version": 2
   },
   "file_extension": ".py",
   "mimetype": "text/x-python",
   "name": "python",
   "nbconvert_exporter": "python",
   "pygments_lexer": "ipython2",
   "version": "2.7.6"
  }
 },
 "nbformat": 4,
 "nbformat_minor": 0
}